{
 "cells": [
  {
   "cell_type": "code",
   "execution_count": 21,
   "id": "6740975d",
   "metadata": {},
   "outputs": [],
   "source": [
    "import pandas as pd\n",
    "import numpy as np\n",
    "import ast\n",
    "import faiss\n",
    "from openai import AzureOpenAI\n",
    "\n",
    "from dotenv import load_dotenv\n",
    "from azure.storage.blob import BlobServiceClient\n",
    "\n",
    "import os\n",
    "\n",
    "import json"
   ]
  },
  {
   "cell_type": "code",
   "execution_count": 22,
   "id": "66ef5436",
   "metadata": {},
   "outputs": [
    {
     "data": {
      "text/plain": [
       "True"
      ]
     },
     "execution_count": 22,
     "metadata": {},
     "output_type": "execute_result"
    }
   ],
   "source": [
    "load_dotenv('/home/xavaki/DAMM/linkedin_gen_contents/.env')"
   ]
  },
  {
   "cell_type": "code",
   "execution_count": 23,
   "id": "7fdc3f66",
   "metadata": {},
   "outputs": [],
   "source": [
    "blob_service_client = BlobServiceClient.from_connection_string(os.getenv('STORAGE_ACCOUNT_CONNECTION_STRING'))\n",
    "embeddings_container_client = blob_service_client.get_container_client('relevant-articles-summaries-embeddings')\n",
    "relevant_articles_list_container_client = blob_service_client.get_container_client('relevant-articles-list')\n",
    "relevant_articles_summaries_container_client = blob_service_client.get_container_client('relevant-articles-summaries')\n",
    "\n",
    "\n",
    "def read_embeddings_from_blob() -> pd.DataFrame:\n",
    "    all_embeddings = []\n",
    "    for blob in embeddings_container_client.list_blobs():\n",
    "        blob_client = embeddings_container_client.get_blob_client(blob)\n",
    "        run_embeddings = json.loads(blob_client.download_blob().readall())\n",
    "        all_embeddings.extend(run_embeddings)\n",
    "\n",
    "    return pd.DataFrame(all_embeddings)\n",
    "\n",
    "def read_relevant_articles_list_from_blob() -> pd.DataFrame:\n",
    "    all_relevant_articles = []\n",
    "    for blob in relevant_articles_list_container_client.list_blobs():\n",
    "        runid = blob.name.split(\"--\")[0]\n",
    "        blob_client = relevant_articles_list_container_client.get_blob_client(blob)\n",
    "        run_relevant_articles = json.loads(blob_client.download_blob().readall())\n",
    "        for a in run_relevant_articles:\n",
    "            a['RUNID'] = runid\n",
    "        all_relevant_articles.extend(run_relevant_articles)\n",
    "\n",
    "    return pd.DataFrame(all_relevant_articles)\n",
    "\n",
    "def read_relevant_articles_summaries_from_blob() -> pd.DataFrame:\n",
    "    all_summaries = []\n",
    "    for blob in relevant_articles_summaries_container_client.list_blobs():\n",
    "        blob_client = relevant_articles_summaries_container_client.get_blob_client(blob)\n",
    "        run_summaries = json.loads(blob_client.download_blob().readall())\n",
    "        all_summaries.extend(run_summaries)\n",
    "\n",
    "    return pd.DataFrame(all_summaries)\n",
    "\n",
    "pd_embeddings = read_embeddings_from_blob()\n",
    "pd_relevant_articles = read_relevant_articles_list_from_blob()\n",
    "pd_relevant_articles_summaries = read_relevant_articles_summaries_from_blob()\n",
    "pd_all_info = pd_embeddings.merge(pd_relevant_articles, on=\"article_id\", how=\"inner\")\n",
    "pd_all_info = pd_all_info.merge(pd_relevant_articles_summaries, on=\"article_id\", how=\"inner\")"
   ]
  },
  {
   "cell_type": "code",
   "execution_count": 24,
   "id": "e0ffd7c7",
   "metadata": {},
   "outputs": [],
   "source": [
    "embedding_matrix = np.array(pd_all_info[\"summary_embedding\"].tolist()).astype(\"float32\")\n",
    "embedding_dim = len(embedding_matrix[0, :])"
   ]
  },
  {
   "cell_type": "code",
   "execution_count": 25,
   "id": "07779847",
   "metadata": {},
   "outputs": [],
   "source": [
    "# Create an index (flat, exact search)\n",
    "index = faiss.IndexFlatL2(embedding_dim)\n",
    "index.add(embedding_matrix)  # store embeddings in index"
   ]
  },
  {
   "cell_type": "code",
   "execution_count": 26,
   "id": "32a1a5bc",
   "metadata": {},
   "outputs": [],
   "source": [
    "centroid = np.mean(embedding_matrix, axis=0).reshape(1, -1).astype(\"float32\")\n",
    "distances, indices = index.search(centroid, k=5)"
   ]
  },
  {
   "cell_type": "code",
   "execution_count": 27,
   "id": "be489668",
   "metadata": {},
   "outputs": [
    {
     "data": {
      "text/plain": [
       "array(['Early AI investor Elad Gil finds his next big bet: AI-powered rollups',\n",
       "       \"Los adolescentes deberían entrenarse para ser 'ninjas' de la IA, según el CEO de Google DeepMind\",\n",
       "       'Así están convirtiendo la ansiedad por la IA en una ventaja los equipos de contratación',\n",
       "       'El CEO de Duolingo revela 5 formas en las que la IA le ayudará a decidir el futuro de su plantilla',\n",
       "       'El CEO de Anthropic advierte de que la IA podría eliminar la mitad de los empleos de oficina'],\n",
       "      dtype=object)"
      ]
     },
     "execution_count": 27,
     "metadata": {},
     "output_type": "execute_result"
    }
   ],
   "source": [
    "pd_all_info.iloc[indices[0]][\"article_title\"].values"
   ]
  },
  {
   "cell_type": "code",
   "execution_count": 28,
   "id": "5492c0dd",
   "metadata": {},
   "outputs": [],
   "source": [
    "client = AzureOpenAI(\n",
    "    api_version=\"2024-12-01-preview\",\n",
    "    azure_endpoint=os.environ.get('AZURE_OPENAI_ENDPOINT'),\n",
    "    api_key=os.environ.get('AZURE_OPENAI_API_KEY'),\n",
    ")"
   ]
  },
  {
   "cell_type": "code",
   "execution_count": 29,
   "id": "8f1f0449",
   "metadata": {},
   "outputs": [],
   "source": [
    "query = \"Insights related to the food industry\"\n",
    "\n",
    "response = client.embeddings.create(\n",
    "        input=[query],\n",
    "        model=\"text-embedding-3-small\",\n",
    "    )\n",
    "\n",
    "query_embedding = response.data[0].embedding\n",
    "query_vector = np.array([query_embedding], dtype=\"float32\")\n",
    "distances, indices = index.search(query_vector, k=5)"
   ]
  },
  {
   "cell_type": "code",
   "execution_count": 33,
   "id": "587dd8b5",
   "metadata": {},
   "outputs": [
    {
     "name": "stdout",
     "output_type": "stream",
     "text": [
      "Swedish foodtech startup Millow has opened its first commercial-scale factory in Gothenburg, repurposing a former LEGO production hall to manufacture mycoprotein through a patented dry fermentation process. Using its innovative method, mycelium grows rapidly by feeding on oats, creating a meat alternative that doesn’t require binders or added flavorings. This new process promises significant environmental benefits, including a 95% reduction in water use, 67% less energy consumption, and cuts greenhouse gas emissions by up to 97% compared to beef production.\n",
      "\n",
      "Millow’s approach addresses key criticisms of traditional plant-based meat products, such as taste and ingredient transparency, and aims to scale production to 500kg of mycoprotein per day. With fermentation increasingly becoming a bright spot in the alternative protein sector amidst overall declining investment, Millow’s factory showcases the potential for more scalable and sustainable meat substitutes. For professionals in foodtech and sustainability, the launch signals an innovative direction that could redefine global protein consumption and help curb climate change impacts.\n",
      "This article highlights the latest episode of TNW Backstage, a podcast that explores innovation and transformation in various industries. The focus is on the flower business and Bloom & Wild, a UK-based online flower delivery startup that disrupted the traditional model with its letterbox delivery concept. Co-founder and CEO Aron Gelbard shares insights into the company’s journey, strategy, and lessons for entrepreneurs, complementing the broader podcast theme of tech-driven business evolution. The content is particularly relevant for professionals seeking inspiration from digital transformation and innovative approaches to established industries. TNW Backstage also offers behind-the-scenes insights into tech trends and upcoming event highlights, including an exclusive ticket discount for TNW Conference 2024.\n",
      "TechCrunch Sessions: AI highlights the latest trends, innovations, and applications in artificial intelligence, bringing together experts, startups, and investors to explore its industry-transforming potential. Key sessions include discussions on AI as a co-founder for startups, AI-powered workflows in automotive repair, scalable generative AI development with MySQL HeatWave, collaborative AI agents for teamwork, and SAP’s integration of AI in enterprise solutions. \n",
      "\n",
      "These talks provide actionable insights on leveraging AI to drive efficiency, innovation, and growth, making them crucial for professionals aiming to adapt to the evolving AI landscape. The event offers opportunities for hands-on learning, networking with industry leaders, and exploring cutting-edge AI implementations that can shape future business strategies.\n",
      "Europe faces an unprecedented shortage of critical raw materials essential for sustainable technologies and the electrification of transportation. Metals like lithium, nickel, cobalt, and graphite—required for batteries and renewable energy systems—are insufficient to meet growing demand, with reserves significantly below projected needs by 2030. Meanwhile, Europe's societal resistance to scaling mining operations exacerbates the challenge, especially as major reserves of these materials are controlled by countries like China and Russia.\n",
      "\n",
      "A potential solution lies in leveraging high-entropy alloys and advanced recycling techniques. This innovative approach involves using scrap metal and electronic waste to create high-performance alloys by mixing diverse materials, bypassing the reliance on scarce traditional elements. Artificial intelligence could play a pivotal role in optimizing these combinations, enabling efficient use of recycled resources to meet industrial needs.\n",
      "\n",
      "This method offers business leaders a pathway to address resource scarcity, reduce dependency on geopolitically sensitive supply chains, and advance technological innovation sustainably. It could redefine material sourcing for industries like energy and automotive, demonstrating leadership in circular economies and resilience amid global challenges.\n",
      "The article highlights María Benjumea's insights as she prepares for the 14th edition of South Summit, a leading entrepreneurship and innovation event in Southern Europe. Benjumea discusses the transformative impact of artificial intelligence (AI), suggesting it accelerates business change, increases efficiency, reduces startup costs, and enables \"solopreneurs\" to build businesses independently. She notes that recent geopolitical and economic uncertainty has prompted investors to shift focus toward strategic, measurable outcomes instead of speculative growth.\n",
      "\n",
      "Benjumea emphasizes the need for collaboration and adaptation, highlighting how large companies and governments increasingly recognize innovation as essential for competitiveness. Spain's innovation ecosystem is thriving, with Madrid emerging as a leader while other cities like Barcelona and Valencia also play crucial roles in fostering startups and entrepreneurship. She advocates for broad innovation across all sectors rather than narrow specialization, underscoring its importance for sustainable economic growth and global competitiveness.\n"
     ]
    }
   ],
   "source": [
    "for x in pd_all_info.iloc[indices[0]][\"summary\"].values:\n",
    "    print(x)"
   ]
  },
  {
   "cell_type": "code",
   "execution_count": null,
   "id": "a181ad4b",
   "metadata": {},
   "outputs": [],
   "source": []
  }
 ],
 "metadata": {
  "kernelspec": {
   "display_name": "damm",
   "language": "python",
   "name": "python3"
  },
  "language_info": {
   "codemirror_mode": {
    "name": "ipython",
    "version": 3
   },
   "file_extension": ".py",
   "mimetype": "text/x-python",
   "name": "python",
   "nbconvert_exporter": "python",
   "pygments_lexer": "ipython3",
   "version": "3.12.3"
  }
 },
 "nbformat": 4,
 "nbformat_minor": 5
}
