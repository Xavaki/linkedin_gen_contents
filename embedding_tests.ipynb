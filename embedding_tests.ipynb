{
 "cells": [
  {
   "cell_type": "code",
   "execution_count": 47,
   "id": "6740975d",
   "metadata": {},
   "outputs": [],
   "source": [
    "import pandas as pd\n",
    "import numpy as np\n",
    "import ast\n",
    "import faiss\n",
    "from openai import AzureOpenAI"
   ]
  },
  {
   "cell_type": "code",
   "execution_count": 38,
   "id": "b765fefb",
   "metadata": {},
   "outputs": [
    {
     "data": {
      "text/html": [
       "<div>\n",
       "<style scoped>\n",
       "    .dataframe tbody tr th:only-of-type {\n",
       "        vertical-align: middle;\n",
       "    }\n",
       "\n",
       "    .dataframe tbody tr th {\n",
       "        vertical-align: top;\n",
       "    }\n",
       "\n",
       "    .dataframe thead th {\n",
       "        text-align: right;\n",
       "    }\n",
       "</style>\n",
       "<table border=\"1\" class=\"dataframe\">\n",
       "  <thead>\n",
       "    <tr style=\"text-align: right;\">\n",
       "      <th></th>\n",
       "      <th>title</th>\n",
       "      <th>url</th>\n",
       "      <th>keywords</th>\n",
       "      <th>author</th>\n",
       "      <th>article_id</th>\n",
       "      <th>source</th>\n",
       "      <th>relevance</th>\n",
       "      <th>relevance_check_model</th>\n",
       "      <th>relevance_check_version</th>\n",
       "    </tr>\n",
       "  </thead>\n",
       "  <tbody>\n",
       "    <tr>\n",
       "      <th>0</th>\n",
       "      <td>How to thrive with AI agents — tips from an HP...</td>\n",
       "      <td>https://thenextweb.com/news/tips-on-ai-agents</td>\n",
       "      <td>[AI, strategy, HP]</td>\n",
       "      <td>None</td>\n",
       "      <td>the_next_web-20250528111956213260</td>\n",
       "      <td>the_next_web</td>\n",
       "      <td>2</td>\n",
       "      <td>gpt-4o-2024-11-20</td>\n",
       "      <td>relevance-check-v0</td>\n",
       "    </tr>\n",
       "    <tr>\n",
       "      <th>1</th>\n",
       "      <td>Meta AI chief: ‘Inferiority complex’ is stunti...</td>\n",
       "      <td>https://thenextweb.com/news/european-tech-stru...</td>\n",
       "      <td>[Meta, AI, European tech]</td>\n",
       "      <td>None</td>\n",
       "      <td>the_next_web-20250528111956213288</td>\n",
       "      <td>the_next_web</td>\n",
       "      <td>2</td>\n",
       "      <td>gpt-4o-2024-11-20</td>\n",
       "      <td>relevance-check-v0</td>\n",
       "    </tr>\n",
       "    <tr>\n",
       "      <th>2</th>\n",
       "      <td>US shoplifting ‘epidemic’ sparks demand for Fr...</td>\n",
       "      <td>https://thenextweb.com/news/us-shoplifting-epi...</td>\n",
       "      <td>[shoplifting, AI cameras, France]</td>\n",
       "      <td>None</td>\n",
       "      <td>the_next_web-20250528111956213298</td>\n",
       "      <td>the_next_web</td>\n",
       "      <td>2</td>\n",
       "      <td>gpt-4o-2024-11-20</td>\n",
       "      <td>relevance-check-v0</td>\n",
       "    </tr>\n",
       "    <tr>\n",
       "      <th>3</th>\n",
       "      <td>TNW Backstage dives into the mind-bending worl...</td>\n",
       "      <td>https://thenextweb.com/news/tnw-backstage-brai...</td>\n",
       "      <td>[brain-computer interfaces, technology, innova...</td>\n",
       "      <td>None</td>\n",
       "      <td>the_next_web-20250528111956213306</td>\n",
       "      <td>the_next_web</td>\n",
       "      <td>2</td>\n",
       "      <td>gpt-4o-2024-11-20</td>\n",
       "      <td>relevance-check-v0</td>\n",
       "    </tr>\n",
       "    <tr>\n",
       "      <th>4</th>\n",
       "      <td>Startup uses ancient bacteria to turn Texas CO...</td>\n",
       "      <td>https://thenextweb.com/news/startup-uses-ancie...</td>\n",
       "      <td>[sustainability, CO2, green chemicals]</td>\n",
       "      <td>None</td>\n",
       "      <td>the_next_web-20250528111956213312</td>\n",
       "      <td>the_next_web</td>\n",
       "      <td>2</td>\n",
       "      <td>gpt-4o-2024-11-20</td>\n",
       "      <td>relevance-check-v0</td>\n",
       "    </tr>\n",
       "  </tbody>\n",
       "</table>\n",
       "</div>"
      ],
      "text/plain": [
       "                                               title  \\\n",
       "0  How to thrive with AI agents — tips from an HP...   \n",
       "1  Meta AI chief: ‘Inferiority complex’ is stunti...   \n",
       "2  US shoplifting ‘epidemic’ sparks demand for Fr...   \n",
       "3  TNW Backstage dives into the mind-bending worl...   \n",
       "4  Startup uses ancient bacteria to turn Texas CO...   \n",
       "\n",
       "                                                 url  \\\n",
       "0      https://thenextweb.com/news/tips-on-ai-agents   \n",
       "1  https://thenextweb.com/news/european-tech-stru...   \n",
       "2  https://thenextweb.com/news/us-shoplifting-epi...   \n",
       "3  https://thenextweb.com/news/tnw-backstage-brai...   \n",
       "4  https://thenextweb.com/news/startup-uses-ancie...   \n",
       "\n",
       "                                            keywords author  \\\n",
       "0                                 [AI, strategy, HP]   None   \n",
       "1                          [Meta, AI, European tech]   None   \n",
       "2                  [shoplifting, AI cameras, France]   None   \n",
       "3  [brain-computer interfaces, technology, innova...   None   \n",
       "4             [sustainability, CO2, green chemicals]   None   \n",
       "\n",
       "                          article_id        source  relevance  \\\n",
       "0  the_next_web-20250528111956213260  the_next_web          2   \n",
       "1  the_next_web-20250528111956213288  the_next_web          2   \n",
       "2  the_next_web-20250528111956213298  the_next_web          2   \n",
       "3  the_next_web-20250528111956213306  the_next_web          2   \n",
       "4  the_next_web-20250528111956213312  the_next_web          2   \n",
       "\n",
       "  relevance_check_model relevance_check_version  \n",
       "0     gpt-4o-2024-11-20      relevance-check-v0  \n",
       "1     gpt-4o-2024-11-20      relevance-check-v0  \n",
       "2     gpt-4o-2024-11-20      relevance-check-v0  \n",
       "3     gpt-4o-2024-11-20      relevance-check-v0  \n",
       "4     gpt-4o-2024-11-20      relevance-check-v0  "
      ]
     },
     "execution_count": 38,
     "metadata": {},
     "output_type": "execute_result"
    }
   ],
   "source": [
    "pd_relevant_articles = pd.read_json('./local_tests_data/relevant_articles_list/relevant_articles.json').drop(columns=[\"index\"], axis=1)\n",
    "pd_relevant_articles.head()"
   ]
  },
  {
   "cell_type": "code",
   "execution_count": 39,
   "id": "4583c209",
   "metadata": {},
   "outputs": [],
   "source": [
    "pd_embeddings = pd.read_csv('./local_tests_data/relevant_articles_summaries_embeddings/relevant_articles_summaries_embeddings.csv')\n",
    "pd_embeddings[\"summary_embedding\"] = pd_embeddings[\"summary_embedding\"].apply(ast.literal_eval)"
   ]
  },
  {
   "cell_type": "code",
   "execution_count": 40,
   "id": "e0ffd7c7",
   "metadata": {},
   "outputs": [],
   "source": [
    "pd_all_info = pd_embeddings.merge(pd_relevant_articles, on=\"article_id\", how=\"inner\")\n",
    "embedding_matrix = np.array(pd_all_info[\"summary_embedding\"].tolist()).astype(\"float32\")\n",
    "embedding_dim = len(embedding_matrix[0, :])"
   ]
  },
  {
   "cell_type": "code",
   "execution_count": 41,
   "id": "07779847",
   "metadata": {},
   "outputs": [],
   "source": [
    "# Create an index (flat, exact search)\n",
    "index = faiss.IndexFlatL2(embedding_dim)\n",
    "index.add(embedding_matrix)  # store embeddings in index"
   ]
  },
  {
   "cell_type": "code",
   "execution_count": 42,
   "id": "32a1a5bc",
   "metadata": {},
   "outputs": [],
   "source": [
    "centroid = np.mean(embedding_matrix, axis=0).reshape(1, -1).astype(\"float32\")\n",
    "distances, indices = index.search(centroid, k=5)"
   ]
  },
  {
   "cell_type": "code",
   "execution_count": 45,
   "id": "be489668",
   "metadata": {},
   "outputs": [
    {
     "data": {
      "text/plain": [
       "array(['OpenAI’s next big bet won’t be a wearable: report',\n",
       "       'OpenAI confiesa que \"muchos\" inversores han salido corriendo por la estructura de la startup',\n",
       "       'Las 9 startups españolas de robótica más punteras',\n",
       "       'Meta AI chief: ‘Inferiority complex’ is stunting European tech',\n",
       "       'Klarna used an AI avatar of its CEO to deliver earnings, it said'],\n",
       "      dtype=object)"
      ]
     },
     "execution_count": 45,
     "metadata": {},
     "output_type": "execute_result"
    }
   ],
   "source": [
    "pd_all_info.iloc[indices[0]][\"title\"].values"
   ]
  },
  {
   "cell_type": "code",
   "execution_count": null,
   "id": "5492c0dd",
   "metadata": {},
   "outputs": [],
   "source": []
  },
  {
   "cell_type": "code",
   "execution_count": 55,
   "id": "8f1f0449",
   "metadata": {},
   "outputs": [],
   "source": [
    "query = \"Insights related to the food industry\"\n",
    "\n",
    "response = client.embeddings.create(\n",
    "        input=[query],\n",
    "        model=\"text-embedding-3-small\",\n",
    "    )\n",
    "\n",
    "query_embedding = response.data[0].embedding\n",
    "query_vector = np.array([query_embedding], dtype=\"float32\")\n",
    "distances, indices = index.search(query_vector, k=5)"
   ]
  },
  {
   "cell_type": "code",
   "execution_count": 56,
   "id": "587dd8b5",
   "metadata": {},
   "outputs": [
    {
     "data": {
      "text/plain": [
       "array(['US shoplifting ‘epidemic’ sparks demand for French AI cameras',\n",
       "       'Los retos de la Transformación Digital',\n",
       "       'TNW Backstage dives into the mind-bending world of brain-computer interfaces',\n",
       "       'Israel otorga a Intel una nueva subvención por valor de 3.200 millones de dólares',\n",
       "       'Startup uses ancient bacteria to turn Texas CO2 into green chemicals'],\n",
       "      dtype=object)"
      ]
     },
     "execution_count": 56,
     "metadata": {},
     "output_type": "execute_result"
    }
   ],
   "source": [
    "pd_all_info.iloc[indices[0]][\"title\"].values"
   ]
  },
  {
   "cell_type": "code",
   "execution_count": null,
   "id": "f751653d",
   "metadata": {},
   "outputs": [],
   "source": []
  }
 ],
 "metadata": {
  "kernelspec": {
   "display_name": "damm",
   "language": "python",
   "name": "python3"
  },
  "language_info": {
   "codemirror_mode": {
    "name": "ipython",
    "version": 3
   },
   "file_extension": ".py",
   "mimetype": "text/x-python",
   "name": "python",
   "nbconvert_exporter": "python",
   "pygments_lexer": "ipython3",
   "version": "3.12.3"
  }
 },
 "nbformat": 4,
 "nbformat_minor": 5
}
