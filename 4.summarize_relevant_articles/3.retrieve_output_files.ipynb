{
 "cells": [
  {
   "cell_type": "code",
   "execution_count": null,
   "id": "89e236fe",
   "metadata": {},
   "outputs": [],
   "source": [
    "import json\n",
    "from openai import AzureOpenAI\n",
    "import pandas as pd\n",
    "from dotenv import load_dotenv\n",
    "import os"
   ]
  },
  {
   "cell_type": "code",
   "execution_count": null,
   "id": "8867b638",
   "metadata": {},
   "outputs": [],
   "source": [
    "load_dotenv('.env')\n",
    "AZURE_OPENAI_API_KEY=os.getenv('AZURE_OPENAI_API_KEY')\n",
    "AZURE_OPENAI_ENDPOINT=os.getenv('AZURE_OPENAI_ENDPOINT')\n",
    "client = AzureOpenAI(\n",
    "    api_version=\"2024-12-01-preview\",\n",
    "    azure_endpoint=AZURE_OPENAI_ENDPOINT,\n",
    "    api_key=AZURE_OPENAI_API_KEY\n",
    ")"
   ]
  },
  {
   "cell_type": "markdown",
   "id": "07de3431",
   "metadata": {},
   "source": [
    "Download output files"
   ]
  },
  {
   "cell_type": "code",
   "execution_count": 3,
   "id": "cef78760",
   "metadata": {},
   "outputs": [],
   "source": [
    "batchid_filenames = [\n",
    "    \"article-summarization-v0_0_BATCHID.txt\"\n",
    "]"
   ]
  },
  {
   "cell_type": "code",
   "execution_count": null,
   "id": "b8a9caa3",
   "metadata": {},
   "outputs": [
    {
     "name": "stdout",
     "output_type": "stream",
     "text": [
      "article-summarization-v0_0_BATCHID.txt\n",
      "batch_id: batch_5b2a408e-d86b-4452-8774-84a5f06689a6\n"
     ]
    }
   ],
   "source": [
    "for batchid_filename in batchid_filenames:\n",
    "    \n",
    "    print(batchid_filename)\n",
    "    with open(batchid_filename, 'r') as f:\n",
    "        batch_id = f.read().strip()\n",
    "\n",
    "    # batch_id = 'batch_89bdb713-596f-4173-936f-5d0c693a4342'\n",
    "\n",
    "    print(\"batch_id: {}\".format(batch_id))\n",
    "    \n",
    "    batch_obj = client.batches.retrieve(batch_id)\n",
    "    batch_status = batch_obj.status\n",
    "\n",
    "    if batch_status != \"completed\":\n",
    "        continue\n",
    "\n",
    "    output_file_id = batch_obj.output_file_id\n",
    "\n",
    "    output = client.files.content(output_file_id).text.strip()\n",
    "\n",
    "    if output:\n",
    "        with open(batchid_filename.replace('BATCHID.txt', 'OUTPUT.jsonl'), 'w') as f:\n",
    "            f.write(output)\n",
    "\n",
    "    error_file_id = batch_obj.error_file_id\n",
    "\n",
    "    error_content = None\n",
    "    if not error_file_id:\n",
    "        continue\n",
    "\n",
    "    error_content = client.files.content(error_file_id).text.strip()\n",
    "    if error_content:\n",
    "        with open(batchid_filename.replace('BATCHID.txt', 'ERROR.jsonl'), 'w') as f:\n",
    "            f.write(error_content)\n"
   ]
  },
  {
   "cell_type": "code",
   "execution_count": null,
   "id": "c18abda7",
   "metadata": {},
   "outputs": [],
   "source": []
  }
 ],
 "metadata": {
  "kernelspec": {
   "display_name": "damm",
   "language": "python",
   "name": "python3"
  },
  "language_info": {
   "codemirror_mode": {
    "name": "ipython",
    "version": 3
   },
   "file_extension": ".py",
   "mimetype": "text/x-python",
   "name": "python",
   "nbconvert_exporter": "python",
   "pygments_lexer": "ipython3",
   "version": "3.12.3"
  }
 },
 "nbformat": 4,
 "nbformat_minor": 5
}
