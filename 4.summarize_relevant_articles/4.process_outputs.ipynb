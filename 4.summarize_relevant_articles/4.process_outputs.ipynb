{
 "cells": [
  {
   "cell_type": "code",
   "execution_count": 2,
   "id": "0288e759",
   "metadata": {},
   "outputs": [],
   "source": [
    "import pandas as pd\n",
    "import json\n",
    "import os"
   ]
  },
  {
   "cell_type": "code",
   "execution_count": 3,
   "id": "0de7a256",
   "metadata": {},
   "outputs": [],
   "source": [
    "data_path = \"../local_tests_data/raw_articles_list\"\n",
    "\n",
    "all_articles = {}\n",
    "\n",
    "for filename in os.listdir(data_path):\n",
    "\n",
    "    if not filename.endswith(\".json\"):\n",
    "        continue\n",
    "\n",
    "\n",
    "    with open(os.path.join(data_path, filename), \"r\") as f:\n",
    "        data = json.load(f)\n",
    "\n",
    "    for article in data:\n",
    "        article_id = article.get(\"article_id\")\n",
    "        all_articles[article_id] = article"
   ]
  },
  {
   "cell_type": "code",
   "execution_count": 4,
   "id": "0ce9a7dd",
   "metadata": {},
   "outputs": [],
   "source": [
    "output_filename = 'article-summarization-v0_0_OUTPUT.jsonl'"
   ]
  },
  {
   "cell_type": "code",
   "execution_count": 12,
   "id": "f0d101ca",
   "metadata": {},
   "outputs": [],
   "source": [
    "with open(output_filename, \"r\") as file:\n",
    "    lines_raw = file.readlines()\n",
    "    for line in lines_raw:\n",
    "        output_dict = json.loads(line)\n",
    "        model = output_dict.get(\"response\").get(\"body\").get(\"model\")\n",
    "        line_id = output_dict.get(\"custom_id\")\n",
    "        task_name, article_id = line_id.split(\"*\")\n",
    "        content = output_dict.get(\"response\").get(\"body\").get(\"choices\")[0].get(\"message\").get(\"content\")\n",
    "        with open(\"../local_tests_data/relevant_articles_summaries/\" + article_id + \".json\", \"w\") as f:\n",
    "            json.dump({\"article_id\": article_id, \"model\": model, \"content\": content, \"task_name\" : task_name}, f)"
   ]
  },
  {
   "cell_type": "code",
   "execution_count": 10,
   "id": "11bc82a7",
   "metadata": {},
   "outputs": [
    {
     "name": "stdout",
     "output_type": "stream",
     "text": [
      "the_next_web-20250528111956213260\n"
     ]
    }
   ],
   "source": [
    "print(article_id)"
   ]
  },
  {
   "cell_type": "code",
   "execution_count": null,
   "id": "f50cc741",
   "metadata": {},
   "outputs": [],
   "source": []
  }
 ],
 "metadata": {
  "kernelspec": {
   "display_name": "damm",
   "language": "python",
   "name": "python3"
  },
  "language_info": {
   "codemirror_mode": {
    "name": "ipython",
    "version": 3
   },
   "file_extension": ".py",
   "mimetype": "text/x-python",
   "name": "python",
   "nbconvert_exporter": "python",
   "pygments_lexer": "ipython3",
   "version": "3.12.3"
  }
 },
 "nbformat": 4,
 "nbformat_minor": 5
}
