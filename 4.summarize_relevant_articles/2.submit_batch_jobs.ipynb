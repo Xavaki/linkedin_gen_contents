{
 "cells": [
  {
   "cell_type": "code",
   "execution_count": 1,
   "id": "038518b3",
   "metadata": {},
   "outputs": [],
   "source": [
    "from azure.storage.blob import BlobServiceClient\n",
    "import os\n",
    "from dotenv import load_dotenv\n",
    "from openai import AzureOpenAI"
   ]
  },
  {
   "cell_type": "code",
   "execution_count": null,
   "id": "c43101d9",
   "metadata": {},
   "outputs": [],
   "source": [
    "load_dotenv('.env')\n",
    "AZURE_OPENAI_API_KEY=os.getenv('AZURE_OPENAI_API_KEY')\n",
    "AZURE_OPENAI_ENDPOINT=os.getenv('AZURE_OPENAI_ENDPOINT')\n",
    "client = AzureOpenAI(\n",
    "    api_version=\"2024-12-01-preview\",\n",
    "    azure_endpoint=AZURE_OPENAI_ENDPOINT,\n",
    "    api_key=AZURE_OPENAI_API_KEY\n",
    ")"
   ]
  },
  {
   "cell_type": "code",
   "execution_count": 3,
   "id": "bf3989d3",
   "metadata": {},
   "outputs": [],
   "source": [
    "batchfilenames = [\n",
    "    \"article-summarization-v0_0_BATCHFILE.jsonl\"\n",
    "]"
   ]
  },
  {
   "cell_type": "code",
   "execution_count": null,
   "id": "00e1f9d5",
   "metadata": {},
   "outputs": [
    {
     "name": "stdout",
     "output_type": "stream",
     "text": [
      "Submitting article-summarization-v0_0_BATCHFILE.jsonl\n",
      "{\n",
      "  \"id\": \"file-e158245c11914ff687c049da5139b0a0\",\n",
      "  \"bytes\": 180340,\n",
      "  \"created_at\": 1748435686,\n",
      "  \"filename\": \"article-summarization-v0_0_BATCHFILE.jsonl\",\n",
      "  \"object\": \"file\",\n",
      "  \"purpose\": \"batch\",\n",
      "  \"status\": \"processed\",\n",
      "  \"expires_at\": null,\n",
      "  \"status_details\": null\n",
      "}\n",
      "{\n",
      "  \"id\": \"batch_5b2a408e-d86b-4452-8774-84a5f06689a6\",\n",
      "  \"completion_window\": \"24h\",\n",
      "  \"created_at\": 1748435689,\n",
      "  \"endpoint\": \"/chat/completions\",\n",
      "  \"input_file_id\": \"file-e158245c11914ff687c049da5139b0a0\",\n",
      "  \"object\": \"batch\",\n",
      "  \"status\": \"validating\",\n",
      "  \"cancelled_at\": null,\n",
      "  \"cancelling_at\": null,\n",
      "  \"completed_at\": null,\n",
      "  \"error_file_id\": \"\",\n",
      "  \"errors\": null,\n",
      "  \"expired_at\": null,\n",
      "  \"expires_at\": 1748522086,\n",
      "  \"failed_at\": null,\n",
      "  \"finalizing_at\": null,\n",
      "  \"in_progress_at\": null,\n",
      "  \"metadata\": null,\n",
      "  \"output_file_id\": \"\",\n",
      "  \"request_counts\": {\n",
      "    \"completed\": 0,\n",
      "    \"failed\": 0,\n",
      "    \"total\": 0\n",
      "  }\n",
      "}\n",
      "  \n"
     ]
    }
   ],
   "source": [
    "\n",
    "for batchfilename in batchfilenames:\n",
    "\n",
    "  print(\"Submitting {}\".format(batchfilename))\n",
    "\n",
    "\n",
    "  file = client.files.create(\n",
    "    file=open(batchfilename, \"rb\"),\n",
    "    purpose=\"batch\"\n",
    "  )\n",
    "\n",
    "  print(file.model_dump_json(indent=2))\n",
    "  file_id = file.id\n",
    "\n",
    "  # Submit a batch job with the file\n",
    "  batch_response = client.batches.create(\n",
    "      input_file_id=file_id,\n",
    "      endpoint=\"/chat/completions\",\n",
    "      completion_window=\"24h\",\n",
    "      temperature=0.3,\n",
    "  )\n",
    "\n",
    "  # Save batch ID for later use\n",
    "  batch_id = batch_response.id\n",
    "\n",
    "  print(batch_response.model_dump_json(indent=2)) \n",
    "\n",
    "  with open(batchfilename.replace(\"BATCHFILE.jsonl\", \"BATCHID.txt\"), \"w\") as f:\n",
    "    f.write(batch_id)\n",
    "\n",
    "  print(\"  \")"
   ]
  },
  {
   "cell_type": "code",
   "execution_count": null,
   "id": "32668c97",
   "metadata": {},
   "outputs": [],
   "source": []
  }
 ],
 "metadata": {
  "kernelspec": {
   "display_name": "damm",
   "language": "python",
   "name": "python3"
  },
  "language_info": {
   "codemirror_mode": {
    "name": "ipython",
    "version": 3
   },
   "file_extension": ".py",
   "mimetype": "text/x-python",
   "name": "python",
   "nbconvert_exporter": "python",
   "pygments_lexer": "ipython3",
   "version": "3.12.3"
  }
 },
 "nbformat": 4,
 "nbformat_minor": 5
}
