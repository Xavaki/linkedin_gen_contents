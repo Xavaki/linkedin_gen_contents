{
 "cells": [
  {
   "cell_type": "code",
   "execution_count": null,
   "id": "038518b3",
   "metadata": {},
   "outputs": [],
   "source": [
    "import os\n",
    "from dotenv import load_dotenv\n",
    "from openai import AzureOpenAI\n",
    "from dotenv import load_dotenv\n",
    "from datetime import datetime"
   ]
  },
  {
   "cell_type": "code",
   "execution_count": 14,
   "id": "a042ee23",
   "metadata": {},
   "outputs": [
    {
     "data": {
      "text/plain": [
       "True"
      ]
     },
     "execution_count": 14,
     "metadata": {},
     "output_type": "execute_result"
    }
   ],
   "source": [
    "load_dotenv('../.env')"
   ]
  },
  {
   "cell_type": "code",
   "execution_count": 16,
   "id": "81185d16",
   "metadata": {},
   "outputs": [
    {
     "name": "stdout",
     "output_type": "stream",
     "text": [
      "Run ID: RUNID_2 at 2025-05-30 11:08:25\n"
     ]
    }
   ],
   "source": [
    "TASK_NAME = \"source_parsing_v0\"\n",
    "\n",
    "def get_run_id():\n",
    "    return os.getenv('RUNID')\n",
    "\n",
    "RUNID = get_run_id()\n",
    "\n",
    "INPUT_DATA_PATH = f\"../local_tests_data/azure_openai_batch_processing_files/{RUNID}/{TASK_NAME}/BATCHFILES\"\n",
    "\n",
    "RUN_TIME = datetime.strftime(datetime.now(), '%Y-%m-%d %H:%M:%S')\n",
    "\n",
    "OUTPUT_DATA_PATH = f\"../local_tests_data/azure_openai_batch_processing_files/{RUNID}/{TASK_NAME}/BATCHID\"\n",
    "\n",
    "os.makedirs(OUTPUT_DATA_PATH, exist_ok=True)\n",
    "\n",
    "print(f\"Run ID: {RUNID} at {RUN_TIME}\")"
   ]
  },
  {
   "cell_type": "code",
   "execution_count": 17,
   "id": "c43101d9",
   "metadata": {},
   "outputs": [],
   "source": [
    "AZURE_OPENAI_API_KEY=os.getenv('AZURE_OPENAI_API_KEY')\n",
    "AZURE_OPENAI_ENDPOINT=os.getenv('AZURE_OPENAI_ENDPOINT')\n",
    "client = AzureOpenAI(\n",
    "    api_version=\"2024-12-01-preview\",\n",
    "    azure_endpoint=AZURE_OPENAI_ENDPOINT,\n",
    "    api_key=AZURE_OPENAI_API_KEY\n",
    ")"
   ]
  },
  {
   "cell_type": "code",
   "execution_count": 18,
   "id": "5efdb722",
   "metadata": {},
   "outputs": [],
   "source": [
    "def get_batchfiles():\n",
    "    batchfiles = []\n",
    "    for filename in os.listdir(INPUT_DATA_PATH):\n",
    "        if filename.endswith('.jsonl'):\n",
    "            b = {\n",
    "                'path': os.path.join(INPUT_DATA_PATH, filename),\n",
    "                'id' : filename.split('.')[0].split('_')[-1],\n",
    "            }\n",
    "            batchfiles.append(b)\n",
    "    return sorted(batchfiles)\n",
    "\n",
    "batchfiles = get_batchfiles()"
   ]
  },
  {
   "cell_type": "code",
   "execution_count": 19,
   "id": "983a9955",
   "metadata": {},
   "outputs": [],
   "source": [
    "def save_batchid(i, batch_id):\n",
    "    batchid_filename = f\"{RUNID}--{TASK_NAME}_BATCHID_{i}.txt\"\n",
    "    with open(os.path.join(OUTPUT_DATA_PATH, batchid_filename), \"w\") as f:\n",
    "        f.write(batch_id)"
   ]
  },
  {
   "cell_type": "code",
   "execution_count": 20,
   "id": "00e1f9d5",
   "metadata": {},
   "outputs": [
    {
     "name": "stdout",
     "output_type": "stream",
     "text": [
      "Submitting ../local_tests_data/azure_openai_batch_processing_files/RUNID_2/source_parsing_v0/BATCHFILES/RUNID_2--source_parsing_v0_BATCHFILE_0.jsonl\n",
      "{\n",
      "  \"id\": \"file-8c0363975be24d6680b722bb5eec6f4e\",\n",
      "  \"bytes\": 113490,\n",
      "  \"created_at\": 1748596109,\n",
      "  \"filename\": \"RUNID_2--source_parsing_v0_BATCHFILE_0.jsonl\",\n",
      "  \"object\": \"file\",\n",
      "  \"purpose\": \"batch\",\n",
      "  \"status\": \"processed\",\n",
      "  \"expires_at\": null,\n",
      "  \"status_details\": null\n",
      "}\n",
      "{\n",
      "  \"id\": \"batch_80f38070-5b3f-4b55-846b-448b0561715a\",\n",
      "  \"completion_window\": \"24h\",\n",
      "  \"created_at\": 1748596112,\n",
      "  \"endpoint\": \"/chat/completions\",\n",
      "  \"input_file_id\": \"file-8c0363975be24d6680b722bb5eec6f4e\",\n",
      "  \"object\": \"batch\",\n",
      "  \"status\": \"validating\",\n",
      "  \"cancelled_at\": null,\n",
      "  \"cancelling_at\": null,\n",
      "  \"completed_at\": null,\n",
      "  \"error_file_id\": \"\",\n",
      "  \"errors\": null,\n",
      "  \"expired_at\": null,\n",
      "  \"expires_at\": 1748682510,\n",
      "  \"failed_at\": null,\n",
      "  \"finalizing_at\": null,\n",
      "  \"in_progress_at\": null,\n",
      "  \"metadata\": null,\n",
      "  \"output_file_id\": \"\",\n",
      "  \"request_counts\": {\n",
      "    \"completed\": 0,\n",
      "    \"failed\": 0,\n",
      "    \"total\": 0\n",
      "  }\n",
      "}\n",
      "Batch ID for file 0: batch_80f38070-5b3f-4b55-846b-448b0561715a\n",
      "Batch job submitted successfully.\n",
      "  \n"
     ]
    }
   ],
   "source": [
    "\n",
    "for bathcfile in batchfiles:\n",
    "\n",
    "  i = bathcfile['id']\n",
    "  path = bathcfile['path']\n",
    "\n",
    "  print(\"Submitting {}\".format(path))\n",
    "\n",
    "  file = client.files.create(\n",
    "    file=open(path, \"rb\"),\n",
    "    purpose=\"batch\"\n",
    "  )\n",
    "\n",
    "  print(file.model_dump_json(indent=2))\n",
    "  file_id = file.id\n",
    "\n",
    "  # Submit a batch job with the file\n",
    "  batch_response = client.batches.create(\n",
    "      input_file_id=file_id,\n",
    "      endpoint=\"/chat/completions\",\n",
    "      completion_window=\"24h\",\n",
    "  )\n",
    "\n",
    "  # Save batch ID for later use\n",
    "  batch_id = batch_response.id\n",
    "\n",
    "  print(batch_response.model_dump_json(indent=2)) \n",
    "\n",
    "  save_batchid(i, batch_id)\n",
    "  print(f\"Batch ID for file {i}: {batch_id}\")\n",
    "  print(\"Batch job submitted successfully.\")\n",
    "  print(\"  \")"
   ]
  },
  {
   "cell_type": "code",
   "execution_count": null,
   "id": "32668c97",
   "metadata": {},
   "outputs": [],
   "source": []
  }
 ],
 "metadata": {
  "kernelspec": {
   "display_name": "damm",
   "language": "python",
   "name": "python3"
  },
  "language_info": {
   "codemirror_mode": {
    "name": "ipython",
    "version": 3
   },
   "file_extension": ".py",
   "mimetype": "text/x-python",
   "name": "python",
   "nbconvert_exporter": "python",
   "pygments_lexer": "ipython3",
   "version": "3.12.3"
  }
 },
 "nbformat": 4,
 "nbformat_minor": 5
}
