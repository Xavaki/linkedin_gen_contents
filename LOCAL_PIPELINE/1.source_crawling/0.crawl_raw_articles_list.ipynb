{
 "cells": [
  {
   "cell_type": "code",
   "execution_count": null,
   "id": "cb2782e0",
   "metadata": {},
   "outputs": [],
   "source": [
    "import requests\n",
    "import json \n",
    "import os\n",
    "from datetime import datetime\n",
    "\n",
    "from time import sleep\n",
    "from pydantic import BaseModel, ValidationError\n",
    "\n",
    "from dotenv import load_dotenv"
   ]
  },
  {
   "cell_type": "code",
   "execution_count": 33,
   "id": "642fa57f",
   "metadata": {},
   "outputs": [
    {
     "data": {
      "text/plain": [
       "True"
      ]
     },
     "execution_count": 33,
     "metadata": {},
     "output_type": "execute_result"
    }
   ],
   "source": [
    "load_dotenv('../.env')"
   ]
  },
  {
   "cell_type": "code",
   "execution_count": null,
   "id": "768998a6",
   "metadata": {},
   "outputs": [
    {
     "name": "stdout",
     "output_type": "stream",
     "text": [
      "Run ID: RUNID_2 at 2025-05-30 10:30:45\n"
     ]
    }
   ],
   "source": [
    "def get_run_id():\n",
    "    return os.getenv('RUNID')   \n",
    "\n",
    "RUNID = get_run_id()\n",
    "\n",
    "\n",
    "RUN_TIME = datetime.strftime(datetime.now(), '%Y-%m-%d %H:%M:%S')\n",
    "\n",
    "print(f\"Run ID: {RUNID} at {RUN_TIME}\")\n",
    "\n",
    "INPUT_DATA_PATH = \"../local_tests_data/sources.json\"\n",
    "OUTPUT_DATA_PATH = f\"../local_tests_data/source_raw_content/{RUNID}/\"\n",
    "\n",
    "# os.makedirs(OUTPUT_DATA_PATH, exist_ok=False)\n"
   ]
  },
  {
   "cell_type": "code",
   "execution_count": 24,
   "id": "77b413e4",
   "metadata": {},
   "outputs": [],
   "source": [
    "# Define Pydantic models\n",
    "class Source(BaseModel):\n",
    "    url: str\n",
    "    source_name: str\n",
    "\n",
    "class SaveContent(BaseModel):\n",
    "    url: str\n",
    "    name: str\n",
    "    raw_content: str\n",
    "    crawl_time: str"
   ]
  },
  {
   "cell_type": "code",
   "execution_count": null,
   "id": "30aae803",
   "metadata": {},
   "outputs": [],
   "source": [
    "def get_sources() -> list[Source]:\n",
    "    with open(INPUT_DATA_PATH, \"r\") as f:\n",
    "        sources = json.load(f)\n",
    "    # Validate and process sources\n",
    "    validated_sources = []\n",
    "    for source in sources:\n",
    "        try:\n",
    "            validated_source = Source(**source)\n",
    "            validated_sources.append(validated_source)\n",
    "        except ValidationError as e:\n",
    "            print(f'Validation error for source: {source}')\n",
    "            print(e)\n",
    "    return validated_sources\n",
    "\n",
    "def save_source_raw_content(save_content: SaveContent) -> None:\n",
    "    \"\"\"Saves the raw content of a source to a file.\"\"\"\n",
    "    file_path = OUTPUT_DATA_PATH + save_content.name + '.json'\n",
    "    with open(file_path, 'w') as f:\n",
    "        json.dump(save_content.model_dump(), f, indent=4)\n",
    "    print(f'Saved content for {save_content.name} at {file_path}')"
   ]
  },
  {
   "cell_type": "code",
   "execution_count": 26,
   "id": "6fa69869",
   "metadata": {},
   "outputs": [
    {
     "name": "stdout",
     "output_type": "stream",
     "text": [
      "[Source(url='https://techcrunch.com/latest/', source_name='TechCrunch'), Source(url='https://www.itespresso.es/', source_name='ITEspresso'), Source(url='https://www.businessinsider.es/tecnologia', source_name='Business Insider'), Source(url='https://www.cnet.com/ai-atlas/', source_name='CNET'), Source(url='https://thenextweb.com/', source_name='The Next Web')]\n"
     ]
    }
   ],
   "source": [
    "sources = get_sources()\n",
    "print(sources)"
   ]
  },
  {
   "cell_type": "code",
   "execution_count": 27,
   "id": "46ac4a21",
   "metadata": {},
   "outputs": [],
   "source": [
    "def fetch_source_content(source : Source) -> str:\n",
    "    \"\"\"Fetches the raw content of a source URL.\"\"\"\n",
    "    source_url_jina = 'https://r.jina.ai/' + source.url\n",
    "    source_url_raw_content = requests.get(source_url_jina).text\n",
    "    return source_url_raw_content"
   ]
  },
  {
   "cell_type": "code",
   "execution_count": 28,
   "id": "83b1f2b6",
   "metadata": {},
   "outputs": [
    {
     "data": {
      "text/plain": [
       "\"Title: Latest News | TechCrunch\\n\\nURL Source: https://techcrunch.com/latest/\\n\\nPublished Time: 2024-10-02T13:26:41Z\\n\\nMarkdown Content:\\nLatest News | TechCrunch\\n\\n===============\\nLatest News | TechCrunch\\n\\n===============\\n[Skip to content](https://techcrunch.com/latest/#wp--skip-link--target)\\n\\n[![Image 2](https://techcrunch.com/wp-content/uploads/2024/09/tc-lockup.svg)TechCrunch Desktop Logo](https://techcrunch.com/)[![Image 3](https://techcrunch.com/wp-content/uploads/2024/09/tc-logo-mobile.svg)TechCrunch Mobile Logo](https://techcrunch.com/)\\n\\n*   [Latest](https://techcrunch.com/latest/)\\n*   [Startups](https://techcrunch.com/category/startups/)\\n*   [Venture](https://techcrunch.com/category/venture/)\\n*   [Apple](https://techcrunch.com/tag/apple/)\\n*   [Security](https://techcrunch.com/category/security/)\\n*   [AI](https://techcrunch.com/category/artificial-intelligence/)\\n*   [Apps](https://techcrunch.com/category/apps/)\\n\\n*   [Events](https://techcrunch.com/events/)\\n*   [Podcasts](https://techcrunch.com/podcasts/)\\n*   [Newsletters](https://techcrunch.com/newsletters/)\\n\\nSearch \\n\\nSubmit\\n\\nSite Search Toggle\\n\\nMega Menu Toggle\\n\\n### Topics\\n\\n[Latest](https://techcrunch.com/latest/)\\n\\n[AI](https://techcrunch.com/category/artificial-intelligence/)\\n\\n[Amazon](https://techcrunch.com/tag/amazon/)\\n\\n[Apps](https://techcrunch.com/category/apps/)\\n\\n[Biotech & Health](https://techcrunch.com/category/biotech-health/)\\n\\n[Climate](https://techcrunch.com/category/climate/)\\n\\n[Cloud Computing](https://techcrunch.com/tag/cloud-computing/)\\n\\n[Commerce](https://techcrunch.com/category/commerce/)\\n\\n[Crypto](https://techcrunch.com/category/cryptocurrency/)\\n\\n[Enterprise](https://techcrunch.com/category/enterprise/)\\n\\n[EVs](https://techcrunch.com/tag/evs/)\\n\\n[Fintech](https://techcrunch.com/category/fintech/)\\n\\n[Fundraising](https://techcrunch.com/category/fundraising/)\\n\\n[Gadgets](https://techcrunch.com/category/gadgets/)\\n\\n[Gaming](https://techcrunch.com/category/gaming/)\\n\\n[Google](https://techcrunch.com/tag/google/)\\n\\n[Government & Policy](https://techcrunch.com/category/government-policy/)\\n\\n[Hardware](https://techcrunch.com/category/hardware/)\\n\\n[Instagram](https://techcrunch.com/tag/instagram/)\\n\\n[Layoffs](https://techcrunch.com/tag/layoffs/)\\n\\n[Media & Entertainment](https://techcrunch.com/category/media-entertainment/)\\n\\n[Meta](https://techcrunch.com/tag/meta/)\\n\\n[Microsoft](https://techcrunch.com/tag/microsoft/)\\n\\n[Privacy](https://techcrunch.com/category/privacy/)\\n\\n[Robotics](https://techcrunch.com/category/robotics/)\\n\\n[Security](https://techcrunch.com/category/security/)\\n\\n[Social](https://techcrunch.com/category/social/)\\n\\n[Space](https://techcrunch.com/category/space/)\\n\\n[Startups](https://techcrunch.com/category/startups/)\\n\\n[TikTok](https://techcrunch.com/tag/tiktok/)\\n\\n[Transportation](https://techcrunch.com/category/transportation/)\\n\\n[Venture](https://techcrunch.com/category/venture/)\\n\\n### More from TechCrunch\\n\\n[Events](https://techcrunch.com/events/)\\n\\n[Startup Battlefield](https://techcrunch.com/startup-battlefield/)\\n\\n[StrictlyVC](https://strictlyvc.com/)\\n\\n[Newsletters](https://techcrunch.com/newsletters/)\\n\\n[Podcasts](https://techcrunch.com/podcasts/)\\n\\n[Videos](https://techcrunch.com/video/)\\n\\n[Partner Content](https://techcrunch.com/sponsored/)\\n\\n[TechCrunch Brand Studio](https://techcrunch.com/brand-studio/)\\n\\n[Crunchboard](https://www.crunchboard.com/)\\n\\n[Contact Us](https://techcrunch.com/contact-us/)\\n\\nLatest News\\n===========\\n\\n Headlines Only \\n\\n Load More \\n\\n*   \\n![Image 4: Grammarly logo](https://techcrunch.com/wp-content/uploads/2021/11/Grammarly-Abstract.jpg?w=668)\\n\\n[AI](https://techcrunch.com/category/artificial-intelligence/) \\n### [Grammarly secures $1B in nondilutive funding from General Catalyst](https://techcrunch.com/2025/05/29/grammarly-secures-1b-in-non-dilutive-funding-from-general-catalyst/)\\n\\n    *   [Marina Temkin](https://techcrunch.com/author/marina-temkin/)\\n\\n 7 hours ago\\n\\n*   \\n![Image 5](https://techcrunch.com/wp-content/uploads/2025/05/medium_vt23-s1-d2-17-25-africatech-awards_125_NM.jpg?w=563)\\n\\n[Startups](https://techcrunch.com/category/startups/) \\n### [Top 30 startups announced for VivaTech 2025 Innovation of the Year Award](https://techcrunch.com/2025/05/29/top-30-startups-announced-for-vivatech-2025-innovation-of-the-year-award/)\\n\\n    *   [Cindy Zackney](https://techcrunch.com/author/cindy-zackney/)\\n\\n 10 hours ago\\n\\n*   \\n![Image 6](https://techcrunch.com/wp-content/uploads/2025/05/GeneralArticleImageHeader_TCSessionsAI_V1_4x3.png?w=500)\\n\\n[TC Sessions: AI](https://techcrunch.com/events/tc-sessions-ai/) \\n### [Inside the AI revolution: Top insights and breakthroughs from our partners at TechCrunch Sessions: AI](https://techcrunch.com/2025/05/29/inside-the-ai-revolution-top-insights-and-breakthroughs-from-our-partners-at-techcrunch-sessions-ai/)\\n\\n    *   [Cindy Zackney](https://techcrunch.com/author/cindy-zackney/)\\n\\n 11 hours ago\\n\\n*   \\n![Image 7: Hugging Face logo](https://techcrunch.com/wp-content/uploads/2023/08/11f5fd43-3e13-4313-a003-9d36a81e3fde.png?w=668)\\n\\n[Robotics](https://techcrunch.com/category/robotics/) \\n### [Hugging Face unveils two new humanoid robots](https://techcrunch.com/2025/05/29/hugging-face-unveils-two-new-humanoid-robots/)\\n\\n    *   [Rebecca Szkutak](https://techcrunch.com/author/rebecca-szkutak/)\\n\\n 13 hours ago\\n\\n*   \\n![Image 8: Stable Diffusion](https://techcrunch.com/wp-content/uploads/2022/08/ai-gen-unfiltered.jpg?w=668)\\n\\n[AI](https://techcrunch.com/category/artificial-intelligence/) \\n### [Black Forest Labs’ Kontext AI models can edit pics as well as generate them](https://techcrunch.com/2025/05/29/black-forest-labs-kontext-ai-models-can-edit-pics-as-well-as-generate-them/)\\n\\n    *   [Kyle Wiggers](https://techcrunch.com/author/kyle-wiggers/)\\n\\n 13 hours ago\\n\\n*   \\n![Image 9: tinder icon ios](https://techcrunch.com/wp-content/uploads/2019/09/tinder-icon-ios.jpg?w=668)\\n\\n[Apps](https://techcrunch.com/category/apps/) \\n### [Tinder tests letting users set a ‘height preference’](https://techcrunch.com/2025/05/29/tinder-tests-letting-users-set-a-height-preference/)\\n\\n    *   [Sarah Perez](https://techcrunch.com/author/sarah-perez/)\\n\\n 13 hours ago\\n\\n*   \\n![Image 10: OpenAI CEO Sam Altman](https://techcrunch.com/wp-content/uploads/2024/12/GettyImages-2188251582.jpg?w=563)\\n\\nIn Brief \\n### [Delaware attorney general reportedly hires a bank to evaluate OpenAI’s restructuring plan](https://techcrunch.com/2025/05/29/delaware-attorney-general-reportedly-hires-a-bank-to-evaluate-openais-restructuring-plan/)\\n\\n    *   [Maxwell Zeff](https://techcrunch.com/author/maxwell-zeff/)\\n\\n 13 hours ago\\n\\n*   \\n![Image 11: Perplexity AI logo is seen on a smartphone and on a PC screen.](https://techcrunch.com/wp-content/uploads/2024/07/GettyImages-1917904267.jpg?w=562)\\n\\n[AI](https://techcrunch.com/category/artificial-intelligence/) \\n### [Perplexity’s new tool can generate spreadsheets, dashboards, and more](https://techcrunch.com/2025/05/29/perplexitys-new-tool-can-generate-spreadsheets-dashboards-and-more/)\\n\\n    *   [Kyle Wiggers](https://techcrunch.com/author/kyle-wiggers/)\\n\\n 14 hours ago\\n\\n*   \\n![Image 12: Silhouetted electricity pylon grid](https://techcrunch.com/wp-content/uploads/2017/05/gettyimages-173791238.jpg?w=565)\\n\\nIn Brief \\n### [Tesla alum’s Heron Power closes $38M Series A to transform key grid technology](https://techcrunch.com/2025/05/29/tesla-alums-heron-power-closes-38m-series-a-to-transform-key-grid-technology/)\\n\\n    *   [Tim De Chant](https://techcrunch.com/author/tim-de-chant/)\\n\\n 14 hours ago\\n\\n*   \\n![Image 13: Palmer Luckey, founder of Oculus and Anduril Industries, speaks during The Wall Street Journal's WSJ Tech Live conference in Laguna Beach, California on October 16, 2023. (Photo by PATRICK T. FALLON/AFP via Getty Images)](https://techcrunch.com/wp-content/uploads/2024/11/GettyImages-1728513468-e.jpg?w=563)\\n\\n[Startups](https://techcrunch.com/category/startups/) \\n### [In a victory for Palmer Luckey, Meta and Anduril work on mixed reality headsets for the military](https://techcrunch.com/2025/05/29/in-a-victory-for-palmer-luckey-meta-and-anduril-work-on-mixed-reality-headsets-for-the-military/)\\n\\n    *   [Julie Bort](https://techcrunch.com/author/julie-bort/)\\n\\n 14 hours ago\\n\\n*   \\n![Image 14: YouTube icon](https://techcrunch.com/wp-content/uploads/2022/04/youtube-ios-app.webp?w=668)\\n\\n[Apps](https://techcrunch.com/category/apps/) \\n### [YouTube will soon let viewers use Google Lens to search what they see while watching Shorts](https://techcrunch.com/2025/05/29/youtube-will-soon-let-viewers-use-google-lens-to-search-what-they-see-while-watching-shorts/)\\n\\n    *   [Aisha Malik](https://techcrunch.com/author/aisha-malik/)\\n\\n 15 hours ago\\n\\n*   \\n![Image 15: DeepSeek welcome page on mobile phone](https://techcrunch.com/wp-content/uploads/2025/01/GettyImages-2196223480.jpg?w=546)\\n\\n[AI](https://techcrunch.com/category/artificial-intelligence/) \\n### [DeepSeek’s distilled new R1 AI model can run on a single GPU](https://techcrunch.com/2025/05/29/deepseeks-distilled-new-r1-ai-model-can-run-on-a-single-gpu/)\\n\\n    *   [Kyle Wiggers](https://techcrunch.com/author/kyle-wiggers/)\\n\\n 15 hours ago\\n\\n*   \\n![Image 16: An illustration showing Macau's iconic Casino Lisboa.](https://techcrunch.com/wp-content/uploads/2025/05/funnull-polyfill-macau-skyline.jpg?w=563)\\n\\n[Security](https://techcrunch.com/category/security/) \\n### [US government sanctions tech company involved in cyber scams](https://techcrunch.com/2025/05/29/us-government-sanctions-tech-company-involved-in-cyber-scams/)\\n\\n    *   [Lorenzo Franceschi-Bicchierai](https://techcrunch.com/author/lorenzo-franceschi-bicchierai/)\\n\\n 15 hours ago\\n\\n*   \\n![Image 17: Two Tesla Powerwalls sit on the outside of a house.](https://techcrunch.com/wp-content/uploads/2024/01/GettyImages-1296608191.jpeg?w=562)\\n\\n[Climate](https://techcrunch.com/category/climate/) \\n### [Tesla pleads for Senate to spare its booming energy business](https://techcrunch.com/2025/05/29/tesla-pleads-for-senate-to-spare-its-booming-energy-business/)\\n\\n    *   [Tim De Chant](https://techcrunch.com/author/tim-de-chant/)\\n\\n 16 hours ago\\n\\n*   \\n![Image 18: Apple app store iOS](https://techcrunch.com/wp-content/uploads/2021/03/apple-app-store-ios-2021.jpg?w=668)\\n\\n[Apps](https://techcrunch.com/category/apps/) \\n### [Apple’s US App Store topped $400B in developer billings and sales in 2024](https://techcrunch.com/2025/05/29/apples-us-app-store-topped-400b-in-developer-billings-and-sales-in-2024/)\\n\\n    *   [Sarah Perez](https://techcrunch.com/author/sarah-perez/)\\n\\n 16 hours ago\\n\\n*   \\n![Image 19: DeepSeek app icon on mobile phone](https://techcrunch.com/wp-content/uploads/2025/01/deepseek-2.jpg?w=563)\\n\\n[AI](https://techcrunch.com/category/artificial-intelligence/) \\n### [DeepSeek’s updated R1 AI model is more censored, test finds](https://techcrunch.com/2025/05/29/deepseeks-updated-r1-ai-model-is-more-censored-test-finds/)\\n\\n    *   [Kyle Wiggers](https://techcrunch.com/author/kyle-wiggers/)\\n\\n 17 hours ago\\n\\n*   \\n![Image 20: Conceptual image of a red laptop floating mid-air on a blue background with a hard shadow](https://techcrunch.com/wp-content/uploads/2025/05/canary-tools-getty-1732944703.jpg?w=384)\\n\\n[Security](https://techcrunch.com/category/security/) \\n### [A decade in, bootstrapped Thinkst Canary reaches $20M in ARR without VC funding](https://techcrunch.com/2025/05/29/a-decade-in-bootstrapped-thinkst-canary-reaches-20m-in-arr-without-vc-funding/)\\n\\n    *   [Zack Whittaker](https://techcrunch.com/author/zack-whittaker/)\\n\\n 18 hours ago\\n\\n*   \\n![Image 21: Mark Zuckerberg, chief executive officer of Meta Platforms Inc., during the Meta Connect event in Menlo Park, California, US, on Wednesday, Sept. 25, 2024.\\xa0Meta Platforms Inc.\\xa0debuted its first pair of augmented reality glasses, devices that show a combined view of the digital and physical worlds, a key step in Chief Executive Officer\\xa0Mark Zuckerberg's goal of one day offering a hands-free alternative to the smartphone. Photographer: David Paul Morris/Bloomberg via Getty Images](https://techcrunch.com/wp-content/uploads/2025/01/GettyImages-2173579488.jpg?w=563)\\n\\nIn Brief \\n### [Meta AI now has 1B monthly active users](https://techcrunch.com/2025/05/29/meta-ai-now-has-1b-monthly-active-users/)\\n\\n    *   [Aisha Malik](https://techcrunch.com/author/aisha-malik/)\\n\\n 18 hours ago\\n\\n*   \\n![Image 22: TechCrunch Sessions: Robotics Zellerbach Hall](https://techcrunch.com/wp-content/uploads/2025/02/TC-Sessions-Robotics_Zellerbach-Hall-2.jpg?w=562)\\n\\n[TC Sessions: AI](https://techcrunch.com/events/tc-sessions-ai/) \\n### [7 days until doors open at TechCrunch Sessions: AI](https://techcrunch.com/2025/05/29/7-days-until-doors-open-at-techcrunch-sessions-ai/)\\n\\n    *   [TechCrunch Events](https://techcrunch.com/author/techcrunch-events/)\\n\\n 18 hours ago\\n\\n*   \\n![Image 23: Tim Cook, chief executive officer of Apple](https://techcrunch.com/wp-content/uploads/2019/03/GettyImages-692648270.jpg?w=562)\\n\\nIn Brief \\n### [Apple to change the way it names operating systems, report says](https://techcrunch.com/2025/05/29/apple-to-change-the-way-it-names-operating-systems-report-says/)\\n\\n    *   [Dominic-Madori Davis](https://techcrunch.com/author/dominic-madori-davis/)\\n\\n 18 hours ago\\n\\n[Next](https://techcrunch.com/latest/page/2/)\\n\\n![Image 24: Event Logo](https://techcrunch.com/wp-content/uploads/2025/05/techcrunch-sessions-ai-small-logo.jpg)\\n\\nJune 5, 2025\\n\\nBerkeley, California\\n\\n<strong>Think you know AI? Prove it.<br></strong>With the countdown to TC Sessions: AI underway, it’s your chance to flex your AI knowledge—and <strong>score 2 tickets for the price of 1.</strong> Answer a few quick AI trivia questions to start your challenge.<br><br><strong>Special trivia deal ends June 4.</strong>\\n\\n[Play AI Trivia](https://techcrunch.com/events/tc-sessions-ai/ai-trivia/?promo=rightrail_aitrivia&utm_campaign=tcsessionsai2025&utm_content=aitrivia&utm_medium=ad&utm_source=tc)\\n\\nMost Popular\\n------------\\n\\n*   \\n### [Grammarly secures $1B in nondilutive funding from General Catalyst](https://techcrunch.com/2025/05/29/grammarly-secures-1b-in-non-dilutive-funding-from-general-catalyst/)\\n\\n    *   [Marina Temkin](https://techcrunch.com/author/marina-temkin/)\\n\\n*   \\n### [Top 30 startups announced for VivaTech 2025 Innovation of the Year Award](https://techcrunch.com/2025/05/29/top-30-startups-announced-for-vivatech-2025-innovation-of-the-year-award/)\\n\\n    *   [Cindy Zackney](https://techcrunch.com/author/cindy-zackney/)\\n\\n*   \\n### [Inside the AI revolution: Top insights and breakthroughs from our partners at TechCrunch Sessions: AI](https://techcrunch.com/2025/05/29/inside-the-ai-revolution-top-insights-and-breakthroughs-from-our-partners-at-techcrunch-sessions-ai/)\\n\\n    *   [Cindy Zackney](https://techcrunch.com/author/cindy-zackney/)\\n\\n*   \\n### [Hugging Face unveils two new humanoid robots](https://techcrunch.com/2025/05/29/hugging-face-unveils-two-new-humanoid-robots/)\\n\\n    *   [Rebecca Szkutak](https://techcrunch.com/author/rebecca-szkutak/)\\n\\n*   \\n### [Black Forest Labs’ Kontext AI models can edit pics as well as generate them](https://techcrunch.com/2025/05/29/black-forest-labs-kontext-ai-models-can-edit-pics-as-well-as-generate-them/)\\n\\n    *   [Kyle Wiggers](https://techcrunch.com/author/kyle-wiggers/)\\n\\n*   \\n### [Tinder tests letting users set a ‘height preference’](https://techcrunch.com/2025/05/29/tinder-tests-letting-users-set-a-height-preference/)\\n\\n    *   [Sarah Perez](https://techcrunch.com/author/sarah-perez/)\\n\\n*   \\n### [Delaware attorney general reportedly hires a bank to evaluate OpenAI’s restructuring plan](https://techcrunch.com/2025/05/29/delaware-attorney-general-reportedly-hires-a-bank-to-evaluate-openais-restructuring-plan/)\\n\\n    *   [Maxwell Zeff](https://techcrunch.com/author/maxwell-zeff/)\\n\\n[![Image 25: TechCrunch Logo](https://techcrunch.com/wp-content/themes/tc-24/dist/svg/tc-logo.svg)](https://techcrunch.com/)\\n*   [X](https://twitter.com/techcrunch)\\n*   [LinkedIn](https://www.linkedin.com/company/techcrunch)\\n*   [Facebook](https://www.facebook.com/techcrunch)\\n*   [Instagram](https://instagram.com/techcrunch)\\n*   [youTube](https://www.youtube.com/user/techcrunch)\\n*   [Mastodon](https://mstdn.social/@TechCrunch)\\n*   [Threads](https://www.threads.net/@techcrunch)\\n*   [Bluesky](https://bsky.app/profile/techcrunch.com)\\n\\n*   [TechCrunch](https://techcrunch.com/)\\n*   [Staff](https://techcrunch.com/about-techcrunch/)\\n*   [Contact Us](https://techcrunch.com/contact-us/)\\n*   [Advertise](https://techcrunch.com/advertise/)\\n*   [Crunchboard Jobs](https://www.crunchboard.com/)\\n*   [Site Map](https://techcrunch.com/site-map/)\\n\\n*   [Terms of Service](https://techcrunch.com/terms-of-service/)\\n*   [Privacy Policy](https://techcrunch.com/privacy-policy/)\\n*   [RSS Terms of Use](https://techcrunch.com/rss-terms-of-use/)\\n*   [Code of Conduct](https://techcrunch.com/code-of-conduct/)\\n\\n*   [Nvidia](https://techcrunch.com/2025/05/28/nvidia-expects-to-lose-billions-in-revenue-due-to-h20-chip-licensing-requirements/)\\n*   [DOGE](https://techcrunch.com/2025/05/28/founder-sahil-lavingia-says-he-was-booted-from-doge-after-just-55-days/)\\n*   [GameStop](https://techcrunch.com/2025/05/28/gamestop-bought-500-million-of-bitcoin/)\\n*   [Horizon3.ai](https://techcrunch.com/2025/05/28/security-startup-horizon3-ai-is-raising-100m-in-new-round/)\\n*   [DeepSeek](https://techcrunch.com/2025/05/28/deepseek-everything-you-need-to-know-about-the-ai-chatbot-app/)\\n*   [Tech Layoffs](https://techcrunch.com/2025/02/28/tech-layoffs-2024-list/)\\n*   [ChatGPT](https://techcrunch.com/2025/01/28/chatgpt-everything-to-know-about-the-ai-chatbot/)\\n\\n© 2025 TechCrunch Media LLC.\\n\\n![Image 26](https://pixel.wp.com/g.gif?v=ext&blog=136296444&post=2890446&tz=-7&srv=techcrunch.com&hp=vip&j=1%3A14.6&host=techcrunch.com&ref=&fcp=0&rand=0.3764546338144209)\\n\\nSome areas of this page may shift around if you resize the browser window. Be sure to check heading and document order.\\n\""
      ]
     },
     "execution_count": 28,
     "metadata": {},
     "output_type": "execute_result"
    }
   ],
   "source": [
    "requests.get('https://r.jina.ai/' + sources[0].url).text"
   ]
  },
  {
   "cell_type": "code",
   "execution_count": 29,
   "id": "977a34b5",
   "metadata": {},
   "outputs": [
    {
     "name": "stderr",
     "output_type": "stream",
     "text": [
      "/tmp/ipykernel_1383715/4088507877.py:19: PydanticDeprecatedSince20: The `dict` method is deprecated; use `model_dump` instead. Deprecated in Pydantic V2.0 to be removed in V3.0. See Pydantic V2 Migration Guide at https://errors.pydantic.dev/2.10/migration/\n",
      "  json.dump(save_content.dict(), f, indent=4)\n"
     ]
    },
    {
     "name": "stdout",
     "output_type": "stream",
     "text": [
      "Saved content for techcrunch at ../local_tests_data/source_raw_content/RUNID_2/techcrunch.json\n",
      "Saved content for itespresso at ../local_tests_data/source_raw_content/RUNID_2/itespresso.json\n",
      "Saved content for business_insider at ../local_tests_data/source_raw_content/RUNID_2/business_insider.json\n",
      "Saved content for cnet at ../local_tests_data/source_raw_content/RUNID_2/cnet.json\n",
      "Saved content for the_next_web at ../local_tests_data/source_raw_content/RUNID_2/the_next_web.json\n"
     ]
    }
   ],
   "source": [
    "# Use validated data to create save_content\n",
    "for source in sources:\n",
    "    source_url_raw_content = fetch_source_content(source)\n",
    "\n",
    "    save_content_data = {\n",
    "        'url': source.url,\n",
    "        'name': source.source_name.lower().replace(' ', '_'),\n",
    "        'raw_content': source_url_raw_content,\n",
    "        'crawl_time': RUN_TIME\n",
    "    }\n",
    "\n",
    "    try:\n",
    "        save_content = SaveContent(**save_content_data)\n",
    "        save_source_raw_content(save_content)\n",
    "    except ValidationError as e:\n",
    "        print(f'Validation error for save_content: {save_content_data}')\n",
    "        print(e)"
   ]
  }
 ],
 "metadata": {
  "kernelspec": {
   "display_name": "damm",
   "language": "python",
   "name": "python3"
  },
  "language_info": {
   "codemirror_mode": {
    "name": "ipython",
    "version": 3
   },
   "file_extension": ".py",
   "mimetype": "text/x-python",
   "name": "python",
   "nbconvert_exporter": "python",
   "pygments_lexer": "ipython3",
   "version": "3.12.3"
  }
 },
 "nbformat": 4,
 "nbformat_minor": 5
}
