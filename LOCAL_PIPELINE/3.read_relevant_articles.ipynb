{
 "cells": [
  {
   "cell_type": "code",
   "execution_count": 1,
   "id": "92c90057",
   "metadata": {},
   "outputs": [],
   "source": [
    "import os\n",
    "import json\n",
    "from newspaper import Article\n",
    "from time import sleep\n",
    "from datetime import datetime"
   ]
  },
  {
   "cell_type": "code",
   "execution_count": 2,
   "id": "f12e2d86",
   "metadata": {},
   "outputs": [
    {
     "name": "stdout",
     "output_type": "stream",
     "text": [
      "Run ID: RUNID_2 at 2025-06-02 15:44:07\n"
     ]
    }
   ],
   "source": [
    "def get_run_id():\n",
    "    return os.getenv('RUNID') \n",
    "\n",
    "RUNID = get_run_id()\n",
    "\n",
    "RUN_TIME = datetime.strftime(datetime.now(), '%Y-%m-%d %H:%M:%S')\n",
    "\n",
    "INPUT_DATA_PATH = f\"./local_tests_data/relevant_articles_list/{RUNID}/\"\n",
    "OUTPUT_DATA_PATH = f\"./local_tests_data/relevant_articles_content/{RUNID}/\"\n",
    "\n",
    "os.makedirs(OUTPUT_DATA_PATH, exist_ok=True)\n",
    "\n",
    "print(f\"Run ID: {RUNID} at {RUN_TIME}\")"
   ]
  },
  {
   "cell_type": "code",
   "execution_count": 3,
   "id": "dccbd906",
   "metadata": {},
   "outputs": [],
   "source": [
    "def read_relevant_articles_list():\n",
    "    relevant_articles_list = []\n",
    "    with open(f\"{INPUT_DATA_PATH}relevant_articles_list_{RUNID}.json\", 'r') as file:\n",
    "        relevant_articles_list = json.load(file)\n",
    "    return relevant_articles_list"
   ]
  },
  {
   "cell_type": "code",
   "execution_count": 4,
   "id": "d92708c5",
   "metadata": {},
   "outputs": [
    {
     "name": "stdout",
     "output_type": "stream",
     "text": [
      "[{'model': 'gpt-4o-2024-11-20', 'run_id': 'RUNID_2', 'task_name': 'relevance_check_v0', 'article_id': 'techcrunch_20250530144755886209', 'relevance': 2, 'article_language': 'en', 'source_name': 'techcrunch', 'article_title': 'Hugging Face unveils two new humanoid robots', 'article_url': 'https://techcrunch.com/2025/05/29/hugging-face-unveils-two-new-humanoid-robots/', 'article_keywords': ['Robotics'], 'crawled_at': '2025-05-30 14:47:55'}, {'model': 'gpt-4o-2024-11-20', 'run_id': 'RUNID_2', 'task_name': 'relevance_check_v0', 'article_id': 'itespresso_20250530144756051666', 'relevance': 2, 'article_language': 'es', 'source_name': 'itespresso', 'article_title': 'Apple lanzó discretamente un LLM multimodal de código abierto en octubre', 'article_url': 'https://www.itespresso.es/apple-llm-multimodal-open-source-243999.html', 'article_keywords': ['Apple', 'LLM código abierto'], 'crawled_at': '2025-05-30 14:47:55'}, {'model': 'gpt-4o-2024-11-20', 'run_id': 'RUNID_2', 'task_name': 'relevance_check_v0', 'article_id': 'itespresso_20250530144755969786', 'relevance': 2, 'article_language': 'es', 'source_name': 'itespresso', 'article_title': 'Las pymes valencianas pueden optar a ayudas de 5,5 millones de euros por proyectos de I+D', 'article_url': 'https://www.itespresso.es/pymes-valencianas-ayudas-imasd-244033.html', 'article_keywords': ['pymes', 'investigación desarrollo'], 'crawled_at': '2025-05-30 14:47:55'}, {'model': 'gpt-4o-2024-11-20', 'run_id': 'RUNID_2', 'task_name': 'relevance_check_v0', 'article_id': 'itespresso_20250530144755979997', 'relevance': 2, 'article_language': 'es', 'source_name': 'itespresso', 'article_title': 'La guerra entre Israel y Gaza no acobarda a los inversores extranjeros de startups', 'article_url': 'https://www.itespresso.es/guerra-israel-palestina-startups-244028.html', 'article_keywords': ['Israel Gaza', 'startups'], 'crawled_at': '2025-05-30 14:47:55'}, {'model': 'gpt-4o-2024-11-20', 'run_id': 'RUNID_2', 'task_name': 'relevance_check_v0', 'article_id': 'techcrunch_20250530144755865850', 'relevance': 2, 'article_language': 'en', 'source_name': 'techcrunch', 'article_title': 'Top 30 startups announced for VivaTech 2025 Innovation of the Year Award', 'article_url': 'https://techcrunch.com/2025/05/29/top-30-startups-announced-for-vivatech-2025-innovation-of-the-year-award/', 'article_keywords': ['Startups', 'Innovation'], 'crawled_at': '2025-05-30 14:47:55'}, {'model': 'gpt-4o-2024-11-20', 'run_id': 'RUNID_2', 'task_name': 'relevance_check_v0', 'article_id': 'itespresso_20250530144756072062', 'relevance': 2, 'article_language': 'es', 'source_name': 'itespresso', 'article_title': 'Applivery obtiene 1 millón de euros de inversión', 'article_url': 'https://www.itespresso.es/applivery-ronda-financiacion-243993.html', 'article_keywords': ['Applivery', 'inversión expansión'], 'crawled_at': '2025-05-30 14:47:55'}, {'model': 'gpt-4o-2024-11-20', 'run_id': 'RUNID_2', 'task_name': 'relevance_check_v0', 'article_id': 'techcrunch_20250530144755896458', 'relevance': 2, 'article_language': 'en', 'source_name': 'techcrunch', 'article_title': 'Black Forest Labs’ Kontext AI models can edit pics as well as generate them', 'article_url': 'https://techcrunch.com/2025/05/29/black-forest-labs-kontext-ai-models-can-edit-pics-as-well-as-generate-them/', 'article_keywords': ['AI', 'Image Editing'], 'crawled_at': '2025-05-30 14:47:55'}, {'model': 'gpt-4o-2024-11-20', 'run_id': 'RUNID_2', 'task_name': 'relevance_check_v0', 'article_id': 'itespresso_20250530144756092640', 'relevance': 2, 'article_language': 'es', 'source_name': 'itespresso', 'article_title': 'Por qué la menor presencia de mujeres es un problema para el sector tech español', 'article_url': 'https://www.itespresso.es/mujeres-problema-sector-tech-espanol-174855.html', 'article_keywords': ['mujeres sector tech', 'problemas representación'], 'crawled_at': '2025-05-30 14:47:55'}, {'model': 'gpt-4o-2024-11-20', 'run_id': 'RUNID_2', 'task_name': 'relevance_check_v0', 'article_id': 'itespresso_20250530144755990211', 'relevance': 2, 'article_language': 'es', 'source_name': 'itespresso', 'article_title': 'Navarra ya cuenta con más de 80 startups', 'article_url': 'https://www.itespresso.es/navarra-startups-244020.html', 'article_keywords': ['Navarra startups', 'salud agrotech'], 'crawled_at': '2025-05-30 14:47:55'}, {'model': 'gpt-4o-2024-11-20', 'run_id': 'RUNID_2', 'task_name': 'relevance_check_v0', 'article_id': 'techcrunch_20250530144755855637', 'relevance': 2, 'article_language': 'en', 'source_name': 'techcrunch', 'article_title': 'Grammarly secures $1B in nondilutive funding from General Catalyst', 'article_url': 'https://techcrunch.com/2025/05/29/grammarly-secures-1b-in-non-dilutive-funding-from-general-catalyst/', 'article_keywords': ['AI', 'Funding'], 'crawled_at': '2025-05-30 14:47:55'}, {'model': 'gpt-4o-2024-11-20', 'run_id': 'RUNID_2', 'task_name': 'relevance_check_v0', 'article_id': 'itespresso_20250530144756021065', 'relevance': 2, 'article_language': 'es', 'source_name': 'itespresso', 'article_title': '10 errores que debes evitar en tus elevator pitch', 'article_url': 'https://www.itespresso.es/errores-evitar-elevator-pitch-244012.html', 'article_keywords': ['elevator pitch', 'errores'], 'crawled_at': '2025-05-30 14:47:55'}, {'model': 'gpt-4o-2024-11-20', 'run_id': 'RUNID_2', 'task_name': 'relevance_check_v0', 'article_id': 'itespresso_20250530144756031269', 'relevance': 2, 'article_language': 'es', 'source_name': 'itespresso', 'article_title': 'Israel otorga a Intel una nueva subvención por valor de 3.200 millones de dólares', 'article_url': 'https://www.itespresso.es/israel-subvencion-intel-244008.html', 'article_keywords': ['Israel', 'Intel subvención'], 'crawled_at': '2025-05-30 14:47:55'}, {'model': 'gpt-4o-2024-11-20', 'run_id': 'RUNID_2', 'task_name': 'relevance_check_v0', 'article_id': 'the_next_web_20250530144755804588', 'relevance': 2, 'article_language': 'en', 'source_name': 'the_next_web', 'article_title': 'Opinion: Europe must warm up to geothermal before it’s too late', 'article_url': 'https://thenextweb.com/news/europe-geothermal-energy', 'article_keywords': ['Geothermal', 'Energy', 'Europe'], 'crawled_at': '2025-05-30 14:47:55'}, {'model': 'gpt-4o-2024-11-20', 'run_id': 'RUNID_2', 'task_name': 'relevance_check_v0', 'article_id': 'itespresso_20250530144756000513', 'relevance': 2, 'article_language': 'es', 'source_name': 'itespresso', 'article_title': 'Las startups valencianas progresaron adecuadamente en 2023', 'article_url': 'https://www.itespresso.es/startups-valencianas-244017.html', 'article_keywords': ['Valencia startups', 'inversión 2023'], 'crawled_at': '2025-05-30 14:47:55'}, {'model': 'gpt-4o-2024-11-20', 'run_id': 'RUNID_2', 'task_name': 'relevance_check_v0', 'article_id': 'itespresso_20250530144756010875', 'relevance': 2, 'article_language': 'es', 'source_name': 'itespresso', 'article_title': 'El New York Times acusa a Open AI y Microsoft de infringir sus derechos de autor', 'article_url': 'https://www.itespresso.es/new-york-times-demanda-open-ai-microsoft-244022.html', 'article_keywords': ['Open AI Microsoft', 'derechos autor'], 'crawled_at': '2025-05-30 14:47:55'}, {'model': 'gpt-4o-2024-11-20', 'run_id': 'RUNID_2', 'task_name': 'relevance_check_v0', 'article_id': 'techcrunch_20250530144755876042', 'relevance': 2, 'article_language': 'en', 'source_name': 'techcrunch', 'article_title': 'Inside the AI revolution: Top insights and breakthroughs from our partners at TechCrunch Sessions: AI', 'article_url': 'https://techcrunch.com/2025/05/29/inside-the-ai-revolution-top-insights-and-breakthroughs-from-our-partners-at-techcrunch-sessions-ai/', 'article_keywords': ['AI', 'Technology'], 'crawled_at': '2025-05-30 14:47:55'}, {'model': 'gpt-4o-2024-11-20', 'run_id': 'RUNID_2', 'task_name': 'relevance_check_v0', 'article_id': 'itespresso_20250530144756102949', 'relevance': 2, 'article_language': 'es', 'source_name': 'itespresso', 'article_title': 'La incipiente escena startup de Portugal y su papel en la recuperación económica', 'article_url': 'https://www.itespresso.es/portugal-startup-173661.html', 'article_keywords': ['Portugal startups', 'economía recuperación'], 'crawled_at': '2025-05-30 14:47:55'}, {'model': 'gpt-4o-2024-11-20', 'run_id': 'RUNID_2', 'task_name': 'relevance_check_v0', 'article_id': 'business_insider_20250530144756123640', 'relevance': 2, 'article_language': 'es', 'source_name': 'business_insider', 'article_title': 'El CEO de Anthropic advierte de que la IA podría eliminar la mitad de los empleos de oficina', 'article_url': 'https://www.businessinsider.es/tecnologia/ceo-anthropic-advierte-ia-podria-eliminar-mitad-empleos-oficina-1464068', 'article_keywords': ['IA', 'trabajo'], 'crawled_at': '2025-05-30 14:47:55'}, {'model': 'gpt-4o-2024-11-20', 'run_id': 'RUNID_2', 'task_name': 'relevance_check_v0', 'article_id': 'business_insider_20250530144756164949', 'relevance': 2, 'article_language': 'es', 'source_name': 'business_insider', 'article_title': 'Así están convirtiendo la ansiedad por la IA en una ventaja los equipos de contratación', 'article_url': 'https://www.businessinsider.es/tecnologia/estan-convirtiendo-ansiedad-ia-ventaja-equipos-contratacion-1459114', 'article_keywords': ['IA', 'trabajo'], 'crawled_at': '2025-05-30 14:47:55'}, {'model': 'gpt-4o-2024-11-20', 'run_id': 'RUNID_2', 'task_name': 'relevance_check_v0', 'article_id': 'business_insider_20250530144756133921', 'relevance': 2, 'article_language': 'es', 'source_name': 'business_insider', 'article_title': \"'The New York Times' permitirá a Amazon usar sus artículos para entrenar modelos de IA\", 'article_url': 'https://www.businessinsider.es/tecnologia/new-york-times-permitira-amazon-usar-articulos-entrenar-modelos-ia-1464159', 'article_keywords': ['Amazon', 'IA'], 'crawled_at': '2025-05-30 14:47:55'}, {'model': 'gpt-4o-2024-11-20', 'run_id': 'RUNID_2', 'task_name': 'relevance_check_v0', 'article_id': 'business_insider_20250530144756154666', 'relevance': 2, 'article_language': 'es', 'source_name': 'business_insider', 'article_title': 'Las 3 conclusiones de los resultados de Nvidia: China, China y China', 'article_url': 'https://www.businessinsider.es/tecnologia/3-conclusiones-resultados-nvidia-china-china-china-1464041', 'article_keywords': ['Nvidia', 'China'], 'crawled_at': '2025-05-30 14:47:55'}]\n"
     ]
    }
   ],
   "source": [
    "relevant_articles_list = read_relevant_articles_list()\n",
    "print(relevant_articles_list)"
   ]
  },
  {
   "cell_type": "code",
   "execution_count": 5,
   "id": "46023aff",
   "metadata": {},
   "outputs": [
    {
     "name": "stdout",
     "output_type": "stream",
     "text": [
      "Processing https://techcrunch.com/2025/05/29/hugging-face-unveils-two-new-humanoid-robots/\n",
      "Processing https://www.itespresso.es/apple-llm-multimodal-open-source-243999.html\n",
      "Processing https://www.itespresso.es/pymes-valencianas-ayudas-imasd-244033.html\n",
      "Processing https://www.itespresso.es/guerra-israel-palestina-startups-244028.html\n",
      "Processing https://techcrunch.com/2025/05/29/top-30-startups-announced-for-vivatech-2025-innovation-of-the-year-award/\n",
      "Processing https://www.itespresso.es/applivery-ronda-financiacion-243993.html\n",
      "Processing https://techcrunch.com/2025/05/29/black-forest-labs-kontext-ai-models-can-edit-pics-as-well-as-generate-them/\n",
      "Processing https://www.itespresso.es/mujeres-problema-sector-tech-espanol-174855.html\n",
      "Processing https://www.itespresso.es/navarra-startups-244020.html\n",
      "Processing https://techcrunch.com/2025/05/29/grammarly-secures-1b-in-non-dilutive-funding-from-general-catalyst/\n",
      "Processing https://www.itespresso.es/errores-evitar-elevator-pitch-244012.html\n",
      "Processing https://www.itespresso.es/israel-subvencion-intel-244008.html\n",
      "Processing https://thenextweb.com/news/europe-geothermal-energy\n",
      "Processing https://www.itespresso.es/startups-valencianas-244017.html\n",
      "Processing https://www.itespresso.es/new-york-times-demanda-open-ai-microsoft-244022.html\n",
      "Processing https://techcrunch.com/2025/05/29/inside-the-ai-revolution-top-insights-and-breakthroughs-from-our-partners-at-techcrunch-sessions-ai/\n",
      "Processing https://www.itespresso.es/portugal-startup-173661.html\n",
      "Processing https://www.businessinsider.es/tecnologia/ceo-anthropic-advierte-ia-podria-eliminar-mitad-empleos-oficina-1464068\n",
      "Processing https://www.businessinsider.es/tecnologia/estan-convirtiendo-ansiedad-ia-ventaja-equipos-contratacion-1459114\n",
      "Processing https://www.businessinsider.es/tecnologia/new-york-times-permitira-amazon-usar-articulos-entrenar-modelos-ia-1464159\n",
      "Processing https://www.businessinsider.es/tecnologia/3-conclusiones-resultados-nvidia-china-china-china-1464041\n"
     ]
    }
   ],
   "source": [
    "\n",
    "articles_content = []\n",
    "\n",
    "for relevant_article in relevant_articles_list:\n",
    "    url = relevant_article[\"article_url\"]\n",
    "    article_id = relevant_article[\"article_id\"]\n",
    "    # keywords = relevant_article[\"keywords\"]\n",
    "    title = relevant_article[\"article_title\"]\n",
    "    print(f\"Processing {url}\")\n",
    "    sleep(1)  # Sleep to avoid overwhelming the server\n",
    "    article = Article(url)\n",
    "    article.download()\n",
    "    article.parse()\n",
    "    content = article.text\n",
    "    publish_date = datetime.strftime(article.publish_date, \"%Y-%m-%d\") if article.publish_date else None\n",
    "    if not content:\n",
    "        print(f\"Skipping {url} due to empty content\")\n",
    "        continue\n",
    "\n",
    "    articles_content.append({'article_id' : article_id, 'content' : content, 'title': title, 'publish_date': publish_date})\n"
   ]
  },
  {
   "cell_type": "code",
   "execution_count": 6,
   "id": "f3abf6d2",
   "metadata": {},
   "outputs": [],
   "source": [
    "def save_articles_content():\n",
    "    with open(f\"{OUTPUT_DATA_PATH}relevant_articles_content_{RUNID}.json\", 'w') as file:\n",
    "        json.dump(articles_content, file, indent=4)\n",
    "    print(f\"Saved {len(articles_content)} articles content to {OUTPUT_DATA_PATH}articles_content_{RUNID}.json\")"
   ]
  },
  {
   "cell_type": "code",
   "execution_count": 7,
   "id": "051fba6a",
   "metadata": {},
   "outputs": [
    {
     "name": "stdout",
     "output_type": "stream",
     "text": [
      "Saved 21 articles content to ./local_tests_data/relevant_articles_content/RUNID_2/articles_content_RUNID_2.json\n"
     ]
    }
   ],
   "source": [
    "save_articles_content()"
   ]
  },
  {
   "cell_type": "code",
   "execution_count": null,
   "id": "a8fca4d4",
   "metadata": {},
   "outputs": [],
   "source": []
  }
 ],
 "metadata": {
  "kernelspec": {
   "display_name": "damm",
   "language": "python",
   "name": "python3"
  },
  "language_info": {
   "codemirror_mode": {
    "name": "ipython",
    "version": 3
   },
   "file_extension": ".py",
   "mimetype": "text/x-python",
   "name": "python",
   "nbconvert_exporter": "python",
   "pygments_lexer": "ipython3",
   "version": "3.12.3"
  }
 },
 "nbformat": 4,
 "nbformat_minor": 5
}
