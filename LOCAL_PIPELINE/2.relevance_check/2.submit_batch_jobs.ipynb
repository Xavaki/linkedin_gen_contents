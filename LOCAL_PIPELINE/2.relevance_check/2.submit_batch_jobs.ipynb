{
 "cells": [
  {
   "cell_type": "code",
   "execution_count": 8,
   "id": "038518b3",
   "metadata": {},
   "outputs": [],
   "source": [
    "import os\n",
    "from dotenv import load_dotenv\n",
    "from openai import AzureOpenAI\n",
    "from dotenv import load_dotenv\n",
    "from datetime import datetime"
   ]
  },
  {
   "cell_type": "code",
   "execution_count": 9,
   "id": "b34de892",
   "metadata": {},
   "outputs": [
    {
     "data": {
      "text/plain": [
       "True"
      ]
     },
     "execution_count": 9,
     "metadata": {},
     "output_type": "execute_result"
    }
   ],
   "source": [
    "load_dotenv('../.env')"
   ]
  },
  {
   "cell_type": "code",
   "execution_count": 10,
   "id": "63f97a93",
   "metadata": {},
   "outputs": [
    {
     "name": "stdout",
     "output_type": "stream",
     "text": [
      "Run ID: RUNID_2 at 2025-05-30 17:50:07\n"
     ]
    }
   ],
   "source": [
    "TASK_NAME = \"relevance_check_v0\"\n",
    "\n",
    "def get_run_id():\n",
    "    return os.getenv('RUNID')\n",
    "\n",
    "RUNID = get_run_id()\n",
    "\n",
    "INPUT_DATA_PATH = f\"../local_tests_data/azure_openai_batch_processing_files/{RUNID}/{TASK_NAME}/BATCHFILES\"\n",
    "\n",
    "RUN_TIME = datetime.strftime(datetime.now(), '%Y-%m-%d %H:%M:%S')\n",
    "\n",
    "OUTPUT_DATA_PATH = f\"../local_tests_data/azure_openai_batch_processing_files/{RUNID}/{TASK_NAME}/BATCHID\"\n",
    "\n",
    "os.makedirs(OUTPUT_DATA_PATH, exist_ok=True)\n",
    "\n",
    "print(f\"Run ID: {RUNID} at {RUN_TIME}\")"
   ]
  },
  {
   "cell_type": "code",
   "execution_count": 11,
   "id": "c43101d9",
   "metadata": {},
   "outputs": [],
   "source": [
    "AZURE_OPENAI_API_KEY=os.getenv('AZURE_OPENAI_API_KEY')\n",
    "AZURE_OPENAI_ENDPOINT=os.getenv('AZURE_OPENAI_ENDPOINT')\n",
    "client = AzureOpenAI(\n",
    "    api_version=\"2024-12-01-preview\",\n",
    "    azure_endpoint=AZURE_OPENAI_ENDPOINT,\n",
    "    api_key=AZURE_OPENAI_API_KEY\n",
    ")"
   ]
  },
  {
   "cell_type": "code",
   "execution_count": 12,
   "id": "bf3989d3",
   "metadata": {},
   "outputs": [],
   "source": [
    "def get_batchfiles():\n",
    "    batchfiles = []\n",
    "    for filename in os.listdir(INPUT_DATA_PATH):\n",
    "        if filename.endswith('.jsonl'):\n",
    "            b = {\n",
    "                'path': os.path.join(INPUT_DATA_PATH, filename),\n",
    "                'id' : filename.split('.')[0].split('_')[-1],\n",
    "            }\n",
    "            batchfiles.append(b)\n",
    "    return sorted(batchfiles)\n",
    "\n",
    "batchfiles = get_batchfiles()"
   ]
  },
  {
   "cell_type": "code",
   "execution_count": 13,
   "id": "53ec3b7c",
   "metadata": {},
   "outputs": [],
   "source": [
    "def save_batchid(i, batch_id):\n",
    "    batchid_filename = f\"{RUNID}--{TASK_NAME}_BATCHID_{i}.txt\"\n",
    "    with open(os.path.join(OUTPUT_DATA_PATH, batchid_filename), \"w\") as f:\n",
    "        f.write(batch_id)"
   ]
  },
  {
   "cell_type": "code",
   "execution_count": 14,
   "id": "00e1f9d5",
   "metadata": {},
   "outputs": [
    {
     "name": "stdout",
     "output_type": "stream",
     "text": [
      "Submitting ../local_tests_data/azure_openai_batch_processing_files/RUNID_2/relevance_check_v0/BATCHFILES/RUNID_2--relevance_check_v0_BATCHFILE_0.jsonl\n",
      "{\n",
      "  \"id\": \"file-3b10b5d91762403bbca252db1c4779c3\",\n",
      "  \"bytes\": 44298,\n",
      "  \"created_at\": 1748620209,\n",
      "  \"filename\": \"RUNID_2--relevance_check_v0_BATCHFILE_0.jsonl\",\n",
      "  \"object\": \"file\",\n",
      "  \"purpose\": \"batch\",\n",
      "  \"status\": \"processed\",\n",
      "  \"expires_at\": null,\n",
      "  \"status_details\": null\n",
      "}\n",
      "{\n",
      "  \"id\": \"batch_83596626-284c-4d57-a65b-ea6fd8063094\",\n",
      "  \"completion_window\": \"24h\",\n",
      "  \"created_at\": 1748620213,\n",
      "  \"endpoint\": \"/chat/completions\",\n",
      "  \"input_file_id\": \"file-3b10b5d91762403bbca252db1c4779c3\",\n",
      "  \"object\": \"batch\",\n",
      "  \"status\": \"validating\",\n",
      "  \"cancelled_at\": null,\n",
      "  \"cancelling_at\": null,\n",
      "  \"completed_at\": null,\n",
      "  \"error_file_id\": \"\",\n",
      "  \"errors\": null,\n",
      "  \"expired_at\": null,\n",
      "  \"expires_at\": 1748706610,\n",
      "  \"failed_at\": null,\n",
      "  \"finalizing_at\": null,\n",
      "  \"in_progress_at\": null,\n",
      "  \"metadata\": null,\n",
      "  \"output_file_id\": \"\",\n",
      "  \"request_counts\": {\n",
      "    \"completed\": 0,\n",
      "    \"failed\": 0,\n",
      "    \"total\": 0\n",
      "  }\n",
      "}\n",
      "Batch ID for file 0: batch_83596626-284c-4d57-a65b-ea6fd8063094\n",
      "Batch job submitted successfully.\n",
      "  \n"
     ]
    }
   ],
   "source": [
    "\n",
    "for bathcfile in batchfiles:\n",
    "\n",
    "  i = bathcfile['id']\n",
    "  path = bathcfile['path']\n",
    "\n",
    "  print(\"Submitting {}\".format(path))\n",
    "\n",
    "  file = client.files.create(\n",
    "    file=open(path, \"rb\"),\n",
    "    purpose=\"batch\"\n",
    "  )\n",
    "\n",
    "  print(file.model_dump_json(indent=2))\n",
    "  file_id = file.id\n",
    "\n",
    "  # Submit a batch job with the file\n",
    "  batch_response = client.batches.create(\n",
    "      input_file_id=file_id,\n",
    "      endpoint=\"/chat/completions\",\n",
    "      completion_window=\"24h\",\n",
    "  )\n",
    "\n",
    "  # Save batch ID for later use\n",
    "  batch_id = batch_response.id\n",
    "\n",
    "  print(batch_response.model_dump_json(indent=2)) \n",
    "\n",
    "  save_batchid(i, batch_id)\n",
    "  print(f\"Batch ID for file {i}: {batch_id}\")\n",
    "  print(\"Batch job submitted successfully.\")\n",
    "  print(\"  \")"
   ]
  },
  {
   "cell_type": "code",
   "execution_count": null,
   "id": "32668c97",
   "metadata": {},
   "outputs": [],
   "source": []
  }
 ],
 "metadata": {
  "kernelspec": {
   "display_name": "damm",
   "language": "python",
   "name": "python3"
  },
  "language_info": {
   "codemirror_mode": {
    "name": "ipython",
    "version": 3
   },
   "file_extension": ".py",
   "mimetype": "text/x-python",
   "name": "python",
   "nbconvert_exporter": "python",
   "pygments_lexer": "ipython3",
   "version": "3.12.3"
  }
 },
 "nbformat": 4,
 "nbformat_minor": 5
}
