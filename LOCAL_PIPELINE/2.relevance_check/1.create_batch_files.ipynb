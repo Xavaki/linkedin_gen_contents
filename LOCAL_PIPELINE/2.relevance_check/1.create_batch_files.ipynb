{
 "cells": [
  {
   "cell_type": "code",
   "execution_count": 3,
   "id": "239f6634",
   "metadata": {},
   "outputs": [],
   "source": [
    "import json\n",
    "from math import ceil\n",
    "from datetime import datetime\n",
    "import os\n",
    "\n",
    "from dotenv import load_dotenv\n",
    "from azure.storage.blob import BlobServiceClient\n"
   ]
  },
  {
   "cell_type": "code",
   "execution_count": 4,
   "id": "d1af4a24",
   "metadata": {},
   "outputs": [
    {
     "data": {
      "text/plain": [
       "True"
      ]
     },
     "execution_count": 4,
     "metadata": {},
     "output_type": "execute_result"
    }
   ],
   "source": [
    "load_dotenv('../.env')"
   ]
  },
  {
   "cell_type": "code",
   "execution_count": null,
   "id": "ca5f792f",
   "metadata": {},
   "outputs": [
    {
     "name": "stdout",
     "output_type": "stream",
     "text": [
      "Run ID: DEVRUN at 2025-06-23 12:31:37\n"
     ]
    }
   ],
   "source": [
    "TASK_NAME = \"relevance_check_multi_persona_v0\"\n",
    "DEPLOYMENT_NAME = \"gpt-4o--batch-2\"\n",
    "\n",
    "def get_run_id():\n",
    "    return os.getenv('RUNID')\n",
    "\n",
    "RUNID = \"DEVRUN\" \n",
    "\n",
    "INPUT_DATA_PATH = f\"./local_tests_data/raw_articles_list/{RUNID}/raw_articles_list_{RUNID}.json\"\n",
    "RUN_TIME = datetime.strftime(datetime.now(), '%Y-%m-%d %H:%M:%S')\n",
    "\n",
    "OUTPUT_DATA_PATH = f\"./local_tests_data/azure_openai_batch_processing_files/{RUNID}/{TASK_NAME}/BATCHFILES/\"\n",
    "\n",
    "os.makedirs(OUTPUT_DATA_PATH, exist_ok=True)\n",
    "\n",
    "print(f\"Run ID: {RUNID} at {RUN_TIME}\")"
   ]
  },
  {
   "cell_type": "code",
   "execution_count": 6,
   "id": "b88db4de",
   "metadata": {},
   "outputs": [
    {
     "name": "stdout",
     "output_type": "stream",
     "text": [
      "Read 445 articles from DDG container\n"
     ]
    }
   ],
   "source": [
    "blob_service_client = BlobServiceClient.from_connection_string(os.getenv('STORAGE_ACCOUNT_CONNECTION_STRING'))\n",
    "def read_raw_articles_ddgs():\n",
    "    input_container_name = 'raw-articles-list-ddgs'\n",
    "    input_container = blob_service_client.get_container_client(input_container_name)\n",
    "    input_blob_name = f\"{RUNID}--{input_container_name.replace(\"-\", \"_\")}.json\"\n",
    "    input_blob_client = input_container.get_blob_client(input_blob_name)\n",
    "    raw_articles_ddgs = input_blob_client.download_blob().readall()\n",
    "    raw_articles_ddgs = json.loads(raw_articles_ddgs)\n",
    "    print(f\"Read {len(raw_articles_ddgs)} articles from DDG container\")\n",
    "    return raw_articles_ddgs\n",
    "\n",
    "raw_articles_ddgs = read_raw_articles_ddgs()"
   ]
  },
  {
   "cell_type": "code",
   "execution_count": 7,
   "id": "3117471e",
   "metadata": {},
   "outputs": [
    {
     "name": "stdout",
     "output_type": "stream",
     "text": [
      "Read 50 articles from jina container\n"
     ]
    }
   ],
   "source": [
    "def read_raw_articles_jina():\n",
    "    input_container_name = 'raw-articles-list'\n",
    "    input_container = blob_service_client.get_container_client(input_container_name)\n",
    "    input_blob_name = f\"RUNID_9--{input_container_name.replace(\"-\", \"_\")}.json\"\n",
    "    input_blob_client = input_container.get_blob_client(input_blob_name)\n",
    "    raw_articles_jina = input_blob_client.download_blob().readall()\n",
    "    raw_articles_jina = json.loads(raw_articles_jina)\n",
    "    print(f\"Read {len(raw_articles_jina)} articles from jina container\")\n",
    "    return raw_articles_jina\n",
    "\n",
    "raw_articles_jina = read_raw_articles_jina()"
   ]
  },
  {
   "cell_type": "code",
   "execution_count": 8,
   "id": "f2ac5360",
   "metadata": {},
   "outputs": [
    {
     "data": {
      "text/plain": [
       "{'run_id': 'DEVRUN',\n",
       " 'source_name': 'campeche_hoy',\n",
       " 'source_url': 'http://campechehoy.mx',\n",
       " 'article_id': 'campeche_hoy_17506663546176462',\n",
       " 'article_date': '2025-06-17T18:02:00+00:00',\n",
       " 'article_title': 'Celebran la llegada de Claudia',\n",
       " 'article_url': 'http://campechehoy.mx/2025/06/17/celebran-la-llegada-de-claudia/',\n",
       " 'article_body': 'CDMX - Con pancartas, banderas y gritos de apoyo, la comunidad mexicana en Canadá dio una cálida bienvenida a la presidenta Claudia Sheinbaum a su llegada a Kananaskis, donde participará en la Cumbre',\n",
       " 'article_image_url': 'http://campechehoy.mx/wp-content/uploads/2025/06/WhatsApp-Image-2025-06-16-at-5.48.37-PM.jpeg',\n",
       " 'article_language': 'es',\n",
       " 'crawled_at': '2025-06-23T10:12:34.618966',\n",
       " 'ddgs_search_query': ['liderazgo empresarial'],\n",
       " 'query_original_personas': ['Jorge Villavecchia']}"
      ]
     },
     "execution_count": 8,
     "metadata": {},
     "output_type": "execute_result"
    }
   ],
   "source": [
    "raw_articles_ddgs[0]"
   ]
  },
  {
   "cell_type": "code",
   "execution_count": 9,
   "id": "cc85748b",
   "metadata": {},
   "outputs": [
    {
     "data": {
      "text/plain": [
       "{'model': 'gpt-4o-2024-11-20',\n",
       " 'run_id': 'RUNID_9',\n",
       " 'task_name': 'source_parsing_v0',\n",
       " 'source_name': 'the_verge',\n",
       " 'article_id': 'the_verge_20250616113906015934',\n",
       " 'article_title': 'Switch, Xbox, and the portable future of games',\n",
       " 'article_url': 'https://www.theverge.com/tech#switch-xbox-and-handheld-consoles',\n",
       " 'article_keywords': ['Games', 'Portable', 'Consoles'],\n",
       " 'article_language': 'en',\n",
       " 'crawled_at': '2025-06-16 11:39:05'}"
      ]
     },
     "execution_count": 9,
     "metadata": {},
     "output_type": "execute_result"
    }
   ],
   "source": [
    "raw_articles_jina[1]"
   ]
  },
  {
   "cell_type": "code",
   "execution_count": 10,
   "id": "ecb4c107",
   "metadata": {},
   "outputs": [],
   "source": [
    "raw_articles_list = []\n",
    "for article in raw_articles_ddgs:\n",
    "    raw_articles_list.append({\n",
    "        \"article_id\": article['article_id'],\n",
    "        \"article_title\": article['article_title'],\n",
    "        \"article_url\": article['article_url'],\n",
    "        \"article_info\": article['article_body']\n",
    "    })\n",
    "for article in raw_articles_jina:\n",
    "    raw_articles_list.append({\n",
    "        \"article_id\": article['article_id'],\n",
    "        \"article_title\": article['article_title'],\n",
    "        \"article_url\": article['article_url'],\n",
    "        \"article_info\": \"keywords: \" + \", \".join(article['article_keywords']) + \"\\n\"\n",
    "    })"
   ]
  },
  {
   "cell_type": "code",
   "execution_count": 11,
   "id": "eb72b69b",
   "metadata": {},
   "outputs": [
    {
     "name": "stdout",
     "output_type": "stream",
     "text": [
      "Number of articles to process: 495\n"
     ]
    }
   ],
   "source": [
    "n_to_process = len(raw_articles_list)\n",
    "print(f\"Number of articles to process: {n_to_process}\")"
   ]
  },
  {
   "cell_type": "code",
   "execution_count": 12,
   "id": "8adf9b48",
   "metadata": {},
   "outputs": [
    {
     "name": "stdout",
     "output_type": "stream",
     "text": [
      "Creating 3 batch files\n"
     ]
    }
   ],
   "source": [
    "prompts_per_batch_job = 200\n",
    "n_batch_jobs = ceil(n_to_process/prompts_per_batch_job)\n",
    "print(\"Creating {} batch files\".format(n_batch_jobs))"
   ]
  },
  {
   "cell_type": "code",
   "execution_count": null,
   "id": "989b8e8d",
   "metadata": {},
   "outputs": [],
   "source": [
    "system_prompt = \"\"\"\n",
    "You are an assistant trained to evaluate the relevance of news articles for a group of high-level executives at the Spanish brewery Damm. Based on each executive's professional focus, assess how relevant the article would be for them to comment on, share, or use in professional thought leadership (e.g., LinkedIn posts).\n",
    "\n",
    "Each executive has a specific domain of interest. For the article below, assign a relevance score for each executive based on how well the topic aligns with their area of leadership and communication.\n",
    "\n",
    "Use the following scale:\n",
    "- 0 = Not relevant (the article has no clear connection to the executive’s domain)\n",
    "- 1 = Somewhat relevant (it loosely touches on their area or could be of tangential interest)\n",
    "- 2 = Highly relevant (it directly supports or connects to their role, values, or communication focus)\n",
    "\n",
    "Use this executive reference:\n",
    "\n",
    "- **LAURA GIL** (Chief Digital & Data Officer): Focused on data strategy, AI, digital transformation, and innovation. Interested in tech adoption in traditional industries.\n",
    "- **FEDE SEGARRA** (Chief Communications Officer): Focused on brand communication, reputation, storytelling, and public image.\n",
    "- **ELÍSABETH HERNÁNDEZ** (HR Development Director): Focused on talent development, CSR, internal communication, and cross-functional collaboration.\n",
    "- **JAUME ALEMANY** (Chief Marketing Officer): Focused on marketing innovation, branding, consumer trends, and maintaining brand heritage.\n",
    "- **RICARDO LECHUGA** (HR Director): Focused on organizational culture, employee engagement, leadership proximity, and digital HR transformation.\n",
    "- **JORGE VILLAVECCHIA** (President): Focused on corporate strategy, sustainability, growth, innovation, and long-term vision.\n",
    "- **SALVADOR MARTÍNEZ** (Chief Financial Officer): Focused on financial strategy, sustainable finance, decision-making support, and ethical value creation.\n",
    "- **JOFRE RIERA** (Sponsorships Manager): Focused on sports and cultural sponsorships, community engagement, and value-based partnerships.\n",
    "\n",
    "Return your result as a JSON object of the form:\n",
    "{\"LAURA GIL\": 2, \"FEDE SEGARRA\": 0, ...}\n",
    "\n",
    "Here is the article to evaluate:\n",
    "\"\"\""
   ]
  },
  {
   "cell_type": "code",
   "execution_count": null,
   "id": "4d894566",
   "metadata": {},
   "outputs": [],
   "source": [
    "def format_task_jsonl_line(task_id, deployment_name, user_input):\n",
    "    jsonl_line_template = {\n",
    "        \"custom_id\": task_id,\n",
    "        \"method\": \"POST\",\n",
    "        \"url\": \"/chat/completions\",\n",
    "        \"body\": {\n",
    "            \"model\": deployment_name,\n",
    "            \"messages\": [\n",
    "                {\n",
    "                    \"role\": \"system\",\n",
    "                    \"content\": system_prompt.replace(\"\\n\", \"\\\\n\")\n",
    "                },\n",
    "                {\n",
    "                    \"role\": \"user\",\n",
    "                    \"content\": user_input.replace(\"\\n\", \"\\\\n\")\n",
    "                }\n",
    "            ],\n",
    "            \"response_format\": {\n",
    "            \"type\": \"json_schema\",\n",
    "            \"json_schema\": {\n",
    "                \"name\": \"ArticleRelevanceCheck\",\n",
    "                \"strict\": True,\n",
    "                \"schema\": {\n",
    "                    \"type\": \"object\",\n",
    "                    \"properties\": {\n",
    "                        \"LAURA GIL\": {\n",
    "                            \"type\": \"integer\",\n",
    "                            \"description\": \"Article relevance score for executive LAURA GIL\",\n",
    "                            \"enum\": [0, 1, 2]\n",
    "                        },\n",
    "                        \"FEDE SEGARRA\": {\n",
    "                            \"type\": \"integer\",\n",
    "                            \"description\": \"Article relevance score for executive FEDE SEGARRA\",\n",
    "                            \"enum\": [0, 1, 2]\n",
    "                        },\n",
    "                        \"ELÍSABETH HERNÁNDEZ\": {\n",
    "                            \"type\": \"integer\",\n",
    "                            \"description\": \"Article relevance score for executive ELÍSABETH HERNÁNDEZ\",\n",
    "                            \"enum\": [0, 1, 2]\n",
    "                        },\n",
    "                        \"JAUME ALEMANY\": {\n",
    "                            \"type\": \"integer\",\n",
    "                            \"description\": \"Article relevance score for executive JAUME ALEMANY\",\n",
    "                            \"enum\": [0, 1, 2]\n",
    "                        },\n",
    "                        \"RICARDO LECHUGA\": {\n",
    "                            \"type\": \"integer\",\n",
    "                            \"description\": \"Article relevance score for executive RICARDO LECHUGA\",\n",
    "                            \"enum\": [0, 1, 2]\n",
    "                        },\n",
    "                        \"JORGE VILLAVECCHIA\": {\n",
    "                            \"type\": \"integer\",\n",
    "                            \"description\": \"Article relevance score for executive JORGE VILLAVECCHIA\",\n",
    "                            \"enum\": [0, 1, 2]\n",
    "                        },\n",
    "                        \"SALVADOR MARTÍNEZ\": {\n",
    "                            \"type\": \"integer\",\n",
    "                            \"description\": \"Article relevance score for executive SALVADOR MARTÍNEZ\",\n",
    "                            \"enum\": [0, 1, 2]\n",
    "                        },\n",
    "                        \"JOFRE RIERA\": {\n",
    "                            \"type\": \"integer\",\n",
    "                            \"description\": \"Article relevance score for executive JOFRE RIERA\",     \n",
    "                            \"enum\": [0, 1, 2]\n",
    "                        },\n",
    "                        \"article_language\": {\n",
    "                            \"type\": \"string\",\n",
    "                            \"enum\": [\"es\", \"ca\", \"en\"],\n",
    "                        } \n",
    "                    },\n",
    "                    \"required\": [\n",
    "                        \"LAURA GIL\",\n",
    "                        \"FEDE SEGARRA\",\n",
    "                        \"ELÍSABETH HERNÁNDEZ\",\n",
    "                        \"JAUME ALEMANY\",\n",
    "                        \"RICARDO LECHUGA\",\n",
    "                        \"JORGE VILLAVECCHIA\",\n",
    "                        \"SALVADOR MARTÍNEZ\",\n",
    "                        \"JOFRE RIERA\",  \n",
    "                        \"article_language\"\n",
    "                    ],\n",
    "                    \"additionalProperties\": False\n",
    "                }\n",
    "            }\n",
    "        }\n",
    "\n",
    "        }\n",
    "    }\n",
    "    return jsonl_line_template"
   ]
  },
  {
   "cell_type": "code",
   "execution_count": 15,
   "id": "aafbcf4c",
   "metadata": {},
   "outputs": [],
   "source": [
    "def generate_jsonl_lines(chunk_id, chunk_raw_articles):\n",
    "    for j,article_info in enumerate(chunk_raw_articles):\n",
    "        article_id = article_info['article_id']\n",
    "        task_id = f\"{RUNID}--{TASK_NAME}--{article_id}\"\n",
    "        deployment_name = DEPLOYMENT_NAME\n",
    "        yield json.dumps(format_task_jsonl_line(task_id=task_id, deployment_name=deployment_name, user_input=json.dumps(article_info))) + \"\\n\"\n",
    "    "
   ]
  },
  {
   "cell_type": "code",
   "execution_count": 16,
   "id": "18ea39ec",
   "metadata": {},
   "outputs": [
    {
     "name": "stdout",
     "output_type": "stream",
     "text": [
      "0\n",
      "Batch file DEVRUN--relevance_check_multi_persona_v0_BATCHFILE_0.jsonl created with 200 articles.\n",
      "1\n",
      "Batch file DEVRUN--relevance_check_multi_persona_v0_BATCHFILE_1.jsonl created with 200 articles.\n",
      "2\n",
      "Batch file DEVRUN--relevance_check_multi_persona_v0_BATCHFILE_2.jsonl created with 95 articles.\n"
     ]
    }
   ],
   "source": [
    "for i in range(n_batch_jobs):\n",
    "    print(i)\n",
    "    chunk = raw_articles_list[i*prompts_per_batch_job:min(n_to_process, (i+1)*prompts_per_batch_job)]\n",
    "    batchfilename = f\"{RUNID}--{TASK_NAME}_BATCHFILE_{i}.jsonl\"\n",
    "\n",
    "    with open(OUTPUT_DATA_PATH + batchfilename, \"w\") as f:\n",
    "        for line in generate_jsonl_lines(chunk_id=i, chunk_raw_articles=chunk):\n",
    "            f.write(line)\n",
    "        print(f\"Batch file {batchfilename} created with {len(chunk)} articles.\")"
   ]
  },
  {
   "cell_type": "code",
   "execution_count": null,
   "id": "3a507bc8",
   "metadata": {},
   "outputs": [],
   "source": []
  }
 ],
 "metadata": {
  "kernelspec": {
   "display_name": "damm",
   "language": "python",
   "name": "python3"
  },
  "language_info": {
   "codemirror_mode": {
    "name": "ipython",
    "version": 3
   },
   "file_extension": ".py",
   "mimetype": "text/x-python",
   "name": "python",
   "nbconvert_exporter": "python",
   "pygments_lexer": "ipython3",
   "version": "3.12.3"
  }
 },
 "nbformat": 4,
 "nbformat_minor": 5
}
