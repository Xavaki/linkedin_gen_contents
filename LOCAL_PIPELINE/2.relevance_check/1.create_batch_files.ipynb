{
 "cells": [
  {
   "cell_type": "code",
   "execution_count": null,
   "id": "239f6634",
   "metadata": {},
   "outputs": [],
   "source": [
    "import json\n",
    "import re\n",
    "import unicodedata\n",
    "from math import ceil\n",
    "from datetime import datetime\n",
    "import os\n",
    "\n",
    "from dotenv import load_dotenv\n",
    "from pydantic import BaseModel, ValidationError"
   ]
  },
  {
   "cell_type": "code",
   "execution_count": 2,
   "id": "d1af4a24",
   "metadata": {},
   "outputs": [
    {
     "data": {
      "text/plain": [
       "True"
      ]
     },
     "execution_count": 2,
     "metadata": {},
     "output_type": "execute_result"
    }
   ],
   "source": [
    "load_dotenv('../.env')"
   ]
  },
  {
   "cell_type": "code",
   "execution_count": 3,
   "id": "ca5f792f",
   "metadata": {},
   "outputs": [
    {
     "name": "stdout",
     "output_type": "stream",
     "text": [
      "Run ID: RUNID_2 at 2025-05-30 15:10:38\n"
     ]
    }
   ],
   "source": [
    "TASK_NAME = \"relevance_check_v0\"\n",
    "DEPLOYMENT_NAME = \"gpt-4o--batch-2\"\n",
    "\n",
    "def get_run_id():\n",
    "    return os.getenv('RUNID')\n",
    "\n",
    "RUNID = get_run_id()\n",
    "\n",
    "INPUT_DATA_PATH = f\"../local_tests_data/raw_articles_list/{RUNID}/raw_articles_list_{RUNID}.json\"\n",
    "RUN_TIME = datetime.strftime(datetime.now(), '%Y-%m-%d %H:%M:%S')\n",
    "\n",
    "OUTPUT_DATA_PATH = f\"../local_tests_data/azure_openai_batch_processing_files/{RUNID}/{TASK_NAME}/BATCHFILES/\"\n",
    "\n",
    "os.makedirs(OUTPUT_DATA_PATH, exist_ok=True)\n",
    "\n",
    "print(f\"Run ID: {RUNID} at {RUN_TIME}\")"
   ]
  },
  {
   "cell_type": "code",
   "execution_count": 4,
   "id": "b88db4de",
   "metadata": {},
   "outputs": [],
   "source": [
    "class RawArticle(BaseModel):\n",
    "    model: str\n",
    "    run_id: str\n",
    "    task_name: str\n",
    "    source_name: str\n",
    "    article_id: str\n",
    "    article_title: str\n",
    "    article_url: str\n",
    "    article_keywords: list[str]\n",
    "    article_language: str\n",
    "    crawled_at: str\n",
    "\n",
    "def get_raw_articles_list() -> list[RawArticle]:\n",
    "    with open(INPUT_DATA_PATH, 'r') as file:\n",
    "        raw_articles_list = json.load(file)\n",
    "    return [RawArticle(**a) for a in raw_articles_list]\n"
   ]
  },
  {
   "cell_type": "code",
   "execution_count": 5,
   "id": "eb72b69b",
   "metadata": {},
   "outputs": [
    {
     "name": "stdout",
     "output_type": "stream",
     "text": [
      "model='gpt-4o-2024-11-20' run_id='RUNID_2' task_name='source_parsing_v0' source_name='the_next_web' article_id='the_next_web_20250530144755804588' article_title='Opinion: Europe must warm up to geothermal before it’s too late' article_url='https://thenextweb.com/news/europe-geothermal-energy' article_keywords=['Geothermal', 'Energy', 'Europe'] article_language='en' crawled_at='2025-05-30 14:47:55'\n",
      "Number of articles to process: 27\n"
     ]
    }
   ],
   "source": [
    "raw_articles_list = get_raw_articles_list()\n",
    "print(raw_articles_list[0])\n",
    "n_to_process = len(raw_articles_list)\n",
    "print(f\"Number of articles to process: {n_to_process}\")"
   ]
  },
  {
   "cell_type": "code",
   "execution_count": 6,
   "id": "8adf9b48",
   "metadata": {},
   "outputs": [
    {
     "name": "stdout",
     "output_type": "stream",
     "text": [
      "Creating 1 batch files\n"
     ]
    }
   ],
   "source": [
    "prompts_per_batch_job = 200\n",
    "n_batch_jobs = ceil(n_to_process/prompts_per_batch_job)\n",
    "print(\"Creating {} batch files\".format(n_batch_jobs))"
   ]
  },
  {
   "cell_type": "code",
   "execution_count": 7,
   "id": "989b8e8d",
   "metadata": {},
   "outputs": [],
   "source": [
    "system_prompt = \"\"\"\n",
    "You are a smart content curator for a LinkedIn thought leader. Given a news article, decide if it is highly relevant based on the following criteria:\n",
    "    - It aligns with topics like: Artificial Intelligence, Leadership, Remote Work, Digital Transformation, Sustainability, Emerging Tech, Industry Trends, Organizational Culture, DEI, Future of Work, Cybersecurity, Productivity, Startups, Market Trends, or Personal Branding.\n",
    "    - It provides useful insight, a new perspective, or credible data.\n",
    "    - It is suitable for a professional audience.\n",
    "\n",
    "You must adhere to the provided criteria and schema.\n",
    "\"\"\""
   ]
  },
  {
   "cell_type": "code",
   "execution_count": 8,
   "id": "4d894566",
   "metadata": {},
   "outputs": [],
   "source": [
    "def format_task_jsonl_line(task_id, deployment_name, user_input):\n",
    "    jsonl_line_template = {\n",
    "        \"custom_id\": task_id,\n",
    "        \"method\": \"POST\",\n",
    "        \"url\": \"/chat/completions\",\n",
    "        \"body\": {\n",
    "            \"model\": deployment_name,\n",
    "            \"messages\": [\n",
    "                {\n",
    "                    \"role\": \"system\",\n",
    "                    \"content\": system_prompt.replace(\"\\n\", \"\\\\n\")\n",
    "                },\n",
    "                {\n",
    "                    \"role\": \"user\",\n",
    "                    \"content\": user_input.replace(\"\\n\", \"\\\\n\")\n",
    "                }\n",
    "            ],\n",
    "            \"response_format\": {\n",
    "            \"type\": \"json_schema\",\n",
    "            \"json_schema\": {\n",
    "                \"name\": \"ArticleRelevanceCheck\",\n",
    "                \"strict\": True,\n",
    "                \"schema\": {\n",
    "                    \"type\": \"object\",\n",
    "                    \"properties\": {\n",
    "                        \"relevance\": {\n",
    "                            \"type\": \"integer\",\n",
    "                            \"description\": \"Relevance score for the article, between 0 and 2, where 0 means not relevant, 1 means somewhat relevant, and 2 means highly relevant.\",\n",
    "                            \"enum\": [0, 1, 2]\n",
    "                        },\n",
    "                        \"article_language\": {\n",
    "                            \"type\": \"string\",\n",
    "                        } \n",
    "                    },\n",
    "                    \"required\": [\n",
    "                        \"relevance\",\n",
    "                        \"article_language\"\n",
    "                    ],\n",
    "                    \"additionalProperties\": False\n",
    "                }\n",
    "            }\n",
    "        }\n",
    "\n",
    "        }\n",
    "    }\n",
    "    return jsonl_line_template"
   ]
  },
  {
   "cell_type": "code",
   "execution_count": 9,
   "id": "aafbcf4c",
   "metadata": {},
   "outputs": [],
   "source": [
    "def generate_jsonl_lines(chunk_id, chunk_raw_articles):\n",
    "    for j,article_info in enumerate(chunk_raw_articles):\n",
    "        article_id = article_info.article_id\n",
    "        task_id = f\"{RUNID}--{TASK_NAME}--{article_id}\"\n",
    "        deployment_name = DEPLOYMENT_NAME\n",
    "        a = {\n",
    "            \"article_title\" : article_info.article_title,\n",
    "            \"article_url\" : article_info.article_url,\n",
    "            \"article_keywords\" : article_info.article_keywords,\n",
    "            \"article_language\" : article_info.article_language,\n",
    "        }\n",
    "        yield json.dumps(format_task_jsonl_line(task_id=task_id, deployment_name=deployment_name, user_input=json.dumps(a))) + \"\\n\"\n",
    "    "
   ]
  },
  {
   "cell_type": "code",
   "execution_count": 10,
   "id": "18ea39ec",
   "metadata": {},
   "outputs": [
    {
     "name": "stdout",
     "output_type": "stream",
     "text": [
      "0\n",
      "Batch file RUNID_2--relevance_check_v0_BATCHFILE_0.jsonl created with 27 articles.\n"
     ]
    }
   ],
   "source": [
    "for i in range(n_batch_jobs):\n",
    "    print(i)\n",
    "    chunk = raw_articles_list[i*prompts_per_batch_job:min(n_to_process, (i+1)*prompts_per_batch_job)]\n",
    "    batchfilename = f\"{RUNID}--{TASK_NAME}_BATCHFILE_{i}.jsonl\"\n",
    "\n",
    "    with open(OUTPUT_DATA_PATH + batchfilename, \"w\") as f:\n",
    "        for line in generate_jsonl_lines(chunk_id=i, chunk_raw_articles=chunk):\n",
    "            f.write(line)\n",
    "        print(f\"Batch file {batchfilename} created with {len(chunk)} articles.\")"
   ]
  },
  {
   "cell_type": "code",
   "execution_count": null,
   "id": "3a507bc8",
   "metadata": {},
   "outputs": [],
   "source": []
  }
 ],
 "metadata": {
  "kernelspec": {
   "display_name": "damm",
   "language": "python",
   "name": "python3"
  },
  "language_info": {
   "codemirror_mode": {
    "name": "ipython",
    "version": 3
   },
   "file_extension": ".py",
   "mimetype": "text/x-python",
   "name": "python",
   "nbconvert_exporter": "python",
   "pygments_lexer": "ipython3",
   "version": "3.12.3"
  }
 },
 "nbformat": 4,
 "nbformat_minor": 5
}
