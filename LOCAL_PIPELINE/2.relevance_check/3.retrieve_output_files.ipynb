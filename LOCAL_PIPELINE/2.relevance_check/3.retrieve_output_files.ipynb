{
 "cells": [
  {
   "cell_type": "code",
   "execution_count": 1,
   "id": "89e236fe",
   "metadata": {},
   "outputs": [],
   "source": [
    "import json\n",
    "from openai import AzureOpenAI\n",
    "import pandas as pd\n",
    "from dotenv import load_dotenv\n",
    "from datetime import datetime\n",
    "import os"
   ]
  },
  {
   "cell_type": "code",
   "execution_count": 2,
   "id": "ca2621c3",
   "metadata": {},
   "outputs": [
    {
     "data": {
      "text/plain": [
       "True"
      ]
     },
     "execution_count": 2,
     "metadata": {},
     "output_type": "execute_result"
    }
   ],
   "source": [
    "load_dotenv('../.env')"
   ]
  },
  {
   "cell_type": "code",
   "execution_count": 3,
   "id": "c5be6630",
   "metadata": {},
   "outputs": [
    {
     "name": "stdout",
     "output_type": "stream",
     "text": [
      "Run ID: RUNID_2 at 2025-06-02 15:42:43\n"
     ]
    }
   ],
   "source": [
    "TASK_NAME = \"relevance_check_v0\"\n",
    "\n",
    "def get_run_id():\n",
    "    return os.getenv('RUNID')\n",
    "\n",
    "RUNID = get_run_id()\n",
    "\n",
    "INPUT_DATA_PATH = f\"../local_tests_data/azure_openai_batch_processing_files/{RUNID}/{TASK_NAME}/BATCHID\"\n",
    "\n",
    "RUN_TIME = datetime.strftime(datetime.now(), '%Y-%m-%d %H:%M:%S')\n",
    "\n",
    "OUTPUT_DATA_PATH = f\"../local_tests_data/azure_openai_batch_processing_files/{RUNID}/{TASK_NAME}/OUTPUTS\"\n",
    "ERROR_DATA_PATH = f\"../local_tests_data/azure_openai_batch_processing_files/{RUNID}/{TASK_NAME}/ERRORS\"\n",
    "\n",
    "os.makedirs(OUTPUT_DATA_PATH, exist_ok=True)\n",
    "os.makedirs(ERROR_DATA_PATH, exist_ok=True)\n",
    "\n",
    "print(f\"Run ID: {RUNID} at {RUN_TIME}\")"
   ]
  },
  {
   "cell_type": "code",
   "execution_count": 4,
   "id": "8867b638",
   "metadata": {},
   "outputs": [],
   "source": [
    "AZURE_OPENAI_API_KEY=os.getenv('AZURE_OPENAI_API_KEY')\n",
    "AZURE_OPENAI_ENDPOINT=os.getenv('AZURE_OPENAI_ENDPOINT')\n",
    "client = AzureOpenAI(\n",
    "    api_version=\"2024-12-01-preview\",\n",
    "    azure_endpoint=AZURE_OPENAI_ENDPOINT,\n",
    "    api_key=AZURE_OPENAI_API_KEY\n",
    ")"
   ]
  },
  {
   "cell_type": "markdown",
   "id": "07de3431",
   "metadata": {},
   "source": [
    "Download output files"
   ]
  },
  {
   "cell_type": "code",
   "execution_count": 5,
   "id": "cef78760",
   "metadata": {},
   "outputs": [],
   "source": [
    "def get_batchid_filenames():\n",
    "    batchids = []\n",
    "    for filename in os.listdir(INPUT_DATA_PATH):\n",
    "        if filename.endswith('.txt'):\n",
    "            b = {\n",
    "                'path': os.path.join(INPUT_DATA_PATH, filename),\n",
    "                'id' : filename.split('.')[0].split('_')[-1],\n",
    "            }\n",
    "            batchids.append(b)\n",
    "    return batchids\n",
    "\n",
    "batchids = get_batchid_filenames()"
   ]
  },
  {
   "cell_type": "code",
   "execution_count": 6,
   "id": "de8217f1",
   "metadata": {},
   "outputs": [
    {
     "name": "stdout",
     "output_type": "stream",
     "text": [
      "[{'path': '../local_tests_data/azure_openai_batch_processing_files/RUNID_2/relevance_check_v0/BATCHID/RUNID_2--relevance_check_v0_BATCHID_0.txt', 'id': '0'}]\n"
     ]
    }
   ],
   "source": [
    "print(batchids)"
   ]
  },
  {
   "cell_type": "code",
   "execution_count": 7,
   "id": "3b208e3b",
   "metadata": {},
   "outputs": [],
   "source": [
    "def save_output_file(i, output):\n",
    "    output_filename = f\"{RUNID}--{TASK_NAME}_OUTPUT_{i}.jsonl\"\n",
    "    output_path = os.path.join(OUTPUT_DATA_PATH, output_filename)\n",
    "    with open(output_path, 'w') as f:\n",
    "        f.write(output)\n",
    "    print(f\"Output saved to {output_path}\")\n",
    "\n",
    "def save_error_file(i, error):\n",
    "    error_filename = f\"{RUNID}--{TASK_NAME}_ERROR_{i}.jsonl\"\n",
    "    error_path = os.path.join(ERROR_DATA_PATH, error_filename)\n",
    "    with open(error_path, 'w') as f:\n",
    "        f.write(error)\n",
    "    print(f\"Error saved to {error_path}\")"
   ]
  },
  {
   "cell_type": "code",
   "execution_count": 8,
   "id": "b8a9caa3",
   "metadata": {},
   "outputs": [
    {
     "name": "stdout",
     "output_type": "stream",
     "text": [
      "../local_tests_data/azure_openai_batch_processing_files/RUNID_2/relevance_check_v0/BATCHID/RUNID_2--relevance_check_v0_BATCHID_0.txt\n",
      "Output saved to ../local_tests_data/azure_openai_batch_processing_files/RUNID_2/relevance_check_v0/OUTPUTS/RUNID_2--relevance_check_v0_OUTPUT_0.jsonl\n"
     ]
    }
   ],
   "source": [
    "for b in batchids:\n",
    "\n",
    "    batchid_filename = b['path']\n",
    "    i = b['id']\n",
    "    \n",
    "    print(batchid_filename)\n",
    "    with open(batchid_filename, 'r') as f:\n",
    "        batch_id = f.read().strip()\n",
    "\n",
    "    batch_obj = client.batches.retrieve(batch_id)\n",
    "    batch_status = batch_obj.status\n",
    "\n",
    "    if batch_status != \"completed\":\n",
    "        print(f\"Batch {batch_id} is not completed. Status: {batch_status}\")\n",
    "        continue\n",
    "\n",
    "    output_file_id = batch_obj.output_file_id\n",
    "    if output_file_id:\n",
    "        output = client.files.content(output_file_id).text.strip()\n",
    "        if output:\n",
    "            save_output_file(i, output)\n",
    "\n",
    "    error_file_id = batch_obj.error_file_id\n",
    "    if error_file_id:\n",
    "        error_content = client.files.content(error_file_id).text.strip()\n",
    "        if error_content:\n",
    "            save_error_file(i, error_content)\n"
   ]
  },
  {
   "cell_type": "code",
   "execution_count": null,
   "id": "c18abda7",
   "metadata": {},
   "outputs": [],
   "source": []
  }
 ],
 "metadata": {
  "kernelspec": {
   "display_name": "damm",
   "language": "python",
   "name": "python3"
  },
  "language_info": {
   "codemirror_mode": {
    "name": "ipython",
    "version": 3
   },
   "file_extension": ".py",
   "mimetype": "text/x-python",
   "name": "python",
   "nbconvert_exporter": "python",
   "pygments_lexer": "ipython3",
   "version": "3.12.3"
  }
 },
 "nbformat": 4,
 "nbformat_minor": 5
}
