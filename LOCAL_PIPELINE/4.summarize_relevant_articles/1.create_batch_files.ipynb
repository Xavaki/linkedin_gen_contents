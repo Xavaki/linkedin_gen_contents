{
 "cells": [
  {
   "cell_type": "code",
   "execution_count": 1,
   "id": "239f6634",
   "metadata": {},
   "outputs": [],
   "source": [
    "import json\n",
    "import re\n",
    "import unicodedata\n",
    "from math import ceil\n",
    "from datetime import datetime\n",
    "import os\n",
    "\n",
    "from dotenv import load_dotenv\n",
    "from pydantic import BaseModel, ValidationError"
   ]
  },
  {
   "cell_type": "code",
   "execution_count": 2,
   "id": "d371ac68",
   "metadata": {},
   "outputs": [
    {
     "data": {
      "text/plain": [
       "True"
      ]
     },
     "execution_count": 2,
     "metadata": {},
     "output_type": "execute_result"
    }
   ],
   "source": [
    "load_dotenv('../.env')"
   ]
  },
  {
   "cell_type": "code",
   "execution_count": 3,
   "id": "b97ce38a",
   "metadata": {},
   "outputs": [
    {
     "name": "stdout",
     "output_type": "stream",
     "text": [
      "Run ID: RUNID_2 at 2025-06-02 15:45:00\n"
     ]
    }
   ],
   "source": [
    "TASK_NAME = \"article_summarization_v0\"\n",
    "DEPLOYMENT_NAME = \"gpt-4o--batch-2\"\n",
    "\n",
    "def get_run_id():\n",
    "    return os.getenv('RUNID')\n",
    "\n",
    "RUNID = get_run_id()\n",
    "\n",
    "INPUT_DATA_PATH = f\"../local_tests_data/relevant_articles_content/{RUNID}/relevant_articles_content_{RUNID}.json\"\n",
    "RUN_TIME = datetime.strftime(datetime.now(), '%Y-%m-%d %H:%M:%S')\n",
    "\n",
    "OUTPUT_DATA_PATH = f\"../local_tests_data/azure_openai_batch_processing_files/{RUNID}/{TASK_NAME}/BATCHFILES/\"\n",
    "\n",
    "os.makedirs(OUTPUT_DATA_PATH, exist_ok=True)\n",
    "\n",
    "print(f\"Run ID: {RUNID} at {RUN_TIME}\")"
   ]
  },
  {
   "cell_type": "code",
   "execution_count": 4,
   "id": "eb72b69b",
   "metadata": {},
   "outputs": [
    {
     "name": "stdout",
     "output_type": "stream",
     "text": [
      "Number of articles to process: 21\n",
      "{'article_id': 'techcrunch_20250530144755886209', 'content': 'AI dev platform Hugging Face continued its push into robotics on Thursday with the release of two new humanoid robots.\\n\\nThe company announced a pair of open source robots, HopeJR and Reachy Mini. HopeJR is a full-size humanoid robot that has 66 actuated degrees of freedom, or 66 independent movements, including the ability to walk and move its arms. Reachy Mini is a desktop unit that can move its head, talk, listen, and be used to test AI apps.\\n\\nMeet HopeJr, a full humanoid robot lowering the barrier to entry!\\n\\n\\n\\nCapable of walking, manipulating many objects, open-source and costs under $3000 🤯\\n\\n\\n\\nDesigned by @therobotstudio and @huggingface 👇 pic.twitter.com/wCwo8YPOGV — Remi Cadene (@RemiCadene) May 29, 2025\\n\\nHugging Face doesn’t have an exact timeline for shipping these robots. The company’s co-founder and CEO, Clem Delangue, told TechCrunch over email that they expect to start shipping at least the first few units by the end of the year, and the waitlist is currently open.\\n\\nReachy Mini Credit: Hugging Face\\n\\nHugging Face estimates that the HopeJR will cost around $3,000 per unit and the Reachy Mini will cost around $250 to $300, depending on tariffs.\\n\\n“The important aspect is that these robots are open source, so anyone can assemble, rebuild, [and] understand how they work, and [that they’re] affordable, so that robotics doesn’t get dominated by just a few big players with dangerous black-box systems,” Delangue said via email.\\n\\nThis robot release was made possible in part by the company’s acquisition of humanoid robotics startup Pollen Robotics, which was announced in April, according to Delangue. He added that the Pollen team gave Hugging Face “new capabilities” required to make these bots.\\n\\nHugging Face has been making a concerted push into the robotics industry over the past few years. It launched LeRobot, a collection of open AI models, datasets, and tools to build robotics systems, in 2024.\\n\\nTechcrunch event Save now through June 4 for TechCrunch Sessions: AI Save $300 on your ticket to TC Sessions: AI—and get 50% off a second. Hear from leaders at OpenAI, Anthropic, Khosla Ventures, and more during a full day of expert insights, hands-on workshops, and high-impact networking. These low-rate deals disappear when the doors open on June 5. Exhibit at TechCrunch Sessions: AI Secure your spot at TC Sessions: AI and show 1,200+ decision-makers what you’ve built — without the big spend. Available through May 9 or while tables last. Berkeley, CA | REGISTER NOW\\n\\nSo far in 2025, the company has released an updated version of its 3D-printed and programmable robotic arm, the SO-101, which the company built in a partnership with French robotics firm The Robot Studio. It also expanded the training data on its LeRobot platform, through a partnership with AI startup Yaak, to include training data for self-driving machines.', 'title': 'Hugging Face unveils two new humanoid robots', 'publish_date': '2025-05-29'}\n"
     ]
    }
   ],
   "source": [
    "def get_relevant_articles_content():\n",
    "    with open(INPUT_DATA_PATH, 'r', encoding='utf-8') as file:\n",
    "        data = json.load(file)\n",
    "    return data\n",
    "\n",
    "relevant_articles_content = get_relevant_articles_content()\n",
    "n_to_process = len(relevant_articles_content)\n",
    "print(f\"Number of articles to process: {n_to_process}\")\n",
    "print(relevant_articles_content[0])\n"
   ]
  },
  {
   "cell_type": "code",
   "execution_count": 5,
   "id": "8adf9b48",
   "metadata": {},
   "outputs": [
    {
     "name": "stdout",
     "output_type": "stream",
     "text": [
      "Creating 1 batch files\n"
     ]
    }
   ],
   "source": [
    "prompts_per_batch_job = 200\n",
    "n_batch_jobs = ceil(n_to_process/prompts_per_batch_job)\n",
    "print(\"Creating {} batch files\".format(n_batch_jobs))"
   ]
  },
  {
   "cell_type": "code",
   "execution_count": 6,
   "id": "989b8e8d",
   "metadata": {},
   "outputs": [],
   "source": [
    "system_prompt = \"\"\"\n",
    "You are a professional content assistant summarizing articles for a LinkedIn thought leader. Your task is to summarize the article in 3 to 8 sentences.\n",
    "\n",
    "Focus on:\n",
    "- The main idea or thesis\n",
    "- The most important insight or data\n",
    "- Why it matters to professionals or business leaders\n",
    "\n",
    "Use clear, concise, and neutral professional English. Avoid fluff, opinion, or casual tone.\n",
    "\n",
    "**Important:** The summary must be written in English only — even if the source article is written in another language. Do not translate the article; just summarize its core ideas in English.\n",
    "\"\"\""
   ]
  },
  {
   "cell_type": "code",
   "execution_count": 7,
   "id": "4d894566",
   "metadata": {},
   "outputs": [],
   "source": [
    "def format_task_jsonl_line(task_id, deployment_name, user_input):\n",
    "    jsonl_line_template = {\n",
    "        \"custom_id\": task_id,\n",
    "        \"method\": \"POST\",\n",
    "        \"url\": \"/chat/completions\",\n",
    "        \"body\": {\n",
    "            \"model\": deployment_name,\n",
    "            \"messages\": [\n",
    "                {\n",
    "                    \"role\": \"system\",\n",
    "                    \"content\": system_prompt\n",
    "                },\n",
    "                {\n",
    "                    \"role\": \"user\",\n",
    "                    \"content\": user_input\n",
    "                }\n",
    "            ]\n",
    "        }\n",
    "    }\n",
    "    return jsonl_line_template"
   ]
  },
  {
   "cell_type": "code",
   "execution_count": 8,
   "id": "aafbcf4c",
   "metadata": {},
   "outputs": [],
   "source": [
    "def generate_jsonl_lines(chunk_id, chunk_articles):\n",
    "    for j,relevant_article in enumerate(chunk_articles):\n",
    "        article_id = relevant_article[\"article_id\"]\n",
    "        article_content = relevant_article[\"content\"]\n",
    "        task_id = f\"{RUNID}--{TASK_NAME}--{article_id}\"\n",
    "        deployment_name = DEPLOYMENT_NAME\n",
    "        yield json.dumps(format_task_jsonl_line(task_id=task_id, deployment_name=deployment_name, user_input=article_content)) + \"\\n\"\n",
    "    "
   ]
  },
  {
   "cell_type": "code",
   "execution_count": 9,
   "id": "18ea39ec",
   "metadata": {},
   "outputs": [
    {
     "name": "stdout",
     "output_type": "stream",
     "text": [
      "0\n",
      "Batch file RUNID_2--article_summarization_v0_BATCHFILE_0.jsonl created with 21 articles.\n"
     ]
    }
   ],
   "source": [
    "for i in range(n_batch_jobs):\n",
    "    print(i)\n",
    "    chunk = relevant_articles_content[i*prompts_per_batch_job:min(n_to_process, (i+1)*prompts_per_batch_job)]\n",
    "    batchfilename = f\"{RUNID}--{TASK_NAME}_BATCHFILE_{i}.jsonl\"\n",
    "\n",
    "    with open(OUTPUT_DATA_PATH + batchfilename, \"w\") as f:\n",
    "        for line in generate_jsonl_lines(chunk_id=i, chunk_articles=chunk):\n",
    "            f.write(line)\n",
    "        print(f\"Batch file {batchfilename} created with {len(chunk)} articles.\")"
   ]
  },
  {
   "cell_type": "code",
   "execution_count": null,
   "id": "3a507bc8",
   "metadata": {},
   "outputs": [],
   "source": []
  }
 ],
 "metadata": {
  "kernelspec": {
   "display_name": "damm",
   "language": "python",
   "name": "python3"
  },
  "language_info": {
   "codemirror_mode": {
    "name": "ipython",
    "version": 3
   },
   "file_extension": ".py",
   "mimetype": "text/x-python",
   "name": "python",
   "nbconvert_exporter": "python",
   "pygments_lexer": "ipython3",
   "version": "3.12.3"
  }
 },
 "nbformat": 4,
 "nbformat_minor": 5
}
