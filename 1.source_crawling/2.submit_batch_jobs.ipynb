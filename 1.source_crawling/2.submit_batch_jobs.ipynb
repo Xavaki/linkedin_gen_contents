{
 "cells": [
  {
   "cell_type": "code",
   "execution_count": 50,
   "id": "038518b3",
   "metadata": {},
   "outputs": [],
   "source": [
    "from azure.storage.blob import BlobServiceClient\n",
    "import os\n",
    "from dotenv import load_dotenv\n",
    "from openai import AzureOpenAI\n",
    "from dotenv import load_dotenv\n",
    "from datetime import datetime"
   ]
  },
  {
   "cell_type": "code",
   "execution_count": null,
   "id": "58867a8d",
   "metadata": {},
   "outputs": [
    {
     "data": {
      "text/plain": [
       "True"
      ]
     },
     "execution_count": 51,
     "metadata": {},
     "output_type": "execute_result"
    }
   ],
   "source": [
    "load_dotenv('../.env')"
   ]
  },
  {
   "cell_type": "code",
   "execution_count": 52,
   "id": "81185d16",
   "metadata": {},
   "outputs": [
    {
     "name": "stdout",
     "output_type": "stream",
     "text": [
      "Run ID: RUNID_1 at 2025-05-29 16:18:07\n"
     ]
    }
   ],
   "source": [
    "TASK_NAME = \"source_parsing_v0\"\n",
    "\n",
    "INPUT_DATA_PATH = f\"../local_tests_data/azure_openai_batch_processing_files/\"\n",
    "run_n = len(os.listdir(INPUT_DATA_PATH))\n",
    "RUNID = f\"RUNID_{run_n}\"\n",
    "INPUT_DATA_PATH = f\"../local_tests_data/azure_openai_batch_processing_files/{RUNID}/{TASK_NAME}/BATCHFILES\"\n",
    "\n",
    "RUN_TIME = datetime.strftime(datetime.now(), '%Y-%m-%d %H:%M:%S')\n",
    "\n",
    "OUTPUT_DATA_PATH = f\"../local_tests_data/azure_openai_batch_processing_files/{RUNID}/{TASK_NAME}/BATCHID\"\n",
    "\n",
    "os.makedirs(OUTPUT_DATA_PATH, exist_ok=True)\n",
    "\n",
    "print(f\"Run ID: {RUNID} at {RUN_TIME}\")"
   ]
  },
  {
   "cell_type": "code",
   "execution_count": 53,
   "id": "c43101d9",
   "metadata": {},
   "outputs": [],
   "source": [
    "AZURE_OPENAI_API_KEY=os.getenv('AZURE_OPENAI_API_KEY')\n",
    "AZURE_OPENAI_ENDPOINT=os.getenv('AZURE_OPENAI_ENDPOINT')\n",
    "client = AzureOpenAI(\n",
    "    api_version=\"2024-12-01-preview\",\n",
    "    azure_endpoint=AZURE_OPENAI_ENDPOINT,\n",
    "    api_key=AZURE_OPENAI_API_KEY\n",
    ")"
   ]
  },
  {
   "cell_type": "code",
   "execution_count": 54,
   "id": "5efdb722",
   "metadata": {},
   "outputs": [],
   "source": [
    "def get_batchfiles():\n",
    "    batchfiles = []\n",
    "    for filename in os.listdir(INPUT_DATA_PATH):\n",
    "        if filename.endswith('.jsonl'):\n",
    "            b = {\n",
    "                'path': os.path.join(INPUT_DATA_PATH, filename),\n",
    "                'id' : filename.split('.')[0].split('_')[-1],\n",
    "            }\n",
    "            batchfiles.append(b)\n",
    "    return sorted(batchfiles)\n",
    "\n",
    "batchfiles = get_batchfiles()"
   ]
  },
  {
   "cell_type": "code",
   "execution_count": 55,
   "id": "983a9955",
   "metadata": {},
   "outputs": [],
   "source": [
    "def save_batchid(i, batch_id):\n",
    "    batchid_filename = f\"{RUNID}--{TASK_NAME}_BATCHID_{i}.txt\"\n",
    "    with open(os.path.join(OUTPUT_DATA_PATH, batchid_filename), \"w\") as f:\n",
    "        f.write(batch_id)"
   ]
  },
  {
   "cell_type": "code",
   "execution_count": 56,
   "id": "00e1f9d5",
   "metadata": {},
   "outputs": [
    {
     "name": "stdout",
     "output_type": "stream",
     "text": [
      "Submitting ../local_tests_data/azure_openai_batch_processing_files/RUNID_1/source_parsing_v0/BATCHFILES/RUNID_1--source_parsing_v0_BATCHFILE_0.jsonl\n",
      "{\n",
      "  \"id\": \"file-d6ac18fed60144819337e6862af93b5c\",\n",
      "  \"bytes\": 94717,\n",
      "  \"created_at\": 1748528289,\n",
      "  \"filename\": \"RUNID_1--source_parsing_v0_BATCHFILE_0.jsonl\",\n",
      "  \"object\": \"file\",\n",
      "  \"purpose\": \"batch\",\n",
      "  \"status\": \"processed\",\n",
      "  \"expires_at\": null,\n",
      "  \"status_details\": null\n",
      "}\n",
      "{\n",
      "  \"id\": \"batch_26b72390-58df-4c33-a3e5-c0dfa4451538\",\n",
      "  \"completion_window\": \"24h\",\n",
      "  \"created_at\": 1748528295,\n",
      "  \"endpoint\": \"/chat/completions\",\n",
      "  \"input_file_id\": \"file-d6ac18fed60144819337e6862af93b5c\",\n",
      "  \"object\": \"batch\",\n",
      "  \"status\": \"validating\",\n",
      "  \"cancelled_at\": null,\n",
      "  \"cancelling_at\": null,\n",
      "  \"completed_at\": null,\n",
      "  \"error_file_id\": \"\",\n",
      "  \"errors\": null,\n",
      "  \"expired_at\": null,\n",
      "  \"expires_at\": 1748614691,\n",
      "  \"failed_at\": null,\n",
      "  \"finalizing_at\": null,\n",
      "  \"in_progress_at\": null,\n",
      "  \"metadata\": null,\n",
      "  \"output_file_id\": \"\",\n",
      "  \"request_counts\": {\n",
      "    \"completed\": 0,\n",
      "    \"failed\": 0,\n",
      "    \"total\": 0\n",
      "  }\n",
      "}\n",
      "Batch ID for file 0: batch_26b72390-58df-4c33-a3e5-c0dfa4451538\n",
      "Batch job submitted successfully.\n",
      "  \n"
     ]
    }
   ],
   "source": [
    "\n",
    "for bathcfile in batchfiles:\n",
    "\n",
    "  i = bathcfile['id']\n",
    "  path = bathcfile['path']\n",
    "\n",
    "  print(\"Submitting {}\".format(path))\n",
    "\n",
    "  file = client.files.create(\n",
    "    file=open(path, \"rb\"),\n",
    "    purpose=\"batch\"\n",
    "  )\n",
    "\n",
    "  print(file.model_dump_json(indent=2))\n",
    "  file_id = file.id\n",
    "\n",
    "  # Submit a batch job with the file\n",
    "  batch_response = client.batches.create(\n",
    "      input_file_id=file_id,\n",
    "      endpoint=\"/chat/completions\",\n",
    "      completion_window=\"24h\",\n",
    "  )\n",
    "\n",
    "  # Save batch ID for later use\n",
    "  batch_id = batch_response.id\n",
    "\n",
    "  print(batch_response.model_dump_json(indent=2)) \n",
    "\n",
    "  save_batchid(i, batch_id)\n",
    "  print(f\"Batch ID for file {i}: {batch_id}\")\n",
    "  print(\"Batch job submitted successfully.\")\n",
    "  print(\"  \")"
   ]
  },
  {
   "cell_type": "code",
   "execution_count": null,
   "id": "32668c97",
   "metadata": {},
   "outputs": [],
   "source": []
  }
 ],
 "metadata": {
  "kernelspec": {
   "display_name": "damm",
   "language": "python",
   "name": "python3"
  },
  "language_info": {
   "codemirror_mode": {
    "name": "ipython",
    "version": 3
   },
   "file_extension": ".py",
   "mimetype": "text/x-python",
   "name": "python",
   "nbconvert_exporter": "python",
   "pygments_lexer": "ipython3",
   "version": "3.12.3"
  }
 },
 "nbformat": 4,
 "nbformat_minor": 5
}
