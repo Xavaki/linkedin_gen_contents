{
 "cells": [
  {
   "cell_type": "code",
   "execution_count": null,
   "id": "cb2782e0",
   "metadata": {},
   "outputs": [],
   "source": [
    "import requests\n",
    "import json \n",
    "from dotenv import load_dotenv\n",
    "import os\n",
    "from datetime import datetime\n",
    "\n",
    "from datetime import datetime \n",
    "from time import sleep"
   ]
  },
  {
   "cell_type": "code",
   "execution_count": 28,
   "id": "768998a6",
   "metadata": {},
   "outputs": [
    {
     "name": "stdout",
     "output_type": "stream",
     "text": [
      "Run ID: RUNID_1 at 2025-05-29 12:38:03\n"
     ]
    }
   ],
   "source": [
    "RUNID = \"RUNID_1\"\n",
    "RUN_TIME = datetime.strftime(datetime.now(), '%Y-%m-%d %H:%M:%S')\n",
    "\n",
    "print(f\"Run ID: {RUNID} at {RUN_TIME}\")\n"
   ]
  },
  {
   "cell_type": "code",
   "execution_count": 29,
   "id": "50be5d20",
   "metadata": {},
   "outputs": [],
   "source": [
    "INPUT_DATA_PATH = \"../local_tests_data/sources.json\"\n",
    "OUTPUT_DATA_PATH = f\"../local_tests_data/source_raw_content/{RUNID}/\"\n",
    "\n",
    "os.makedirs(OUTPUT_DATA_PATH, exist_ok=False)"
   ]
  },
  {
   "cell_type": "code",
   "execution_count": 30,
   "id": "30aae803",
   "metadata": {},
   "outputs": [],
   "source": [
    "with open(INPUT_DATA_PATH, \"r\") as f:\n",
    "    sources = json.load(f)"
   ]
  },
  {
   "cell_type": "code",
   "execution_count": 31,
   "id": "6fa69869",
   "metadata": {},
   "outputs": [
    {
     "name": "stdout",
     "output_type": "stream",
     "text": [
      "[{'source_name': 'TechCrunch', 'url': 'https://techcrunch.com/latest/'}, {'source_name': 'ITEspresso', 'url': 'https://www.itespresso.es/'}, {'source_name': 'Business Insider', 'url': 'https://www.businessinsider.es/tecnologia'}, {'source_name': 'CNET', 'url': 'https://www.cnet.com/ai-atlas/'}, {'source_name': 'The Next Web', 'url': 'https://thenextweb.com/'}]\n"
     ]
    }
   ],
   "source": [
    "print(sources)"
   ]
  },
  {
   "cell_type": "code",
   "execution_count": null,
   "id": "aa07e895",
   "metadata": {},
   "outputs": [
    {
     "name": "stdout",
     "output_type": "stream",
     "text": [
      "Saved content for techcrunch at ../local_tests_data/source_raw_content/RUNID_1/techcrunch.json\n",
      "Saved content for itespresso at ../local_tests_data/source_raw_content/RUNID_1/itespresso.json\n",
      "Saved content for business_insider at ../local_tests_data/source_raw_content/RUNID_1/business_insider.json\n",
      "Saved content for cnet at ../local_tests_data/source_raw_content/RUNID_1/cnet.json\n",
      "Saved content for the_next_web at ../local_tests_data/source_raw_content/RUNID_1/the_next_web.json\n"
     ]
    }
   ],
   "source": [
    "for source in sources:\n",
    "    source_url  = source[\"url\"]\n",
    "    source_name = source[\"source_name\"].lower().replace(\" \", \"_\")\n",
    "\n",
    "    source_url_jina = 'https://r.jina.ai/' + source_url\n",
    "    source_url_raw_content = requests.get(source_url_jina).text\n",
    "\n",
    "    save_content = {\n",
    "    \"url\": source_url, \n",
    "    \"name\" : source_name, \n",
    "    \"raw_jina_content\": source_url_raw_content,\n",
    "    \"crawl_time\": RUN_TIME\n",
    "    }\n",
    "\n",
    "    with open(OUTPUT_DATA_PATH + source_name + \".json\", \"w\") as f:\n",
    "        json.dump(save_content, f, indent=4)\n",
    "\n",
    "    print(f\"Saved content for {source_name} at {OUTPUT_DATA_PATH + source_name + '.json'}\")\n",
    "\n",
    "    sleep(1)  # To avoid hitting the server too hard with requests"
   ]
  },
  {
   "cell_type": "code",
   "execution_count": null,
   "id": "06564f9f",
   "metadata": {},
   "outputs": [],
   "source": []
  }
 ],
 "metadata": {
  "kernelspec": {
   "display_name": "damm",
   "language": "python",
   "name": "python3"
  },
  "language_info": {
   "codemirror_mode": {
    "name": "ipython",
    "version": 3
   },
   "file_extension": ".py",
   "mimetype": "text/x-python",
   "name": "python",
   "nbconvert_exporter": "python",
   "pygments_lexer": "ipython3",
   "version": "3.12.3"
  }
 },
 "nbformat": 4,
 "nbformat_minor": 5
}
