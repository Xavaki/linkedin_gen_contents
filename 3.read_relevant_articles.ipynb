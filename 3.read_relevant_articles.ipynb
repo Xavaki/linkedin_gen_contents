{
 "cells": [
  {
   "cell_type": "code",
   "execution_count": 17,
   "id": "92c90057",
   "metadata": {},
   "outputs": [],
   "source": [
    "import os\n",
    "import json\n",
    "from newspaper import Article\n",
    "from time import sleep\n",
    "from datetime import datetime"
   ]
  },
  {
   "cell_type": "code",
   "execution_count": 18,
   "id": "dccbd906",
   "metadata": {},
   "outputs": [],
   "source": [
    "with open(\"./local_tests_data/relevant_articles_list/relevant_articles.json\", \"r\") as f:\n",
    "    relevant_articles = json.load(f)"
   ]
  },
  {
   "cell_type": "code",
   "execution_count": 19,
   "id": "46023aff",
   "metadata": {},
   "outputs": [
    {
     "name": "stdout",
     "output_type": "stream",
     "text": [
      "Processing https://thenextweb.com/news/tips-on-ai-agents\n",
      "Processing https://thenextweb.com/news/european-tech-struggle-meta-ai-chief-yann-lecun\n",
      "Processing https://thenextweb.com/news/us-shoplifting-epidemic-veesion-french-ai-cameras-startup-funding\n",
      "Processing https://thenextweb.com/news/tnw-backstage-brain-computer-interfaces-bcis\n",
      "Processing https://thenextweb.com/news/startup-uses-ancient-bacteria-to-turn-texas-co2-into-green-chemicals\n",
      "Processing https://thenextweb.com/news/belgian-ai-agent-startup-ravical-funding\n",
      "Processing https://thenextweb.com/news/dutch-startup-ecosystem-falls-in-europe\n",
      "Processing https://thenextweb.com/news/netherlands-developing-neuromorphic-computing-leader\n",
      "Processing https://thenextweb.com/news/bunq-ceo-ali-niknam-warns-dutch-entrepreneurs-leaving\n",
      "Processing https://thenextweb.com/news/nuclear-waste-thorizon-power-europe-for-decades-startup\n",
      "Processing https://thenextweb.com/news/5-feats-of-deepmind-ai-coding-agent-alphaevolve\n",
      "Processing https://thenextweb.com/news/debut-episode-tnw-backstage-podcast-privacy-paradox\n",
      "Processing https://thenextweb.com/news/danish-army-trial-autonomous-ocean-drones-defence-russia\n",
      "Processing https://techcrunch.com/2025/05/22/signals-new-windows-update-prevents-the-system-from-capturing-screenshots-of-chats/\n",
      "Processing https://techcrunch.com/2025/05/21/openais-next-big-bet-wont-be-a-wearable-report/\n",
      "Processing https://techcrunch.com/2025/05/21/alt-carbon-scores-12m-seed-to-scale-carbon-removal-in-india/\n",
      "Processing https://techcrunch.com/2025/05/21/luminar-secures-up-to-200m-following-ceo-departure-and-layoffs/\n",
      "Processing https://techcrunch.com/2025/05/21/klarna-used-an-ai-avatar-of-its-ceo-to-deliver-earnings-it-said/\n",
      "Processing https://www.businessinsider.es/tecnologia/sera-google-cuando-ia-todas-partes-1462553\n",
      "Processing https://www.businessinsider.es/tecnologia/sam-altman-openai-mundo-no-preparado-era-robots-humanoides-pero-no-queda-mucho-llegue-1462552\n",
      "Processing https://www.businessinsider.es/tecnologia/musk-asegura-tesla-no-necesita-comprar-uber-duenos-tesla-podran-alquilarlos-flota-coches-autonomos-1462502\n",
      "Processing https://www.businessinsider.es/tecnologia/elon-musk-asegura-no-descarta-fusionar-xai-tesla-todo-posible-1462468\n",
      "Processing https://www.businessinsider.es/tecnologia/jensen-huang-nvidia-carga-medidas-exportacion-chips-china-son-fracaso-1462407\n",
      "Processing https://www.businessinsider.es/tecnologia/debut-robotaxi-tesla-sera-solo-invitacion-muchos-teleoperadores-esperar-promesa-incumplida-elon-musk-1461943\n",
      "Processing https://www.businessinsider.es/tecnologia/jensen-huang-nvidia-investigadores-chinos-ia-son-clase-mundial-1462165\n",
      "Processing https://www.businessinsider.es/tecnologia/openai-confiesa-muchos-inversores-han-salido-corriendo-estructura-empresa-1462157\n",
      "Processing https://www.businessinsider.es/tecnologia/meta-quiere-sonrisa-sentadillas-chachara-paga-50-euros-hora-escanearlos-1461543\n",
      "Processing https://www.businessinsider.es/tecnologia/ceo-amazon-quiere-restaurar-cultura-prescinde-dos-cosas-conseguirlo-1458999\n",
      "Processing https://www.businessinsider.es/tecnologia/ia-no-preparada-hacer-trabajo-1456782\n",
      "Skipping https://www.businessinsider.es/tecnologia/ia-no-preparada-hacer-trabajo-1456782 due to empty content\n",
      "Processing https://www.businessinsider.es/tecnologia/mark-zuckerberg-destruyo-amistad-ahora-quiere-reemplazarla-ia-1460440\n",
      "Skipping https://www.businessinsider.es/tecnologia/mark-zuckerberg-destruyo-amistad-ahora-quiere-reemplazarla-ia-1460440 due to empty content\n",
      "Processing https://www.businessinsider.es/tecnologia/nvidia-regresa-junto-apple-microsoft-son-unicas-empresas-superan-3-billones-dolares-capitalizacion-bursatil-1461155\n",
      "Processing https://www.itespresso.es/pymes-valencianas-ayudas-imasd-244033.html\n",
      "Processing https://www.itespresso.es/guerra-israel-palestina-startups-244028.html\n",
      "Processing https://www.itespresso.es/navarra-startups-244020.html\n",
      "Processing https://www.itespresso.es/startups-valencianas-244017.html\n",
      "Processing https://www.itespresso.es/israel-subvencion-intel-244008.html\n",
      "Processing https://www.itespresso.es/emprendedores-tecnologicos-amor-odio-244004.html\n",
      "Processing https://www.itespresso.es/apple-llm-multimodal-open-source-243999.html\n",
      "Processing https://www.itespresso.es/applivery-ronda-financiacion-243993.html\n",
      "Processing https://www.itespresso.es/whatsapp-stickers-personalizados-242526.html\n",
      "Processing https://www.itespresso.es/retos-transformacion-digital-cliente-165925.html\n",
      "Processing https://www.itespresso.es/uruguay-pais-pequeno-grandes-startups-163977.html\n",
      "Processing https://www.itespresso.es/9-startups-espanolas-robotica-mas-punteras-161387.html\n"
     ]
    }
   ],
   "source": [
    "url = relevant_articles[0][\"url\"]\n",
    "for relevant_article in relevant_articles:\n",
    "    url = relevant_article[\"url\"]\n",
    "    article_id = relevant_article[\"article_id\"]\n",
    "    # keywords = relevant_article[\"keywords\"]\n",
    "    title = relevant_article[\"title\"]\n",
    "    print(f\"Processing {url}\")\n",
    "    sleep(1)  # Sleep to avoid overwhelming the server\n",
    "    article = Article(url)\n",
    "    article.download()\n",
    "    article.parse()\n",
    "    content = article.text\n",
    "    publish_date = datetime.strftime(article.publish_date, \"%Y-%m-%d\") if article.publish_date else None\n",
    "    if not content:\n",
    "        print(f\"Skipping {url} due to empty content\")\n",
    "        continue\n",
    "    with open(f\"./local_tests_data/relevant_articles_content/{article_id}.json\", \"w\") as f:\n",
    "        json.dump({'content' : content, 'title': title, 'publish_date': publish_date}, f, indent=4)\n"
   ]
  },
  {
   "cell_type": "code",
   "execution_count": null,
   "id": "f3abf6d2",
   "metadata": {},
   "outputs": [],
   "source": []
  }
 ],
 "metadata": {
  "kernelspec": {
   "display_name": "damm",
   "language": "python",
   "name": "python3"
  },
  "language_info": {
   "codemirror_mode": {
    "name": "ipython",
    "version": 3
   },
   "file_extension": ".py",
   "mimetype": "text/x-python",
   "name": "python",
   "nbconvert_exporter": "python",
   "pygments_lexer": "ipython3",
   "version": "3.12.3"
  }
 },
 "nbformat": 4,
 "nbformat_minor": 5
}
