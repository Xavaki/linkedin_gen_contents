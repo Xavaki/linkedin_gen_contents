{
 "cells": [
  {
   "cell_type": "code",
   "execution_count": 92,
   "id": "6740975d",
   "metadata": {},
   "outputs": [],
   "source": [
    "import pandas as pd\n",
    "import numpy as np\n",
    "import ast\n",
    "import faiss\n",
    "from openai import AzureOpenAI\n",
    "\n",
    "from dotenv import load_dotenv\n",
    "from azure.storage.blob import BlobServiceClient\n",
    "\n",
    "import os\n",
    "\n",
    "import json\n",
    "\n",
    "from textwrap import dedent\n",
    "\n",
    "from random import random"
   ]
  },
  {
   "cell_type": "code",
   "execution_count": 9,
   "id": "66ef5436",
   "metadata": {},
   "outputs": [
    {
     "data": {
      "text/plain": [
       "True"
      ]
     },
     "execution_count": 9,
     "metadata": {},
     "output_type": "execute_result"
    }
   ],
   "source": [
    "load_dotenv('/home/xavaki/DAMM/linkedin_gen_contents/.env')"
   ]
  },
  {
   "cell_type": "code",
   "execution_count": 10,
   "id": "7fdc3f66",
   "metadata": {},
   "outputs": [],
   "source": [
    "blob_service_client = BlobServiceClient.from_connection_string(os.getenv('STORAGE_ACCOUNT_CONNECTION_STRING'))\n",
    "embeddings_container_client = blob_service_client.get_container_client('relevant-articles-summaries-embeddings')\n",
    "relevant_articles_list_container_client = blob_service_client.get_container_client('relevant-articles-list')\n",
    "relevant_articles_summaries_container_client = blob_service_client.get_container_client('relevant-articles-summaries')\n",
    "relevant_articles_content_container_client = blob_service_client.get_container_client('relevant-articles-content')\n",
    "\n",
    "def read_embeddings_from_blob() -> pd.DataFrame:\n",
    "    all_embeddings = []\n",
    "    for blob in embeddings_container_client.list_blobs():\n",
    "        blob_client = embeddings_container_client.get_blob_client(blob)\n",
    "        run_embeddings = json.loads(blob_client.download_blob().readall())\n",
    "        all_embeddings.extend(run_embeddings)\n",
    "\n",
    "    return pd.DataFrame(all_embeddings)\n",
    "\n",
    "def read_relevant_articles_list_from_blob() -> pd.DataFrame:\n",
    "    all_relevant_articles = []\n",
    "    for blob in relevant_articles_list_container_client.list_blobs():\n",
    "        runid = blob.name.split(\"--\")[0]\n",
    "        blob_client = relevant_articles_list_container_client.get_blob_client(blob)\n",
    "        run_relevant_articles = json.loads(blob_client.download_blob().readall())\n",
    "        for a in run_relevant_articles:\n",
    "            a['RUNID'] = runid\n",
    "        all_relevant_articles.extend(run_relevant_articles)\n",
    "\n",
    "    return pd.DataFrame(all_relevant_articles)\n",
    "\n",
    "def read_relevant_articles_summaries_from_blob() -> pd.DataFrame:\n",
    "    all_summaries = []\n",
    "    for blob in relevant_articles_summaries_container_client.list_blobs():\n",
    "        blob_client = relevant_articles_summaries_container_client.get_blob_client(blob)\n",
    "        run_summaries = json.loads(blob_client.download_blob().readall())\n",
    "        all_summaries.extend(run_summaries)\n",
    "\n",
    "    return pd.DataFrame(all_summaries)\n",
    "\n",
    "def read_relevant_articles_content_from_blob() -> pd.DataFrame:\n",
    "    all_content = []\n",
    "    for blob in relevant_articles_content_container_client.list_blobs():\n",
    "        blob_client = relevant_articles_content_container_client.get_blob_client(blob)\n",
    "        run_content = json.loads(blob_client.download_blob().readall())\n",
    "        all_content.extend(run_content)\n",
    "\n",
    "    return pd.DataFrame(all_content)"
   ]
  },
  {
   "cell_type": "code",
   "execution_count": 11,
   "id": "816e4bee",
   "metadata": {},
   "outputs": [],
   "source": [
    "pd_embeddings = read_embeddings_from_blob()\n",
    "pd_relevant_articles = read_relevant_articles_list_from_blob()\n",
    "pd_relevant_articles_summaries = read_relevant_articles_summaries_from_blob()\n",
    "pd_relevant_articles_content = read_relevant_articles_content_from_blob()\n",
    "# pd_relevant_articles_content.drop(columns=['content'], inplace=True, axis=1)\n",
    "\n",
    "pd_all_info = pd_embeddings.merge(pd_relevant_articles, on=\"article_id\", how=\"inner\")\n",
    "pd_all_info = pd_all_info.merge(pd_relevant_articles_summaries, on=\"article_id\", how=\"inner\")\n",
    "pd_all_info = pd_all_info.merge(pd_relevant_articles_content, on=\"article_id\", how=\"inner\")"
   ]
  },
  {
   "cell_type": "code",
   "execution_count": 12,
   "id": "e0ffd7c7",
   "metadata": {},
   "outputs": [],
   "source": [
    "embedding_matrix = np.array(pd_all_info[\"summary_embedding\"].tolist()).astype(\"float32\")\n",
    "embedding_dim = len(embedding_matrix[0, :])"
   ]
  },
  {
   "cell_type": "code",
   "execution_count": 13,
   "id": "3c7840ed",
   "metadata": {},
   "outputs": [
    {
     "data": {
      "text/plain": [
       "(111, 1536)"
      ]
     },
     "execution_count": 13,
     "metadata": {},
     "output_type": "execute_result"
    }
   ],
   "source": [
    "embedding_matrix.shape"
   ]
  },
  {
   "cell_type": "code",
   "execution_count": 14,
   "id": "07779847",
   "metadata": {},
   "outputs": [],
   "source": [
    "# Create an index (flat, exact search)\n",
    "index = faiss.IndexFlatL2(embedding_dim)\n",
    "index.add(embedding_matrix)  # store embeddings in index"
   ]
  },
  {
   "cell_type": "code",
   "execution_count": 15,
   "id": "32a1a5bc",
   "metadata": {},
   "outputs": [],
   "source": [
    "centroid = np.mean(embedding_matrix, axis=0).reshape(1, -1).astype(\"float32\")\n",
    "distances, indices = index.search(centroid, k=5)"
   ]
  },
  {
   "cell_type": "code",
   "execution_count": 16,
   "id": "be489668",
   "metadata": {},
   "outputs": [
    {
     "data": {
      "text/plain": [
       "array(['Early AI investor Elad Gil finds his next big bet: AI-powered rollups',\n",
       "       'El CEO de Duolingo revela 5 formas en las que la IA le ayudará a decidir el futuro de su plantilla',\n",
       "       'Así están convirtiendo la ansiedad por la IA en una ventaja los equipos de contratación',\n",
       "       \"Los adolescentes deberían entrenarse para ser 'ninjas' de la IA, según el CEO de Google DeepMind\",\n",
       "       'La inteligencia artificial toma el mando: las empresas dejan de contratar si una IA puede hacer el trabajo'],\n",
       "      dtype=object)"
      ]
     },
     "execution_count": 16,
     "metadata": {},
     "output_type": "execute_result"
    }
   ],
   "source": [
    "pd_all_info.iloc[indices[0]][\"article_title\"].values"
   ]
  },
  {
   "cell_type": "code",
   "execution_count": 17,
   "id": "5492c0dd",
   "metadata": {},
   "outputs": [],
   "source": [
    "client = AzureOpenAI(\n",
    "    api_version=\"2024-12-01-preview\",\n",
    "    azure_endpoint=os.environ.get('AZURE_OPENAI_ENDPOINT'),\n",
    "    api_key=os.environ.get('AZURE_OPENAI_API_KEY'),\n",
    ")"
   ]
  },
  {
   "cell_type": "code",
   "execution_count": 45,
   "id": "8f1f0449",
   "metadata": {},
   "outputs": [],
   "source": [
    "def query_embeddings(query: str):\n",
    "    \"\"\"\n",
    "    Get embeddings for a query using Azure OpenAI.\n",
    "    \"\"\"\n",
    "\n",
    "    response = client.embeddings.create(\n",
    "            input=[query],\n",
    "            model=\"text-embedding-3-small\",\n",
    "        )\n",
    "\n",
    "    query_embedding = response.data[0].embedding\n",
    "    query_vector = np.array([query_embedding], dtype=\"float32\")\n",
    "    distances, indices = index.search(query_vector, k=5)\n",
    "    return indices"
   ]
  },
  {
   "cell_type": "code",
   "execution_count": 94,
   "id": "b3526d96",
   "metadata": {},
   "outputs": [
    {
     "name": "stdout",
     "output_type": "stream",
     "text": [
      "You are a content writer creating LinkedIn posts for a tech-savvy business executive. Your job is to turn article summaries into short, thoughtful LinkedIn posts that reflect her tone and professional perspective.\n",
      "\n",
      "About the executive:\n",
      "- Chief Digital & Data Officer at Damm, a leading Spanish company in the beverage industry\n",
      "- Originally trained as an economist, she has built a diverse career in finance, operations, corporate management, and now leads AI and data strategy\n",
      "- She is passionate about continuous learning, meaningful innovation, and using data to drive smart, human-centered change\n",
      "- She values humility, clarity, and forward-thinking — her tone is authentic, reflective, and professional\n",
      "- She writes to share insights, spark ideas, and encourage open discussion around innovation and leadership\n",
      "\n",
      "Your task:\n",
      "Use the article summary to craft a short LinkedIn post (max 75 words)\n",
      "-Keep the language clear and thoughtful\n",
      "-Highlight the key insight, and add a brief reflection or perspective from her point of view\n",
      "-Avoid generic buzzwords — focus on what feels real and actionable\n",
      "\n",
      "Here are some examples of her past posts to guide your writing style and tone:\n",
      "\n",
      "Example 1:\n",
      "What happened to the metaverse? While in 2021 it generated a lot of expectations, and seemed to be the technology of the future, with infinite applications and great advantages for brands, suddenly that hype faded. This article explains some of the reasons for this interesting and once-unexpected development.\n",
      "\n",
      "Example 2:\n",
      "It is fascinating how the roles between science and technology are evolving. For centuries, science was the driver of technological development, but today that dynamic is reversing.\n",
      "This article from the @World Economic Forum highlights how technology is pushing the boundaries of what is possible in science, opening up new opportunities for knowledge.\n",
      "\n",
      "Example 3:\n",
      "Este artículo de @Forbes Argentina recoge las tendencias de datos que transformarán el modo en el que las empresas recolectan, procesan y extraen los datos en 2025. Quienes estamos en el sector, ya venimos siguiendo algunas de ellas desde hace algún tiempo, aunque ahora tendrán cada vez más importancia para ofrecer ventajas comparativas a las empresas que puedan implementarlas, respecto de las que no puedan hacerlo.\n",
      "\n",
      "Example 4:\n",
      "As AI continues to evolve, corporate integrity will play a crucial role in shaping its future regulation. The @World Economic Forum points out that as organizations increasingly adopt #AI technologies, they must ensure transparency, accountability, and fairness in their use. While AI holds great potential, its ethical management is key to building trust and ensuring long-term success. Striking the right balance between innovation and responsible practices is not just a regulatory requirement but a corporate responsibility.\n",
      "\n",
      "Example 5:\n",
      "Synthetic #data is gaining traction because it allows companies to obtain data much faster and at a significantly lower cost. These datasets offer a way to bypass privacy concerns and access limitations with real-world data. However, as this @TechCrunch article highlights, synthetic data also brings challenges, especially when it comes to ensuring data quality and avoiding the introduction of biases. As we embrace the benefits, we must also be mindful of these potential risks.\n"
     ]
    }
   ],
   "source": [
    "past_posts = [\n",
    "    {\n",
    "        \"content\": \"\"\"What happened to the metaverse? While in 2021 it generated a lot of expectations, and seemed to be the technology of the future, with infinite applications and great advantages for brands, suddenly that hype faded. This article explains some of the reasons for this interesting and once-unexpected development.\"\"\"\n",
    "    },\n",
    "    {\n",
    "        \"content\": \"\"\"It is fascinating how the roles between science and technology are evolving. For centuries, science was the driver of technological development, but today that dynamic is reversing.\n",
    "This article from the @World Economic Forum highlights how technology is pushing the boundaries of what is possible in science, opening up new opportunities for knowledge.\"\"\"\n",
    "    },\n",
    "    {\n",
    "\"content\": \"\"\"Este artículo de @Forbes Argentina recoge las tendencias de datos que transformarán el modo en el que las empresas recolectan, procesan y extraen los datos en 2025. Quienes estamos en el sector, ya venimos siguiendo algunas de ellas desde hace algún tiempo, aunque ahora tendrán cada vez más importancia para ofrecer ventajas comparativas a las empresas que puedan implementarlas, respecto de las que no puedan hacerlo.\"\"\"\n",
    "    },\n",
    "    {\n",
    "        \"content\": \"\"\"As AI continues to evolve, corporate integrity will play a crucial role in shaping its future regulation. The @World Economic Forum points out that as organizations increasingly adopt #AI technologies, they must ensure transparency, accountability, and fairness in their use. While AI holds great potential, its ethical management is key to building trust and ensuring long-term success. Striking the right balance between innovation and responsible practices is not just a regulatory requirement but a corporate responsibility.\"\"\"\n",
    "    },\n",
    "    {\n",
    "        \"content\": \"\"\"Synthetic #data is gaining traction because it allows companies to obtain data much faster and at a significantly lower cost. These datasets offer a way to bypass privacy concerns and access limitations with real-world data. However, as this @TechCrunch article highlights, synthetic data also brings challenges, especially when it comes to ensuring data quality and avoiding the introduction of biases. As we embrace the benefits, we must also be mindful of these potential risks.\"\"\"\n",
    "    },\n",
    "\n",
    "]\n",
    "\n",
    "task_instructions = [\n",
    "    \"Use the article summary to craft a short LinkedIn post (max 75 words)\",\n",
    "    \"Keep the language clear and thoughtful\",\n",
    "    \"Highlight the key insight, and add a brief reflection or perspective from her point of view\",\n",
    "    \"Avoid generic buzzwords — focus on what feels real and actionable\"\n",
    "]\n",
    "\n",
    "if random() < 0.5:\n",
    "    task_instructions.append(\"Only when appropriate, include a call to action or question to engage her audience, but don't overdo it\")\n",
    "\n",
    "base_post_generation_prompt = f\"\"\"\n",
    "You are a content writer creating LinkedIn posts for a tech-savvy business executive. Your job is to turn article summaries into short, thoughtful LinkedIn posts that reflect her tone and professional perspective.\n",
    "\n",
    "About the executive:\n",
    "- Chief Digital & Data Officer at Damm, a leading Spanish company in the beverage industry\n",
    "- Originally trained as an economist, she has built a diverse career in finance, operations, corporate management, and now leads AI and data strategy\n",
    "- She is passionate about continuous learning, meaningful innovation, and using data to drive smart, human-centered change\n",
    "- She values humility, clarity, and forward-thinking — her tone is authentic, reflective, and professional\n",
    "- She writes to share insights, spark ideas, and encourage open discussion around innovation and leadership\n",
    "\n",
    "Your task:\n",
    "{\"\\n-\".join(task_instructions)}\n",
    "\n",
    "Here are some examples of her past posts to guide your writing style and tone:\n",
    "\n",
    "\"\"\" + \"\\n\\n\".join([f\"Example {i+1}:\\n{post['content']}\" for i, post in enumerate(past_posts)])\n",
    "\n",
    "base_post_generation_prompt = dedent(base_post_generation_prompt).strip()\n",
    "\n",
    "print(base_post_generation_prompt)"
   ]
  },
  {
   "cell_type": "code",
   "execution_count": 114,
   "id": "aff36554",
   "metadata": {},
   "outputs": [
    {
     "name": "stdout",
     "output_type": "stream",
     "text": [
      "El contraste entre las impresionantes exhibiciones de capacidades robóticas, como los robots bailarines de Tesla, y las duras realidades de los entornos industriales es impactante. Como se señala en @The Conversation, el verdadero desafío radica en permitir que los robots operen de manera autónoma en medio de la imprevisibilidad. Para nosotros, como líderes, esto sirve como un recordatorio para priorizar la investigación que conecte la innovación con la viabilidad operativa. ¿Cómo podemos cerrar mejor esta brecha para garantizar que la robótica aporte un valor real en nuestras industrias?\n"
     ]
    }
   ],
   "source": [
    "text = \"\"\"\n",
    "The contrast between the impressive displays of robotic capabilities, like Tesla's dancing robots, and the harsh realities of industrial environments is striking. As noted in @The Conversation, the true challenge lies in enabling robots to operate autonomously amidst unpredictability. For us as leaders, this serves as a reminder to prioritize research that connects innovation with operational feasibility. How can we better bridge this gap to ensure robotics provide real value in our industries?\n",
    "\"\"\"\n",
    "\n",
    "messages = [\n",
    "    {\"role\": \"system\", \"content\": \"translate the following text to spanish\"},\n",
    "    {\"role\": \"user\", \"content\": dedent(text)},\n",
    "]\n",
    "response = client.chat.completions.create(\n",
    "    model=\"gpt-4o-mini\", messages=messages, temperature=0.7\n",
    ")\n",
    "\n",
    "response_raw = response.choices[0].message.content\n",
    "print(response_raw)"
   ]
  },
  {
   "cell_type": "code",
   "execution_count": null,
   "id": "6657cc23",
   "metadata": {},
   "outputs": [],
   "source": []
  },
  {
   "cell_type": "code",
   "execution_count": 95,
   "id": "a181ad4b",
   "metadata": {},
   "outputs": [],
   "source": [
    "def generate_linkedin_post(chosen_article):\n",
    "    past_posts = [\n",
    "    {\n",
    "        \"content\": \"\"\"What happened to the metaverse? While in 2021 it generated a lot of expectations, and seemed to be the technology of the future, with infinite applications and great advantages for brands, suddenly that hype faded. This article explains some of the reasons for this interesting and once-unexpected development.\"\"\"\n",
    "    },\n",
    "    {\n",
    "        \"content\": \"\"\"It is fascinating how the roles between science and technology are evolving. For centuries, science was the driver of technological development, but today that dynamic is reversing.\n",
    "    This article from the @World Economic Forum highlights how technology is pushing the boundaries of what is possible in science, opening up new opportunities for knowledge.\"\"\"\n",
    "    },\n",
    "    {\n",
    "    \"content\": \"\"\"Este artículo de @Forbes Argentina recoge las tendencias de datos que transformarán el modo en el que las empresas recolectan, procesan y extraen los datos en 2025. Quienes estamos en el sector, ya venimos siguiendo algunas de ellas desde hace algún tiempo, aunque ahora tendrán cada vez más importancia para ofrecer ventajas comparativas a las empresas que puedan implementarlas, respecto de las que no puedan hacerlo.\"\"\"\n",
    "    },\n",
    "    {\n",
    "        \"content\": \"\"\"As AI continues to evolve, corporate integrity will play a crucial role in shaping its future regulation. The @World Economic Forum points out that as organizations increasingly adopt #AI technologies, they must ensure transparency, accountability, and fairness in their use. While AI holds great potential, its ethical management is key to building trust and ensuring long-term success. Striking the right balance between innovation and responsible practices is not just a regulatory requirement but a corporate responsibility.\"\"\"\n",
    "    },\n",
    "    {\n",
    "        \"content\": \"\"\"Synthetic #data is gaining traction because it allows companies to obtain data much faster and at a significantly lower cost. These datasets offer a way to bypass privacy concerns and access limitations with real-world data. However, as this @TechCrunch article highlights, synthetic data also brings challenges, especially when it comes to ensuring data quality and avoiding the introduction of biases. As we embrace the benefits, we must also be mindful of these potential risks.\"\"\"\n",
    "    },\n",
    "\n",
    "    ]\n",
    "\n",
    "    task_instructions = [\n",
    "    \"Use the article summary to craft a short LinkedIn post (max 75 words)\",\n",
    "    \"Keep the language clear and thoughtful\",\n",
    "    \"Highlight the key insight, and add a brief reflection or perspective from her point of view\",\n",
    "    \"Avoid generic buzzwords — focus on what feels real and actionable\"\n",
    "    ]\n",
    "\n",
    "    if random() < 0.5:\n",
    "        print(\"Adding call to action\")\n",
    "        task_instructions.append(\"Only when appropriate, include a call to action or question to engage her audience, but don't overdo it\")\n",
    "\n",
    "    base_post_generation_prompt = f\"\"\"\n",
    "    You are a content writer creating LinkedIn posts for a tech-savvy business executive. Your job is to turn article summaries into short, thoughtful LinkedIn posts that reflect her tone and professional perspective.\n",
    "\n",
    "    About the executive:\n",
    "    - Chief Digital & Data Officer at Damm, a leading Spanish company in the beverage industry\n",
    "    - Originally trained as an economist, she has built a diverse career in finance, operations, corporate management, and now leads AI and data strategy\n",
    "    - She is passionate about continuous learning, meaningful innovation, and using data to drive smart, human-centered change\n",
    "    - She values humility, clarity, and forward-thinking — her tone is authentic, reflective, and professional\n",
    "    - She writes to share insights, spark ideas, and encourage open discussion around innovation and leadership\n",
    "\n",
    "    Your task:\n",
    "    {\"\\n-\".join(task_instructions)}\n",
    "\n",
    "    Here are some examples of her past posts to guide your writing style and tone:\n",
    "\n",
    "    \"\"\" + \"\\n\\n\".join([f\"Example {i+1}:\\n{post['content']}\" for i, post in enumerate(past_posts)])\n",
    "\n",
    "    user_message = f\"Here's the article info:\\n\\n{json.dumps(chosen_article, indent=4)}\\n\\n\"\n",
    "\n",
    "    base_post_generation_prompt = dedent(base_post_generation_prompt).strip()\n",
    "    user_message = dedent(user_message).strip()\n",
    "\n",
    "    messages = [\n",
    "        {\"role\": \"system\", \"content\": base_post_generation_prompt},\n",
    "        {\"role\": \"user\", \"content\": user_message},\n",
    "    ]\n",
    "    response = client.chat.completions.create(\n",
    "        model=\"gpt-4o-mini\", messages=messages, temperature=0.7\n",
    "    )\n",
    "\n",
    "    response_raw = response.choices[0].message.content\n",
    "    return response_raw.strip()"
   ]
  },
  {
   "cell_type": "code",
   "execution_count": 58,
   "id": "587dd8b5",
   "metadata": {},
   "outputs": [
    {
     "name": "stdout",
     "output_type": "stream",
     "text": [
      "[\"As artificial intelligence (AI) gains traction across industries, many companies are eager to leverage it for increased productivity, yet challenges remain in fully realizing its potential. Research suggests that while AI cannot replace skilled workers, those adept at using AI tools will have a competitive edge. Professionals must embrace continuous learning to stay relevant in evolving business landscapes.\\n\\nFor HR and talent acquisition, AI offers tangible benefits by streamlining repetitive tasks such as resume summaries and job description drafting, allowing HR leaders to prioritize strategic initiatives. Responsible AI adoption is key, requiring businesses to align tools with company values and conduct rigorous evaluations for compliance and fairness. Furthermore, measuring AI's long-term impact on metrics like candidate quality, retention, and satisfaction remains essential for sustained success.\\n\\nUltimately, adopting AI thoughtfully empowers organizations to enhance hiring processes, increase efficiency, and remain competitive in dynamic markets. Professionals and business leaders who integrate AI capabilities effectively are well-positioned to achieve significant workplace advantages.\"\n",
      " 'Así están convirtiendo la ansiedad por la IA en una ventaja los equipos de contratación'\n",
      " 'business_insider']\n",
      "['Elad Gil, a prominent venture capitalist, is leveraging AI not only to invest in cutting-edge startups but also to transform mature, traditional businesses through a novel roll-up strategy. His approach involves acquiring people-intensive companies, such as law firms, and using generative AI to improve margins and scale operations by automating repetitive tasks like coding, sales outreach, and back-office processes. By increasing profitability and cash flow, these AI-enabled businesses can acquire further companies more effectively, creating a unique competitive advantage.\\n\\nGil has already backed companies like Harvey, Abridge, and Sierra AI, which focus on legal, healthcare, and customer service AI applications. He notes that while the market for AI is rapidly solidifying, identifying clear winners in specific sectors such as legal and healthcare is becoming possible. For professionals, this illustrates how AI can fundamentally reshape industries, providing significant opportunities for efficiency, scalability, and market leadership.\\n\\nThis AI-driven roll-up model represents a shift from traditional technology-enabled consolidation efforts, offering a tangible way to transform cost structures and business models. With increasing attention on such strategies, leaders should closely monitor how AI can redefine operations in their industries.'\n",
      " 'Early AI investor Elad Gil finds his next big bet: AI-powered rollups'\n",
      " 'techcrunch']\n",
      "['The article highlights the growing shift towards an \"AI-first\" organizational paradigm, where artificial intelligence is becoming the central axis for decision-making and workforce dynamics. Companies like Duolingo and Shopify are leading this transformation by prioritizing automation in tasks and redefining employee expectations based on their ability to utilize AI effectively. This cultural shift impacts hiring, promotions, and team workflows, as businesses justify human roles against viable automated alternatives.\\n\\nKey insights include the integration of AI into every aspect of work, with employees expected to demonstrate competence in leveraging its tools. This not only changes the definition of workplace competency but also addresses tensions between efficiency gains and potential social costs. For professionals and leaders, understanding and adapting to this AI-driven reorganization will be critical to sustaining competitive advantage and navigating the future of work.'\n",
      " 'La inteligencia artificial toma el mando: Las empresas ya no contratarán si una IA puede hacer el trabajo'\n",
      " 'gizmodo']\n",
      "['The article highlights the shift towards an \"AI-first\" paradigm in business decision-making and operations, where artificial intelligence is prioritized over human involvement in tasks and workflows. Companies like Duolingo and Shopify are leading this transformation by implementing policies that favor automation and require employees to integrate AI into their daily responsibilities. Hiring and retention decisions are increasingly tied to an individual\\'s ability to work effectively with AI tools.\\n\\nThis shift is transforming the definition of workplace competence, emphasizing not just technical skills but also proficiency in leveraging AI for efficiency and innovation. While this approach offers significant gains in productivity, it also raises concerns about potential worker exclusion and broader social implications. Business leaders must navigate this transition carefully to balance technological advancement with workforce empowerment.'\n",
      " 'La inteligencia artificial toma el mando: las empresas dejan de contratar si una IA puede hacer el trabajo'\n",
      " 'gizmodo']\n",
      "[\"Nickel LaMoreaux, Senior Vice President and Chief Human Resources Officer at IBM, argues that HR should lead organizations in successfully adopting AI, as effective implementation goes beyond technical expertise to involve culture, processes, and people. Speaking at LinkedIn’s “Conversations with CHROs” forum, LaMoreaux emphasized that while technical departments focus on immediate functionalities, HR understands workforce dynamics and long-term impacts on talent. \\n\\nAt IBM, integrating AI in talent management revealed gaps between traditional performance metrics and the skills required for future business needs, prompting the company to prioritize qualities such as curiosity, adaptability, and resilience over solely technical abilities. This approach underscores AI's potential not as a threat but as a driver for workforce transformation, with HR playing a critical role in managing change and fostering continuous learning. For business leaders, it highlights the importance of aligning AI adoption with organizational culture and preparing teams for evolving industry demands.\"\n",
      " 'El inesperado protagonista que debería liderar el futuro de la inteligencia artificial en tu empresa'\n",
      " 'gizmodo']\n"
     ]
    }
   ],
   "source": [
    "query = \"Insights related to adoption of ai in large enterprises\"\n",
    "\n",
    "indices = query_embeddings(query)\n",
    "\n",
    "for x in pd_all_info.iloc[indices[0]][[\"summary\", \"article_title\", \"source_name\"]].values:\n",
    "    print(x)"
   ]
  },
  {
   "cell_type": "code",
   "execution_count": 66,
   "id": "951b5441",
   "metadata": {},
   "outputs": [
    {
     "name": "stdout",
     "output_type": "stream",
     "text": [
      "As AI continues to reshape the hiring landscape, it’s clear that the real advantage lies not in replacing skilled workers, but in empowering them. This @Business Insider article highlights how HR teams can leverage AI to streamline processes, allowing for a focus on strategic initiatives. However, responsible adoption is crucial—aligning AI tools with company values and rigorously evaluating their impact is essential. How are you integrating AI in your hiring practices while ensuring fairness and compliance?\n",
      "https://www.businessinsider.es/tecnologia/estan-convirtiendo-ansiedad-ia-ventaja-equipos-contratacion-1459114\n"
     ]
    }
   ],
   "source": [
    "chosen_article = pd_all_info.iloc[indices[0][0]]\n",
    "gen_post = generate_linkedin_post(chosen_article[[\"source_name\", \"article_title\", \"summary\"]].to_dict())\n",
    "save_text = gen_post + \"\\n\" + chosen_article[[\"article_url\"]].values[0]\n",
    "print(save_text)"
   ]
  },
  {
   "cell_type": "code",
   "execution_count": 67,
   "id": "5e2f3492",
   "metadata": {},
   "outputs": [],
   "source": [
    "with open(\"Laura_Gil_gen_linkedin_posts_proves.txt\", \"a\") as f:\n",
    "    f.write(save_text + \"\\n\\n\")"
   ]
  },
  {
   "cell_type": "code",
   "execution_count": 70,
   "id": "8a35c419",
   "metadata": {},
   "outputs": [
    {
     "name": "stdout",
     "output_type": "stream",
     "text": [
      "['Watch&Act emphasizes that successful technological integration requires prioritizing people, building their skills, and fostering a corporate culture that supports the overall strategy. The Spanish consulting firm argues that adopting appropriate technologies enhances efficiency, decision-making, and talent attraction, but the success of these transformations ultimately relies on employee engagement. \\n\\nTo guide companies, Watch&Act outlines a seven-step roadmap focusing on key actions such as identifying impactful technologies, aligning organizational structures and culture, addressing skill gaps through reskilling/upskilling plans, and establishing efficiency metrics tied to business outcomes. For 2024, the firm highlights challenges related to integrating emerging technologies, fostering agile and innovative organizational setups, and ensuring actionable implementations within time and budget constraints. \\n\\nThis approach matters to professionals and business leaders because it underscores the importance of not just adopting technology, but also creating an inclusive and empowered environment where employees can thrive, directly driving organizational progress and competitive advantage in a rapidly evolving digital landscape.'\n",
      " '7 metas que deberán marcar la relación de las empresas con la tecnología en 2024'\n",
      " 'itespresso']\n",
      "['The article highlights the growing shift towards an \"AI-first\" organizational paradigm, where artificial intelligence is becoming the central axis for decision-making and workforce dynamics. Companies like Duolingo and Shopify are leading this transformation by prioritizing automation in tasks and redefining employee expectations based on their ability to utilize AI effectively. This cultural shift impacts hiring, promotions, and team workflows, as businesses justify human roles against viable automated alternatives.\\n\\nKey insights include the integration of AI into every aspect of work, with employees expected to demonstrate competence in leveraging its tools. This not only changes the definition of workplace competency but also addresses tensions between efficiency gains and potential social costs. For professionals and leaders, understanding and adapting to this AI-driven reorganization will be critical to sustaining competitive advantage and navigating the future of work.'\n",
      " 'La inteligencia artificial toma el mando: Las empresas ya no contratarán si una IA puede hacer el trabajo'\n",
      " 'gizmodo']\n",
      "['The article highlights the shift towards an \"AI-first\" paradigm in business decision-making and operations, where artificial intelligence is prioritized over human involvement in tasks and workflows. Companies like Duolingo and Shopify are leading this transformation by implementing policies that favor automation and require employees to integrate AI into their daily responsibilities. Hiring and retention decisions are increasingly tied to an individual\\'s ability to work effectively with AI tools.\\n\\nThis shift is transforming the definition of workplace competence, emphasizing not just technical skills but also proficiency in leveraging AI for efficiency and innovation. While this approach offers significant gains in productivity, it also raises concerns about potential worker exclusion and broader social implications. Business leaders must navigate this transition carefully to balance technological advancement with workforce empowerment.'\n",
      " 'La inteligencia artificial toma el mando: las empresas dejan de contratar si una IA puede hacer el trabajo'\n",
      " 'gizmodo']\n",
      "[\"The World Economic Forum's Technology Convergence Report highlights how combining eight foundational technology domains — including AI, robotics, quantum technology, and engineering biology — is driving a new innovation paradigm capable of transforming industries and markets. Instead of isolated advancements, the report emphasizes the power of synergistic technology pairings to create unprecedented business opportunities and new value chains. The accompanying 3C Framework (Combination, Convergence, Compounding) offers organizations a strategic approach to harness these intersections for competitive advantage and ecosystem transformation.\\n\\nReal-world examples, such as advancements in electric vehicles, digital twin ecosystems, and hybrid quantum-classical computing, showcase how convergence is already reshaping industries by enabling greater efficiency, innovation, and sustainability. For business leaders, understanding and leveraging these technology combinations is critical to staying ahead in a rapidly evolving landscape, where early adoption may secure long-term strategic advantages. This report provides actionable insights for integrating emerging tech into core capabilities and aligning with the opportunities inherent in the new era of accelerated convergence.\"\n",
      " \"Technology convergence and the 'intelligent age'\" 'world_economic_forum']\n",
      "[\"Nickel LaMoreaux, Senior Vice President and Chief Human Resources Officer at IBM, argues that HR should lead organizations in successfully adopting AI, as effective implementation goes beyond technical expertise to involve culture, processes, and people. Speaking at LinkedIn’s “Conversations with CHROs” forum, LaMoreaux emphasized that while technical departments focus on immediate functionalities, HR understands workforce dynamics and long-term impacts on talent. \\n\\nAt IBM, integrating AI in talent management revealed gaps between traditional performance metrics and the skills required for future business needs, prompting the company to prioritize qualities such as curiosity, adaptability, and resilience over solely technical abilities. This approach underscores AI's potential not as a threat but as a driver for workforce transformation, with HR playing a critical role in managing change and fostering continuous learning. For business leaders, it highlights the importance of aligning AI adoption with organizational culture and preparing teams for evolving industry demands.\"\n",
      " 'El inesperado protagonista que debería liderar el futuro de la inteligencia artificial en tu empresa'\n",
      " 'gizmodo']\n"
     ]
    }
   ],
   "source": [
    "query = \"Driving cultural change through technology\"\n",
    "indices = query_embeddings(query)\n",
    "for x in pd_all_info.iloc[indices[0]][[\"summary\", \"article_title\", \"source_name\"]].values:\n",
    "    print(x)"
   ]
  },
  {
   "cell_type": "code",
   "execution_count": 73,
   "id": "85c788bb",
   "metadata": {},
   "outputs": [
    {
     "name": "stdout",
     "output_type": "stream",
     "text": [
      "As we look towards 2024, successful tech integration hinges on prioritizing our people. The insights from @itespresso highlight a seven-step roadmap that emphasizes skill development, cultural alignment, and employee engagement as critical components for leveraging technology effectively. It’s a reminder that our digital transformations will only succeed if we foster an inclusive environment where everyone can thrive. How are you ensuring your team is equipped for the evolving landscape?\n",
      "https://www.itespresso.es/objetivos-relacion-empresas-tecnologia-243911.html\n"
     ]
    }
   ],
   "source": [
    "chosen_article = pd_all_info.iloc[indices[0][0]]\n",
    "gen_post = generate_linkedin_post(chosen_article[[\"source_name\", \"article_title\", \"summary\"]].to_dict())\n",
    "save_text = gen_post + \"\\n\" + chosen_article[[\"article_url\"]].values[0]\n",
    "print(save_text)"
   ]
  },
  {
   "cell_type": "code",
   "execution_count": 74,
   "id": "2be5bad0",
   "metadata": {},
   "outputs": [],
   "source": [
    "with open(\"Laura_Gil_gen_linkedin_posts_proves.txt\", \"a\") as f:\n",
    "    f.write(save_text + \"\\n\\n\")"
   ]
  },
  {
   "cell_type": "code",
   "execution_count": 75,
   "id": "bc9b1bae",
   "metadata": {},
   "outputs": [
    {
     "name": "stdout",
     "output_type": "stream",
     "text": [
      "['Watch&Act emphasizes that successful technological integration requires prioritizing people, building their skills, and fostering a corporate culture that supports the overall strategy. The Spanish consulting firm argues that adopting appropriate technologies enhances efficiency, decision-making, and talent attraction, but the success of these transformations ultimately relies on employee engagement. \\n\\nTo guide companies, Watch&Act outlines a seven-step roadmap focusing on key actions such as identifying impactful technologies, aligning organizational structures and culture, addressing skill gaps through reskilling/upskilling plans, and establishing efficiency metrics tied to business outcomes. For 2024, the firm highlights challenges related to integrating emerging technologies, fostering agile and innovative organizational setups, and ensuring actionable implementations within time and budget constraints. \\n\\nThis approach matters to professionals and business leaders because it underscores the importance of not just adopting technology, but also creating an inclusive and empowered environment where employees can thrive, directly driving organizational progress and competitive advantage in a rapidly evolving digital landscape.'\n",
      " '7 metas que deberán marcar la relación de las empresas con la tecnología en 2024'\n",
      " 'itespresso']\n",
      "['The article highlights the growing shift towards an \"AI-first\" organizational paradigm, where artificial intelligence is becoming the central axis for decision-making and workforce dynamics. Companies like Duolingo and Shopify are leading this transformation by prioritizing automation in tasks and redefining employee expectations based on their ability to utilize AI effectively. This cultural shift impacts hiring, promotions, and team workflows, as businesses justify human roles against viable automated alternatives.\\n\\nKey insights include the integration of AI into every aspect of work, with employees expected to demonstrate competence in leveraging its tools. This not only changes the definition of workplace competency but also addresses tensions between efficiency gains and potential social costs. For professionals and leaders, understanding and adapting to this AI-driven reorganization will be critical to sustaining competitive advantage and navigating the future of work.'\n",
      " 'La inteligencia artificial toma el mando: Las empresas ya no contratarán si una IA puede hacer el trabajo'\n",
      " 'gizmodo']\n",
      "[\"Christian Klein, CEO of SAP, has spearheaded a transformative shift in the company since his leadership began in 2019. Under his tenure, SAP has embraced cloud computing, streamlined its software offerings, and placed artificial intelligence (AI) at the core of its strategy. A key innovation includes Joule, an AI-powered productivity assistant capable of increasing efficiency by up to 30%. Collaborative initiatives, such as its partnership with AI-based startup Perplexity, highlight SAP's focus on integrating data across systems to solve fragmentation issues.\\n\\nKlein emphasizes that successful transformation extends beyond technology, requiring cultural change and adaptive leadership. Despite initial challenges, such as declining stock prices during the cloud transition, SAP has emerged as Europe's most valuable company with a market valuation of $338 billion. For business leaders, Klein's approach underscores the importance of forward-thinking innovation, adaptability, and a human-centric leadership style in navigating complex organizational change.\"\n",
      " 'De pasante a multimillonario: cómo Christian Klein llegó a ser CEO de SAP'\n",
      " 'gizmodo']\n",
      "[\"A new report from McKinsey and Boardwave highlights Europe's untapped potential to lead in software innovation, contingent on overcoming structural barriers to scaling startups into profitable businesses. While the continent has over 280 software companies generating more than €100 million in annual recurring revenue (ARR), European firms take longer to reach this milestone and lag behind their US counterparts in producing billion-euro success stories. Key challenges include fragmented markets, slower late-stage funding, and conservative corporate norms.\\n\\nDespite these hurdles, the report identifies emerging opportunities—such as AI, geopolitical shifts, and maturing capital infrastructure—that could enable Europe to create global software leaders. To capitalize on these prospects, the report outlines five interventions, including expanding late-stage funding, incentivizing cross-border growth for startups, and strengthening public-private partnerships. Additionally, the EU’s new Startup and Scaleup Strategy introduces reforms like a unified “28th regime” to simplify operations across member states.\\n\\nFor business leaders, this represents a critical moment to accelerate innovation and growth, leveraging enhanced funding models, borderless collaboration, and government support to compete globally in the software space. Success will depend on bold and swift action to unify Europe’s fragmented tech ecosystem.\"\n",
      " 'European software sector at critical ‘inflection point,’ warns McKinsey'\n",
      " 'the_next_web']\n",
      "['The article highlights the shift towards an \"AI-first\" paradigm in business decision-making and operations, where artificial intelligence is prioritized over human involvement in tasks and workflows. Companies like Duolingo and Shopify are leading this transformation by implementing policies that favor automation and require employees to integrate AI into their daily responsibilities. Hiring and retention decisions are increasingly tied to an individual\\'s ability to work effectively with AI tools.\\n\\nThis shift is transforming the definition of workplace competence, emphasizing not just technical skills but also proficiency in leveraging AI for efficiency and innovation. While this approach offers significant gains in productivity, it also raises concerns about potential worker exclusion and broader social implications. Business leaders must navigate this transition carefully to balance technological advancement with workforce empowerment.'\n",
      " 'La inteligencia artificial toma el mando: las empresas dejan de contratar si una IA puede hacer el trabajo'\n",
      " 'gizmodo']\n"
     ]
    }
   ],
   "source": [
    "query = \"Building digital maturity in traditional companies\"\n",
    "indices = query_embeddings(query)\n",
    "for x in pd_all_info.iloc[indices[0]][[\"summary\", \"article_title\", \"source_name\"]].values:\n",
    "    print(x)"
   ]
  },
  {
   "cell_type": "code",
   "execution_count": 77,
   "id": "7c6af640",
   "metadata": {},
   "outputs": [
    {
     "name": "stdout",
     "output_type": "stream",
     "text": [
      "Christian Klein's journey from intern to CEO of SAP is a remarkable testament to the power of transformative leadership. His focus on cloud computing and AI, exemplified by innovations like Joule, showcases how technology can enhance efficiency and drive growth. Yet, as he rightly points out, successful transformation isn't solely about tech—it demands a cultural shift and adaptive leadership. In our fast-evolving landscape, how are we fostering a human-centric approach in our organizations?\n",
      "https://es.gizmodo.com/de-pasante-a-multimillonario-empezo-cargando-monitores-y-ahora-es-ceo-de-la-empresa-mas-valiosa-de-europa-2000171380\n"
     ]
    }
   ],
   "source": [
    "chosen_article = pd_all_info.iloc[indices[0][2]]\n",
    "gen_post = generate_linkedin_post(chosen_article[[\"source_name\", \"article_title\", \"summary\"]].to_dict())\n",
    "save_text = gen_post + \"\\n\" + chosen_article[[\"article_url\"]].values[0]\n",
    "print(save_text)"
   ]
  },
  {
   "cell_type": "code",
   "execution_count": 78,
   "id": "2b0ad811",
   "metadata": {},
   "outputs": [],
   "source": [
    "with open(\"Laura_Gil_gen_linkedin_posts_proves.txt\", \"a\") as f:\n",
    "    f.write(save_text + \"\\n\\n\")"
   ]
  },
  {
   "cell_type": "code",
   "execution_count": 79,
   "id": "e8121471",
   "metadata": {},
   "outputs": [
    {
     "name": "stdout",
     "output_type": "stream",
     "text": [
      "['The article highlights the shift towards an \"AI-first\" paradigm in business decision-making and operations, where artificial intelligence is prioritized over human involvement in tasks and workflows. Companies like Duolingo and Shopify are leading this transformation by implementing policies that favor automation and require employees to integrate AI into their daily responsibilities. Hiring and retention decisions are increasingly tied to an individual\\'s ability to work effectively with AI tools.\\n\\nThis shift is transforming the definition of workplace competence, emphasizing not just technical skills but also proficiency in leveraging AI for efficiency and innovation. While this approach offers significant gains in productivity, it also raises concerns about potential worker exclusion and broader social implications. Business leaders must navigate this transition carefully to balance technological advancement with workforce empowerment.'\n",
      " 'La inteligencia artificial toma el mando: las empresas dejan de contratar si una IA puede hacer el trabajo'\n",
      " 'gizmodo']\n",
      "['Elad Gil, a prominent venture capitalist, is leveraging AI not only to invest in cutting-edge startups but also to transform mature, traditional businesses through a novel roll-up strategy. His approach involves acquiring people-intensive companies, such as law firms, and using generative AI to improve margins and scale operations by automating repetitive tasks like coding, sales outreach, and back-office processes. By increasing profitability and cash flow, these AI-enabled businesses can acquire further companies more effectively, creating a unique competitive advantage.\\n\\nGil has already backed companies like Harvey, Abridge, and Sierra AI, which focus on legal, healthcare, and customer service AI applications. He notes that while the market for AI is rapidly solidifying, identifying clear winners in specific sectors such as legal and healthcare is becoming possible. For professionals, this illustrates how AI can fundamentally reshape industries, providing significant opportunities for efficiency, scalability, and market leadership.\\n\\nThis AI-driven roll-up model represents a shift from traditional technology-enabled consolidation efforts, offering a tangible way to transform cost structures and business models. With increasing attention on such strategies, leaders should closely monitor how AI can redefine operations in their industries.'\n",
      " 'Early AI investor Elad Gil finds his next big bet: AI-powered rollups'\n",
      " 'techcrunch']\n",
      "['JPMorgan Chase is leveraging artificial intelligence (AI) to transform workflows and enhance efficiency across its business units. CFO Jeremy Barnum highlighted AI-driven advancements during the 2025 Investor Day, emphasizing tools like \"vibe coding,\" fraud detection systems, and generative AI platforms accessible to over 200,000 employees. These technologies have reduced service costs by 30%, improved fraud prevention, personalized customer experiences, and significantly boosted productivity in wealth management, with some AI tools multiplying advisory efficiency 3.4 times.\\n\\nKey AI applications include tools like Smart Monitor, which reduces research time for portfolio managers by 83%, Connect Coach offering real-time recommendations for wealth advisors, and predictive models optimizing risk-based decision-making in investment banking. Over 175 AI use cases have been deployed in areas such as client onboarding and payment processing, with measurable impacts like a 40% cost reduction in verification processes and streamlined payment transaction handling.\\n\\nFor business leaders and professionals, this AI-driven transformation highlights the growing importance of integrating advanced technologies to enhance efficiency, reduce costs, and stay competitive in fast-evolving industries. JPMorgan\\'s $18 billion technology investment signals the strategic value AI offers in reshaping how businesses operate while preparing for future scalability.'\n",
      " 'Así está transformando la inteligencia artificial el banco más grande de Estados Unidos'\n",
      " 'business_insider']\n",
      "['The article highlights the growing shift towards an \"AI-first\" organizational paradigm, where artificial intelligence is becoming the central axis for decision-making and workforce dynamics. Companies like Duolingo and Shopify are leading this transformation by prioritizing automation in tasks and redefining employee expectations based on their ability to utilize AI effectively. This cultural shift impacts hiring, promotions, and team workflows, as businesses justify human roles against viable automated alternatives.\\n\\nKey insights include the integration of AI into every aspect of work, with employees expected to demonstrate competence in leveraging its tools. This not only changes the definition of workplace competency but also addresses tensions between efficiency gains and potential social costs. For professionals and leaders, understanding and adapting to this AI-driven reorganization will be critical to sustaining competitive advantage and navigating the future of work.'\n",
      " 'La inteligencia artificial toma el mando: Las empresas ya no contratarán si una IA puede hacer el trabajo'\n",
      " 'gizmodo']\n",
      "[\"As artificial intelligence (AI) gains traction across industries, many companies are eager to leverage it for increased productivity, yet challenges remain in fully realizing its potential. Research suggests that while AI cannot replace skilled workers, those adept at using AI tools will have a competitive edge. Professionals must embrace continuous learning to stay relevant in evolving business landscapes.\\n\\nFor HR and talent acquisition, AI offers tangible benefits by streamlining repetitive tasks such as resume summaries and job description drafting, allowing HR leaders to prioritize strategic initiatives. Responsible AI adoption is key, requiring businesses to align tools with company values and conduct rigorous evaluations for compliance and fairness. Furthermore, measuring AI's long-term impact on metrics like candidate quality, retention, and satisfaction remains essential for sustained success.\\n\\nUltimately, adopting AI thoughtfully empowers organizations to enhance hiring processes, increase efficiency, and remain competitive in dynamic markets. Professionals and business leaders who integrate AI capabilities effectively are well-positioned to achieve significant workplace advantages.\"\n",
      " 'Así están convirtiendo la ansiedad por la IA en una ventaja los equipos de contratación'\n",
      " 'business_insider']\n"
     ]
    }
   ],
   "source": [
    "query = \"Data driven decision making in large enterprises\"\n",
    "indices = query_embeddings(query)\n",
    "for x in pd_all_info.iloc[indices[0]][[\"summary\", \"article_title\", \"source_name\"]].values:\n",
    "    print(x)"
   ]
  },
  {
   "cell_type": "code",
   "execution_count": 98,
   "id": "616737a2",
   "metadata": {},
   "outputs": [
    {
     "data": {
      "text/plain": [
       "array(['the_next_web', 'itespresso', 'business_insider', 'techcrunch',\n",
       "       'the_verge', 'gizmodo', 'world_economic_forum', 'wired',\n",
       "       'the_conversation', 'cnet'], dtype=object)"
      ]
     },
     "execution_count": 98,
     "metadata": {},
     "output_type": "execute_result"
    }
   ],
   "source": [
    "pd_all_info[\"source_name\"].unique()"
   ]
  },
  {
   "cell_type": "code",
   "execution_count": 82,
   "id": "e25a9e98",
   "metadata": {},
   "outputs": [
    {
     "data": {
      "text/html": [
       "<div>\n",
       "<style scoped>\n",
       "    .dataframe tbody tr th:only-of-type {\n",
       "        vertical-align: middle;\n",
       "    }\n",
       "\n",
       "    .dataframe tbody tr th {\n",
       "        vertical-align: top;\n",
       "    }\n",
       "\n",
       "    .dataframe thead th {\n",
       "        text-align: right;\n",
       "    }\n",
       "</style>\n",
       "<table border=\"1\" class=\"dataframe\">\n",
       "  <thead>\n",
       "    <tr style=\"text-align: right;\">\n",
       "      <th></th>\n",
       "      <th>article_id</th>\n",
       "      <th>summary_embedding</th>\n",
       "      <th>embedding_model</th>\n",
       "      <th>model_x</th>\n",
       "      <th>run_id_x</th>\n",
       "      <th>task_name_x</th>\n",
       "      <th>relevance</th>\n",
       "      <th>article_language</th>\n",
       "      <th>source_name</th>\n",
       "      <th>article_title</th>\n",
       "      <th>...</th>\n",
       "      <th>article_keywords</th>\n",
       "      <th>crawled_at</th>\n",
       "      <th>RUNID</th>\n",
       "      <th>model_y</th>\n",
       "      <th>summary</th>\n",
       "      <th>run_id_y</th>\n",
       "      <th>task_name_y</th>\n",
       "      <th>content</th>\n",
       "      <th>title</th>\n",
       "      <th>publish_date</th>\n",
       "    </tr>\n",
       "  </thead>\n",
       "  <tbody>\n",
       "    <tr>\n",
       "      <th>74</th>\n",
       "      <td>the_conversation_20250604150714567404</td>\n",
       "      <td>[0.007967952638864517, -0.009123989380896091, ...</td>\n",
       "      <td>text-embedding-3-small</td>\n",
       "      <td>gpt-4o-2024-11-20</td>\n",
       "      <td>RUNID_5</td>\n",
       "      <td>relevance_check_v0</td>\n",
       "      <td>2</td>\n",
       "      <td>es</td>\n",
       "      <td>the_conversation</td>\n",
       "      <td>La revolución científica que permitirá acabar ...</td>\n",
       "      <td>...</td>\n",
       "      <td>[Revolución Científica, Tierras Raras, Europa]</td>\n",
       "      <td>2025-06-04 15:07:13</td>\n",
       "      <td>RUNID_5</td>\n",
       "      <td>gpt-4o-2024-11-20</td>\n",
       "      <td>Europe faces an unprecedented shortage of crit...</td>\n",
       "      <td>RUNID_5</td>\n",
       "      <td>article_summarization_v0</td>\n",
       "      <td>Europa está cada día en una posición más delic...</td>\n",
       "      <td>La revolución científica que permitirá acabar ...</td>\n",
       "      <td>2025-06-01</td>\n",
       "    </tr>\n",
       "    <tr>\n",
       "      <th>78</th>\n",
       "      <td>the_conversation_20250604150714557179</td>\n",
       "      <td>[-0.0048592546954751015, 0.0342111811041832, 0...</td>\n",
       "      <td>text-embedding-3-small</td>\n",
       "      <td>gpt-4o-2024-11-20</td>\n",
       "      <td>RUNID_5</td>\n",
       "      <td>relevance_check_v0</td>\n",
       "      <td>2</td>\n",
       "      <td>es</td>\n",
       "      <td>the_conversation</td>\n",
       "      <td>Cómo convertir a ChatGPT en el asistente perfecto</td>\n",
       "      <td>...</td>\n",
       "      <td>[ChatGPT, Asistente Perfecto, Tecnología]</td>\n",
       "      <td>2025-06-04 15:07:13</td>\n",
       "      <td>RUNID_5</td>\n",
       "      <td>gpt-4o-2024-11-20</td>\n",
       "      <td>The article explores how professionals can max...</td>\n",
       "      <td>RUNID_5</td>\n",
       "      <td>article_summarization_v0</td>\n",
       "      <td>El sueño de tener un asistente disponible 24/7...</td>\n",
       "      <td>Cómo convertir a ChatGPT en el asistente perfecto</td>\n",
       "      <td>2025-06-03</td>\n",
       "    </tr>\n",
       "    <tr>\n",
       "      <th>90</th>\n",
       "      <td>the_conversation_20250605110140722690</td>\n",
       "      <td>[0.04472186043858528, 0.009179064072668552, 0....</td>\n",
       "      <td>text-embedding-3-small</td>\n",
       "      <td>gpt-4o-2024-11-20</td>\n",
       "      <td>RUNID_6</td>\n",
       "      <td>relevance_check_v0</td>\n",
       "      <td>2</td>\n",
       "      <td>es</td>\n",
       "      <td>the_conversation</td>\n",
       "      <td>Los robots ya bailan, pero no sobrevivirían a ...</td>\n",
       "      <td>...</td>\n",
       "      <td>[Robots, Automatización, Fábricas]</td>\n",
       "      <td>2025-06-05 11:01:39</td>\n",
       "      <td>RUNID_6</td>\n",
       "      <td>gpt-4o-2024-11-20</td>\n",
       "      <td>The article discusses the divide between advan...</td>\n",
       "      <td>RUNID_6</td>\n",
       "      <td>article_summarization_v0</td>\n",
       "      <td>En la década de 1980, Número 5 y Robocop eran ...</td>\n",
       "      <td>Los robots ya bailan, pero no sobrevivirían a ...</td>\n",
       "      <td>2025-05-29</td>\n",
       "    </tr>\n",
       "    <tr>\n",
       "      <th>96</th>\n",
       "      <td>the_conversation_20250605110140712427</td>\n",
       "      <td>[0.0512881837785244, -0.013626471161842346, 0....</td>\n",
       "      <td>text-embedding-3-small</td>\n",
       "      <td>gpt-4o-2024-11-20</td>\n",
       "      <td>RUNID_6</td>\n",
       "      <td>relevance_check_v0</td>\n",
       "      <td>2</td>\n",
       "      <td>es</td>\n",
       "      <td>the_conversation</td>\n",
       "      <td>¿Podemos juzgar a un algoritmo?</td>\n",
       "      <td>...</td>\n",
       "      <td>[Algoritmos, Juicio, Tecnología]</td>\n",
       "      <td>2025-06-05 11:01:39</td>\n",
       "      <td>RUNID_6</td>\n",
       "      <td>gpt-4o-2024-11-20</td>\n",
       "      <td>The article explores the evolution of algorith...</td>\n",
       "      <td>RUNID_6</td>\n",
       "      <td>article_summarization_v0</td>\n",
       "      <td>Antes de la invención de los ordenadores y de ...</td>\n",
       "      <td>¿Podemos juzgar a un algoritmo?</td>\n",
       "      <td>2025-05-29</td>\n",
       "    </tr>\n",
       "  </tbody>\n",
       "</table>\n",
       "<p>4 rows × 21 columns</p>\n",
       "</div>"
      ],
      "text/plain": [
       "                               article_id  \\\n",
       "74  the_conversation_20250604150714567404   \n",
       "78  the_conversation_20250604150714557179   \n",
       "90  the_conversation_20250605110140722690   \n",
       "96  the_conversation_20250605110140712427   \n",
       "\n",
       "                                    summary_embedding         embedding_model  \\\n",
       "74  [0.007967952638864517, -0.009123989380896091, ...  text-embedding-3-small   \n",
       "78  [-0.0048592546954751015, 0.0342111811041832, 0...  text-embedding-3-small   \n",
       "90  [0.04472186043858528, 0.009179064072668552, 0....  text-embedding-3-small   \n",
       "96  [0.0512881837785244, -0.013626471161842346, 0....  text-embedding-3-small   \n",
       "\n",
       "              model_x run_id_x         task_name_x  relevance  \\\n",
       "74  gpt-4o-2024-11-20  RUNID_5  relevance_check_v0          2   \n",
       "78  gpt-4o-2024-11-20  RUNID_5  relevance_check_v0          2   \n",
       "90  gpt-4o-2024-11-20  RUNID_6  relevance_check_v0          2   \n",
       "96  gpt-4o-2024-11-20  RUNID_6  relevance_check_v0          2   \n",
       "\n",
       "   article_language       source_name  \\\n",
       "74               es  the_conversation   \n",
       "78               es  the_conversation   \n",
       "90               es  the_conversation   \n",
       "96               es  the_conversation   \n",
       "\n",
       "                                        article_title  ...  \\\n",
       "74  La revolución científica que permitirá acabar ...  ...   \n",
       "78  Cómo convertir a ChatGPT en el asistente perfecto  ...   \n",
       "90  Los robots ya bailan, pero no sobrevivirían a ...  ...   \n",
       "96                    ¿Podemos juzgar a un algoritmo?  ...   \n",
       "\n",
       "                                  article_keywords           crawled_at  \\\n",
       "74  [Revolución Científica, Tierras Raras, Europa]  2025-06-04 15:07:13   \n",
       "78       [ChatGPT, Asistente Perfecto, Tecnología]  2025-06-04 15:07:13   \n",
       "90              [Robots, Automatización, Fábricas]  2025-06-05 11:01:39   \n",
       "96                [Algoritmos, Juicio, Tecnología]  2025-06-05 11:01:39   \n",
       "\n",
       "      RUNID            model_y  \\\n",
       "74  RUNID_5  gpt-4o-2024-11-20   \n",
       "78  RUNID_5  gpt-4o-2024-11-20   \n",
       "90  RUNID_6  gpt-4o-2024-11-20   \n",
       "96  RUNID_6  gpt-4o-2024-11-20   \n",
       "\n",
       "                                              summary run_id_y  \\\n",
       "74  Europe faces an unprecedented shortage of crit...  RUNID_5   \n",
       "78  The article explores how professionals can max...  RUNID_5   \n",
       "90  The article discusses the divide between advan...  RUNID_6   \n",
       "96  The article explores the evolution of algorith...  RUNID_6   \n",
       "\n",
       "                 task_name_y  \\\n",
       "74  article_summarization_v0   \n",
       "78  article_summarization_v0   \n",
       "90  article_summarization_v0   \n",
       "96  article_summarization_v0   \n",
       "\n",
       "                                              content  \\\n",
       "74  Europa está cada día en una posición más delic...   \n",
       "78  El sueño de tener un asistente disponible 24/7...   \n",
       "90  En la década de 1980, Número 5 y Robocop eran ...   \n",
       "96  Antes de la invención de los ordenadores y de ...   \n",
       "\n",
       "                                                title publish_date  \n",
       "74  La revolución científica que permitirá acabar ...   2025-06-01  \n",
       "78  Cómo convertir a ChatGPT en el asistente perfecto   2025-06-03  \n",
       "90  Los robots ya bailan, pero no sobrevivirían a ...   2025-05-29  \n",
       "96                    ¿Podemos juzgar a un algoritmo?   2025-05-29  \n",
       "\n",
       "[4 rows x 21 columns]"
      ]
     },
     "execution_count": 82,
     "metadata": {},
     "output_type": "execute_result"
    }
   ],
   "source": [
    "pd_all_info[pd_all_info[\"source_name\"] == \"the_conversation\"]"
   ]
  },
  {
   "cell_type": "code",
   "execution_count": 85,
   "id": "0db59f4f",
   "metadata": {},
   "outputs": [
    {
     "name": "stdout",
     "output_type": "stream",
     "text": [
      "¿Podemos juzgar a un algoritmo? Este artículo de @TheConversation profundiza en la evolución de los algoritmos y su impacto en decisiones que afectan nuestras vidas. A medida que la IA avanza, debemos ser conscientes de los sesgos inherentes en su diseño y entrenamiento, que pueden perpetuar desigualdades. Es crucial que profesionales y académicos trabajen juntos para asegurar la transparencia y la equidad en estos sistemas, recordando que la tecnología debe alinearse con principios éticos y sociales.\n",
      "https://theconversation.com/podemos-juzgar-a-un-algoritmo-257133\n"
     ]
    }
   ],
   "source": [
    "chosen_article = pd_all_info[pd_all_info[\"source_name\"] == \"the_conversation\"].iloc[3]\n",
    "gen_post = generate_linkedin_post(chosen_article[[\"source_name\", \"article_title\", \"summary\"]].to_dict())\n",
    "save_text = gen_post + \"\\n\" + chosen_article[[\"article_url\"]].values[0]\n",
    "print(save_text)"
   ]
  },
  {
   "cell_type": "code",
   "execution_count": 87,
   "id": "42a97745",
   "metadata": {},
   "outputs": [],
   "source": [
    "with open(\"Laura_Gil_gen_linkedin_posts_proves.txt\", \"a\") as f:\n",
    "    f.write(save_text + \"\\n\\n\")"
   ]
  },
  {
   "cell_type": "code",
   "execution_count": 96,
   "id": "30d76d40",
   "metadata": {},
   "outputs": [
    {
     "name": "stdout",
     "output_type": "stream",
     "text": [
      "Adding call to action\n",
      "The contrast between the impressive displays of robotic capabilities, like Tesla's dancing robots, and the harsh realities of industrial environments is striking. As noted in @The Conversation, the true challenge lies in enabling robots to operate autonomously amidst unpredictability. For us as leaders, this serves as a reminder to prioritize research that connects innovation with operational feasibility. How can we better bridge this gap to ensure robotics provide real value in our industries?\n",
      "https://theconversation.com/los-robots-ya-bailan-pero-no-sobrevivirian-a-un-turno-en-la-fabrica-257035\n"
     ]
    }
   ],
   "source": [
    "chosen_article = pd_all_info[pd_all_info[\"source_name\"] == \"the_conversation\"].iloc[2]\n",
    "gen_post = generate_linkedin_post(chosen_article[[\"source_name\", \"article_title\", \"summary\"]].to_dict())\n",
    "save_text = gen_post + \"\\n\" + chosen_article[[\"article_url\"]].values[0]\n",
    "print(save_text)"
   ]
  },
  {
   "cell_type": "code",
   "execution_count": 97,
   "id": "9335acec",
   "metadata": {},
   "outputs": [],
   "source": [
    "with open(\"Laura_Gil_gen_linkedin_posts_proves.txt\", \"a\") as f:\n",
    "    f.write(save_text + \"\\n\\n\")"
   ]
  },
  {
   "cell_type": "code",
   "execution_count": 107,
   "id": "0b0e730d",
   "metadata": {},
   "outputs": [
    {
     "name": "stdout",
     "output_type": "stream",
     "text": [
      "Understanding the distinction between large language models (LLMs) and the AI tools built upon them is essential for navigating today's tech landscape. While LLMs excel in generating text, they also face challenges such as inaccuracies and ethical concerns. As we integrate these technologies into our workflows, we must prioritize transparency and reliability to harness their potential responsibly. This conversation is vital for leaders across industries to ensure that innovation aligns with ethical practices.\n",
      "https://www.cnet.com/tech/services-and-software/llms-and-ai-arent-the-same-everything-you-should-know-about-whats-behind-chatbots/\n"
     ]
    }
   ],
   "source": [
    "chosen_article = pd_all_info[pd_all_info[\"source_name\"] == \"cnet\"].iloc[0]\n",
    "gen_post = generate_linkedin_post(chosen_article[[\"source_name\", \"article_title\", \"summary\"]].to_dict())\n",
    "save_text = gen_post + \"\\n\" + chosen_article[[\"article_url\"]].values[0]\n",
    "print(save_text)"
   ]
  },
  {
   "cell_type": "code",
   "execution_count": 108,
   "id": "5b46ec8b",
   "metadata": {},
   "outputs": [],
   "source": [
    "with open(\"Laura_Gil_gen_linkedin_posts_proves.txt\", \"a\") as f:\n",
    "    f.write(save_text + \"\\n\\n\")"
   ]
  },
  {
   "cell_type": "code",
   "execution_count": 109,
   "id": "37b528fe",
   "metadata": {},
   "outputs": [
    {
     "data": {
      "text/html": [
       "<div>\n",
       "<style scoped>\n",
       "    .dataframe tbody tr th:only-of-type {\n",
       "        vertical-align: middle;\n",
       "    }\n",
       "\n",
       "    .dataframe tbody tr th {\n",
       "        vertical-align: top;\n",
       "    }\n",
       "\n",
       "    .dataframe thead th {\n",
       "        text-align: right;\n",
       "    }\n",
       "</style>\n",
       "<table border=\"1\" class=\"dataframe\">\n",
       "  <thead>\n",
       "    <tr style=\"text-align: right;\">\n",
       "      <th></th>\n",
       "      <th>article_id</th>\n",
       "      <th>summary_embedding</th>\n",
       "      <th>embedding_model</th>\n",
       "      <th>model_x</th>\n",
       "      <th>run_id_x</th>\n",
       "      <th>task_name_x</th>\n",
       "      <th>relevance</th>\n",
       "      <th>article_language</th>\n",
       "      <th>source_name</th>\n",
       "      <th>article_title</th>\n",
       "      <th>...</th>\n",
       "      <th>article_keywords</th>\n",
       "      <th>crawled_at</th>\n",
       "      <th>RUNID</th>\n",
       "      <th>model_y</th>\n",
       "      <th>summary</th>\n",
       "      <th>run_id_y</th>\n",
       "      <th>task_name_y</th>\n",
       "      <th>content</th>\n",
       "      <th>title</th>\n",
       "      <th>publish_date</th>\n",
       "    </tr>\n",
       "  </thead>\n",
       "  <tbody>\n",
       "    <tr>\n",
       "      <th>69</th>\n",
       "      <td>world_economic_forum_20250604150714402182</td>\n",
       "      <td>[0.01600540801882744, 0.026697909459471703, 0....</td>\n",
       "      <td>text-embedding-3-small</td>\n",
       "      <td>gpt-4o-2024-11-20</td>\n",
       "      <td>RUNID_5</td>\n",
       "      <td>relevance_check_v0</td>\n",
       "      <td>2</td>\n",
       "      <td>en</td>\n",
       "      <td>world_economic_forum</td>\n",
       "      <td>Protecting the planet</td>\n",
       "      <td>...</td>\n",
       "      <td>[AI, Environment, Sustainability]</td>\n",
       "      <td>2025-06-04 15:07:13</td>\n",
       "      <td>RUNID_5</td>\n",
       "      <td>gpt-4o-2024-11-20</td>\n",
       "      <td>The article highlights the environmental impac...</td>\n",
       "      <td>RUNID_5</td>\n",
       "      <td>article_summarization_v0</td>\n",
       "      <td>Much of the public discourse around AI centres...</td>\n",
       "      <td>Protecting the planet</td>\n",
       "      <td>None</td>\n",
       "    </tr>\n",
       "    <tr>\n",
       "      <th>72</th>\n",
       "      <td>world_economic_forum_20250604150714391896</td>\n",
       "      <td>[0.02185867540538311, -0.012778171338140965, 0...</td>\n",
       "      <td>text-embedding-3-small</td>\n",
       "      <td>gpt-4o-2024-11-20</td>\n",
       "      <td>RUNID_5</td>\n",
       "      <td>relevance_check_v0</td>\n",
       "      <td>2</td>\n",
       "      <td>en</td>\n",
       "      <td>world_economic_forum</td>\n",
       "      <td>Technology convergence and the 'intelligent age'</td>\n",
       "      <td>...</td>\n",
       "      <td>[Technology, Convergence, Innovation]</td>\n",
       "      <td>2025-06-04 15:07:13</td>\n",
       "      <td>RUNID_5</td>\n",
       "      <td>gpt-4o-2024-11-20</td>\n",
       "      <td>The World Economic Forum's Technology Converge...</td>\n",
       "      <td>RUNID_5</td>\n",
       "      <td>article_summarization_v0</td>\n",
       "      <td>The World Economic Forum’s new Technology Conv...</td>\n",
       "      <td>Technology convergence and the 'intelligent age'</td>\n",
       "      <td>None</td>\n",
       "    </tr>\n",
       "    <tr>\n",
       "      <th>80</th>\n",
       "      <td>world_economic_forum_20250605110140515476</td>\n",
       "      <td>[0.00982700102031231, -0.014021230861544609, 0...</td>\n",
       "      <td>text-embedding-3-small</td>\n",
       "      <td>gpt-4o-2024-11-20</td>\n",
       "      <td>RUNID_6</td>\n",
       "      <td>relevance_check_v0</td>\n",
       "      <td>2</td>\n",
       "      <td>en</td>\n",
       "      <td>world_economic_forum</td>\n",
       "      <td>Chief Economists Outlook: May 2025</td>\n",
       "      <td>...</td>\n",
       "      <td>[economy, outlook, analysis]</td>\n",
       "      <td>2025-06-05 11:01:39</td>\n",
       "      <td>RUNID_6</td>\n",
       "      <td>gpt-4o-2024-11-20</td>\n",
       "      <td>The provided text highlights the organization'...</td>\n",
       "      <td>RUNID_6</td>\n",
       "      <td>article_summarization_v0</td>\n",
       "      <td>Providing a platform for leaders to shape incl...</td>\n",
       "      <td>Chief Economists Outlook: May 2025</td>\n",
       "      <td>None</td>\n",
       "    </tr>\n",
       "  </tbody>\n",
       "</table>\n",
       "<p>3 rows × 21 columns</p>\n",
       "</div>"
      ],
      "text/plain": [
       "                                   article_id  \\\n",
       "69  world_economic_forum_20250604150714402182   \n",
       "72  world_economic_forum_20250604150714391896   \n",
       "80  world_economic_forum_20250605110140515476   \n",
       "\n",
       "                                    summary_embedding         embedding_model  \\\n",
       "69  [0.01600540801882744, 0.026697909459471703, 0....  text-embedding-3-small   \n",
       "72  [0.02185867540538311, -0.012778171338140965, 0...  text-embedding-3-small   \n",
       "80  [0.00982700102031231, -0.014021230861544609, 0...  text-embedding-3-small   \n",
       "\n",
       "              model_x run_id_x         task_name_x  relevance  \\\n",
       "69  gpt-4o-2024-11-20  RUNID_5  relevance_check_v0          2   \n",
       "72  gpt-4o-2024-11-20  RUNID_5  relevance_check_v0          2   \n",
       "80  gpt-4o-2024-11-20  RUNID_6  relevance_check_v0          2   \n",
       "\n",
       "   article_language           source_name  \\\n",
       "69               en  world_economic_forum   \n",
       "72               en  world_economic_forum   \n",
       "80               en  world_economic_forum   \n",
       "\n",
       "                                       article_title  ...  \\\n",
       "69                             Protecting the planet  ...   \n",
       "72  Technology convergence and the 'intelligent age'  ...   \n",
       "80                Chief Economists Outlook: May 2025  ...   \n",
       "\n",
       "                         article_keywords           crawled_at    RUNID  \\\n",
       "69      [AI, Environment, Sustainability]  2025-06-04 15:07:13  RUNID_5   \n",
       "72  [Technology, Convergence, Innovation]  2025-06-04 15:07:13  RUNID_5   \n",
       "80           [economy, outlook, analysis]  2025-06-05 11:01:39  RUNID_6   \n",
       "\n",
       "              model_y                                            summary  \\\n",
       "69  gpt-4o-2024-11-20  The article highlights the environmental impac...   \n",
       "72  gpt-4o-2024-11-20  The World Economic Forum's Technology Converge...   \n",
       "80  gpt-4o-2024-11-20  The provided text highlights the organization'...   \n",
       "\n",
       "   run_id_y               task_name_y  \\\n",
       "69  RUNID_5  article_summarization_v0   \n",
       "72  RUNID_5  article_summarization_v0   \n",
       "80  RUNID_6  article_summarization_v0   \n",
       "\n",
       "                                              content  \\\n",
       "69  Much of the public discourse around AI centres...   \n",
       "72  The World Economic Forum’s new Technology Conv...   \n",
       "80  Providing a platform for leaders to shape incl...   \n",
       "\n",
       "                                               title publish_date  \n",
       "69                             Protecting the planet         None  \n",
       "72  Technology convergence and the 'intelligent age'         None  \n",
       "80                Chief Economists Outlook: May 2025         None  \n",
       "\n",
       "[3 rows x 21 columns]"
      ]
     },
     "execution_count": 109,
     "metadata": {},
     "output_type": "execute_result"
    }
   ],
   "source": [
    "pd_all_info[pd_all_info[\"source_name\"] == \"world_economic_forum\"]"
   ]
  },
  {
   "cell_type": "code",
   "execution_count": 110,
   "id": "b19d918d",
   "metadata": {},
   "outputs": [
    {
     "name": "stdout",
     "output_type": "stream",
     "text": [
      "AI has a dual role: it can significantly impact the environment through high energy consumption, yet it also holds potential for combating climate change. This insightful article from the @World Economic Forum emphasizes the importance of aligning our AI strategies with sustainability practices. As leaders, we must take actionable steps to optimize workflows and partner with renewable energy vendors. Let’s ensure that our innovations not only drive progress but also respect our planet.\n",
      "https://www.weforum.org/stories/2025/06/how-ai-use-impacts-the-environment/\n"
     ]
    }
   ],
   "source": [
    "chosen_article = pd_all_info[pd_all_info[\"source_name\"] == \"world_economic_forum\"].iloc[0]\n",
    "gen_post = generate_linkedin_post(chosen_article[[\"source_name\", \"article_title\", \"summary\"]].to_dict())\n",
    "save_text = gen_post + \"\\n\" + chosen_article[[\"article_url\"]].values[0]\n",
    "print(save_text)"
   ]
  },
  {
   "cell_type": "code",
   "execution_count": 111,
   "id": "5ddf9c8d",
   "metadata": {},
   "outputs": [],
   "source": [
    "with open(\"Laura_Gil_gen_linkedin_posts_proves.txt\", \"a\") as f:\n",
    "    f.write(save_text + \"\\n\\n\")"
   ]
  },
  {
   "cell_type": "code",
   "execution_count": null,
   "id": "3b0bc68d",
   "metadata": {},
   "outputs": [],
   "source": []
  }
 ],
 "metadata": {
  "kernelspec": {
   "display_name": "damm",
   "language": "python",
   "name": "python3"
  },
  "language_info": {
   "codemirror_mode": {
    "name": "ipython",
    "version": 3
   },
   "file_extension": ".py",
   "mimetype": "text/x-python",
   "name": "python",
   "nbconvert_exporter": "python",
   "pygments_lexer": "ipython3",
   "version": "3.12.3"
  }
 },
 "nbformat": 4,
 "nbformat_minor": 5
}
