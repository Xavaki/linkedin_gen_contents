{
 "cells": [
  {
   "cell_type": "code",
   "execution_count": 1,
   "id": "6740975d",
   "metadata": {},
   "outputs": [],
   "source": [
    "import pandas as pd\n",
    "import numpy as np\n",
    "import ast\n",
    "import faiss\n",
    "from openai import AzureOpenAI\n",
    "\n",
    "from dotenv import load_dotenv\n",
    "from azure.storage.blob import BlobServiceClient\n",
    "\n",
    "import os\n",
    "\n",
    "import json\n",
    "\n",
    "from sklearn.decomposition import PCA\n",
    "import numpy as np\n",
    "import pandas as pd\n",
    "import plotly.express as px\n",
    "\n",
    "from random import random\n",
    "from textwrap import dedent"
   ]
  },
  {
   "cell_type": "code",
   "execution_count": 2,
   "id": "66ef5436",
   "metadata": {},
   "outputs": [
    {
     "data": {
      "text/plain": [
       "True"
      ]
     },
     "execution_count": 2,
     "metadata": {},
     "output_type": "execute_result"
    }
   ],
   "source": [
    "load_dotenv('/home/xavaki/DAMM/linkedin_gen_contents/.env')"
   ]
  },
  {
   "cell_type": "code",
   "execution_count": 3,
   "id": "7fdc3f66",
   "metadata": {},
   "outputs": [],
   "source": [
    "blob_service_client = BlobServiceClient.from_connection_string(os.getenv('STORAGE_ACCOUNT_CONNECTION_STRING'))\n",
    "embeddings_container_client = blob_service_client.get_container_client('relevant-articles-summaries-embeddings')\n",
    "relevant_articles_list_container_client = blob_service_client.get_container_client('relevant-articles-list')\n",
    "relevant_articles_summaries_container_client = blob_service_client.get_container_client('relevant-articles-summaries')\n",
    "relevant_articles_content_container_client = blob_service_client.get_container_client('relevant-articles-content')\n",
    "\n",
    "def read_embeddings_from_blob() -> pd.DataFrame:\n",
    "    all_embeddings = []\n",
    "    for blob in embeddings_container_client.list_blobs():\n",
    "        blob_client = embeddings_container_client.get_blob_client(blob)\n",
    "        run_embeddings = json.loads(blob_client.download_blob().readall())\n",
    "        all_embeddings.extend(run_embeddings)\n",
    "\n",
    "    return pd.DataFrame(all_embeddings)\n",
    "\n",
    "def read_relevant_articles_list_from_blob() -> pd.DataFrame:\n",
    "    all_relevant_articles = []\n",
    "    for blob in relevant_articles_list_container_client.list_blobs():\n",
    "        runid = blob.name.split(\"--\")[0]\n",
    "        blob_client = relevant_articles_list_container_client.get_blob_client(blob)\n",
    "        run_relevant_articles = json.loads(blob_client.download_blob().readall())\n",
    "        for a in run_relevant_articles:\n",
    "            a['RUNID'] = runid\n",
    "        all_relevant_articles.extend(run_relevant_articles)\n",
    "\n",
    "    return pd.DataFrame(all_relevant_articles)\n",
    "\n",
    "def read_relevant_articles_summaries_from_blob() -> pd.DataFrame:\n",
    "    all_summaries = []\n",
    "    for blob in relevant_articles_summaries_container_client.list_blobs():\n",
    "        blob_client = relevant_articles_summaries_container_client.get_blob_client(blob)\n",
    "        run_summaries = json.loads(blob_client.download_blob().readall())\n",
    "        all_summaries.extend(run_summaries)\n",
    "\n",
    "    return pd.DataFrame(all_summaries)\n",
    "\n",
    "def read_relevant_articles_content_from_blob() -> pd.DataFrame:\n",
    "    all_content = []\n",
    "    for blob in relevant_articles_content_container_client.list_blob_names():\n",
    "        blob_client = relevant_articles_content_container_client.get_blob_client(blob)\n",
    "        run_content = json.loads(blob_client.download_blob().readall())\n",
    "        run_content.pop(\"content\")\n",
    "        all_content.append(run_content)\n",
    "\n",
    "    return pd.DataFrame(all_content)"
   ]
  },
  {
   "cell_type": "code",
   "execution_count": 4,
   "id": "39e3142c",
   "metadata": {},
   "outputs": [],
   "source": [
    "personas = [\"LAURA GIL\",\"FEDE SEGARRA\",\"ELÍSABETH HERNÁNDEZ\",\"JAUME ALEMANY\", \"RICARDO LECHUGA\",\"JORGE VILLAVECCHIA\",\"SALVADOR MARTÍNEZ\",\"JOFRE RIERA\"]"
   ]
  },
  {
   "cell_type": "code",
   "execution_count": 5,
   "id": "870cade4",
   "metadata": {},
   "outputs": [
    {
     "data": {
      "text/html": [
       "<div>\n",
       "<style scoped>\n",
       "    .dataframe tbody tr th:only-of-type {\n",
       "        vertical-align: middle;\n",
       "    }\n",
       "\n",
       "    .dataframe tbody tr th {\n",
       "        vertical-align: top;\n",
       "    }\n",
       "\n",
       "    .dataframe thead th {\n",
       "        text-align: right;\n",
       "    }\n",
       "</style>\n",
       "<table border=\"1\" class=\"dataframe\">\n",
       "  <thead>\n",
       "    <tr style=\"text-align: right;\">\n",
       "      <th></th>\n",
       "      <th>article_id</th>\n",
       "      <th>title</th>\n",
       "      <th>publish_date</th>\n",
       "    </tr>\n",
       "  </thead>\n",
       "  <tbody>\n",
       "    <tr>\n",
       "      <th>0</th>\n",
       "      <td>business_insider_20250530144751643191</td>\n",
       "      <td>Meta, la matriz de Facebook, planea abrir tien...</td>\n",
       "      <td>2025-05-29</td>\n",
       "    </tr>\n",
       "    <tr>\n",
       "      <th>1</th>\n",
       "      <td>business_insider_20250530144751663668</td>\n",
       "      <td>El ecosistema tecnológico español crece un 22%...</td>\n",
       "      <td>2025-05-28</td>\n",
       "    </tr>\n",
       "    <tr>\n",
       "      <th>2</th>\n",
       "      <td>business_insider_20250530144751673882</td>\n",
       "      <td>Las ventas de Tesla siguen desplomándose en Eu...</td>\n",
       "      <td>2025-05-27</td>\n",
       "    </tr>\n",
       "    <tr>\n",
       "      <th>3</th>\n",
       "      <td>business_insider_20250530144751694527</td>\n",
       "      <td>El CEO de Duolingo revela 5 formas en las que ...</td>\n",
       "      <td>2025-05-27</td>\n",
       "    </tr>\n",
       "    <tr>\n",
       "      <th>4</th>\n",
       "      <td>business_insider_20250530144751704745</td>\n",
       "      <td>Esta es la historia jamás contada de cómo la s...</td>\n",
       "      <td>2025-05-26</td>\n",
       "    </tr>\n",
       "    <tr>\n",
       "      <th>...</th>\n",
       "      <td>...</td>\n",
       "      <td>...</td>\n",
       "      <td>...</td>\n",
       "    </tr>\n",
       "    <tr>\n",
       "      <th>1455</th>\n",
       "      <td>the_next_web_20250616113906108578</td>\n",
       "      <td>European VCs just made a record bet on this fu...</td>\n",
       "      <td>2025-06-11</td>\n",
       "    </tr>\n",
       "    <tr>\n",
       "      <th>1456</th>\n",
       "      <td>the_next_web_20250616113906118818</td>\n",
       "      <td>Opinion: Space startups are pivoting to defenc...</td>\n",
       "      <td>2025-06-13</td>\n",
       "    </tr>\n",
       "    <tr>\n",
       "      <th>1457</th>\n",
       "      <td>world_economic_forum_20250616113906461633</td>\n",
       "      <td>What is The First Movers Coalition?</td>\n",
       "      <td>None</td>\n",
       "    </tr>\n",
       "    <tr>\n",
       "      <th>1458</th>\n",
       "      <td>world_economic_forum_20250616113906472087</td>\n",
       "      <td>Voices for Nature: The call for a new economic...</td>\n",
       "      <td>None</td>\n",
       "    </tr>\n",
       "    <tr>\n",
       "      <th>1459</th>\n",
       "      <td>world_economic_forum_20250616113906492656</td>\n",
       "      <td>Global Risks Report 2025</td>\n",
       "      <td>None</td>\n",
       "    </tr>\n",
       "  </tbody>\n",
       "</table>\n",
       "<p>1460 rows × 3 columns</p>\n",
       "</div>"
      ],
      "text/plain": [
       "                                     article_id  \\\n",
       "0         business_insider_20250530144751643191   \n",
       "1         business_insider_20250530144751663668   \n",
       "2         business_insider_20250530144751673882   \n",
       "3         business_insider_20250530144751694527   \n",
       "4         business_insider_20250530144751704745   \n",
       "...                                         ...   \n",
       "1455          the_next_web_20250616113906108578   \n",
       "1456          the_next_web_20250616113906118818   \n",
       "1457  world_economic_forum_20250616113906461633   \n",
       "1458  world_economic_forum_20250616113906472087   \n",
       "1459  world_economic_forum_20250616113906492656   \n",
       "\n",
       "                                                  title publish_date  \n",
       "0     Meta, la matriz de Facebook, planea abrir tien...   2025-05-29  \n",
       "1     El ecosistema tecnológico español crece un 22%...   2025-05-28  \n",
       "2     Las ventas de Tesla siguen desplomándose en Eu...   2025-05-27  \n",
       "3     El CEO de Duolingo revela 5 formas en las que ...   2025-05-27  \n",
       "4     Esta es la historia jamás contada de cómo la s...   2025-05-26  \n",
       "...                                                 ...          ...  \n",
       "1455  European VCs just made a record bet on this fu...   2025-06-11  \n",
       "1456  Opinion: Space startups are pivoting to defenc...   2025-06-13  \n",
       "1457                What is The First Movers Coalition?         None  \n",
       "1458  Voices for Nature: The call for a new economic...         None  \n",
       "1459                           Global Risks Report 2025         None  \n",
       "\n",
       "[1460 rows x 3 columns]"
      ]
     },
     "execution_count": 5,
     "metadata": {},
     "output_type": "execute_result"
    }
   ],
   "source": [
    "read_relevant_articles_content_from_blob()"
   ]
  },
  {
   "cell_type": "code",
   "execution_count": 6,
   "id": "816e4bee",
   "metadata": {},
   "outputs": [],
   "source": [
    "pd_embeddings = read_embeddings_from_blob()\n",
    "pd_relevant_articles = read_relevant_articles_list_from_blob()\n",
    "pd_relevant_articles_summaries = read_relevant_articles_summaries_from_blob()\n",
    "pd_relevant_articles_content = read_relevant_articles_content_from_blob()\n",
    "# pd_relevant_articles_content.drop(columns=['content'], inplace=True, axis=1)\n",
    "\n",
    "pd_all_info = pd_embeddings.merge(pd_relevant_articles, on=\"article_id\", how=\"inner\")\n",
    "pd_all_info = pd_all_info.merge(pd_relevant_articles_summaries, on=\"article_id\", how=\"inner\")\n",
    "pd_all_info = pd_all_info.merge(pd_relevant_articles_content, on=\"article_id\", how=\"inner\")\n",
    "\n"
   ]
  },
  {
   "cell_type": "code",
   "execution_count": 7,
   "id": "8269f3cb",
   "metadata": {},
   "outputs": [],
   "source": [
    "pd_all_info = pd_all_info[pd_all_info[\"run_id_x\"].isin([\"RUNID_18\"])]"
   ]
  },
  {
   "cell_type": "code",
   "execution_count": 8,
   "id": "079bbda8",
   "metadata": {},
   "outputs": [
    {
     "data": {
      "text/html": [
       "<div>\n",
       "<style scoped>\n",
       "    .dataframe tbody tr th:only-of-type {\n",
       "        vertical-align: middle;\n",
       "    }\n",
       "\n",
       "    .dataframe tbody tr th {\n",
       "        vertical-align: top;\n",
       "    }\n",
       "\n",
       "    .dataframe thead th {\n",
       "        text-align: right;\n",
       "    }\n",
       "</style>\n",
       "<table border=\"1\" class=\"dataframe\">\n",
       "  <thead>\n",
       "    <tr style=\"text-align: right;\">\n",
       "      <th></th>\n",
       "      <th>article_id</th>\n",
       "      <th>summary_embedding</th>\n",
       "      <th>embedding_model</th>\n",
       "      <th>model_x</th>\n",
       "      <th>run_id_x</th>\n",
       "      <th>task_name_x</th>\n",
       "      <th>relevance</th>\n",
       "      <th>article_language</th>\n",
       "      <th>source_name</th>\n",
       "      <th>article_title</th>\n",
       "      <th>...</th>\n",
       "      <th>article_image_url</th>\n",
       "      <th>ddgs_search_query</th>\n",
       "      <th>query_original_personas</th>\n",
       "      <th>crawling_source</th>\n",
       "      <th>model_y</th>\n",
       "      <th>summary</th>\n",
       "      <th>run_id_y</th>\n",
       "      <th>task_name_y</th>\n",
       "      <th>title</th>\n",
       "      <th>publish_date</th>\n",
       "    </tr>\n",
       "  </thead>\n",
       "  <tbody>\n",
       "    <tr>\n",
       "      <th>1198</th>\n",
       "      <td>businessinsider.es_20250718095108846432</td>\n",
       "      <td>[-0.0008376312907785177, -0.04853260517120361,...</td>\n",
       "      <td>text-embedding-3-small</td>\n",
       "      <td>gpt-4o-2024-11-20</td>\n",
       "      <td>RUNID_18</td>\n",
       "      <td>relevance_check_v0</td>\n",
       "      <td>{'LAURA GIL': 2, 'FEDE SEGARRA': 0, 'ELÍSABETH...</td>\n",
       "      <td>es</td>\n",
       "      <td>businessinsider.es</td>\n",
       "      <td>Tesla's geofence innovation for robotaxis</td>\n",
       "      <td>...</td>\n",
       "      <td>NaN</td>\n",
       "      <td>NaN</td>\n",
       "      <td>NaN</td>\n",
       "      <td>jina</td>\n",
       "      <td>gpt-4o-2024-11-20</td>\n",
       "      <td>Tesla has expanded its geofence for robotaxi o...</td>\n",
       "      <td>RUNID_18</td>\n",
       "      <td>article_summarization_v0</td>\n",
       "      <td>Tesla's geofence innovation for robotaxis</td>\n",
       "      <td>2025-07-15</td>\n",
       "    </tr>\n",
       "    <tr>\n",
       "      <th>1199</th>\n",
       "      <td>businessinsider.es_20250718095108794859</td>\n",
       "      <td>[0.03213481232523918, 0.02532116509974003, 0.0...</td>\n",
       "      <td>text-embedding-3-small</td>\n",
       "      <td>gpt-4o-2024-11-20</td>\n",
       "      <td>RUNID_18</td>\n",
       "      <td>relevance_check_v0</td>\n",
       "      <td>{'LAURA GIL': 2, 'FEDE SEGARRA': 1, 'ELÍSABETH...</td>\n",
       "      <td>es</td>\n",
       "      <td>businessinsider.es</td>\n",
       "      <td>OpenAI Economist preps children for a world wi...</td>\n",
       "      <td>...</td>\n",
       "      <td>NaN</td>\n",
       "      <td>NaN</td>\n",
       "      <td>NaN</td>\n",
       "      <td>jina</td>\n",
       "      <td>gpt-4o-2024-11-20</td>\n",
       "      <td>Ronnie Chatterji, Chief Economist at OpenAI, h...</td>\n",
       "      <td>RUNID_18</td>\n",
       "      <td>article_summarization_v0</td>\n",
       "      <td>OpenAI Economist preps children for a world wi...</td>\n",
       "      <td>2025-07-16</td>\n",
       "    </tr>\n",
       "    <tr>\n",
       "      <th>1200</th>\n",
       "      <td>businessinsider.es_20250718095108970217</td>\n",
       "      <td>[0.0363992340862751, 0.028270242735743523, 0.0...</td>\n",
       "      <td>text-embedding-3-small</td>\n",
       "      <td>gpt-4o-2024-11-20</td>\n",
       "      <td>RUNID_18</td>\n",
       "      <td>relevance_check_v0</td>\n",
       "      <td>{'LAURA GIL': 2, 'FEDE SEGARRA': 1, 'ELÍSABETH...</td>\n",
       "      <td>es</td>\n",
       "      <td>businessinsider.es</td>\n",
       "      <td>Detecting scams in SMS and WhatsApp messages</td>\n",
       "      <td>...</td>\n",
       "      <td>NaN</td>\n",
       "      <td>NaN</td>\n",
       "      <td>NaN</td>\n",
       "      <td>jina</td>\n",
       "      <td>gpt-4o-2024-11-20</td>\n",
       "      <td>The article discusses the growing sophisticati...</td>\n",
       "      <td>RUNID_18</td>\n",
       "      <td>article_summarization_v0</td>\n",
       "      <td>Detecting scams in SMS and WhatsApp messages</td>\n",
       "      <td>2025-07-11</td>\n",
       "    </tr>\n",
       "    <tr>\n",
       "      <th>1201</th>\n",
       "      <td>businessinsider.es_20250718095108805194</td>\n",
       "      <td>[-0.01577611267566681, 0.002103183651342988, 0...</td>\n",
       "      <td>text-embedding-3-small</td>\n",
       "      <td>gpt-4o-2024-11-20</td>\n",
       "      <td>RUNID_18</td>\n",
       "      <td>relevance_check_v0</td>\n",
       "      <td>{'LAURA GIL': 2, 'FEDE SEGARRA': 1, 'ELÍSABETH...</td>\n",
       "      <td>es</td>\n",
       "      <td>businessinsider.es</td>\n",
       "      <td>Sam Altman and OpenAI develop innovative browser</td>\n",
       "      <td>...</td>\n",
       "      <td>NaN</td>\n",
       "      <td>NaN</td>\n",
       "      <td>NaN</td>\n",
       "      <td>jina</td>\n",
       "      <td>gpt-4o-2024-11-20</td>\n",
       "      <td>OpenAI, known for initiating the AI boom with ...</td>\n",
       "      <td>RUNID_18</td>\n",
       "      <td>article_summarization_v0</td>\n",
       "      <td>Sam Altman and OpenAI develop innovative browser</td>\n",
       "      <td>2025-07-16</td>\n",
       "    </tr>\n",
       "    <tr>\n",
       "      <th>1202</th>\n",
       "      <td>businessinsider.es_20250718095108856636</td>\n",
       "      <td>[0.002676026662811637, -0.030920324847102165, ...</td>\n",
       "      <td>text-embedding-3-small</td>\n",
       "      <td>gpt-4o-2024-11-20</td>\n",
       "      <td>RUNID_18</td>\n",
       "      <td>relevance_check_v0</td>\n",
       "      <td>{'LAURA GIL': 2, 'FEDE SEGARRA': 1, 'ELÍSABETH...</td>\n",
       "      <td>es</td>\n",
       "      <td>businessinsider.es</td>\n",
       "      <td>Tesla faces trial for fatal Autopilot accident</td>\n",
       "      <td>...</td>\n",
       "      <td>NaN</td>\n",
       "      <td>NaN</td>\n",
       "      <td>NaN</td>\n",
       "      <td>jina</td>\n",
       "      <td>gpt-4o-2024-11-20</td>\n",
       "      <td>A federal jury in Florida is set to evaluate w...</td>\n",
       "      <td>RUNID_18</td>\n",
       "      <td>article_summarization_v0</td>\n",
       "      <td>Tesla faces trial for fatal Autopilot accident</td>\n",
       "      <td>2025-07-14</td>\n",
       "    </tr>\n",
       "    <tr>\n",
       "      <th>...</th>\n",
       "      <td>...</td>\n",
       "      <td>...</td>\n",
       "      <td>...</td>\n",
       "      <td>...</td>\n",
       "      <td>...</td>\n",
       "      <td>...</td>\n",
       "      <td>...</td>\n",
       "      <td>...</td>\n",
       "      <td>...</td>\n",
       "      <td>...</td>\n",
       "      <td>...</td>\n",
       "      <td>...</td>\n",
       "      <td>...</td>\n",
       "      <td>...</td>\n",
       "      <td>...</td>\n",
       "      <td>...</td>\n",
       "      <td>...</td>\n",
       "      <td>...</td>\n",
       "      <td>...</td>\n",
       "      <td>...</td>\n",
       "      <td>...</td>\n",
       "    </tr>\n",
       "    <tr>\n",
       "      <th>1288</th>\n",
       "      <td>weforum.org_20250718095109471637</td>\n",
       "      <td>[0.02796872705221176, -0.010471106506884098, 0...</td>\n",
       "      <td>text-embedding-3-small</td>\n",
       "      <td>gpt-4o-2024-11-20</td>\n",
       "      <td>RUNID_18</td>\n",
       "      <td>relevance_check_v0</td>\n",
       "      <td>{'LAURA GIL': 2, 'FEDE SEGARRA': 0, 'ELÍSABETH...</td>\n",
       "      <td>English</td>\n",
       "      <td>weforum.org</td>\n",
       "      <td>Global Cybersecurity Outlook 2024</td>\n",
       "      <td>...</td>\n",
       "      <td>NaN</td>\n",
       "      <td>NaN</td>\n",
       "      <td>NaN</td>\n",
       "      <td>jina</td>\n",
       "      <td>gpt-4o-2024-11-20</td>\n",
       "      <td>The World Economic Forum’s Global Cybersecurit...</td>\n",
       "      <td>RUNID_18</td>\n",
       "      <td>article_summarization_v0</td>\n",
       "      <td>Global Cybersecurity Outlook 2024</td>\n",
       "      <td>None</td>\n",
       "    </tr>\n",
       "    <tr>\n",
       "      <th>1289</th>\n",
       "      <td>weforum.org_20250718095109461399</td>\n",
       "      <td>[0.041655149310827255, 0.011486723087728024, 0...</td>\n",
       "      <td>text-embedding-3-small</td>\n",
       "      <td>gpt-4o-2024-11-20</td>\n",
       "      <td>RUNID_18</td>\n",
       "      <td>relevance_check_v0</td>\n",
       "      <td>{'LAURA GIL': 2, 'FEDE SEGARRA': 1, 'ELÍSABETH...</td>\n",
       "      <td>English</td>\n",
       "      <td>weforum.org</td>\n",
       "      <td>Top 10 Emerging Technologies of 2025</td>\n",
       "      <td>...</td>\n",
       "      <td>NaN</td>\n",
       "      <td>NaN</td>\n",
       "      <td>NaN</td>\n",
       "      <td>jina</td>\n",
       "      <td>gpt-4o-2024-11-20</td>\n",
       "      <td>The \"Top 10 Emerging Technologies of 2025\" rep...</td>\n",
       "      <td>RUNID_18</td>\n",
       "      <td>article_summarization_v0</td>\n",
       "      <td>Top 10 Emerging Technologies of 2025</td>\n",
       "      <td>None</td>\n",
       "    </tr>\n",
       "    <tr>\n",
       "      <th>1290</th>\n",
       "      <td>weforum.org_20250718095109491980</td>\n",
       "      <td>[0.029985709115862846, -0.0054162670858204365,...</td>\n",
       "      <td>text-embedding-3-small</td>\n",
       "      <td>gpt-4o-2024-11-20</td>\n",
       "      <td>RUNID_18</td>\n",
       "      <td>relevance_check_v0</td>\n",
       "      <td>{'LAURA GIL': 1, 'FEDE SEGARRA': 0, 'ELÍSABETH...</td>\n",
       "      <td>English</td>\n",
       "      <td>weforum.org</td>\n",
       "      <td>The Future of Financial Advice</td>\n",
       "      <td>...</td>\n",
       "      <td>NaN</td>\n",
       "      <td>NaN</td>\n",
       "      <td>NaN</td>\n",
       "      <td>jina</td>\n",
       "      <td>gpt-4o-2024-11-20</td>\n",
       "      <td>The white paper examines transformative trends...</td>\n",
       "      <td>RUNID_18</td>\n",
       "      <td>article_summarization_v0</td>\n",
       "      <td>The Future of Financial Advice</td>\n",
       "      <td>None</td>\n",
       "    </tr>\n",
       "    <tr>\n",
       "      <th>1291</th>\n",
       "      <td>weforum.org_20250718095109502290</td>\n",
       "      <td>[0.014725111424922943, -0.04100026935338974, 0...</td>\n",
       "      <td>text-embedding-3-small</td>\n",
       "      <td>gpt-4o-2024-11-20</td>\n",
       "      <td>RUNID_18</td>\n",
       "      <td>relevance_check_v0</td>\n",
       "      <td>{'LAURA GIL': 0, 'FEDE SEGARRA': 0, 'ELÍSABETH...</td>\n",
       "      <td>English</td>\n",
       "      <td>weforum.org</td>\n",
       "      <td>Promoting Health and Well-Being: Employer Stra...</td>\n",
       "      <td>...</td>\n",
       "      <td>NaN</td>\n",
       "      <td>NaN</td>\n",
       "      <td>NaN</td>\n",
       "      <td>jina</td>\n",
       "      <td>gpt-4o-2024-11-20</td>\n",
       "      <td>Investing in employee well-being offers organi...</td>\n",
       "      <td>RUNID_18</td>\n",
       "      <td>article_summarization_v0</td>\n",
       "      <td>Promoting Health and Well-Being: Employer Stra...</td>\n",
       "      <td>None</td>\n",
       "    </tr>\n",
       "    <tr>\n",
       "      <th>1292</th>\n",
       "      <td>weforum.org_20250718095109522633</td>\n",
       "      <td>[0.059639301151037216, -0.008855794556438923, ...</td>\n",
       "      <td>text-embedding-3-small</td>\n",
       "      <td>gpt-4o-2024-11-20</td>\n",
       "      <td>RUNID_18</td>\n",
       "      <td>relevance_check_v0</td>\n",
       "      <td>{'LAURA GIL': 2, 'FEDE SEGARRA': 1, 'ELÍSABETH...</td>\n",
       "      <td>English</td>\n",
       "      <td>weforum.org</td>\n",
       "      <td>Why our methane-detecting satellite showed it'...</td>\n",
       "      <td>...</td>\n",
       "      <td>NaN</td>\n",
       "      <td>NaN</td>\n",
       "      <td>NaN</td>\n",
       "      <td>jina</td>\n",
       "      <td>gpt-4o-2024-11-20</td>\n",
       "      <td>The article highlights the urgent need for bol...</td>\n",
       "      <td>RUNID_18</td>\n",
       "      <td>article_summarization_v0</td>\n",
       "      <td>Why our methane-detecting satellite showed it'...</td>\n",
       "      <td>None</td>\n",
       "    </tr>\n",
       "  </tbody>\n",
       "</table>\n",
       "<p>95 rows × 27 columns</p>\n",
       "</div>"
      ],
      "text/plain": [
       "                                   article_id  \\\n",
       "1198  businessinsider.es_20250718095108846432   \n",
       "1199  businessinsider.es_20250718095108794859   \n",
       "1200  businessinsider.es_20250718095108970217   \n",
       "1201  businessinsider.es_20250718095108805194   \n",
       "1202  businessinsider.es_20250718095108856636   \n",
       "...                                       ...   \n",
       "1288         weforum.org_20250718095109471637   \n",
       "1289         weforum.org_20250718095109461399   \n",
       "1290         weforum.org_20250718095109491980   \n",
       "1291         weforum.org_20250718095109502290   \n",
       "1292         weforum.org_20250718095109522633   \n",
       "\n",
       "                                      summary_embedding  \\\n",
       "1198  [-0.0008376312907785177, -0.04853260517120361,...   \n",
       "1199  [0.03213481232523918, 0.02532116509974003, 0.0...   \n",
       "1200  [0.0363992340862751, 0.028270242735743523, 0.0...   \n",
       "1201  [-0.01577611267566681, 0.002103183651342988, 0...   \n",
       "1202  [0.002676026662811637, -0.030920324847102165, ...   \n",
       "...                                                 ...   \n",
       "1288  [0.02796872705221176, -0.010471106506884098, 0...   \n",
       "1289  [0.041655149310827255, 0.011486723087728024, 0...   \n",
       "1290  [0.029985709115862846, -0.0054162670858204365,...   \n",
       "1291  [0.014725111424922943, -0.04100026935338974, 0...   \n",
       "1292  [0.059639301151037216, -0.008855794556438923, ...   \n",
       "\n",
       "             embedding_model            model_x  run_id_x         task_name_x  \\\n",
       "1198  text-embedding-3-small  gpt-4o-2024-11-20  RUNID_18  relevance_check_v0   \n",
       "1199  text-embedding-3-small  gpt-4o-2024-11-20  RUNID_18  relevance_check_v0   \n",
       "1200  text-embedding-3-small  gpt-4o-2024-11-20  RUNID_18  relevance_check_v0   \n",
       "1201  text-embedding-3-small  gpt-4o-2024-11-20  RUNID_18  relevance_check_v0   \n",
       "1202  text-embedding-3-small  gpt-4o-2024-11-20  RUNID_18  relevance_check_v0   \n",
       "...                      ...                ...       ...                 ...   \n",
       "1288  text-embedding-3-small  gpt-4o-2024-11-20  RUNID_18  relevance_check_v0   \n",
       "1289  text-embedding-3-small  gpt-4o-2024-11-20  RUNID_18  relevance_check_v0   \n",
       "1290  text-embedding-3-small  gpt-4o-2024-11-20  RUNID_18  relevance_check_v0   \n",
       "1291  text-embedding-3-small  gpt-4o-2024-11-20  RUNID_18  relevance_check_v0   \n",
       "1292  text-embedding-3-small  gpt-4o-2024-11-20  RUNID_18  relevance_check_v0   \n",
       "\n",
       "                                              relevance article_language  \\\n",
       "1198  {'LAURA GIL': 2, 'FEDE SEGARRA': 0, 'ELÍSABETH...               es   \n",
       "1199  {'LAURA GIL': 2, 'FEDE SEGARRA': 1, 'ELÍSABETH...               es   \n",
       "1200  {'LAURA GIL': 2, 'FEDE SEGARRA': 1, 'ELÍSABETH...               es   \n",
       "1201  {'LAURA GIL': 2, 'FEDE SEGARRA': 1, 'ELÍSABETH...               es   \n",
       "1202  {'LAURA GIL': 2, 'FEDE SEGARRA': 1, 'ELÍSABETH...               es   \n",
       "...                                                 ...              ...   \n",
       "1288  {'LAURA GIL': 2, 'FEDE SEGARRA': 0, 'ELÍSABETH...          English   \n",
       "1289  {'LAURA GIL': 2, 'FEDE SEGARRA': 1, 'ELÍSABETH...          English   \n",
       "1290  {'LAURA GIL': 1, 'FEDE SEGARRA': 0, 'ELÍSABETH...          English   \n",
       "1291  {'LAURA GIL': 0, 'FEDE SEGARRA': 0, 'ELÍSABETH...          English   \n",
       "1292  {'LAURA GIL': 2, 'FEDE SEGARRA': 1, 'ELÍSABETH...          English   \n",
       "\n",
       "             source_name                                      article_title  \\\n",
       "1198  businessinsider.es          Tesla's geofence innovation for robotaxis   \n",
       "1199  businessinsider.es  OpenAI Economist preps children for a world wi...   \n",
       "1200  businessinsider.es       Detecting scams in SMS and WhatsApp messages   \n",
       "1201  businessinsider.es   Sam Altman and OpenAI develop innovative browser   \n",
       "1202  businessinsider.es     Tesla faces trial for fatal Autopilot accident   \n",
       "...                  ...                                                ...   \n",
       "1288         weforum.org                  Global Cybersecurity Outlook 2024   \n",
       "1289         weforum.org               Top 10 Emerging Technologies of 2025   \n",
       "1290         weforum.org                     The Future of Financial Advice   \n",
       "1291         weforum.org  Promoting Health and Well-Being: Employer Stra...   \n",
       "1292         weforum.org  Why our methane-detecting satellite showed it'...   \n",
       "\n",
       "      ... article_image_url ddgs_search_query query_original_personas  \\\n",
       "1198  ...               NaN               NaN                     NaN   \n",
       "1199  ...               NaN               NaN                     NaN   \n",
       "1200  ...               NaN               NaN                     NaN   \n",
       "1201  ...               NaN               NaN                     NaN   \n",
       "1202  ...               NaN               NaN                     NaN   \n",
       "...   ...               ...               ...                     ...   \n",
       "1288  ...               NaN               NaN                     NaN   \n",
       "1289  ...               NaN               NaN                     NaN   \n",
       "1290  ...               NaN               NaN                     NaN   \n",
       "1291  ...               NaN               NaN                     NaN   \n",
       "1292  ...               NaN               NaN                     NaN   \n",
       "\n",
       "     crawling_source            model_y  \\\n",
       "1198            jina  gpt-4o-2024-11-20   \n",
       "1199            jina  gpt-4o-2024-11-20   \n",
       "1200            jina  gpt-4o-2024-11-20   \n",
       "1201            jina  gpt-4o-2024-11-20   \n",
       "1202            jina  gpt-4o-2024-11-20   \n",
       "...              ...                ...   \n",
       "1288            jina  gpt-4o-2024-11-20   \n",
       "1289            jina  gpt-4o-2024-11-20   \n",
       "1290            jina  gpt-4o-2024-11-20   \n",
       "1291            jina  gpt-4o-2024-11-20   \n",
       "1292            jina  gpt-4o-2024-11-20   \n",
       "\n",
       "                                                summary  run_id_y  \\\n",
       "1198  Tesla has expanded its geofence for robotaxi o...  RUNID_18   \n",
       "1199  Ronnie Chatterji, Chief Economist at OpenAI, h...  RUNID_18   \n",
       "1200  The article discusses the growing sophisticati...  RUNID_18   \n",
       "1201  OpenAI, known for initiating the AI boom with ...  RUNID_18   \n",
       "1202  A federal jury in Florida is set to evaluate w...  RUNID_18   \n",
       "...                                                 ...       ...   \n",
       "1288  The World Economic Forum’s Global Cybersecurit...  RUNID_18   \n",
       "1289  The \"Top 10 Emerging Technologies of 2025\" rep...  RUNID_18   \n",
       "1290  The white paper examines transformative trends...  RUNID_18   \n",
       "1291  Investing in employee well-being offers organi...  RUNID_18   \n",
       "1292  The article highlights the urgent need for bol...  RUNID_18   \n",
       "\n",
       "                   task_name_y  \\\n",
       "1198  article_summarization_v0   \n",
       "1199  article_summarization_v0   \n",
       "1200  article_summarization_v0   \n",
       "1201  article_summarization_v0   \n",
       "1202  article_summarization_v0   \n",
       "...                        ...   \n",
       "1288  article_summarization_v0   \n",
       "1289  article_summarization_v0   \n",
       "1290  article_summarization_v0   \n",
       "1291  article_summarization_v0   \n",
       "1292  article_summarization_v0   \n",
       "\n",
       "                                                  title publish_date  \n",
       "1198          Tesla's geofence innovation for robotaxis   2025-07-15  \n",
       "1199  OpenAI Economist preps children for a world wi...   2025-07-16  \n",
       "1200       Detecting scams in SMS and WhatsApp messages   2025-07-11  \n",
       "1201   Sam Altman and OpenAI develop innovative browser   2025-07-16  \n",
       "1202     Tesla faces trial for fatal Autopilot accident   2025-07-14  \n",
       "...                                                 ...          ...  \n",
       "1288                  Global Cybersecurity Outlook 2024         None  \n",
       "1289               Top 10 Emerging Technologies of 2025         None  \n",
       "1290                     The Future of Financial Advice         None  \n",
       "1291  Promoting Health and Well-Being: Employer Stra...         None  \n",
       "1292  Why our methane-detecting satellite showed it'...         None  \n",
       "\n",
       "[95 rows x 27 columns]"
      ]
     },
     "execution_count": 8,
     "metadata": {},
     "output_type": "execute_result"
    }
   ],
   "source": [
    "pd_all_info"
   ]
  },
  {
   "cell_type": "code",
   "execution_count": 9,
   "id": "717ad116",
   "metadata": {},
   "outputs": [
    {
     "name": "stdout",
     "output_type": "stream",
     "text": [
      "article_title    Del cumplimiento a la convicción: por qué las ...\n",
      "publish_date                                            2025-07-18\n",
      "Name: 1229, dtype: object\n"
     ]
    }
   ],
   "source": [
    "last_published_article = pd_all_info.sort_values(by=\"publish_date\", ascending=False).iloc[0]\n",
    "print(last_published_article[[\"article_title\", \"publish_date\"]])"
   ]
  },
  {
   "cell_type": "code",
   "execution_count": 10,
   "id": "5947f694",
   "metadata": {},
   "outputs": [
    {
     "data": {
      "text/plain": [
       "95"
      ]
     },
     "execution_count": 10,
     "metadata": {},
     "output_type": "execute_result"
    }
   ],
   "source": [
    "len(pd_all_info)"
   ]
  },
  {
   "cell_type": "code",
   "execution_count": 11,
   "id": "e0ffd7c7",
   "metadata": {},
   "outputs": [],
   "source": [
    "embedding_matrix = np.array(pd_all_info[\"summary_embedding\"].tolist()).astype(\"float32\")\n",
    "embedding_dim = len(embedding_matrix[0, :])"
   ]
  },
  {
   "cell_type": "code",
   "execution_count": 12,
   "id": "32dd06b9",
   "metadata": {},
   "outputs": [],
   "source": [
    "from sklearn.cluster import KMeans\n",
    "\n",
    "# Define the number of clusters (topics)\n",
    "num_clusters = 10\n",
    "\n",
    "# Perform K-means clustering\n",
    "kmeans = KMeans(n_clusters=num_clusters, random_state=42)\n",
    "kmeans.fit(embedding_matrix)\n",
    "\n",
    "# Add the cluster labels to the dataframe\n",
    "pd_all_info['topic'] = kmeans.labels_"
   ]
  },
  {
   "cell_type": "code",
   "execution_count": 13,
   "id": "d7122843",
   "metadata": {},
   "outputs": [
    {
     "data": {
      "text/html": [
       "<div>\n",
       "<style scoped>\n",
       "    .dataframe tbody tr th:only-of-type {\n",
       "        vertical-align: middle;\n",
       "    }\n",
       "\n",
       "    .dataframe tbody tr th {\n",
       "        vertical-align: top;\n",
       "    }\n",
       "\n",
       "    .dataframe thead th {\n",
       "        text-align: right;\n",
       "    }\n",
       "</style>\n",
       "<table border=\"1\" class=\"dataframe\">\n",
       "  <thead>\n",
       "    <tr style=\"text-align: right;\">\n",
       "      <th></th>\n",
       "      <th>article_id</th>\n",
       "      <th>summary_embedding</th>\n",
       "      <th>embedding_model</th>\n",
       "      <th>model_x</th>\n",
       "      <th>run_id_x</th>\n",
       "      <th>task_name_x</th>\n",
       "      <th>relevance</th>\n",
       "      <th>article_language</th>\n",
       "      <th>source_name</th>\n",
       "      <th>article_title</th>\n",
       "      <th>...</th>\n",
       "      <th>ddgs_search_query</th>\n",
       "      <th>query_original_personas</th>\n",
       "      <th>crawling_source</th>\n",
       "      <th>model_y</th>\n",
       "      <th>summary</th>\n",
       "      <th>run_id_y</th>\n",
       "      <th>task_name_y</th>\n",
       "      <th>title</th>\n",
       "      <th>publish_date</th>\n",
       "      <th>topic</th>\n",
       "    </tr>\n",
       "  </thead>\n",
       "  <tbody>\n",
       "    <tr>\n",
       "      <th>1210</th>\n",
       "      <td>businessinsider.es_20250718095108959792</td>\n",
       "      <td>[0.009057179093360901, -0.008331652730703354, ...</td>\n",
       "      <td>text-embedding-3-small</td>\n",
       "      <td>gpt-4o-2024-11-20</td>\n",
       "      <td>RUNID_18</td>\n",
       "      <td>relevance_check_v0</td>\n",
       "      <td>{'LAURA GIL': 2, 'FEDE SEGARRA': 1, 'ELÍSABETH...</td>\n",
       "      <td>es</td>\n",
       "      <td>businessinsider.es</td>\n",
       "      <td>Amazon's AI project \"Starfish\" aims to gather ...</td>\n",
       "      <td>...</td>\n",
       "      <td>NaN</td>\n",
       "      <td>NaN</td>\n",
       "      <td>jina</td>\n",
       "      <td>gpt-4o-2024-11-20</td>\n",
       "      <td>Amazon is leveraging generative AI to transfor...</td>\n",
       "      <td>RUNID_18</td>\n",
       "      <td>article_summarization_v0</td>\n",
       "      <td>Amazon's AI project \"Starfish\" aims to gather ...</td>\n",
       "      <td>2025-07-11</td>\n",
       "      <td>4</td>\n",
       "    </tr>\n",
       "    <tr>\n",
       "      <th>1214</th>\n",
       "      <td>businessinsider.es_20250718095108928684</td>\n",
       "      <td>[0.027814090251922607, 0.02969183586537838, 0....</td>\n",
       "      <td>text-embedding-3-small</td>\n",
       "      <td>gpt-4o-2024-11-20</td>\n",
       "      <td>RUNID_18</td>\n",
       "      <td>relevance_check_v0</td>\n",
       "      <td>{'LAURA GIL': 2, 'FEDE SEGARRA': 1, 'ELÍSABETH...</td>\n",
       "      <td>es</td>\n",
       "      <td>businessinsider.es</td>\n",
       "      <td>WhatsApp's AI calling feature stirs consumer p...</td>\n",
       "      <td>...</td>\n",
       "      <td>NaN</td>\n",
       "      <td>NaN</td>\n",
       "      <td>jina</td>\n",
       "      <td>gpt-4o-2024-11-20</td>\n",
       "      <td>WhatsApp is introducing new functionalities, i...</td>\n",
       "      <td>RUNID_18</td>\n",
       "      <td>article_summarization_v0</td>\n",
       "      <td>WhatsApp's AI calling feature stirs consumer p...</td>\n",
       "      <td>2025-07-12</td>\n",
       "      <td>4</td>\n",
       "    </tr>\n",
       "    <tr>\n",
       "      <th>1217</th>\n",
       "      <td>businessinsider.es_20250718095108897782</td>\n",
       "      <td>[0.010809161700308323, 0.005169728305190802, 0...</td>\n",
       "      <td>text-embedding-3-small</td>\n",
       "      <td>gpt-4o-2024-11-20</td>\n",
       "      <td>RUNID_18</td>\n",
       "      <td>relevance_check_v0</td>\n",
       "      <td>{'LAURA GIL': 2, 'FEDE SEGARRA': 1, 'ELÍSABETH...</td>\n",
       "      <td>es</td>\n",
       "      <td>businessinsider.es</td>\n",
       "      <td>AI reshapes Hollywood and animations</td>\n",
       "      <td>...</td>\n",
       "      <td>NaN</td>\n",
       "      <td>NaN</td>\n",
       "      <td>jina</td>\n",
       "      <td>gpt-4o-2024-11-20</td>\n",
       "      <td>Artificial Intelligence (AI) is revolutionizin...</td>\n",
       "      <td>RUNID_18</td>\n",
       "      <td>article_summarization_v0</td>\n",
       "      <td>AI reshapes Hollywood and animations</td>\n",
       "      <td>2025-07-13</td>\n",
       "      <td>4</td>\n",
       "    </tr>\n",
       "    <tr>\n",
       "      <th>1237</th>\n",
       "      <td>entrepreneur.com_20250718095108035422</td>\n",
       "      <td>[0.005941552110016346, 0.008063982240855694, 0...</td>\n",
       "      <td>text-embedding-3-small</td>\n",
       "      <td>gpt-4o-2024-11-20</td>\n",
       "      <td>RUNID_18</td>\n",
       "      <td>relevance_check_v0</td>\n",
       "      <td>{'LAURA GIL': 2, 'FEDE SEGARRA': 0, 'ELÍSABETH...</td>\n",
       "      <td>en</td>\n",
       "      <td>entrepreneur.com</td>\n",
       "      <td>Upgrade Your LinkedIn Profile With AI-Generate...</td>\n",
       "      <td>...</td>\n",
       "      <td>NaN</td>\n",
       "      <td>NaN</td>\n",
       "      <td>jina</td>\n",
       "      <td>gpt-4o-2024-11-20</td>\n",
       "      <td>The article highlights ResumePhoto, an AI-powe...</td>\n",
       "      <td>RUNID_18</td>\n",
       "      <td>article_summarization_v0</td>\n",
       "      <td>Upgrade Your LinkedIn Profile With AI-Generate...</td>\n",
       "      <td>2025-07-17</td>\n",
       "      <td>4</td>\n",
       "    </tr>\n",
       "    <tr>\n",
       "      <th>1244</th>\n",
       "      <td>hbr.org_20250718095106373519</td>\n",
       "      <td>[0.03865043446421623, 0.007953500375151634, 0....</td>\n",
       "      <td>text-embedding-3-small</td>\n",
       "      <td>gpt-4o-2024-11-20</td>\n",
       "      <td>RUNID_18</td>\n",
       "      <td>relevance_check_v0</td>\n",
       "      <td>{'LAURA GIL': 2, 'FEDE SEGARRA': 1, 'ELÍSABETH...</td>\n",
       "      <td>en</td>\n",
       "      <td>hbr.org</td>\n",
       "      <td>Can Gen AI and Copyright Coexist?</td>\n",
       "      <td>...</td>\n",
       "      <td>NaN</td>\n",
       "      <td>NaN</td>\n",
       "      <td>jina</td>\n",
       "      <td>gpt-4o-2024-11-20</td>\n",
       "      <td>A recent industry report highlights that \"core...</td>\n",
       "      <td>RUNID_18</td>\n",
       "      <td>article_summarization_v0</td>\n",
       "      <td>Can Gen AI and Copyright Coexist?</td>\n",
       "      <td>2025-07-16</td>\n",
       "      <td>4</td>\n",
       "    </tr>\n",
       "  </tbody>\n",
       "</table>\n",
       "<p>5 rows × 28 columns</p>\n",
       "</div>"
      ],
      "text/plain": [
       "                                   article_id  \\\n",
       "1210  businessinsider.es_20250718095108959792   \n",
       "1214  businessinsider.es_20250718095108928684   \n",
       "1217  businessinsider.es_20250718095108897782   \n",
       "1237    entrepreneur.com_20250718095108035422   \n",
       "1244             hbr.org_20250718095106373519   \n",
       "\n",
       "                                      summary_embedding  \\\n",
       "1210  [0.009057179093360901, -0.008331652730703354, ...   \n",
       "1214  [0.027814090251922607, 0.02969183586537838, 0....   \n",
       "1217  [0.010809161700308323, 0.005169728305190802, 0...   \n",
       "1237  [0.005941552110016346, 0.008063982240855694, 0...   \n",
       "1244  [0.03865043446421623, 0.007953500375151634, 0....   \n",
       "\n",
       "             embedding_model            model_x  run_id_x         task_name_x  \\\n",
       "1210  text-embedding-3-small  gpt-4o-2024-11-20  RUNID_18  relevance_check_v0   \n",
       "1214  text-embedding-3-small  gpt-4o-2024-11-20  RUNID_18  relevance_check_v0   \n",
       "1217  text-embedding-3-small  gpt-4o-2024-11-20  RUNID_18  relevance_check_v0   \n",
       "1237  text-embedding-3-small  gpt-4o-2024-11-20  RUNID_18  relevance_check_v0   \n",
       "1244  text-embedding-3-small  gpt-4o-2024-11-20  RUNID_18  relevance_check_v0   \n",
       "\n",
       "                                              relevance article_language  \\\n",
       "1210  {'LAURA GIL': 2, 'FEDE SEGARRA': 1, 'ELÍSABETH...               es   \n",
       "1214  {'LAURA GIL': 2, 'FEDE SEGARRA': 1, 'ELÍSABETH...               es   \n",
       "1217  {'LAURA GIL': 2, 'FEDE SEGARRA': 1, 'ELÍSABETH...               es   \n",
       "1237  {'LAURA GIL': 2, 'FEDE SEGARRA': 0, 'ELÍSABETH...               en   \n",
       "1244  {'LAURA GIL': 2, 'FEDE SEGARRA': 1, 'ELÍSABETH...               en   \n",
       "\n",
       "             source_name                                      article_title  \\\n",
       "1210  businessinsider.es  Amazon's AI project \"Starfish\" aims to gather ...   \n",
       "1214  businessinsider.es  WhatsApp's AI calling feature stirs consumer p...   \n",
       "1217  businessinsider.es               AI reshapes Hollywood and animations   \n",
       "1237    entrepreneur.com  Upgrade Your LinkedIn Profile With AI-Generate...   \n",
       "1244             hbr.org                  Can Gen AI and Copyright Coexist?   \n",
       "\n",
       "      ... ddgs_search_query query_original_personas crawling_source  \\\n",
       "1210  ...               NaN                     NaN            jina   \n",
       "1214  ...               NaN                     NaN            jina   \n",
       "1217  ...               NaN                     NaN            jina   \n",
       "1237  ...               NaN                     NaN            jina   \n",
       "1244  ...               NaN                     NaN            jina   \n",
       "\n",
       "                model_y                                            summary  \\\n",
       "1210  gpt-4o-2024-11-20  Amazon is leveraging generative AI to transfor...   \n",
       "1214  gpt-4o-2024-11-20  WhatsApp is introducing new functionalities, i...   \n",
       "1217  gpt-4o-2024-11-20  Artificial Intelligence (AI) is revolutionizin...   \n",
       "1237  gpt-4o-2024-11-20  The article highlights ResumePhoto, an AI-powe...   \n",
       "1244  gpt-4o-2024-11-20  A recent industry report highlights that \"core...   \n",
       "\n",
       "      run_id_y               task_name_y  \\\n",
       "1210  RUNID_18  article_summarization_v0   \n",
       "1214  RUNID_18  article_summarization_v0   \n",
       "1217  RUNID_18  article_summarization_v0   \n",
       "1237  RUNID_18  article_summarization_v0   \n",
       "1244  RUNID_18  article_summarization_v0   \n",
       "\n",
       "                                                  title publish_date topic  \n",
       "1210  Amazon's AI project \"Starfish\" aims to gather ...   2025-07-11     4  \n",
       "1214  WhatsApp's AI calling feature stirs consumer p...   2025-07-12     4  \n",
       "1217               AI reshapes Hollywood and animations   2025-07-13     4  \n",
       "1237  Upgrade Your LinkedIn Profile With AI-Generate...   2025-07-17     4  \n",
       "1244                  Can Gen AI and Copyright Coexist?   2025-07-16     4  \n",
       "\n",
       "[5 rows x 28 columns]"
      ]
     },
     "execution_count": 13,
     "metadata": {},
     "output_type": "execute_result"
    }
   ],
   "source": [
    "pd_all_info[pd_all_info['topic'] == 4].head()"
   ]
  },
  {
   "cell_type": "code",
   "execution_count": 14,
   "id": "3c7840ed",
   "metadata": {},
   "outputs": [
    {
     "data": {
      "text/plain": [
       "(95, 1536)"
      ]
     },
     "execution_count": 14,
     "metadata": {},
     "output_type": "execute_result"
    }
   ],
   "source": [
    "embedding_matrix.shape"
   ]
  },
  {
   "cell_type": "code",
   "execution_count": 15,
   "id": "07779847",
   "metadata": {},
   "outputs": [],
   "source": [
    "# Create an index (flat, exact search)\n",
    "index = faiss.IndexFlatL2(embedding_dim)\n",
    "index.add(embedding_matrix)  # store embeddings in index"
   ]
  },
  {
   "cell_type": "code",
   "execution_count": 16,
   "id": "32a1a5bc",
   "metadata": {},
   "outputs": [],
   "source": [
    "centroid = np.mean(embedding_matrix, axis=0).reshape(1, -1).astype(\"float32\")\n",
    "distances, indices = index.search(centroid, k=5)"
   ]
  },
  {
   "cell_type": "code",
   "execution_count": 17,
   "id": "be489668",
   "metadata": {},
   "outputs": [
    {
     "data": {
      "text/plain": [
       "array(['CEOs implement AI in various aspects of daily life',\n",
       "       'La IA irrumpe en Cannes Lions 2025: Amazon, Apple y Mars lideran el debate creativo',\n",
       "       'La confianza y la colaboración entre humanos y la IA definirá la próxima era de IA basada en agentes',\n",
       "       \"5 shifts in a new era for entrepreneurs: Reflections from 'Summer Davos' 2025\",\n",
       "       'Day 1 at ‘Summer Davos’ 2025: AI, trade and the global economy in focus'],\n",
       "      dtype=object)"
      ]
     },
     "execution_count": 17,
     "metadata": {},
     "output_type": "execute_result"
    }
   ],
   "source": [
    "pd_all_info.iloc[indices[0]][\"article_title\"].values"
   ]
  },
  {
   "cell_type": "code",
   "execution_count": 18,
   "id": "5492c0dd",
   "metadata": {},
   "outputs": [],
   "source": [
    "client = AzureOpenAI(\n",
    "    api_version=\"2024-12-01-preview\",\n",
    "    azure_endpoint=os.environ.get('AZURE_OPENAI_ENDPOINT'),\n",
    "    api_key=os.environ.get('AZURE_OPENAI_API_KEY'),\n",
    ")"
   ]
  },
  {
   "cell_type": "code",
   "execution_count": 19,
   "id": "8f1f0449",
   "metadata": {},
   "outputs": [],
   "source": [
    "query = \"Insights related to digital transformation of large enterprises\"\n",
    "\n",
    "response = client.embeddings.create(\n",
    "        input=[query],\n",
    "        model=\"text-embedding-3-small\",\n",
    "    )\n",
    "\n",
    "query_embedding = response.data[0].embedding\n",
    "query_vector = np.array([query_embedding], dtype=\"float32\")\n",
    "distances, indices = index.search(query_vector, k=5)"
   ]
  },
  {
   "cell_type": "code",
   "execution_count": 20,
   "id": "587dd8b5",
   "metadata": {},
   "outputs": [
    {
     "name": "stdout",
     "output_type": "stream",
     "text": [
      "The article discusses the transformative impact of generative AI on the insurance industry, highlighting how it has shifted from experimental use to mainstream application over the past two years. Generative AI enables insurers to leverage extensive customer data from documents, contact centers, and service processes, offering potential to achieve a unified customer view comparable to that of the banking sector. The sector's digital transformation emphasizes data sovereignty, privacy concerns, and the importance of educating users about risks linked to free AI tools, such as data misuse.\n",
      "\n",
      "For professionals, the conversation underscores the urgency of adapting to AI advancements while addressing challenges like shadow IT, talent re-skilling, and ROI for scalable AI pilots. Business leaders are reminded of the need to balance innovation with ethical data practices and customer trust, key drivers of long-term success in highly competitive industries.\n",
      "The article highlights how the misuse of technology is undermining productivity, communication, and company culture, despite its potential to drive efficiency and scalability. While automation and digital tools promise to make work faster and easier, constant distractions, context switching, and fragmented communication hinder focus and collaboration. A Bain & Company study reveals that professionals manage an overwhelming volume of communications, yet deliver limited deep, uninterrupted work.\n",
      "\n",
      "To combat this, organizations must adopt intentional technology practices, such as setting boundaries for focused work, prioritizing real-time conversations for critical discussions, and fostering human connections beyond digital platforms. Leaders are encouraged to model disciplined behavior, align technology with relationship-building, and balance efficiency with trust and culture. Ultimately, businesses that cultivate better habits alongside technology—not just automation—will build stronger teams, innovation, and lasting success.\n",
      "The latest cohort of the World Economic Forum’s Global Lighthouse Network highlights organizations transforming manufacturing and supply chains using advanced technologies such as artificial intelligence and augmented reality. Examples include Schneider Electric's application of AR glasses for operational efficiency and Foxconn's use of AI-driven automation to optimize production. These innovations are enhancing productivity, promoting sustainability, and improving workforce engagement, offering key insights for professionals seeking to leverage technology for competitive advantage and future-proofing their operations.\n",
      "A study by ThoughtLinks predicts that AI will significantly reshape 44% of banking work by 2030, analyzing 5,000 individual processes to identify areas of impact. Technology and infrastructure roles are expected to undergo the most transformation (55%), with customer-facing sectors such as commercial banking (49%), wealth management (42%), and investment banking (33%) seeing substantial change. \n",
      "\n",
      "Banks are already utilizing AI tools like generative models to streamline tasks such as document drafting, information summarization, portfolio management, and customer onboarding—reducing manual errors and boosting efficiency. By 2030, AI is predicted to aid in financial assessments, credit allocation, loan pricing, and real-time security monitoring but will likely leave critical judgment-driven roles in areas like corporate lending and investor mandates in the hands of humans.\n",
      "\n",
      "These findings underline the importance for professionals in the banking industry to focus on skills adaptability and preparedness for AI-driven disruptions while retaining human oversight in complex and relationship-based areas.\n",
      "Business leaders across industries are increasingly integrating artificial intelligence (AI) into their daily workflows to enhance efficiency and optimize decision-making. Notable CEOs, including Satya Nadella (Microsoft), Sam Altman (OpenAI), Jensen Huang (Nvidia), Tim Cook (Apple), and Jeremy Wacksman (Zillow), have adopted AI tools for tasks such as summarizing emails, processing documents, conducting research, and learning complex topics. AI's ability to analyze and present information promptly is revolutionizing the way these leaders manage both professional and personal responsibilities.\n",
      "\n",
      "According to PwC, AI has the potential to contribute $15.7 trillion to the global economy by 2030, underscoring its transformative impact across sectors such as education, healthcare, and entertainment. For professionals and executives, the adoption of AI represents a strategic opportunity to streamline operations while staying ahead of technological advancements. These examples highlight how AI can serve as a powerful assistant for leaders seeking to improve productivity and make informed decisions.\n"
     ]
    }
   ],
   "source": [
    "for x in pd_all_info.iloc[indices[0]][\"summary\"].values:\n",
    "    print(x)"
   ]
  },
  {
   "cell_type": "code",
   "execution_count": 21,
   "id": "a181ad4b",
   "metadata": {},
   "outputs": [
    {
     "data": {
      "application/vnd.plotly.v1+json": {
       "config": {
        "plotlyServerURL": "https://plot.ly"
       },
       "data": [
        {
         "customdata": [
          [
           "Tesla's geofence innovation for robotaxis"
          ],
          [
           "Tesla faces trial for fatal Autopilot accident"
          ],
          [
           "BYD introduces phone-car connectivity feature"
          ]
         ],
         "hovertemplate": "cluster=8<br>PCA 1=%{x}<br>PCA 2=%{y}<br>PCA 3=%{z}<br>title=%{customdata[0]}<extra></extra>",
         "legendgroup": "8",
         "marker": {
          "color": "#636efa",
          "symbol": "circle"
         },
         "mode": "markers",
         "name": "8",
         "scene": "scene",
         "showlegend": true,
         "type": "scatter3d",
         "x": {
          "bdata": "X7Smvd1Omr2mcf68",
          "dtype": "f4"
         },
         "y": {
          "bdata": "5EpTvtmI5r3ygyW+",
          "dtype": "f4"
         },
         "z": {
          "bdata": "4wk5PlDPkD5HS5A9",
          "dtype": "f4"
         }
        },
        {
         "customdata": [
          [
           "OpenAI Economist preps children for a world with AI"
          ],
          [
           "OpenAI's ChatGPT head discusses qualities wanted in applicants"
          ],
          [
           "University professor changes evaluation methods due to AI copying"
          ]
         ],
         "hovertemplate": "cluster=3<br>PCA 1=%{x}<br>PCA 2=%{y}<br>PCA 3=%{z}<br>title=%{customdata[0]}<extra></extra>",
         "legendgroup": "3",
         "marker": {
          "color": "#EF553B",
          "symbol": "circle"
         },
         "mode": "markers",
         "name": "3",
         "scene": "scene",
         "showlegend": true,
         "type": "scatter3d",
         "x": {
          "bdata": "lTGOvrDHz72o1mO+",
          "dtype": "f4"
         },
         "y": {
          "bdata": "BiyJvhSTqb6fhDy+",
          "dtype": "f4"
         },
         "z": {
          "bdata": "w1afveCJozz3WCQ+",
          "dtype": "f4"
         }
        },
        {
         "customdata": [
          [
           "Detecting scams in SMS and WhatsApp messages"
          ],
          [
           "La presión de los 'boomers' obliga al Gobierno a buscar fórmulas para retrasar el pago en pensiones"
          ],
          [
           "Ley antifraude y Verifactu: solo un 10% de empresas y autónomos en España está preparado"
          ],
          [
           "El fraude laboral online que afecta a miles de personas en todo el mundo: alerta de ESET sobre 'task scam'"
          ],
          [
           "The Future of Financial Advice"
          ]
         ],
         "hovertemplate": "cluster=0<br>PCA 1=%{x}<br>PCA 2=%{y}<br>PCA 3=%{z}<br>title=%{customdata[0]}<extra></extra>",
         "legendgroup": "0",
         "marker": {
          "color": "#00cc96",
          "symbol": "circle"
         },
         "mode": "markers",
         "name": "0",
         "scene": "scene",
         "showlegend": true,
         "type": "scatter3d",
         "x": {
          "bdata": "Q+nzvXrY7b0H4g++fvOAvbU6F74=",
          "dtype": "f4"
         },
         "y": {
          "bdata": "egZUPYH81T6Qtlg+epobPffELj4=",
          "dtype": "f4"
         },
         "z": {
          "bdata": "hdGxPeReZD7j67E+h6zmPbTrlr0=",
          "dtype": "f4"
         }
        },
        {
         "customdata": [
          [
           "Sam Altman and OpenAI develop innovative browser"
          ],
          [
           "Nvidia to resume chip sales to China"
          ],
          [
           "OpenAI and Microsoft competition in AI development"
          ],
          [
           "Google's engineer salaries amidst AI expansion"
          ],
          [
           "AI predicted to redefine banking by 2030"
          ],
          [
           "CEOs implement AI in various aspects of daily life"
          ],
          [
           "A pesar de que más del 90% de los bancos ya utiliza IA generativa, la mitad no ve beneficios significativos"
          ],
          [
           "Maribel Solanas (MAPFRE): “Para evitar los riesgos de la IA hay que tener un control efectivo de los datos”"
          ],
          [
           "El consejero delegado de Nvidia ya es más rico que Warren Buffett gracias al tirón de la IA"
          ],
          [
           "La confianza y la colaboración entre humanos y la IA definirá la próxima era de IA basada en agentes"
          ],
          [
           "ChatGPT's New Update Can Create PowerPoint Presentations and Excel Spreadsheets for You"
          ],
          [
           "La piel que siente: un avance tecnológico acerca a los robots a nuestra sensibilidad humana"
          ],
          [
           "El gran estallido invisible: millones de robots humanoides están por tomar el control del mundo laboral"
          ],
          [
           "Teaching for Tomorrow: Unlocking Six Weeks a Year With AI"
          ],
          [
           "Denmark taps Microsoft to build world’s most powerful quantum computer"
          ],
          [
           "WeTransfer atraviesa una crisis de marca por ser ambiguo en sus condiciones de uso"
          ],
          [
           "This is how people in 2025 are getting their news"
          ]
         ],
         "hovertemplate": "cluster=6<br>PCA 1=%{x}<br>PCA 2=%{y}<br>PCA 3=%{z}<br>title=%{customdata[0]}<extra></extra>",
         "legendgroup": "6",
         "marker": {
          "color": "#ab63fa",
          "symbol": "circle"
         },
         "mode": "markers",
         "name": "6",
         "scene": "scene",
         "showlegend": true,
         "type": "scatter3d",
         "x": {
          "bdata": "lcT+vdPpMr6MfJi+J+s0voM5nL5iU5m+QPSZvsN8m77XNx6+hwOevsGSVL6Glxu+DDB3viI0o76txJ69ZmUXvoucPb4=",
          "dtype": "f4"
         },
         "y": {
          "bdata": "sWLevjQcX756f6G+hnhmvqIEg77umcK+502LvoRKk75+RFG+2QqCvig80L4t2mu+cp9tvqGQir7vATq9e0czvmfAYDk=",
          "dtype": "f4"
         },
         "z": {
          "bdata": "TIEKPmhUvzr2We49zRPQPYwvcT1Rjqu8xRsOPX1xuj308Ci9v6XOvINbDD4STSA+2NuhvWm9sD2FH649r8UPPoEC7L0=",
          "dtype": "f4"
         }
        },
        {
         "customdata": [
          [
           "Steve Jobs' controversial character highlighted"
          ],
          [
           "Got a Startup Idea? Here's What It Really Takes to Make It Work"
          ],
          [
           "How CEOs Hone and Harness Their Intuition"
          ],
          [
           "Is the C-Suite Right for You?"
          ]
         ],
         "hovertemplate": "cluster=5<br>PCA 1=%{x}<br>PCA 2=%{y}<br>PCA 3=%{z}<br>title=%{customdata[0]}<extra></extra>",
         "legendgroup": "5",
         "marker": {
          "color": "#FFA15A",
          "symbol": "circle"
         },
         "mode": "markers",
         "name": "5",
         "scene": "scene",
         "showlegend": true,
         "type": "scatter3d",
         "x": {
          "bdata": "ujr8PPSSPz13stE8JgCpvQ==",
          "dtype": "f4"
         },
         "y": {
          "bdata": "VmImvsq+wLwtffe9+tmoPQ==",
          "dtype": "f4"
         },
         "z": {
          "bdata": "dS2xvfBji73P1Ic9WsCMvQ==",
          "dtype": "f4"
         }
        },
        {
         "customdata": [
          [
           "La opa de BBVA al Sabadell sigue adelante a la espera de la decisión final de los accionistas este verano"
          ],
          [
           "Cataluña y País Vasco evitan asumir el déficit de sus pensiones"
          ],
          [
           "Audax Renovables lanza dos emisiones de bonos verdes por 33,9 millones"
          ],
          [
           "Los concursos de publicidad de la administración pública van a peor"
          ],
          [
           "Jordi Sánchez (Bayer):“La apuesta por España es muy firme; las inversiones en salud y agricultura continuarán”"
          ],
          [
           "Francisco Rionda (aea): 'Los brand manager nos cansamos antes de nuestras propias comunicaciones que el consumidor'"
          ],
          [
           "“Sé lo que hicisteis el último verano” toma una playa española"
          ],
          [
           "Aumentan los concursos publicitarios, pero empeoran las condiciones"
          ],
          [
           "Los concursos públicos de publicidad se disparan… y se endurecen"
          ],
          [
           "Disney+ lanza la campaña ‘The Bear x Atlético de Madrid’ para promocionar la nueva temporada de la serie ‘The Bear’"
          ],
          [
           "La nueva campaña de ‘La Chingona’ de KFC, ‘Vuelve La Chingona de KFC con Doritos’, recrea un western clásico en miniatura"
          ],
          [
           "Gallo estrena un spot de televisión centrado en su gama Pasta Fina dentro de su plataforma de marca ‘Aquí estamos hechos de esta pasta’"
          ]
         ],
         "hovertemplate": "cluster=7<br>PCA 1=%{x}<br>PCA 2=%{y}<br>PCA 3=%{z}<br>title=%{customdata[0]}<extra></extra>",
         "legendgroup": "7",
         "marker": {
          "color": "#19d3f3",
          "symbol": "circle"
         },
         "mode": "markers",
         "name": "7",
         "scene": "scene",
         "showlegend": true,
         "type": "scatter3d",
         "x": {
          "bdata": "BSiHO6HFwL0ORCE9KPUNPlw2HT2qiAM+FlxIPdtuHD5X4hg++L+RPmbinz5/7Ws+",
          "dtype": "f4"
         },
         "y": {
          "bdata": "e0CvPrhL+j6A2Gc+vVCuPhxWiD4/sEc+LlbWPVsPxT4Ap9w+W2X3PR0vTj2jFAk+",
          "dtype": "f4"
         },
         "z": {
          "bdata": "GnjgPhuuuz445Ys+8UFwPmzyiT6DQbc+sLHPPTGmrj6W7+E+Obo/Pi/fQT64QI4+",
          "dtype": "f4"
         }
        },
        {
         "customdata": [
          [
           "Amazon's AI project \"Starfish\" aims to gather comprehensive product information"
          ],
          [
           "WhatsApp's AI calling feature stirs consumer panic"
          ],
          [
           "AI reshapes Hollywood and animations"
          ],
          [
           "Upgrade Your LinkedIn Profile With AI-Generated Headshots for Less Than $20"
          ],
          [
           "Can Gen AI and Copyright Coexist?"
          ],
          [
           "La IA irrumpe en Cannes Lions 2025: Amazon, Apple y Mars lideran el debate creativo"
          ],
          [
           "Meta appears to be testing Threads sign-up with Facebook accounts"
          ],
          [
           "This skintight suit will make space exploration easier"
          ],
          [
           "Transforming Industry: The Global Lighthouse Network"
          ]
         ],
         "hovertemplate": "cluster=4<br>PCA 1=%{x}<br>PCA 2=%{y}<br>PCA 3=%{z}<br>title=%{customdata[0]}<extra></extra>",
         "legendgroup": "4",
         "marker": {
          "color": "#FF6692",
          "symbol": "circle"
         },
         "mode": "markers",
         "name": "4",
         "scene": "scene",
         "showlegend": true,
         "type": "scatter3d",
         "x": {
          "bdata": "CjgDvgErCr6r3xa+ZHXVvN51P72enE+8xmCaPF022LqD1Uu+",
          "dtype": "f4"
         },
         "y": {
          "bdata": "pmilvlL22r3w782+31hPvka4Oj2J9re+RMBXvX6XEb67HBO+",
          "dtype": "f4"
         },
         "z": {
          "bdata": "/b0QPrj4MD4mwcc9vM3DPZdCmr0tTAI97zKuPf2H2j1NkCy+",
          "dtype": "f4"
         }
        },
        {
         "customdata": [
          [
           "Xtium’s CFO on team-building and tech’s competitive energy"
          ],
          [
           "I've Helped 124,393 Entrepreneurs With Their Advertising — Here Are My Top 3 Secrets Proven to Generate Results"
          ],
          [
           "58% of Gen Z workers say their job is a ‘situationship’"
          ],
          [
           "Del cumplimiento a la convicción: por qué las empresas deben liderar el reporting de sostenibilidad más allá de la regulación"
          ],
          [
           "We Have More Productivity Tools Than Ever — So Why Are We Getting Less Done?"
          ],
          [
           "Cuando la ética se convierte en acción"
          ],
          [
           "Cuidar del talento no es una tendencia, es una responsabilidad. Y hacerlo bien, empieza por lo cotidiano"
          ],
          [
           "Achieve DEI Goals Without DEI Programs"
          ],
          [
           "The State of Higher Education 2025"
          ],
          [
           "State of the Global Workplace: 2025 Report"
          ],
          [
           "Global Engagement Falls for the Second Time Since 2009"
          ],
          [
           "Isdin lanza un tatuaje temporal que enseña a los niños la importancia de la protección solar"
          ],
          [
           "Así responde nuestro cerebro cuando vemos espectáculos en directo"
          ],
          [
           "Concienciados y sostenibles… ¿solo en teoría? Así elige alojamiento la generación Z"
          ],
          [
           "Por qué prioriza LinkedIn las publicaciones de hace semanas"
          ],
          [
           "Promoting Health and Well-Being: Employer Strategies for Encouraging Healthy Weight and Metabolic Wellness"
          ],
          [
           "Why our methane-detecting satellite showed it's time for climate action to aim sky-high"
          ]
         ],
         "hovertemplate": "cluster=9<br>PCA 1=%{x}<br>PCA 2=%{y}<br>PCA 3=%{z}<br>title=%{customdata[0]}<extra></extra>",
         "legendgroup": "9",
         "marker": {
          "color": "#B6E880",
          "symbol": "circle"
         },
         "mode": "markers",
         "name": "9",
         "scene": "scene",
         "showlegend": true,
         "type": "scatter3d",
         "x": {
          "bdata": "rVQtvVc+Vj6iT+K9j8nqvQvAL74gvM696mG4O/gfyr0eV9i9/60wvq6VK763tS0+Ss/WPUIJqj1GDfm8Csj9vSN57Ts=",
          "dtype": "f4"
         },
         "y": {
          "bdata": "LFDTPZYtMj2DTxs+ccp8PhYfH727/L49zRtTPpTG7j1hcGE+il1/Phh7hT569+U950PvPJlnbz6oTEC9r3p+Pv8zfT0=",
          "dtype": "f4"
         },
         "z": {
          "bdata": "P3R/PCbu9D0JOky9KtA4vRsxsL3roLq9aygPPh2uSb3aCN29xRlqvrGdfb5uD18+SH6evQ8YkDx4NIk6Ym/evWCmDrw=",
          "dtype": "f4"
         }
        },
        {
         "customdata": [
          [
           "World Happiness Report"
          ],
          [
           "Global Leadership Report: What Followers Want"
          ],
          [
           "Ethereum toma la delantera: el ciclo cripto entra en su fase más inesperada"
          ],
          [
           "Global Risks Report 2025"
          ],
          [
           "La fortaleza del euro frente al dólar y los factores que intervienen en el tipo de cambio"
          ],
          [
           "The 5 greatest risks facing the world in 2025"
          ],
          [
           "5 shifts in a new era for entrepreneurs: Reflections from 'Summer Davos' 2025"
          ],
          [
           "The Future Of Manufacturing | Ep 1: The Fourth Industrial Revolution"
          ],
          [
           "Heads of state and political leaders gathered at ‘Summer Davos’. Here’s what they had to say"
          ],
          [
           "How sport can change lives: the real life story of the Homeless World Cup"
          ],
          [
           "Tariffs return to centre stage amid broader global shifts, and other key economic news to know"
          ],
          [
           "Day 1 at ‘Summer Davos’ 2025: AI, trade and the global economy in focus"
          ],
          [
           "How can we navigate change to build a stronger, fairer global economy"
          ],
          [
           "The Global Cooperation Barometer 2024"
          ],
          [
           "Global Cybersecurity Outlook 2024"
          ],
          [
           "Top 10 Emerging Technologies of 2025"
          ]
         ],
         "hovertemplate": "cluster=1<br>PCA 1=%{x}<br>PCA 2=%{y}<br>PCA 3=%{z}<br>title=%{customdata[0]}<extra></extra>",
         "legendgroup": "1",
         "marker": {
          "color": "#FF97FF",
          "symbol": "circle"
         },
         "mode": "markers",
         "name": "1",
         "scene": "scene",
         "showlegend": true,
         "type": "scatter3d",
         "x": {
          "bdata": "8rWOvbXVJ73Idzm9HvdGvnq5BL5uu06+/8GyvaW01r3LzY68f7omPjHV/r0CejC+XIcIvmpBWL4RbIi+UZ8Kvg==",
          "dtype": "f4"
         },
         "y": {
          "bdata": "uaKEPibogz6Z7ps82ymRPiZ5pT493oI+XT/avUgjpT15P6s9vTIVPrMegj6JBRC90+pOPmj/mj7eeAU+FzrovA==",
          "dtype": "f4"
         },
         "z": {
          "bdata": "FZ6lvl9bnr5V1r+8QKTIvo9zGr3/3Mu+kZyKvqNKir5tWaW+rrYpvtkdfL5Rzr6+YzSNvupY1r6fIJu+yDdqvg==",
          "dtype": "f4"
         }
        },
        {
         "customdata": [
          [
           "NB SCORE 2024: SCOPEN analiza el nuevo negocio en agencias creativas y de medios"
          ],
          [
           "Publicis Groupe saca pecho en el último trimestre y revisa al alza sus previsiones de crecimiento"
          ],
          [
           "Las nuevas Pepsi no solo se saborean, también se lucen en las calles en la colección cápsula con ScrapWorld"
          ],
          [
           "Alberto Knapp es nombrado como nuevo presidente de WPP en España"
          ],
          [
           "Netflix fía su futuro a la IA y a la publicidad, cuyos ingresos prevé duplicar en 2025"
          ],
          [
           "La «crème de la crème» de las marcas en Europa: estas son las firmas más fuertes y valiosas"
          ],
          [
           "Apple presenta su nueva obra audiovisual mexicana"
          ],
          [
           "Helios pone la tilde el kétchup más español"
          ],
          [
           "Domino’s Pizza lanza TRIBUTE, el primer documental sobre la historia del gaming en España"
          ]
         ],
         "hovertemplate": "cluster=2<br>PCA 1=%{x}<br>PCA 2=%{y}<br>PCA 3=%{z}<br>title=%{customdata[0]}<extra></extra>",
         "legendgroup": "2",
         "marker": {
          "color": "#FECB52",
          "symbol": "circle"
         },
         "mode": "markers",
         "name": "2",
         "scene": "scene",
         "showlegend": true,
         "type": "scatter3d",
         "x": {
          "bdata": "jvM7PyP6QT/PMD8/ObRAP4agRT8it0M/hclHP1pvRD/0Ejs/",
          "dtype": "f4"
         },
         "y": {
          "bdata": "0XcqvsbqKr7UwR6+Lwcevkw9F75o6By+YZkyvg+CxL1Ca8e9",
          "dtype": "f4"
         },
         "z": {
          "bdata": "C7wKvuEj9r0hSSK+4fEWvrat7L1ScAG+XtX7vdLhyb2/AwO9",
          "dtype": "f4"
         }
        }
       ],
       "layout": {
        "legend": {
         "title": {
          "text": "cluster"
         },
         "tracegroupgap": 0
        },
        "scene": {
         "domain": {
          "x": [
           0,
           1
          ],
          "y": [
           0,
           1
          ]
         },
         "xaxis": {
          "title": {
           "text": "PCA 1"
          }
         },
         "yaxis": {
          "title": {
           "text": "PCA 2"
          }
         },
         "zaxis": {
          "title": {
           "text": "PCA 3"
          }
         }
        },
        "template": {
         "data": {
          "bar": [
           {
            "error_x": {
             "color": "#2a3f5f"
            },
            "error_y": {
             "color": "#2a3f5f"
            },
            "marker": {
             "line": {
              "color": "#E5ECF6",
              "width": 0.5
             },
             "pattern": {
              "fillmode": "overlay",
              "size": 10,
              "solidity": 0.2
             }
            },
            "type": "bar"
           }
          ],
          "barpolar": [
           {
            "marker": {
             "line": {
              "color": "#E5ECF6",
              "width": 0.5
             },
             "pattern": {
              "fillmode": "overlay",
              "size": 10,
              "solidity": 0.2
             }
            },
            "type": "barpolar"
           }
          ],
          "carpet": [
           {
            "aaxis": {
             "endlinecolor": "#2a3f5f",
             "gridcolor": "white",
             "linecolor": "white",
             "minorgridcolor": "white",
             "startlinecolor": "#2a3f5f"
            },
            "baxis": {
             "endlinecolor": "#2a3f5f",
             "gridcolor": "white",
             "linecolor": "white",
             "minorgridcolor": "white",
             "startlinecolor": "#2a3f5f"
            },
            "type": "carpet"
           }
          ],
          "choropleth": [
           {
            "colorbar": {
             "outlinewidth": 0,
             "ticks": ""
            },
            "type": "choropleth"
           }
          ],
          "contour": [
           {
            "colorbar": {
             "outlinewidth": 0,
             "ticks": ""
            },
            "colorscale": [
             [
              0,
              "#0d0887"
             ],
             [
              0.1111111111111111,
              "#46039f"
             ],
             [
              0.2222222222222222,
              "#7201a8"
             ],
             [
              0.3333333333333333,
              "#9c179e"
             ],
             [
              0.4444444444444444,
              "#bd3786"
             ],
             [
              0.5555555555555556,
              "#d8576b"
             ],
             [
              0.6666666666666666,
              "#ed7953"
             ],
             [
              0.7777777777777778,
              "#fb9f3a"
             ],
             [
              0.8888888888888888,
              "#fdca26"
             ],
             [
              1,
              "#f0f921"
             ]
            ],
            "type": "contour"
           }
          ],
          "contourcarpet": [
           {
            "colorbar": {
             "outlinewidth": 0,
             "ticks": ""
            },
            "type": "contourcarpet"
           }
          ],
          "heatmap": [
           {
            "colorbar": {
             "outlinewidth": 0,
             "ticks": ""
            },
            "colorscale": [
             [
              0,
              "#0d0887"
             ],
             [
              0.1111111111111111,
              "#46039f"
             ],
             [
              0.2222222222222222,
              "#7201a8"
             ],
             [
              0.3333333333333333,
              "#9c179e"
             ],
             [
              0.4444444444444444,
              "#bd3786"
             ],
             [
              0.5555555555555556,
              "#d8576b"
             ],
             [
              0.6666666666666666,
              "#ed7953"
             ],
             [
              0.7777777777777778,
              "#fb9f3a"
             ],
             [
              0.8888888888888888,
              "#fdca26"
             ],
             [
              1,
              "#f0f921"
             ]
            ],
            "type": "heatmap"
           }
          ],
          "histogram": [
           {
            "marker": {
             "pattern": {
              "fillmode": "overlay",
              "size": 10,
              "solidity": 0.2
             }
            },
            "type": "histogram"
           }
          ],
          "histogram2d": [
           {
            "colorbar": {
             "outlinewidth": 0,
             "ticks": ""
            },
            "colorscale": [
             [
              0,
              "#0d0887"
             ],
             [
              0.1111111111111111,
              "#46039f"
             ],
             [
              0.2222222222222222,
              "#7201a8"
             ],
             [
              0.3333333333333333,
              "#9c179e"
             ],
             [
              0.4444444444444444,
              "#bd3786"
             ],
             [
              0.5555555555555556,
              "#d8576b"
             ],
             [
              0.6666666666666666,
              "#ed7953"
             ],
             [
              0.7777777777777778,
              "#fb9f3a"
             ],
             [
              0.8888888888888888,
              "#fdca26"
             ],
             [
              1,
              "#f0f921"
             ]
            ],
            "type": "histogram2d"
           }
          ],
          "histogram2dcontour": [
           {
            "colorbar": {
             "outlinewidth": 0,
             "ticks": ""
            },
            "colorscale": [
             [
              0,
              "#0d0887"
             ],
             [
              0.1111111111111111,
              "#46039f"
             ],
             [
              0.2222222222222222,
              "#7201a8"
             ],
             [
              0.3333333333333333,
              "#9c179e"
             ],
             [
              0.4444444444444444,
              "#bd3786"
             ],
             [
              0.5555555555555556,
              "#d8576b"
             ],
             [
              0.6666666666666666,
              "#ed7953"
             ],
             [
              0.7777777777777778,
              "#fb9f3a"
             ],
             [
              0.8888888888888888,
              "#fdca26"
             ],
             [
              1,
              "#f0f921"
             ]
            ],
            "type": "histogram2dcontour"
           }
          ],
          "mesh3d": [
           {
            "colorbar": {
             "outlinewidth": 0,
             "ticks": ""
            },
            "type": "mesh3d"
           }
          ],
          "parcoords": [
           {
            "line": {
             "colorbar": {
              "outlinewidth": 0,
              "ticks": ""
             }
            },
            "type": "parcoords"
           }
          ],
          "pie": [
           {
            "automargin": true,
            "type": "pie"
           }
          ],
          "scatter": [
           {
            "fillpattern": {
             "fillmode": "overlay",
             "size": 10,
             "solidity": 0.2
            },
            "type": "scatter"
           }
          ],
          "scatter3d": [
           {
            "line": {
             "colorbar": {
              "outlinewidth": 0,
              "ticks": ""
             }
            },
            "marker": {
             "colorbar": {
              "outlinewidth": 0,
              "ticks": ""
             }
            },
            "type": "scatter3d"
           }
          ],
          "scattercarpet": [
           {
            "marker": {
             "colorbar": {
              "outlinewidth": 0,
              "ticks": ""
             }
            },
            "type": "scattercarpet"
           }
          ],
          "scattergeo": [
           {
            "marker": {
             "colorbar": {
              "outlinewidth": 0,
              "ticks": ""
             }
            },
            "type": "scattergeo"
           }
          ],
          "scattergl": [
           {
            "marker": {
             "colorbar": {
              "outlinewidth": 0,
              "ticks": ""
             }
            },
            "type": "scattergl"
           }
          ],
          "scattermap": [
           {
            "marker": {
             "colorbar": {
              "outlinewidth": 0,
              "ticks": ""
             }
            },
            "type": "scattermap"
           }
          ],
          "scattermapbox": [
           {
            "marker": {
             "colorbar": {
              "outlinewidth": 0,
              "ticks": ""
             }
            },
            "type": "scattermapbox"
           }
          ],
          "scatterpolar": [
           {
            "marker": {
             "colorbar": {
              "outlinewidth": 0,
              "ticks": ""
             }
            },
            "type": "scatterpolar"
           }
          ],
          "scatterpolargl": [
           {
            "marker": {
             "colorbar": {
              "outlinewidth": 0,
              "ticks": ""
             }
            },
            "type": "scatterpolargl"
           }
          ],
          "scatterternary": [
           {
            "marker": {
             "colorbar": {
              "outlinewidth": 0,
              "ticks": ""
             }
            },
            "type": "scatterternary"
           }
          ],
          "surface": [
           {
            "colorbar": {
             "outlinewidth": 0,
             "ticks": ""
            },
            "colorscale": [
             [
              0,
              "#0d0887"
             ],
             [
              0.1111111111111111,
              "#46039f"
             ],
             [
              0.2222222222222222,
              "#7201a8"
             ],
             [
              0.3333333333333333,
              "#9c179e"
             ],
             [
              0.4444444444444444,
              "#bd3786"
             ],
             [
              0.5555555555555556,
              "#d8576b"
             ],
             [
              0.6666666666666666,
              "#ed7953"
             ],
             [
              0.7777777777777778,
              "#fb9f3a"
             ],
             [
              0.8888888888888888,
              "#fdca26"
             ],
             [
              1,
              "#f0f921"
             ]
            ],
            "type": "surface"
           }
          ],
          "table": [
           {
            "cells": {
             "fill": {
              "color": "#EBF0F8"
             },
             "line": {
              "color": "white"
             }
            },
            "header": {
             "fill": {
              "color": "#C8D4E3"
             },
             "line": {
              "color": "white"
             }
            },
            "type": "table"
           }
          ]
         },
         "layout": {
          "annotationdefaults": {
           "arrowcolor": "#2a3f5f",
           "arrowhead": 0,
           "arrowwidth": 1
          },
          "autotypenumbers": "strict",
          "coloraxis": {
           "colorbar": {
            "outlinewidth": 0,
            "ticks": ""
           }
          },
          "colorscale": {
           "diverging": [
            [
             0,
             "#8e0152"
            ],
            [
             0.1,
             "#c51b7d"
            ],
            [
             0.2,
             "#de77ae"
            ],
            [
             0.3,
             "#f1b6da"
            ],
            [
             0.4,
             "#fde0ef"
            ],
            [
             0.5,
             "#f7f7f7"
            ],
            [
             0.6,
             "#e6f5d0"
            ],
            [
             0.7,
             "#b8e186"
            ],
            [
             0.8,
             "#7fbc41"
            ],
            [
             0.9,
             "#4d9221"
            ],
            [
             1,
             "#276419"
            ]
           ],
           "sequential": [
            [
             0,
             "#0d0887"
            ],
            [
             0.1111111111111111,
             "#46039f"
            ],
            [
             0.2222222222222222,
             "#7201a8"
            ],
            [
             0.3333333333333333,
             "#9c179e"
            ],
            [
             0.4444444444444444,
             "#bd3786"
            ],
            [
             0.5555555555555556,
             "#d8576b"
            ],
            [
             0.6666666666666666,
             "#ed7953"
            ],
            [
             0.7777777777777778,
             "#fb9f3a"
            ],
            [
             0.8888888888888888,
             "#fdca26"
            ],
            [
             1,
             "#f0f921"
            ]
           ],
           "sequentialminus": [
            [
             0,
             "#0d0887"
            ],
            [
             0.1111111111111111,
             "#46039f"
            ],
            [
             0.2222222222222222,
             "#7201a8"
            ],
            [
             0.3333333333333333,
             "#9c179e"
            ],
            [
             0.4444444444444444,
             "#bd3786"
            ],
            [
             0.5555555555555556,
             "#d8576b"
            ],
            [
             0.6666666666666666,
             "#ed7953"
            ],
            [
             0.7777777777777778,
             "#fb9f3a"
            ],
            [
             0.8888888888888888,
             "#fdca26"
            ],
            [
             1,
             "#f0f921"
            ]
           ]
          },
          "colorway": [
           "#636efa",
           "#EF553B",
           "#00cc96",
           "#ab63fa",
           "#FFA15A",
           "#19d3f3",
           "#FF6692",
           "#B6E880",
           "#FF97FF",
           "#FECB52"
          ],
          "font": {
           "color": "#2a3f5f"
          },
          "geo": {
           "bgcolor": "white",
           "lakecolor": "white",
           "landcolor": "#E5ECF6",
           "showlakes": true,
           "showland": true,
           "subunitcolor": "white"
          },
          "hoverlabel": {
           "align": "left"
          },
          "hovermode": "closest",
          "mapbox": {
           "style": "light"
          },
          "paper_bgcolor": "white",
          "plot_bgcolor": "#E5ECF6",
          "polar": {
           "angularaxis": {
            "gridcolor": "white",
            "linecolor": "white",
            "ticks": ""
           },
           "bgcolor": "#E5ECF6",
           "radialaxis": {
            "gridcolor": "white",
            "linecolor": "white",
            "ticks": ""
           }
          },
          "scene": {
           "xaxis": {
            "backgroundcolor": "#E5ECF6",
            "gridcolor": "white",
            "gridwidth": 2,
            "linecolor": "white",
            "showbackground": true,
            "ticks": "",
            "zerolinecolor": "white"
           },
           "yaxis": {
            "backgroundcolor": "#E5ECF6",
            "gridcolor": "white",
            "gridwidth": 2,
            "linecolor": "white",
            "showbackground": true,
            "ticks": "",
            "zerolinecolor": "white"
           },
           "zaxis": {
            "backgroundcolor": "#E5ECF6",
            "gridcolor": "white",
            "gridwidth": 2,
            "linecolor": "white",
            "showbackground": true,
            "ticks": "",
            "zerolinecolor": "white"
           }
          },
          "shapedefaults": {
           "line": {
            "color": "#2a3f5f"
           }
          },
          "ternary": {
           "aaxis": {
            "gridcolor": "white",
            "linecolor": "white",
            "ticks": ""
           },
           "baxis": {
            "gridcolor": "white",
            "linecolor": "white",
            "ticks": ""
           },
           "bgcolor": "#E5ECF6",
           "caxis": {
            "gridcolor": "white",
            "linecolor": "white",
            "ticks": ""
           }
          },
          "title": {
           "x": 0.05
          },
          "xaxis": {
           "automargin": true,
           "gridcolor": "white",
           "linecolor": "white",
           "ticks": "",
           "title": {
            "standoff": 15
           },
           "zerolinecolor": "white",
           "zerolinewidth": 2
          },
          "yaxis": {
           "automargin": true,
           "gridcolor": "white",
           "linecolor": "white",
           "ticks": "",
           "title": {
            "standoff": 15
           },
           "zerolinecolor": "white",
           "zerolinewidth": 2
          }
         }
        },
        "title": {
         "text": "Embeddings Cluster Visualization with Article Titles"
        }
       }
      }
     },
     "metadata": {},
     "output_type": "display_data"
    }
   ],
   "source": [
    "cluster_labels = pd_all_info.topic.values\n",
    "\n",
    "# Reduce dimensions with PCA for visualization (2D)\n",
    "pca = PCA(n_components=3)\n",
    "reduced_embeddings = pca.fit_transform(embedding_matrix)\n",
    "article_titles = pd_all_info[\"article_title\"].values\n",
    "\n",
    "# PCA\n",
    "pca = PCA(n_components=3)\n",
    "reduced_embeddings = pca.fit_transform(embedding_matrix)\n",
    "\n",
    "# DataFrame\n",
    "df_plot = pd.DataFrame({\n",
    "    \"x\": reduced_embeddings[:, 0],\n",
    "    \"y\": reduced_embeddings[:, 1],\n",
    "    \"z\": reduced_embeddings[:, 2],\n",
    "    \"cluster\": cluster_labels.astype(str),\n",
    "    \"title\": article_titles\n",
    "})\n",
    "\n",
    "# Interactive plot\n",
    "fig = px.scatter_3d(\n",
    "    df_plot,\n",
    "    x=\"x\",\n",
    "    y=\"y\",\n",
    "    z=\"z\",\n",
    "    color=\"cluster\",\n",
    "    hover_data=[\"title\"],\n",
    "    title=\"Embeddings Cluster Visualization with Article Titles\",\n",
    "    labels={\"x\": \"PCA 1\", \"y\": \"PCA 2\", \"z\" : \"PCA 3\" },\n",
    ")\n",
    "\n",
    "fig.show()"
   ]
  },
  {
   "cell_type": "code",
   "execution_count": 22,
   "id": "642b69ae",
   "metadata": {},
   "outputs": [],
   "source": [
    "df_expanded_relevance = pd_all_info[\"relevance\"].apply(pd.Series)\n",
    "pd_final = pd.concat([pd_all_info, df_expanded_relevance], axis=1)\n",
    "pd_final.drop(columns=[\"relevance\"], inplace=True, axis=1)"
   ]
  },
  {
   "cell_type": "code",
   "execution_count": 23,
   "id": "36324d98",
   "metadata": {},
   "outputs": [
    {
     "data": {
      "text/html": [
       "<div>\n",
       "<style scoped>\n",
       "    .dataframe tbody tr th:only-of-type {\n",
       "        vertical-align: middle;\n",
       "    }\n",
       "\n",
       "    .dataframe tbody tr th {\n",
       "        vertical-align: top;\n",
       "    }\n",
       "\n",
       "    .dataframe thead th {\n",
       "        text-align: right;\n",
       "    }\n",
       "</style>\n",
       "<table border=\"1\" class=\"dataframe\">\n",
       "  <thead>\n",
       "    <tr style=\"text-align: right;\">\n",
       "      <th></th>\n",
       "      <th>article_id</th>\n",
       "      <th>summary_embedding</th>\n",
       "      <th>embedding_model</th>\n",
       "      <th>model_x</th>\n",
       "      <th>run_id_x</th>\n",
       "      <th>task_name_x</th>\n",
       "      <th>article_language</th>\n",
       "      <th>source_name</th>\n",
       "      <th>article_title</th>\n",
       "      <th>article_url</th>\n",
       "      <th>...</th>\n",
       "      <th>publish_date</th>\n",
       "      <th>topic</th>\n",
       "      <th>LAURA GIL</th>\n",
       "      <th>FEDE SEGARRA</th>\n",
       "      <th>ELÍSABETH HERNÁNDEZ</th>\n",
       "      <th>JAUME ALEMANY</th>\n",
       "      <th>RICARDO LECHUGA</th>\n",
       "      <th>JORGE VILLAVECCHIA</th>\n",
       "      <th>SALVADOR MARTÍNEZ</th>\n",
       "      <th>JOFRE RIERA</th>\n",
       "    </tr>\n",
       "  </thead>\n",
       "  <tbody>\n",
       "    <tr>\n",
       "      <th>1198</th>\n",
       "      <td>businessinsider.es_20250718095108846432</td>\n",
       "      <td>[-0.0008376312907785177, -0.04853260517120361,...</td>\n",
       "      <td>text-embedding-3-small</td>\n",
       "      <td>gpt-4o-2024-11-20</td>\n",
       "      <td>RUNID_18</td>\n",
       "      <td>relevance_check_v0</td>\n",
       "      <td>es</td>\n",
       "      <td>businessinsider.es</td>\n",
       "      <td>Tesla's geofence innovation for robotaxis</td>\n",
       "      <td>https://www.businessinsider.es/tecnologia/gran...</td>\n",
       "      <td>...</td>\n",
       "      <td>2025-07-15</td>\n",
       "      <td>8</td>\n",
       "      <td>2</td>\n",
       "      <td>0</td>\n",
       "      <td>0</td>\n",
       "      <td>1</td>\n",
       "      <td>0</td>\n",
       "      <td>1</td>\n",
       "      <td>0</td>\n",
       "      <td>0</td>\n",
       "    </tr>\n",
       "    <tr>\n",
       "      <th>1199</th>\n",
       "      <td>businessinsider.es_20250718095108794859</td>\n",
       "      <td>[0.03213481232523918, 0.02532116509974003, 0.0...</td>\n",
       "      <td>text-embedding-3-small</td>\n",
       "      <td>gpt-4o-2024-11-20</td>\n",
       "      <td>RUNID_18</td>\n",
       "      <td>relevance_check_v0</td>\n",
       "      <td>es</td>\n",
       "      <td>businessinsider.es</td>\n",
       "      <td>OpenAI Economist preps children for a world wi...</td>\n",
       "      <td>https://www.businessinsider.es/tecnologia/econ...</td>\n",
       "      <td>...</td>\n",
       "      <td>2025-07-16</td>\n",
       "      <td>3</td>\n",
       "      <td>2</td>\n",
       "      <td>1</td>\n",
       "      <td>2</td>\n",
       "      <td>1</td>\n",
       "      <td>2</td>\n",
       "      <td>2</td>\n",
       "      <td>1</td>\n",
       "      <td>0</td>\n",
       "    </tr>\n",
       "    <tr>\n",
       "      <th>1200</th>\n",
       "      <td>businessinsider.es_20250718095108970217</td>\n",
       "      <td>[0.0363992340862751, 0.028270242735743523, 0.0...</td>\n",
       "      <td>text-embedding-3-small</td>\n",
       "      <td>gpt-4o-2024-11-20</td>\n",
       "      <td>RUNID_18</td>\n",
       "      <td>relevance_check_v0</td>\n",
       "      <td>es</td>\n",
       "      <td>businessinsider.es</td>\n",
       "      <td>Detecting scams in SMS and WhatsApp messages</td>\n",
       "      <td>https://www.businessinsider.es/tecnologia/dos-...</td>\n",
       "      <td>...</td>\n",
       "      <td>2025-07-11</td>\n",
       "      <td>0</td>\n",
       "      <td>2</td>\n",
       "      <td>1</td>\n",
       "      <td>1</td>\n",
       "      <td>1</td>\n",
       "      <td>0</td>\n",
       "      <td>0</td>\n",
       "      <td>0</td>\n",
       "      <td>0</td>\n",
       "    </tr>\n",
       "    <tr>\n",
       "      <th>1201</th>\n",
       "      <td>businessinsider.es_20250718095108805194</td>\n",
       "      <td>[-0.01577611267566681, 0.002103183651342988, 0...</td>\n",
       "      <td>text-embedding-3-small</td>\n",
       "      <td>gpt-4o-2024-11-20</td>\n",
       "      <td>RUNID_18</td>\n",
       "      <td>relevance_check_v0</td>\n",
       "      <td>es</td>\n",
       "      <td>businessinsider.es</td>\n",
       "      <td>Sam Altman and OpenAI develop innovative browser</td>\n",
       "      <td>https://www.businessinsider.es/tecnologia/sam-...</td>\n",
       "      <td>...</td>\n",
       "      <td>2025-07-16</td>\n",
       "      <td>6</td>\n",
       "      <td>2</td>\n",
       "      <td>1</td>\n",
       "      <td>0</td>\n",
       "      <td>1</td>\n",
       "      <td>0</td>\n",
       "      <td>1</td>\n",
       "      <td>0</td>\n",
       "      <td>0</td>\n",
       "    </tr>\n",
       "    <tr>\n",
       "      <th>1202</th>\n",
       "      <td>businessinsider.es_20250718095108856636</td>\n",
       "      <td>[0.002676026662811637, -0.030920324847102165, ...</td>\n",
       "      <td>text-embedding-3-small</td>\n",
       "      <td>gpt-4o-2024-11-20</td>\n",
       "      <td>RUNID_18</td>\n",
       "      <td>relevance_check_v0</td>\n",
       "      <td>es</td>\n",
       "      <td>businessinsider.es</td>\n",
       "      <td>Tesla faces trial for fatal Autopilot accident</td>\n",
       "      <td>https://www.businessinsider.es/tecnologia/tesl...</td>\n",
       "      <td>...</td>\n",
       "      <td>2025-07-14</td>\n",
       "      <td>8</td>\n",
       "      <td>2</td>\n",
       "      <td>1</td>\n",
       "      <td>0</td>\n",
       "      <td>1</td>\n",
       "      <td>0</td>\n",
       "      <td>1</td>\n",
       "      <td>1</td>\n",
       "      <td>0</td>\n",
       "    </tr>\n",
       "    <tr>\n",
       "      <th>...</th>\n",
       "      <td>...</td>\n",
       "      <td>...</td>\n",
       "      <td>...</td>\n",
       "      <td>...</td>\n",
       "      <td>...</td>\n",
       "      <td>...</td>\n",
       "      <td>...</td>\n",
       "      <td>...</td>\n",
       "      <td>...</td>\n",
       "      <td>...</td>\n",
       "      <td>...</td>\n",
       "      <td>...</td>\n",
       "      <td>...</td>\n",
       "      <td>...</td>\n",
       "      <td>...</td>\n",
       "      <td>...</td>\n",
       "      <td>...</td>\n",
       "      <td>...</td>\n",
       "      <td>...</td>\n",
       "      <td>...</td>\n",
       "      <td>...</td>\n",
       "    </tr>\n",
       "    <tr>\n",
       "      <th>1288</th>\n",
       "      <td>weforum.org_20250718095109471637</td>\n",
       "      <td>[0.02796872705221176, -0.010471106506884098, 0...</td>\n",
       "      <td>text-embedding-3-small</td>\n",
       "      <td>gpt-4o-2024-11-20</td>\n",
       "      <td>RUNID_18</td>\n",
       "      <td>relevance_check_v0</td>\n",
       "      <td>English</td>\n",
       "      <td>weforum.org</td>\n",
       "      <td>Global Cybersecurity Outlook 2024</td>\n",
       "      <td>https://www.weforum.org/publications/global-cy...</td>\n",
       "      <td>...</td>\n",
       "      <td>None</td>\n",
       "      <td>1</td>\n",
       "      <td>2</td>\n",
       "      <td>0</td>\n",
       "      <td>1</td>\n",
       "      <td>0</td>\n",
       "      <td>1</td>\n",
       "      <td>1</td>\n",
       "      <td>1</td>\n",
       "      <td>0</td>\n",
       "    </tr>\n",
       "    <tr>\n",
       "      <th>1289</th>\n",
       "      <td>weforum.org_20250718095109461399</td>\n",
       "      <td>[0.041655149310827255, 0.011486723087728024, 0...</td>\n",
       "      <td>text-embedding-3-small</td>\n",
       "      <td>gpt-4o-2024-11-20</td>\n",
       "      <td>RUNID_18</td>\n",
       "      <td>relevance_check_v0</td>\n",
       "      <td>English</td>\n",
       "      <td>weforum.org</td>\n",
       "      <td>Top 10 Emerging Technologies of 2025</td>\n",
       "      <td>https://www.weforum.org/publications/top-10-em...</td>\n",
       "      <td>...</td>\n",
       "      <td>None</td>\n",
       "      <td>1</td>\n",
       "      <td>2</td>\n",
       "      <td>1</td>\n",
       "      <td>1</td>\n",
       "      <td>1</td>\n",
       "      <td>1</td>\n",
       "      <td>2</td>\n",
       "      <td>1</td>\n",
       "      <td>0</td>\n",
       "    </tr>\n",
       "    <tr>\n",
       "      <th>1290</th>\n",
       "      <td>weforum.org_20250718095109491980</td>\n",
       "      <td>[0.029985709115862846, -0.0054162670858204365,...</td>\n",
       "      <td>text-embedding-3-small</td>\n",
       "      <td>gpt-4o-2024-11-20</td>\n",
       "      <td>RUNID_18</td>\n",
       "      <td>relevance_check_v0</td>\n",
       "      <td>English</td>\n",
       "      <td>weforum.org</td>\n",
       "      <td>The Future of Financial Advice</td>\n",
       "      <td>https://www.weforum.org/publications/the-futur...</td>\n",
       "      <td>...</td>\n",
       "      <td>None</td>\n",
       "      <td>0</td>\n",
       "      <td>1</td>\n",
       "      <td>0</td>\n",
       "      <td>0</td>\n",
       "      <td>0</td>\n",
       "      <td>0</td>\n",
       "      <td>2</td>\n",
       "      <td>2</td>\n",
       "      <td>0</td>\n",
       "    </tr>\n",
       "    <tr>\n",
       "      <th>1291</th>\n",
       "      <td>weforum.org_20250718095109502290</td>\n",
       "      <td>[0.014725111424922943, -0.04100026935338974, 0...</td>\n",
       "      <td>text-embedding-3-small</td>\n",
       "      <td>gpt-4o-2024-11-20</td>\n",
       "      <td>RUNID_18</td>\n",
       "      <td>relevance_check_v0</td>\n",
       "      <td>English</td>\n",
       "      <td>weforum.org</td>\n",
       "      <td>Promoting Health and Well-Being: Employer Stra...</td>\n",
       "      <td>https://www.weforum.org/publications/promoting...</td>\n",
       "      <td>...</td>\n",
       "      <td>None</td>\n",
       "      <td>9</td>\n",
       "      <td>0</td>\n",
       "      <td>0</td>\n",
       "      <td>2</td>\n",
       "      <td>0</td>\n",
       "      <td>2</td>\n",
       "      <td>1</td>\n",
       "      <td>0</td>\n",
       "      <td>0</td>\n",
       "    </tr>\n",
       "    <tr>\n",
       "      <th>1292</th>\n",
       "      <td>weforum.org_20250718095109522633</td>\n",
       "      <td>[0.059639301151037216, -0.008855794556438923, ...</td>\n",
       "      <td>text-embedding-3-small</td>\n",
       "      <td>gpt-4o-2024-11-20</td>\n",
       "      <td>RUNID_18</td>\n",
       "      <td>relevance_check_v0</td>\n",
       "      <td>English</td>\n",
       "      <td>weforum.org</td>\n",
       "      <td>Why our methane-detecting satellite showed it'...</td>\n",
       "      <td>https://www.weforum.org/stories/2025/07/methan...</td>\n",
       "      <td>...</td>\n",
       "      <td>None</td>\n",
       "      <td>9</td>\n",
       "      <td>2</td>\n",
       "      <td>1</td>\n",
       "      <td>0</td>\n",
       "      <td>0</td>\n",
       "      <td>0</td>\n",
       "      <td>2</td>\n",
       "      <td>1</td>\n",
       "      <td>0</td>\n",
       "    </tr>\n",
       "  </tbody>\n",
       "</table>\n",
       "<p>95 rows × 35 columns</p>\n",
       "</div>"
      ],
      "text/plain": [
       "                                   article_id  \\\n",
       "1198  businessinsider.es_20250718095108846432   \n",
       "1199  businessinsider.es_20250718095108794859   \n",
       "1200  businessinsider.es_20250718095108970217   \n",
       "1201  businessinsider.es_20250718095108805194   \n",
       "1202  businessinsider.es_20250718095108856636   \n",
       "...                                       ...   \n",
       "1288         weforum.org_20250718095109471637   \n",
       "1289         weforum.org_20250718095109461399   \n",
       "1290         weforum.org_20250718095109491980   \n",
       "1291         weforum.org_20250718095109502290   \n",
       "1292         weforum.org_20250718095109522633   \n",
       "\n",
       "                                      summary_embedding  \\\n",
       "1198  [-0.0008376312907785177, -0.04853260517120361,...   \n",
       "1199  [0.03213481232523918, 0.02532116509974003, 0.0...   \n",
       "1200  [0.0363992340862751, 0.028270242735743523, 0.0...   \n",
       "1201  [-0.01577611267566681, 0.002103183651342988, 0...   \n",
       "1202  [0.002676026662811637, -0.030920324847102165, ...   \n",
       "...                                                 ...   \n",
       "1288  [0.02796872705221176, -0.010471106506884098, 0...   \n",
       "1289  [0.041655149310827255, 0.011486723087728024, 0...   \n",
       "1290  [0.029985709115862846, -0.0054162670858204365,...   \n",
       "1291  [0.014725111424922943, -0.04100026935338974, 0...   \n",
       "1292  [0.059639301151037216, -0.008855794556438923, ...   \n",
       "\n",
       "             embedding_model            model_x  run_id_x         task_name_x  \\\n",
       "1198  text-embedding-3-small  gpt-4o-2024-11-20  RUNID_18  relevance_check_v0   \n",
       "1199  text-embedding-3-small  gpt-4o-2024-11-20  RUNID_18  relevance_check_v0   \n",
       "1200  text-embedding-3-small  gpt-4o-2024-11-20  RUNID_18  relevance_check_v0   \n",
       "1201  text-embedding-3-small  gpt-4o-2024-11-20  RUNID_18  relevance_check_v0   \n",
       "1202  text-embedding-3-small  gpt-4o-2024-11-20  RUNID_18  relevance_check_v0   \n",
       "...                      ...                ...       ...                 ...   \n",
       "1288  text-embedding-3-small  gpt-4o-2024-11-20  RUNID_18  relevance_check_v0   \n",
       "1289  text-embedding-3-small  gpt-4o-2024-11-20  RUNID_18  relevance_check_v0   \n",
       "1290  text-embedding-3-small  gpt-4o-2024-11-20  RUNID_18  relevance_check_v0   \n",
       "1291  text-embedding-3-small  gpt-4o-2024-11-20  RUNID_18  relevance_check_v0   \n",
       "1292  text-embedding-3-small  gpt-4o-2024-11-20  RUNID_18  relevance_check_v0   \n",
       "\n",
       "     article_language         source_name  \\\n",
       "1198               es  businessinsider.es   \n",
       "1199               es  businessinsider.es   \n",
       "1200               es  businessinsider.es   \n",
       "1201               es  businessinsider.es   \n",
       "1202               es  businessinsider.es   \n",
       "...               ...                 ...   \n",
       "1288          English         weforum.org   \n",
       "1289          English         weforum.org   \n",
       "1290          English         weforum.org   \n",
       "1291          English         weforum.org   \n",
       "1292          English         weforum.org   \n",
       "\n",
       "                                          article_title  \\\n",
       "1198          Tesla's geofence innovation for robotaxis   \n",
       "1199  OpenAI Economist preps children for a world wi...   \n",
       "1200       Detecting scams in SMS and WhatsApp messages   \n",
       "1201   Sam Altman and OpenAI develop innovative browser   \n",
       "1202     Tesla faces trial for fatal Autopilot accident   \n",
       "...                                                 ...   \n",
       "1288                  Global Cybersecurity Outlook 2024   \n",
       "1289               Top 10 Emerging Technologies of 2025   \n",
       "1290                     The Future of Financial Advice   \n",
       "1291  Promoting Health and Well-Being: Employer Stra...   \n",
       "1292  Why our methane-detecting satellite showed it'...   \n",
       "\n",
       "                                            article_url  ... publish_date  \\\n",
       "1198  https://www.businessinsider.es/tecnologia/gran...  ...   2025-07-15   \n",
       "1199  https://www.businessinsider.es/tecnologia/econ...  ...   2025-07-16   \n",
       "1200  https://www.businessinsider.es/tecnologia/dos-...  ...   2025-07-11   \n",
       "1201  https://www.businessinsider.es/tecnologia/sam-...  ...   2025-07-16   \n",
       "1202  https://www.businessinsider.es/tecnologia/tesl...  ...   2025-07-14   \n",
       "...                                                 ...  ...          ...   \n",
       "1288  https://www.weforum.org/publications/global-cy...  ...         None   \n",
       "1289  https://www.weforum.org/publications/top-10-em...  ...         None   \n",
       "1290  https://www.weforum.org/publications/the-futur...  ...         None   \n",
       "1291  https://www.weforum.org/publications/promoting...  ...         None   \n",
       "1292  https://www.weforum.org/stories/2025/07/methan...  ...         None   \n",
       "\n",
       "     topic LAURA GIL FEDE SEGARRA ELÍSABETH HERNÁNDEZ JAUME ALEMANY  \\\n",
       "1198     8         2            0                   0             1   \n",
       "1199     3         2            1                   2             1   \n",
       "1200     0         2            1                   1             1   \n",
       "1201     6         2            1                   0             1   \n",
       "1202     8         2            1                   0             1   \n",
       "...    ...       ...          ...                 ...           ...   \n",
       "1288     1         2            0                   1             0   \n",
       "1289     1         2            1                   1             1   \n",
       "1290     0         1            0                   0             0   \n",
       "1291     9         0            0                   2             0   \n",
       "1292     9         2            1                   0             0   \n",
       "\n",
       "     RICARDO LECHUGA JORGE VILLAVECCHIA SALVADOR MARTÍNEZ JOFRE RIERA  \n",
       "1198               0                  1                 0           0  \n",
       "1199               2                  2                 1           0  \n",
       "1200               0                  0                 0           0  \n",
       "1201               0                  1                 0           0  \n",
       "1202               0                  1                 1           0  \n",
       "...              ...                ...               ...         ...  \n",
       "1288               1                  1                 1           0  \n",
       "1289               1                  2                 1           0  \n",
       "1290               0                  2                 2           0  \n",
       "1291               2                  1                 0           0  \n",
       "1292               0                  2                 1           0  \n",
       "\n",
       "[95 rows x 35 columns]"
      ]
     },
     "execution_count": 23,
     "metadata": {},
     "output_type": "execute_result"
    }
   ],
   "source": [
    "pd_final"
   ]
  },
  {
   "cell_type": "code",
   "execution_count": 24,
   "id": "54c6a3a4",
   "metadata": {},
   "outputs": [
    {
     "name": "stdout",
     "output_type": "stream",
     "text": [
      "Los concursos de publicidad de la administración pública van a peor\n",
      "Del cumplimiento a la convicción: por qué las empresas deben liderar el reporting de sostenibilidad más allá de la regulación\n",
      "Francisco Rionda (aea): 'Los brand manager nos cansamos antes de nuestras propias comunicaciones que el consumidor'\n",
      "“Sé lo que hicisteis el último verano” toma una playa española\n",
      "Aumentan los concursos publicitarios, pero empeoran las condiciones\n",
      "NB SCORE 2024: SCOPEN analiza el nuevo negocio en agencias creativas y de medios\n",
      "Los concursos públicos de publicidad se disparan… y se endurecen\n",
      "Las nuevas Pepsi no solo se saborean, también se lucen en las calles en la colección cápsula con ScrapWorld\n",
      "Alberto Knapp es nombrado como nuevo presidente de WPP en España\n",
      "La «crème de la crème» de las marcas en Europa: estas son las firmas más fuertes y valiosas\n",
      "Domino’s Pizza lanza TRIBUTE, el primer documental sobre la historia del gaming en España\n",
      "La nueva campaña de ‘La Chingona’ de KFC, ‘Vuelve La Chingona de KFC con Doritos’, recrea un western clásico en miniatura\n",
      "Gallo estrena un spot de televisión centrado en su gama Pasta Fina dentro de su plataforma de marca ‘Aquí estamos hechos de esta pasta’\n"
     ]
    }
   ],
   "source": [
    "for x in pd_final[pd_final[\"FEDE SEGARRA\"] == 2].article_title.values:\n",
    "    print(x)"
   ]
  },
  {
   "cell_type": "code",
   "execution_count": 25,
   "id": "74492693",
   "metadata": {},
   "outputs": [
    {
     "data": {
      "text/plain": [
       "Index(['article_id', 'summary_embedding', 'embedding_model', 'model_x',\n",
       "       'run_id_x', 'task_name_x', 'article_language', 'source_name',\n",
       "       'article_title', 'article_url', 'article_keywords', 'crawled_at',\n",
       "       'RUNID', 'source_url', 'article_date', 'article_body',\n",
       "       'article_image_url', 'ddgs_search_query', 'query_original_personas',\n",
       "       'crawling_source', 'model_y', 'summary', 'run_id_y', 'task_name_y',\n",
       "       'title', 'publish_date', 'topic', 'LAURA GIL', 'FEDE SEGARRA',\n",
       "       'ELÍSABETH HERNÁNDEZ', 'JAUME ALEMANY', 'RICARDO LECHUGA',\n",
       "       'JORGE VILLAVECCHIA', 'SALVADOR MARTÍNEZ', 'JOFRE RIERA'],\n",
       "      dtype='object')"
      ]
     },
     "execution_count": 25,
     "metadata": {},
     "output_type": "execute_result"
    }
   ],
   "source": [
    "# display column names\n",
    "pd_final.columns"
   ]
  },
  {
   "cell_type": "code",
   "execution_count": 26,
   "id": "7db9b1ab",
   "metadata": {},
   "outputs": [],
   "source": [
    "pd_final[[\"article_title\", \"article_url\", \"publish_date\", \"summary\", \"source_name\", \"article_language\"] + personas].rename(columns={\n",
    "    \"article_title\": \"título\",\n",
    "    \"article_url\": \"url\",\n",
    "    \"publish_date\": \"fecha de publicación\",\n",
    "    \"summary\": \"resumen\",\n",
    "    \"source_name\": \"fuente\", \"article_language\" : \"idioma\"}).replace({2 : \"R\", 1 : \"NR\", 0 : \"NR\"}).to_excel(\"./seleccion_articulos_18-7-25.xlsx\", index=False)"
   ]
  },
  {
   "cell_type": "code",
   "execution_count": 27,
   "id": "5be074ba",
   "metadata": {},
   "outputs": [],
   "source": [
    "pd_past_posts = pd.read_json(\"/home/xavaki/DAMM/linkedin_gen_contents/calendario_linkedin_2023_2024_articles.json\", encoding=\"utf-8-sig\")"
   ]
  },
  {
   "cell_type": "code",
   "execution_count": 28,
   "id": "23cf347c",
   "metadata": {},
   "outputs": [
    {
     "data": {
      "text/html": [
       "<div>\n",
       "<style scoped>\n",
       "    .dataframe tbody tr th:only-of-type {\n",
       "        vertical-align: middle;\n",
       "    }\n",
       "\n",
       "    .dataframe tbody tr th {\n",
       "        vertical-align: top;\n",
       "    }\n",
       "\n",
       "    .dataframe thead th {\n",
       "        text-align: right;\n",
       "    }\n",
       "</style>\n",
       "<table border=\"1\" class=\"dataframe\">\n",
       "  <thead>\n",
       "    <tr style=\"text-align: right;\">\n",
       "      <th></th>\n",
       "      <th>mes</th>\n",
       "      <th>perfil</th>\n",
       "      <th>fecha</th>\n",
       "      <th>tipo_de_contenido</th>\n",
       "      <th>tema</th>\n",
       "      <th>informacion</th>\n",
       "      <th>segmento</th>\n",
       "      <th>copy</th>\n",
       "      <th>link</th>\n",
       "      <th>article_source</th>\n",
       "    </tr>\n",
       "  </thead>\n",
       "  <tbody>\n",
       "    <tr>\n",
       "      <th>0</th>\n",
       "      <td>enero 2023</td>\n",
       "      <td>ANGEL GUARCH</td>\n",
       "      <td>2022-01-19</td>\n",
       "      <td>CURATED</td>\n",
       "      <td>BANCA EN LA S</td>\n",
       "      <td>NaN</td>\n",
       "      <td>NaN</td>\n",
       "      <td>La banca en la sombra o paralela escapa de la ...</td>\n",
       "      <td>https://elperiodicodemexico.com/nota.php?id=10...</td>\n",
       "      <td>https://elperiodicodemexico.com</td>\n",
       "    </tr>\n",
       "    <tr>\n",
       "      <th>1</th>\n",
       "      <td>enero 2023</td>\n",
       "      <td>ANGEL GUARCH</td>\n",
       "      <td>2023-01-25</td>\n",
       "      <td>CURATED</td>\n",
       "      <td>MERCADO DE CAPITALES EUROPEO</td>\n",
       "      <td>NaN</td>\n",
       "      <td>NaN</td>\n",
       "      <td>Todo parece indicar la unión del mercado de ca...</td>\n",
       "      <td>https://www.lavanguardia.com/economia/20221125...</td>\n",
       "      <td>https://www.lavanguardia.com</td>\n",
       "    </tr>\n",
       "    <tr>\n",
       "      <th>2</th>\n",
       "      <td>enero 2023</td>\n",
       "      <td>ANGEL GUARCH</td>\n",
       "      <td>2023-01-28</td>\n",
       "      <td>CURATED</td>\n",
       "      <td>ECONOMÍA Y NATURALEZA</td>\n",
       "      <td>NaN</td>\n",
       "      <td>NaN</td>\n",
       "      <td>Según el Foro Económico Mundial, la mitad de l...</td>\n",
       "      <td>https://www.eleconomista.es/opinion/noticias/1...</td>\n",
       "      <td>https://www.eleconomista.es</td>\n",
       "    </tr>\n",
       "    <tr>\n",
       "      <th>3</th>\n",
       "      <td>enero 2023</td>\n",
       "      <td>ELÍSABETH HERNÁNDEZ</td>\n",
       "      <td>2022-01-04</td>\n",
       "      <td>CURATED</td>\n",
       "      <td>HABILIDADES + VALORADAS</td>\n",
       "      <td>NaN</td>\n",
       "      <td>NaN</td>\n",
       "      <td>Las llamadas habilidades duras son y seguirán ...</td>\n",
       "      <td>https://www.rrhhpress.com/tendencias/56109-las...</td>\n",
       "      <td>https://www.rrhhpress.com</td>\n",
       "    </tr>\n",
       "    <tr>\n",
       "      <th>4</th>\n",
       "      <td>enero 2023</td>\n",
       "      <td>ELÍSABETH HERNÁNDEZ</td>\n",
       "      <td>2022-01-11</td>\n",
       "      <td>CURATED</td>\n",
       "      <td>DIGITALIZACIÓN DPTO. PERSONAS</td>\n",
       "      <td>NaN</td>\n",
       "      <td>NaN</td>\n",
       "      <td>Las empresas españolas siguen apostando por la...</td>\n",
       "      <td>https://www.silicon.es/el-53-de-las-empresas-e...</td>\n",
       "      <td>https://www.silicon.es</td>\n",
       "    </tr>\n",
       "  </tbody>\n",
       "</table>\n",
       "</div>"
      ],
      "text/plain": [
       "          mes               perfil       fecha tipo_de_contenido  \\\n",
       "0  enero 2023         ANGEL GUARCH  2022-01-19           CURATED   \n",
       "1  enero 2023         ANGEL GUARCH  2023-01-25           CURATED   \n",
       "2  enero 2023         ANGEL GUARCH  2023-01-28           CURATED   \n",
       "3  enero 2023  ELÍSABETH HERNÁNDEZ  2022-01-04           CURATED   \n",
       "4  enero 2023  ELÍSABETH HERNÁNDEZ  2022-01-11           CURATED   \n",
       "\n",
       "                            tema  informacion  segmento  \\\n",
       "0                  BANCA EN LA S          NaN       NaN   \n",
       "1   MERCADO DE CAPITALES EUROPEO          NaN       NaN   \n",
       "2          ECONOMÍA Y NATURALEZA          NaN       NaN   \n",
       "3        HABILIDADES + VALORADAS          NaN       NaN   \n",
       "4  DIGITALIZACIÓN DPTO. PERSONAS          NaN       NaN   \n",
       "\n",
       "                                                copy  \\\n",
       "0  La banca en la sombra o paralela escapa de la ...   \n",
       "1  Todo parece indicar la unión del mercado de ca...   \n",
       "2  Según el Foro Económico Mundial, la mitad de l...   \n",
       "3  Las llamadas habilidades duras son y seguirán ...   \n",
       "4  Las empresas españolas siguen apostando por la...   \n",
       "\n",
       "                                                link  \\\n",
       "0  https://elperiodicodemexico.com/nota.php?id=10...   \n",
       "1  https://www.lavanguardia.com/economia/20221125...   \n",
       "2  https://www.eleconomista.es/opinion/noticias/1...   \n",
       "3  https://www.rrhhpress.com/tendencias/56109-las...   \n",
       "4  https://www.silicon.es/el-53-de-las-empresas-e...   \n",
       "\n",
       "                    article_source  \n",
       "0  https://elperiodicodemexico.com  \n",
       "1     https://www.lavanguardia.com  \n",
       "2      https://www.eleconomista.es  \n",
       "3        https://www.rrhhpress.com  \n",
       "4           https://www.silicon.es  "
      ]
     },
     "execution_count": 28,
     "metadata": {},
     "output_type": "execute_result"
    }
   ],
   "source": [
    "pd_past_posts.head()"
   ]
  },
  {
   "cell_type": "code",
   "execution_count": 29,
   "id": "2825bb04",
   "metadata": {},
   "outputs": [],
   "source": [
    "pd_personas = pd.read_json(\"/home/xavaki/DAMM/linkedin_gen_contents/personas.json\", encoding=\"utf-8-sig\")"
   ]
  },
  {
   "cell_type": "code",
   "execution_count": 30,
   "id": "2de04f3d",
   "metadata": {},
   "outputs": [
    {
     "data": {
      "text/html": [
       "<div>\n",
       "<style scoped>\n",
       "    .dataframe tbody tr th:only-of-type {\n",
       "        vertical-align: middle;\n",
       "    }\n",
       "\n",
       "    .dataframe tbody tr th {\n",
       "        vertical-align: top;\n",
       "    }\n",
       "\n",
       "    .dataframe thead th {\n",
       "        text-align: right;\n",
       "    }\n",
       "</style>\n",
       "<table border=\"1\" class=\"dataframe\">\n",
       "  <thead>\n",
       "    <tr style=\"text-align: right;\">\n",
       "      <th></th>\n",
       "      <th>name</th>\n",
       "      <th>role</th>\n",
       "      <th>linkedin_bio</th>\n",
       "      <th>linkedin_job_description</th>\n",
       "    </tr>\n",
       "  </thead>\n",
       "  <tbody>\n",
       "    <tr>\n",
       "      <th>0</th>\n",
       "      <td>LAURA GIL</td>\n",
       "      <td>Chief Data Analytics Officer</td>\n",
       "      <td>Aquellas personas que me conocen saben que mi ...</td>\n",
       "      <td>-</td>\n",
       "    </tr>\n",
       "    <tr>\n",
       "      <th>1</th>\n",
       "      <td>FEDE SEGARRA</td>\n",
       "      <td>Chief Communications Officer</td>\n",
       "      <td>Embajador de la comunicación de Damm y sus mar...</td>\n",
       "      <td>-</td>\n",
       "    </tr>\n",
       "    <tr>\n",
       "      <th>2</th>\n",
       "      <td>ELÍSABETH HERNÁNDEZ</td>\n",
       "      <td>Human Resources Development Director</td>\n",
       "      <td>Tras 15 años trabajando en la gestión de perso...</td>\n",
       "      <td>Como Directora de Desarrollo de Personas en Da...</td>\n",
       "    </tr>\n",
       "    <tr>\n",
       "      <th>3</th>\n",
       "      <td>JAUME ALEMANY</td>\n",
       "      <td>Chief Marketing Officer</td>\n",
       "      <td>Leading talented and creative teams focused on...</td>\n",
       "      <td>-</td>\n",
       "    </tr>\n",
       "    <tr>\n",
       "      <th>4</th>\n",
       "      <td>RICARDO LECHUGA</td>\n",
       "      <td>HR Director</td>\n",
       "      <td>Desde el departamento de Recursos Humanos de D...</td>\n",
       "      <td>-</td>\n",
       "    </tr>\n",
       "    <tr>\n",
       "      <th>5</th>\n",
       "      <td>JORGE VILLAVECCHIA</td>\n",
       "      <td>President</td>\n",
       "      <td>Durante más de veinte años, he tenido el privi...</td>\n",
       "      <td>-</td>\n",
       "    </tr>\n",
       "    <tr>\n",
       "      <th>6</th>\n",
       "      <td>SALVADOR MARTÍNEZ</td>\n",
       "      <td>Chief Financial Officer</td>\n",
       "      <td>Mi trayectoria profesional ha estado siempre v...</td>\n",
       "      <td>-</td>\n",
       "    </tr>\n",
       "    <tr>\n",
       "      <th>7</th>\n",
       "      <td>JOFRE RIERA</td>\n",
       "      <td>Sponsorships Manager</td>\n",
       "      <td>Vivo con pasión y compromiso mi actividad como...</td>\n",
       "      <td>-</td>\n",
       "    </tr>\n",
       "  </tbody>\n",
       "</table>\n",
       "</div>"
      ],
      "text/plain": [
       "                  name                                  role  \\\n",
       "0            LAURA GIL          Chief Data Analytics Officer   \n",
       "1         FEDE SEGARRA          Chief Communications Officer   \n",
       "2  ELÍSABETH HERNÁNDEZ  Human Resources Development Director   \n",
       "3        JAUME ALEMANY               Chief Marketing Officer   \n",
       "4      RICARDO LECHUGA                           HR Director   \n",
       "5   JORGE VILLAVECCHIA                             President   \n",
       "6    SALVADOR MARTÍNEZ               Chief Financial Officer   \n",
       "7          JOFRE RIERA                  Sponsorships Manager   \n",
       "\n",
       "                                        linkedin_bio  \\\n",
       "0  Aquellas personas que me conocen saben que mi ...   \n",
       "1  Embajador de la comunicación de Damm y sus mar...   \n",
       "2  Tras 15 años trabajando en la gestión de perso...   \n",
       "3  Leading talented and creative teams focused on...   \n",
       "4  Desde el departamento de Recursos Humanos de D...   \n",
       "5  Durante más de veinte años, he tenido el privi...   \n",
       "6  Mi trayectoria profesional ha estado siempre v...   \n",
       "7  Vivo con pasión y compromiso mi actividad como...   \n",
       "\n",
       "                            linkedin_job_description  \n",
       "0                                                  -  \n",
       "1                                                  -  \n",
       "2  Como Directora de Desarrollo de Personas en Da...  \n",
       "3                                                  -  \n",
       "4                                                  -  \n",
       "5                                                  -  \n",
       "6                                                  -  \n",
       "7                                                  -  "
      ]
     },
     "execution_count": 30,
     "metadata": {},
     "output_type": "execute_result"
    }
   ],
   "source": [
    "pd_personas"
   ]
  },
  {
   "cell_type": "code",
   "execution_count": 31,
   "id": "e0a47b51",
   "metadata": {},
   "outputs": [],
   "source": [
    "def get_example_copys(perfil, n=5):\n",
    "    pd_perfil = pd_past_posts[pd_past_posts[\"perfil\"] == perfil]\n",
    "    pd_perfil = pd_perfil.sample(min(n, len(pd_perfil)))\n",
    "    example_copys = [x[0] for x in pd_perfil[[\"copy\"]].values.tolist()]\n",
    "    return example_copys"
   ]
  },
  {
   "cell_type": "code",
   "execution_count": 32,
   "id": "93e38288",
   "metadata": {},
   "outputs": [],
   "source": [
    "def generate_prompt(persona_description : str, example_copys : list[str]) -> str:\n",
    "    task_instructions = [\n",
    "        \"Use the article summary to craft a short LinkedIn post (max 50 words)\",\n",
    "        \"Keep the language clear and thoughtful\",\n",
    "        \"Highlight the key insight, and add a brief reflection or perspective from their point of view\",\n",
    "        \"Avoid generic buzzwords — focus on what feels real and actionable\"\n",
    "    ]\n",
    "\n",
    "    if random() < 0.5:\n",
    "        task_instructions.append(\"Only when appropriate, include a call to action or question to engage her audience, but don't overdo it\")\n",
    "\n",
    "    base_post_generation_prompt = f\"\"\"\n",
    "You are a content writer creating LinkedIn posts for spanish brewing company DAMM business executive. Your job is to turn article summaries into short, thoughtful LinkedIn posts that reflect her tone and professional perspective.\n",
    "\n",
    "Here's the executive's linkedin bio:\n",
    "{persona_description}\n",
    "\n",
    "Your task:\n",
    "{\"\\n-\".join(task_instructions)}\n",
    "\n",
    "Here are some examples of their past posts to guide your writing style and tone:\n",
    "\n",
    "\"\"\" + \"\\n\\n\".join([f\"Example {i+1}:\\n{post}\" for i, post in enumerate(example_copys)])\n",
    "    \n",
    "    base_post_generation_prompt = dedent(base_post_generation_prompt).strip()\n",
    "\n",
    "    return base_post_generation_prompt"
   ]
  },
  {
   "cell_type": "code",
   "execution_count": 33,
   "id": "fab18490",
   "metadata": {},
   "outputs": [
    {
     "name": "stdout",
     "output_type": "stream",
     "text": [
      "Generating posts for LAURA GIL\n",
      "Generating post for article: What’s next for AI in 2025\n",
      "Generating post for article: 43% of CFOs say half of business travel could be replaced by virtual meetings\n",
      "Generating post for article: Google Veo 3 and playable world models\n",
      "Generating post for article: Google rolls out Veo 3 globally\n",
      "Generating post for article: ‘Europe is not the US’: Tech insiders call for smarter AI rules\n",
      "Generating posts for FEDE SEGARRA\n",
      "Generating post for article: Marca, comunicación y cultura: las claves para crear una agencia\n",
      "Generating post for article: Cómo combatir la desinformación para fortalecer la confianza en la ciencia\n",
      "Generating post for article: L’Oréal impulsa el uso de cosméticos recargables con una campaña global por la sostenibilidad\n",
      "Generating posts for ELÍSABETH HERNÁNDEZ\n",
      "Generating post for article: The Remote Work Paradox: Higher Engagement, Lower Wellbeing\n",
      "Generating post for article: Judith Planella (Remote): “Hay que implementar políticas claras y justas que regulen horarios, disponibilidad y excepciones”\n",
      "Generating post for article: 5 Steps for Leading a Team You’ve Inherited\n",
      "Generating post for article: Hybrid Still Isn’t Working\n",
      "Generating post for article: Members Calling #128 | Katherin Navarro\n",
      "Generating posts for JAUME ALEMANY\n",
      "Generating post for article: Lidl también aprovecha el fenómeno Oasis con una chaqueta exclusiva\n",
      "Generating post for article: L’Oréal impulsa el uso de cosméticos recargables con una campaña global por la sostenibilidad\n",
      "Generating post for article: Mucho impacto, poca conexión: la paradoja del marketing actual\n",
      "Generating post for article: How AI can help supercharge creativity\n",
      "Generating post for article: AXE activa una experiencia sensorial desde la cama en el Arenal Sound\n",
      "Generating posts for RICARDO LECHUGA\n",
      "Generating post for article: Transparencia salarial: una prioridad estratégica ante la nueva normativa europea\n",
      "Generating post for article: Members Calling #128 | Katherin Navarro\n",
      "Generating post for article: 5 Steps for Leading a Team You’ve Inherited\n",
      "Generating post for article: How the Busiest People Find Joy\n",
      "Generating post for article: Hybrid Still Isn’t Working\n",
      "Generating posts for JORGE VILLAVECCHIA\n",
      "Generating post for article: L’Oréal impulsa el uso de cosméticos recargables con una campaña global por la sostenibilidad\n",
      "Generating post for article: 43% of CFOs say half of business travel could be replaced by virtual meetings\n",
      "Generating post for article: The Right Way to Step Down as CEO\n",
      "Generating post for article: Robinhood's renewable energy projects discussed\n",
      "Generating post for article: Members Calling #126 | Clément Lemardelé\n",
      "Generating posts for SALVADOR MARTÍNEZ\n",
      "Generating post for article: French bank Qonto reaches 600,000 customers\n",
      "Generating post for article: L’Oréal impulsa el uso de cosméticos recargables con una campaña global por la sostenibilidad\n",
      "Generating post for article: TechCrunch All Stage 2025: Tighten up your cap table\n",
      "Generating post for article: 43% of CFOs say half of business travel could be replaced by virtual meetings\n",
      "Generating post for article: M&A is up year to date. Will that last?\n",
      "Generating posts for JOFRE RIERA\n",
      "Generating post for article: An epic year for women’s sports\n"
     ]
    }
   ],
   "source": [
    "copys = []\n",
    "\n",
    "for persona_name in personas:\n",
    "    print(f\"Generating posts for {persona_name}\")\n",
    "    persona_description = pd_personas[pd_personas[\"name\"] == persona_name][\"linkedin_bio\"].values[0]\n",
    "    example_copys = get_example_copys(persona_name, n=5)\n",
    "    base_prompt = generate_prompt(persona_description, example_copys)\n",
    "\n",
    "    pd_persona_summaries = pd_final[pd_final[persona_name] == 2][[\"article_title\", \"article_language\", \"summary\", \"article_url\"]]\n",
    "    persona_summaries = pd_persona_summaries.sample(min(5, len(pd_persona_summaries))).to_dict(orient=\"records\")\n",
    "\n",
    "\n",
    "    for x in persona_summaries:\n",
    "        article_title = x[\"article_title\"]\n",
    "        article_language = x[\"article_language\"]\n",
    "        summary = x[\"summary\"]\n",
    "        article_url = x[\"article_url\"]\n",
    "\n",
    "        print(f\"Generating post for article: {article_title}\")\n",
    "\n",
    "        base_prompt += f\"\"\" \n",
    "    Generate a Linkedin post in the following language: {article_language}.\n",
    "        \n",
    "    Here's the article summary you need to work with:\n",
    "\n",
    "    \"\"\"\n",
    "        messages = [\n",
    "            {\"role\": \"system\", \"content\": base_prompt},\n",
    "            {\"role\": \"user\", \"content\": dedent(article_title + \"\\n\" + summary).strip()},\n",
    "        ]\n",
    "        response = client.chat.completions.create(\n",
    "            model=\"gpt-4o-mini\", messages=messages, temperature=0.7\n",
    "        )\n",
    "\n",
    "        response_raw = response.choices[0].message.content\n",
    "        \n",
    "        copys.append({\"perfil\" : persona_name, \"copy\": response_raw, \"article_title\": article_title, \"article_language\": article_language, \"summary\": summary, \"article_url\" : article_url })        \n"
   ]
  },
  {
   "cell_type": "code",
   "execution_count": 34,
   "id": "3079e537",
   "metadata": {},
   "outputs": [],
   "source": [
    "for persona_name in personas:\n",
    "    copys_persona = [x for x in copys if x[\"perfil\"] == persona_name]\n",
    "    with open(f\"./{persona_name}_copys_ejemplo.txt\", \"w\", encoding=\"utf-8\") as f:\n",
    "        for x in copys_persona:\n",
    "            f.write(f\"Title: {x['article_title']}\\n\")\n",
    "            # f.write(f\"Language: {x['article_language']}\\n\")\n",
    "            # f.write(f\"Summary: {x['summary']}\\n\")\n",
    "            f.write(f\"URL: {x['article_url']}\\n\")\n",
    "            f.write(f\"Copy:\\n{x['copy']}\\n\\n\")"
   ]
  },
  {
   "cell_type": "code",
   "execution_count": null,
   "id": "5f6e1a7e",
   "metadata": {},
   "outputs": [],
   "source": []
  }
 ],
 "metadata": {
  "kernelspec": {
   "display_name": "damm",
   "language": "python",
   "name": "python3"
  },
  "language_info": {
   "codemirror_mode": {
    "name": "ipython",
    "version": 3
   },
   "file_extension": ".py",
   "mimetype": "text/x-python",
   "name": "python",
   "nbconvert_exporter": "python",
   "pygments_lexer": "ipython3",
   "version": "3.12.3"
  }
 },
 "nbformat": 4,
 "nbformat_minor": 5
}
