{
 "cells": [
  {
   "cell_type": "code",
   "execution_count": 1,
   "id": "6740975d",
   "metadata": {},
   "outputs": [],
   "source": [
    "import pandas as pd\n",
    "import numpy as np\n",
    "import ast\n",
    "import faiss\n",
    "from openai import AzureOpenAI\n",
    "\n",
    "from dotenv import load_dotenv\n",
    "from azure.storage.blob import BlobServiceClient\n",
    "\n",
    "import os\n",
    "\n",
    "import json"
   ]
  },
  {
   "cell_type": "code",
   "execution_count": 2,
   "id": "66ef5436",
   "metadata": {},
   "outputs": [
    {
     "data": {
      "text/plain": [
       "True"
      ]
     },
     "execution_count": 2,
     "metadata": {},
     "output_type": "execute_result"
    }
   ],
   "source": [
    "load_dotenv('/home/xavaki/DAMM/linkedin_gen_contents/.env')"
   ]
  },
  {
   "cell_type": "code",
   "execution_count": 3,
   "id": "7fdc3f66",
   "metadata": {},
   "outputs": [],
   "source": [
    "blob_service_client = BlobServiceClient.from_connection_string(os.getenv('STORAGE_ACCOUNT_CONNECTION_STRING'))\n",
    "embeddings_container_client = blob_service_client.get_container_client('relevant-articles-summaries-embeddings')\n",
    "relevant_articles_list_container_client = blob_service_client.get_container_client('relevant-articles-list')\n",
    "relevant_articles_summaries_container_client = blob_service_client.get_container_client('relevant-articles-summaries')\n",
    "relevant_articles_content_container_client = blob_service_client.get_container_client('relevant-articles-content')\n",
    "\n",
    "def read_embeddings_from_blob() -> pd.DataFrame:\n",
    "    all_embeddings = []\n",
    "    for blob in embeddings_container_client.list_blobs():\n",
    "        blob_client = embeddings_container_client.get_blob_client(blob)\n",
    "        run_embeddings = json.loads(blob_client.download_blob().readall())\n",
    "        all_embeddings.extend(run_embeddings)\n",
    "\n",
    "    return pd.DataFrame(all_embeddings)\n",
    "\n",
    "def read_relevant_articles_list_from_blob() -> pd.DataFrame:\n",
    "    all_relevant_articles = []\n",
    "    for blob in relevant_articles_list_container_client.list_blobs():\n",
    "        runid = blob.name.split(\"--\")[0]\n",
    "        blob_client = relevant_articles_list_container_client.get_blob_client(blob)\n",
    "        run_relevant_articles = json.loads(blob_client.download_blob().readall())\n",
    "        for a in run_relevant_articles:\n",
    "            a['RUNID'] = runid\n",
    "        all_relevant_articles.extend(run_relevant_articles)\n",
    "\n",
    "    return pd.DataFrame(all_relevant_articles)\n",
    "\n",
    "def read_relevant_articles_summaries_from_blob() -> pd.DataFrame:\n",
    "    all_summaries = []\n",
    "    for blob in relevant_articles_summaries_container_client.list_blobs():\n",
    "        blob_client = relevant_articles_summaries_container_client.get_blob_client(blob)\n",
    "        run_summaries = json.loads(blob_client.download_blob().readall())\n",
    "        all_summaries.extend(run_summaries)\n",
    "\n",
    "    return pd.DataFrame(all_summaries)\n",
    "\n",
    "def read_relevant_articles_content_from_blob() -> pd.DataFrame:\n",
    "    all_content = []\n",
    "    for blob in relevant_articles_content_container_client.list_blobs():\n",
    "        blob_client = relevant_articles_content_container_client.get_blob_client(blob)\n",
    "        run_content = json.loads(blob_client.download_blob().readall())\n",
    "        all_content.extend(run_content)\n",
    "\n",
    "    return pd.DataFrame(all_content)"
   ]
  },
  {
   "cell_type": "code",
   "execution_count": 4,
   "id": "816e4bee",
   "metadata": {},
   "outputs": [],
   "source": [
    "pd_embeddings = read_embeddings_from_blob()\n",
    "pd_relevant_articles = read_relevant_articles_list_from_blob()\n",
    "pd_relevant_articles_summaries = read_relevant_articles_summaries_from_blob()\n",
    "pd_relevant_articles_content = read_relevant_articles_content_from_blob()\n",
    "pd_relevant_articles_content.drop(columns=['content'], inplace=True, axis=1)\n",
    "\n",
    "pd_all_info = pd_embeddings.merge(pd_relevant_articles, on=\"article_id\", how=\"inner\")\n",
    "pd_all_info = pd_all_info.merge(pd_relevant_articles_summaries, on=\"article_id\", how=\"inner\")\n",
    "pd_all_info = pd_all_info.merge(pd_relevant_articles_content, on=\"article_id\", how=\"inner\")"
   ]
  },
  {
   "cell_type": "code",
   "execution_count": 5,
   "id": "079bbda8",
   "metadata": {},
   "outputs": [
    {
     "data": {
      "text/html": [
       "<div>\n",
       "<style scoped>\n",
       "    .dataframe tbody tr th:only-of-type {\n",
       "        vertical-align: middle;\n",
       "    }\n",
       "\n",
       "    .dataframe tbody tr th {\n",
       "        vertical-align: top;\n",
       "    }\n",
       "\n",
       "    .dataframe thead th {\n",
       "        text-align: right;\n",
       "    }\n",
       "</style>\n",
       "<table border=\"1\" class=\"dataframe\">\n",
       "  <thead>\n",
       "    <tr style=\"text-align: right;\">\n",
       "      <th></th>\n",
       "      <th>article_id</th>\n",
       "      <th>summary_embedding</th>\n",
       "      <th>embedding_model</th>\n",
       "      <th>model_x</th>\n",
       "      <th>run_id_x</th>\n",
       "      <th>task_name_x</th>\n",
       "      <th>relevance</th>\n",
       "      <th>article_language</th>\n",
       "      <th>source_name</th>\n",
       "      <th>article_title</th>\n",
       "      <th>article_url</th>\n",
       "      <th>article_keywords</th>\n",
       "      <th>crawled_at</th>\n",
       "      <th>RUNID</th>\n",
       "      <th>model_y</th>\n",
       "      <th>summary</th>\n",
       "      <th>run_id_y</th>\n",
       "      <th>task_name_y</th>\n",
       "      <th>title</th>\n",
       "      <th>publish_date</th>\n",
       "    </tr>\n",
       "  </thead>\n",
       "  <tbody>\n",
       "    <tr>\n",
       "      <th>0</th>\n",
       "      <td>the_next_web_20250530144751581654</td>\n",
       "      <td>[-0.009674579836428165, 0.006264630705118179, ...</td>\n",
       "      <td>text-embedding-3-small</td>\n",
       "      <td>gpt-4o-2024-11-20</td>\n",
       "      <td>RUNID_1</td>\n",
       "      <td>relevance_check_v0</td>\n",
       "      <td>2</td>\n",
       "      <td>en</td>\n",
       "      <td>the_next_web</td>\n",
       "      <td>Elon Musk’s Grok chatbot banned by a quarter o...</td>\n",
       "      <td>https://thenextweb.com/news/elon-musks-grok-ch...</td>\n",
       "      <td>[Elon Musk, chatbot, data security]</td>\n",
       "      <td>2025-05-30 14:47:51</td>\n",
       "      <td>RUNID_1</td>\n",
       "      <td>gpt-4o-2024-11-20</td>\n",
       "      <td>A recent report from cybersecurity firm Netsko...</td>\n",
       "      <td>RUNID_1</td>\n",
       "      <td>article_summarization_v0</td>\n",
       "      <td>Elon Musk’s Grok chatbot banned by a quarter o...</td>\n",
       "      <td>2025-05-27</td>\n",
       "    </tr>\n",
       "    <tr>\n",
       "      <th>1</th>\n",
       "      <td>itespresso_20250530144751622699</td>\n",
       "      <td>[0.011496803723275661, 0.06475908309221268, 0....</td>\n",
       "      <td>text-embedding-3-small</td>\n",
       "      <td>gpt-4o-2024-11-20</td>\n",
       "      <td>RUNID_1</td>\n",
       "      <td>relevance_check_v0</td>\n",
       "      <td>2</td>\n",
       "      <td>es</td>\n",
       "      <td>itespresso</td>\n",
       "      <td>Cómo mantener el impulso de tu startup durante...</td>\n",
       "      <td>https://www.itespresso.es/startups-en-navidad-...</td>\n",
       "      <td>[startups, christmas season]</td>\n",
       "      <td>2025-05-30 14:47:51</td>\n",
       "      <td>RUNID_1</td>\n",
       "      <td>gpt-4o-2024-11-20</td>\n",
       "      <td>The article provides strategies for startups t...</td>\n",
       "      <td>RUNID_1</td>\n",
       "      <td>article_summarization_v0</td>\n",
       "      <td>Cómo mantener el impulso de tu startup durante...</td>\n",
       "      <td>2023-12-08</td>\n",
       "    </tr>\n",
       "    <tr>\n",
       "      <th>2</th>\n",
       "      <td>the_next_web_20250530144751551046</td>\n",
       "      <td>[-0.007235630415380001, -0.013063831254839897,...</td>\n",
       "      <td>text-embedding-3-small</td>\n",
       "      <td>gpt-4o-2024-11-20</td>\n",
       "      <td>RUNID_1</td>\n",
       "      <td>relevance_check_v0</td>\n",
       "      <td>2</td>\n",
       "      <td>en</td>\n",
       "      <td>the_next_web</td>\n",
       "      <td>‘Purest meat alternative’ to grow in Swedish m...</td>\n",
       "      <td>https://thenextweb.com/news/purest-meat-altern...</td>\n",
       "      <td>[meat alternative, sustainability, factory]</td>\n",
       "      <td>2025-05-30 14:47:51</td>\n",
       "      <td>RUNID_1</td>\n",
       "      <td>gpt-4o-2024-11-20</td>\n",
       "      <td>Swedish foodtech startup Millow has opened its...</td>\n",
       "      <td>RUNID_1</td>\n",
       "      <td>article_summarization_v0</td>\n",
       "      <td>‘Purest meat alternative’ to grow in Swedish m...</td>\n",
       "      <td>2025-05-28</td>\n",
       "    </tr>\n",
       "    <tr>\n",
       "      <th>3</th>\n",
       "      <td>business_insider_20250530144751673882</td>\n",
       "      <td>[0.022377390414476395, -0.007725527510046959, ...</td>\n",
       "      <td>text-embedding-3-small</td>\n",
       "      <td>gpt-4o-2024-11-20</td>\n",
       "      <td>RUNID_1</td>\n",
       "      <td>relevance_check_v0</td>\n",
       "      <td>2</td>\n",
       "      <td>es</td>\n",
       "      <td>business_insider</td>\n",
       "      <td>Las ventas de Tesla siguen desplomándose en Eu...</td>\n",
       "      <td>https://www.businessinsider.es/tecnologia/vent...</td>\n",
       "      <td>[Tesla, coches eléctricos, ventas, Europa]</td>\n",
       "      <td>2025-05-30 14:47:51</td>\n",
       "      <td>RUNID_1</td>\n",
       "      <td>gpt-4o-2024-11-20</td>\n",
       "      <td>El artículo señala una crisis de marca y caída...</td>\n",
       "      <td>RUNID_1</td>\n",
       "      <td>article_summarization_v0</td>\n",
       "      <td>Las ventas de Tesla siguen desplomándose en Eu...</td>\n",
       "      <td>2025-05-27</td>\n",
       "    </tr>\n",
       "    <tr>\n",
       "      <th>4</th>\n",
       "      <td>itespresso_20250530144751612511</td>\n",
       "      <td>[0.007954786531627178, -0.029804697260260582, ...</td>\n",
       "      <td>text-embedding-3-small</td>\n",
       "      <td>gpt-4o-2024-11-20</td>\n",
       "      <td>RUNID_1</td>\n",
       "      <td>relevance_check_v0</td>\n",
       "      <td>2</td>\n",
       "      <td>es</td>\n",
       "      <td>itespresso</td>\n",
       "      <td>Apple es la compañía tecnológica que más ganan...</td>\n",
       "      <td>https://www.itespresso.es/apple-ganancias-empl...</td>\n",
       "      <td>[Apple, employee earnings]</td>\n",
       "      <td>2025-05-30 14:47:51</td>\n",
       "      <td>RUNID_1</td>\n",
       "      <td>gpt-4o-2024-11-20</td>\n",
       "      <td>A recent study by agencyreviews.io highlights ...</td>\n",
       "      <td>RUNID_1</td>\n",
       "      <td>article_summarization_v0</td>\n",
       "      <td>Apple es la compañía tecnológica que más ganan...</td>\n",
       "      <td>2023-12-19</td>\n",
       "    </tr>\n",
       "  </tbody>\n",
       "</table>\n",
       "</div>"
      ],
      "text/plain": [
       "                              article_id  \\\n",
       "0      the_next_web_20250530144751581654   \n",
       "1        itespresso_20250530144751622699   \n",
       "2      the_next_web_20250530144751551046   \n",
       "3  business_insider_20250530144751673882   \n",
       "4        itespresso_20250530144751612511   \n",
       "\n",
       "                                   summary_embedding         embedding_model  \\\n",
       "0  [-0.009674579836428165, 0.006264630705118179, ...  text-embedding-3-small   \n",
       "1  [0.011496803723275661, 0.06475908309221268, 0....  text-embedding-3-small   \n",
       "2  [-0.007235630415380001, -0.013063831254839897,...  text-embedding-3-small   \n",
       "3  [0.022377390414476395, -0.007725527510046959, ...  text-embedding-3-small   \n",
       "4  [0.007954786531627178, -0.029804697260260582, ...  text-embedding-3-small   \n",
       "\n",
       "             model_x run_id_x         task_name_x  relevance article_language  \\\n",
       "0  gpt-4o-2024-11-20  RUNID_1  relevance_check_v0          2               en   \n",
       "1  gpt-4o-2024-11-20  RUNID_1  relevance_check_v0          2               es   \n",
       "2  gpt-4o-2024-11-20  RUNID_1  relevance_check_v0          2               en   \n",
       "3  gpt-4o-2024-11-20  RUNID_1  relevance_check_v0          2               es   \n",
       "4  gpt-4o-2024-11-20  RUNID_1  relevance_check_v0          2               es   \n",
       "\n",
       "        source_name                                      article_title  \\\n",
       "0      the_next_web  Elon Musk’s Grok chatbot banned by a quarter o...   \n",
       "1        itespresso  Cómo mantener el impulso de tu startup durante...   \n",
       "2      the_next_web  ‘Purest meat alternative’ to grow in Swedish m...   \n",
       "3  business_insider  Las ventas de Tesla siguen desplomándose en Eu...   \n",
       "4        itespresso  Apple es la compañía tecnológica que más ganan...   \n",
       "\n",
       "                                         article_url  \\\n",
       "0  https://thenextweb.com/news/elon-musks-grok-ch...   \n",
       "1  https://www.itespresso.es/startups-en-navidad-...   \n",
       "2  https://thenextweb.com/news/purest-meat-altern...   \n",
       "3  https://www.businessinsider.es/tecnologia/vent...   \n",
       "4  https://www.itespresso.es/apple-ganancias-empl...   \n",
       "\n",
       "                              article_keywords           crawled_at    RUNID  \\\n",
       "0          [Elon Musk, chatbot, data security]  2025-05-30 14:47:51  RUNID_1   \n",
       "1                 [startups, christmas season]  2025-05-30 14:47:51  RUNID_1   \n",
       "2  [meat alternative, sustainability, factory]  2025-05-30 14:47:51  RUNID_1   \n",
       "3   [Tesla, coches eléctricos, ventas, Europa]  2025-05-30 14:47:51  RUNID_1   \n",
       "4                   [Apple, employee earnings]  2025-05-30 14:47:51  RUNID_1   \n",
       "\n",
       "             model_y                                            summary  \\\n",
       "0  gpt-4o-2024-11-20  A recent report from cybersecurity firm Netsko...   \n",
       "1  gpt-4o-2024-11-20  The article provides strategies for startups t...   \n",
       "2  gpt-4o-2024-11-20  Swedish foodtech startup Millow has opened its...   \n",
       "3  gpt-4o-2024-11-20  El artículo señala una crisis de marca y caída...   \n",
       "4  gpt-4o-2024-11-20  A recent study by agencyreviews.io highlights ...   \n",
       "\n",
       "  run_id_y               task_name_y  \\\n",
       "0  RUNID_1  article_summarization_v0   \n",
       "1  RUNID_1  article_summarization_v0   \n",
       "2  RUNID_1  article_summarization_v0   \n",
       "3  RUNID_1  article_summarization_v0   \n",
       "4  RUNID_1  article_summarization_v0   \n",
       "\n",
       "                                               title publish_date  \n",
       "0  Elon Musk’s Grok chatbot banned by a quarter o...   2025-05-27  \n",
       "1  Cómo mantener el impulso de tu startup durante...   2023-12-08  \n",
       "2  ‘Purest meat alternative’ to grow in Swedish m...   2025-05-28  \n",
       "3  Las ventas de Tesla siguen desplomándose en Eu...   2025-05-27  \n",
       "4  Apple es la compañía tecnológica que más ganan...   2023-12-19  "
      ]
     },
     "execution_count": 5,
     "metadata": {},
     "output_type": "execute_result"
    }
   ],
   "source": [
    "pd_all_info.head()"
   ]
  },
  {
   "cell_type": "code",
   "execution_count": 6,
   "id": "717ad116",
   "metadata": {},
   "outputs": [
    {
     "name": "stdout",
     "output_type": "stream",
     "text": [
      "article_title    Tecnología Musk rompe el silencio digital: el ...\n",
      "publish_date                                            2025-06-17\n",
      "Name: 33, dtype: object\n"
     ]
    }
   ],
   "source": [
    "last_published_article = pd_all_info.sort_values(by=\"publish_date\", ascending=False).iloc[0]\n",
    "print(last_published_article[[\"article_title\", \"publish_date\"]])"
   ]
  },
  {
   "cell_type": "code",
   "execution_count": 7,
   "id": "5947f694",
   "metadata": {},
   "outputs": [
    {
     "data": {
      "text/plain": [
       "208"
      ]
     },
     "execution_count": 7,
     "metadata": {},
     "output_type": "execute_result"
    }
   ],
   "source": [
    "len(pd_all_info)"
   ]
  },
  {
   "cell_type": "code",
   "execution_count": 8,
   "id": "e0ffd7c7",
   "metadata": {},
   "outputs": [],
   "source": [
    "embedding_matrix = np.array(pd_all_info[\"summary_embedding\"].tolist()).astype(\"float32\")\n",
    "embedding_dim = len(embedding_matrix[0, :])"
   ]
  },
  {
   "cell_type": "code",
   "execution_count": 9,
   "id": "32dd06b9",
   "metadata": {},
   "outputs": [],
   "source": [
    "from sklearn.cluster import KMeans\n",
    "\n",
    "# Define the number of clusters (topics)\n",
    "num_clusters = 10\n",
    "\n",
    "# Perform K-means clustering\n",
    "kmeans = KMeans(n_clusters=num_clusters, random_state=42)\n",
    "kmeans.fit(embedding_matrix)\n",
    "\n",
    "# Add the cluster labels to the dataframe\n",
    "pd_all_info['topic'] = kmeans.labels_"
   ]
  },
  {
   "cell_type": "code",
   "execution_count": 15,
   "id": "d7122843",
   "metadata": {},
   "outputs": [
    {
     "data": {
      "text/html": [
       "<div>\n",
       "<style scoped>\n",
       "    .dataframe tbody tr th:only-of-type {\n",
       "        vertical-align: middle;\n",
       "    }\n",
       "\n",
       "    .dataframe tbody tr th {\n",
       "        vertical-align: top;\n",
       "    }\n",
       "\n",
       "    .dataframe thead th {\n",
       "        text-align: right;\n",
       "    }\n",
       "</style>\n",
       "<table border=\"1\" class=\"dataframe\">\n",
       "  <thead>\n",
       "    <tr style=\"text-align: right;\">\n",
       "      <th></th>\n",
       "      <th>article_title</th>\n",
       "      <th>summary</th>\n",
       "      <th>topic</th>\n",
       "    </tr>\n",
       "  </thead>\n",
       "  <tbody>\n",
       "    <tr>\n",
       "      <th>6</th>\n",
       "      <td>El ecosistema tecnológico español crece un 22%...</td>\n",
       "      <td>The Spanish startup ecosystem is experiencing ...</td>\n",
       "      <td>4</td>\n",
       "    </tr>\n",
       "    <tr>\n",
       "      <th>10</th>\n",
       "      <td>ENISA ya cuenta con más de medio millar de sta...</td>\n",
       "      <td>The Empresa Nacional de Innovación (ENISA) lau...</td>\n",
       "      <td>4</td>\n",
       "    </tr>\n",
       "    <tr>\n",
       "      <th>28</th>\n",
       "      <td>Telefónica da una pista de su nueva era estrat...</td>\n",
       "      <td>Telefónica has announced its intention to inve...</td>\n",
       "      <td>4</td>\n",
       "    </tr>\n",
       "    <tr>\n",
       "      <th>55</th>\n",
       "      <td>Applivery obtiene 1 millón de euros de inversión</td>\n",
       "      <td>Applivery, a Madrid-based SaaS platform specia...</td>\n",
       "      <td>4</td>\n",
       "    </tr>\n",
       "    <tr>\n",
       "      <th>57</th>\n",
       "      <td>Las startups valencianas progresaron adecuadam...</td>\n",
       "      <td>Valencia has emerged as a significant startup ...</td>\n",
       "      <td>4</td>\n",
       "    </tr>\n",
       "  </tbody>\n",
       "</table>\n",
       "</div>"
      ],
      "text/plain": [
       "                                        article_title  \\\n",
       "6   El ecosistema tecnológico español crece un 22%...   \n",
       "10  ENISA ya cuenta con más de medio millar de sta...   \n",
       "28  Telefónica da una pista de su nueva era estrat...   \n",
       "55   Applivery obtiene 1 millón de euros de inversión   \n",
       "57  Las startups valencianas progresaron adecuadam...   \n",
       "\n",
       "                                              summary  topic  \n",
       "6   The Spanish startup ecosystem is experiencing ...      4  \n",
       "10  The Empresa Nacional de Innovación (ENISA) lau...      4  \n",
       "28  Telefónica has announced its intention to inve...      4  \n",
       "55  Applivery, a Madrid-based SaaS platform specia...      4  \n",
       "57  Valencia has emerged as a significant startup ...      4  "
      ]
     },
     "execution_count": 15,
     "metadata": {},
     "output_type": "execute_result"
    }
   ],
   "source": [
    "pd_all_info[pd_all_info['topic'] == 4].head()[[\"article_title\", \"summary\", \"topic\"]]"
   ]
  },
  {
   "cell_type": "code",
   "execution_count": 9,
   "id": "3c7840ed",
   "metadata": {},
   "outputs": [
    {
     "data": {
      "text/plain": [
       "(111, 1536)"
      ]
     },
     "execution_count": 9,
     "metadata": {},
     "output_type": "execute_result"
    }
   ],
   "source": [
    "embedding_matrix.shape"
   ]
  },
  {
   "cell_type": "code",
   "execution_count": 10,
   "id": "07779847",
   "metadata": {},
   "outputs": [],
   "source": [
    "# Create an index (flat, exact search)\n",
    "index = faiss.IndexFlatL2(embedding_dim)\n",
    "index.add(embedding_matrix)  # store embeddings in index"
   ]
  },
  {
   "cell_type": "code",
   "execution_count": 11,
   "id": "32a1a5bc",
   "metadata": {},
   "outputs": [],
   "source": [
    "centroid = np.mean(embedding_matrix, axis=0).reshape(1, -1).astype(\"float32\")\n",
    "distances, indices = index.search(centroid, k=5)"
   ]
  },
  {
   "cell_type": "code",
   "execution_count": 12,
   "id": "be489668",
   "metadata": {},
   "outputs": [
    {
     "data": {
      "text/plain": [
       "array(['Early AI investor Elad Gil finds his next big bet: AI-powered rollups',\n",
       "       'El CEO de Duolingo revela 5 formas en las que la IA le ayudará a decidir el futuro de su plantilla',\n",
       "       'Así están convirtiendo la ansiedad por la IA en una ventaja los equipos de contratación',\n",
       "       \"Los adolescentes deberían entrenarse para ser 'ninjas' de la IA, según el CEO de Google DeepMind\",\n",
       "       'La inteligencia artificial toma el mando: las empresas dejan de contratar si una IA puede hacer el trabajo'],\n",
       "      dtype=object)"
      ]
     },
     "execution_count": 12,
     "metadata": {},
     "output_type": "execute_result"
    }
   ],
   "source": [
    "pd_all_info.iloc[indices[0]][\"article_title\"].values"
   ]
  },
  {
   "cell_type": "code",
   "execution_count": 13,
   "id": "5492c0dd",
   "metadata": {},
   "outputs": [],
   "source": [
    "client = AzureOpenAI(\n",
    "    api_version=\"2024-12-01-preview\",\n",
    "    azure_endpoint=os.environ.get('AZURE_OPENAI_ENDPOINT'),\n",
    "    api_key=os.environ.get('AZURE_OPENAI_API_KEY'),\n",
    ")"
   ]
  },
  {
   "cell_type": "code",
   "execution_count": 14,
   "id": "8f1f0449",
   "metadata": {},
   "outputs": [],
   "source": [
    "query = \"Insights related to digital transformation of large enterprises\"\n",
    "\n",
    "response = client.embeddings.create(\n",
    "        input=[query],\n",
    "        model=\"text-embedding-3-small\",\n",
    "    )\n",
    "\n",
    "query_embedding = response.data[0].embedding\n",
    "query_vector = np.array([query_embedding], dtype=\"float32\")\n",
    "distances, indices = index.search(query_vector, k=5)"
   ]
  },
  {
   "cell_type": "code",
   "execution_count": 15,
   "id": "587dd8b5",
   "metadata": {},
   "outputs": [
    {
     "name": "stdout",
     "output_type": "stream",
     "text": [
      "Watch&Act emphasizes that successful technological integration requires prioritizing people, building their skills, and fostering a corporate culture that supports the overall strategy. The Spanish consulting firm argues that adopting appropriate technologies enhances efficiency, decision-making, and talent attraction, but the success of these transformations ultimately relies on employee engagement. \n",
      "\n",
      "To guide companies, Watch&Act outlines a seven-step roadmap focusing on key actions such as identifying impactful technologies, aligning organizational structures and culture, addressing skill gaps through reskilling/upskilling plans, and establishing efficiency metrics tied to business outcomes. For 2024, the firm highlights challenges related to integrating emerging technologies, fostering agile and innovative organizational setups, and ensuring actionable implementations within time and budget constraints. \n",
      "\n",
      "This approach matters to professionals and business leaders because it underscores the importance of not just adopting technology, but also creating an inclusive and empowered environment where employees can thrive, directly driving organizational progress and competitive advantage in a rapidly evolving digital landscape.\n",
      "Christian Klein, CEO of SAP, has spearheaded a transformative shift in the company since his leadership began in 2019. Under his tenure, SAP has embraced cloud computing, streamlined its software offerings, and placed artificial intelligence (AI) at the core of its strategy. A key innovation includes Joule, an AI-powered productivity assistant capable of increasing efficiency by up to 30%. Collaborative initiatives, such as its partnership with AI-based startup Perplexity, highlight SAP's focus on integrating data across systems to solve fragmentation issues.\n",
      "\n",
      "Klein emphasizes that successful transformation extends beyond technology, requiring cultural change and adaptive leadership. Despite initial challenges, such as declining stock prices during the cloud transition, SAP has emerged as Europe's most valuable company with a market valuation of $338 billion. For business leaders, Klein's approach underscores the importance of forward-thinking innovation, adaptability, and a human-centric leadership style in navigating complex organizational change.\n",
      "Elad Gil, a prominent venture capitalist, is leveraging AI not only to invest in cutting-edge startups but also to transform mature, traditional businesses through a novel roll-up strategy. His approach involves acquiring people-intensive companies, such as law firms, and using generative AI to improve margins and scale operations by automating repetitive tasks like coding, sales outreach, and back-office processes. By increasing profitability and cash flow, these AI-enabled businesses can acquire further companies more effectively, creating a unique competitive advantage.\n",
      "\n",
      "Gil has already backed companies like Harvey, Abridge, and Sierra AI, which focus on legal, healthcare, and customer service AI applications. He notes that while the market for AI is rapidly solidifying, identifying clear winners in specific sectors such as legal and healthcare is becoming possible. For professionals, this illustrates how AI can fundamentally reshape industries, providing significant opportunities for efficiency, scalability, and market leadership.\n",
      "\n",
      "This AI-driven roll-up model represents a shift from traditional technology-enabled consolidation efforts, offering a tangible way to transform cost structures and business models. With increasing attention on such strategies, leaders should closely monitor how AI can redefine operations in their industries.\n",
      "The article highlights the growing shift towards an \"AI-first\" organizational paradigm, where artificial intelligence is becoming the central axis for decision-making and workforce dynamics. Companies like Duolingo and Shopify are leading this transformation by prioritizing automation in tasks and redefining employee expectations based on their ability to utilize AI effectively. This cultural shift impacts hiring, promotions, and team workflows, as businesses justify human roles against viable automated alternatives.\n",
      "\n",
      "Key insights include the integration of AI into every aspect of work, with employees expected to demonstrate competence in leveraging its tools. This not only changes the definition of workplace competency but also addresses tensions between efficiency gains and potential social costs. For professionals and leaders, understanding and adapting to this AI-driven reorganization will be critical to sustaining competitive advantage and navigating the future of work.\n",
      "The article highlights the shift towards an \"AI-first\" paradigm in business decision-making and operations, where artificial intelligence is prioritized over human involvement in tasks and workflows. Companies like Duolingo and Shopify are leading this transformation by implementing policies that favor automation and require employees to integrate AI into their daily responsibilities. Hiring and retention decisions are increasingly tied to an individual's ability to work effectively with AI tools.\n",
      "\n",
      "This shift is transforming the definition of workplace competence, emphasizing not just technical skills but also proficiency in leveraging AI for efficiency and innovation. While this approach offers significant gains in productivity, it also raises concerns about potential worker exclusion and broader social implications. Business leaders must navigate this transition carefully to balance technological advancement with workforce empowerment.\n"
     ]
    }
   ],
   "source": [
    "for x in pd_all_info.iloc[indices[0]][\"summary\"].values:\n",
    "    print(x)"
   ]
  },
  {
   "cell_type": "code",
   "execution_count": null,
   "id": "a181ad4b",
   "metadata": {},
   "outputs": [],
   "source": []
  },
  {
   "cell_type": "code",
   "execution_count": null,
   "id": "642b69ae",
   "metadata": {},
   "outputs": [],
   "source": []
  }
 ],
 "metadata": {
  "kernelspec": {
   "display_name": "damm",
   "language": "python",
   "name": "python3"
  },
  "language_info": {
   "codemirror_mode": {
    "name": "ipython",
    "version": 3
   },
   "file_extension": ".py",
   "mimetype": "text/x-python",
   "name": "python",
   "nbconvert_exporter": "python",
   "pygments_lexer": "ipython3",
   "version": "3.12.3"
  }
 },
 "nbformat": 4,
 "nbformat_minor": 5
}
