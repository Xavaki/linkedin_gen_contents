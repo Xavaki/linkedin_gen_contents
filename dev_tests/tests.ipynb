{
 "cells": [
  {
   "cell_type": "code",
   "execution_count": 2,
   "id": "80a5371f",
   "metadata": {},
   "outputs": [],
   "source": [
    "import pandas as pd\n",
    "from newspaper import Article, Config\n",
    "import requests\n",
    "\n",
    "from selenium import webdriver\n",
    "# from selenium.webdriver.common.keys import Keys\n",
    "from selenium.webdriver.chrome.options import Options\n",
    "\n",
    "import time"
   ]
  },
  {
   "cell_type": "code",
   "execution_count": 6,
   "id": "a5e3ce0b",
   "metadata": {},
   "outputs": [],
   "source": [
    "\n",
    "url = 'https://www.msn.com/es-es/dinero/noticias/soluciones-digitales-para-empresas-reales-la-estrategia-de-santander-para-liderar-la-banca-del-futuro/ar-AA1H00fX'\n",
    "# url = 'https://www.datacenterdynamics.com/es/noticias/chile-central-la-nueva-región-de-nube-de-microsoft-en-chile/'"
   ]
  },
  {
   "cell_type": "code",
   "execution_count": 27,
   "id": "b7e48df1",
   "metadata": {},
   "outputs": [],
   "source": [
    "def accept_cookies(driver, accept_text):\n",
    "    time.sleep(2)\n",
    "    accept_button = driver.find_element(\"xpath\", f\"//button[contains(text(), {accept_text})]\")\n",
    "    accept_button.click()"
   ]
  },
  {
   "cell_type": "code",
   "execution_count": 28,
   "id": "ffb303b0",
   "metadata": {},
   "outputs": [],
   "source": [
    "\n",
    "options = Options()\n",
    "# options.add_argument(\"--headless\")  # Uncomment to run headlessly\n",
    "\n",
    "driver = webdriver.Chrome(options=options)\n",
    "\n",
    "driver.get(url)\n",
    "\n",
    "time.sleep(5)  # Wait for the page to load\n",
    "\n",
    "# potential_accept_texts = [\"Acepto\", \"Aceptar\", \"Accept\", \"OK\", \"Got it\", \"Entendido\"]\n",
    "\n",
    "# for accept_text in potential_accept_texts:\n",
    "#     try:\n",
    "#         accept_cookies(driver, accept_text)\n",
    "#         print(f\"Clicked on accept button with text: {accept_text}\")\n",
    "#         break  # Exit loop if button is found and clicked\n",
    "#     except Exception as e:\n",
    "#         print(f\"Could not find button with text: {accept_text}. Error: {e}\")\n",
    "\n",
    "time.sleep(5)  # Wait for any additional content to load\n",
    "\n",
    "# download the page source\n",
    "page_source = driver.page_source\n",
    "\n",
    "driver.quit()\n"
   ]
  },
  {
   "cell_type": "code",
   "execution_count": 7,
   "id": "d317c4ee",
   "metadata": {},
   "outputs": [
    {
     "name": "stdout",
     "output_type": "stream",
     "text": [
      "MSN\n",
      "\n"
     ]
    }
   ],
   "source": [
    "# Create a dummy article object with any URL (required by the constructor)\n",
    "article = Article(url=url)\n",
    "\n",
    "# Use the HTML content you got from Selenium\n",
    "# article.set_html(page_source)\n",
    "\n",
    "article.download()  # This is not strictly necessary since we already have the HTML, but it can be useful for other methods\n",
    "\n",
    "# Now parse it\n",
    "article.parse()\n",
    "\n",
    "# You can now access .text, .title, etc.\n",
    "print(article.title)\n",
    "print(article.text)"
   ]
  },
  {
   "cell_type": "code",
   "execution_count": null,
   "id": "bd2c7a2b",
   "metadata": {},
   "outputs": [],
   "source": []
  }
 ],
 "metadata": {
  "kernelspec": {
   "display_name": "damm",
   "language": "python",
   "name": "python3"
  },
  "language_info": {
   "codemirror_mode": {
    "name": "ipython",
    "version": 3
   },
   "file_extension": ".py",
   "mimetype": "text/x-python",
   "name": "python",
   "nbconvert_exporter": "python",
   "pygments_lexer": "ipython3",
   "version": "3.12.3"
  }
 },
 "nbformat": 4,
 "nbformat_minor": 5
}
