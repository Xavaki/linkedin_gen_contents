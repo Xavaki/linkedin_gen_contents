{
 "cells": [
  {
   "cell_type": "code",
   "execution_count": 27,
   "id": "239f6634",
   "metadata": {},
   "outputs": [],
   "source": [
    "from azure.storage.blob import BlobServiceClient\n",
    "import json\n",
    "import re\n",
    "import unicodedata\n",
    "from math import ceil\n",
    "from datetime import datetime\n",
    "import os"
   ]
  },
  {
   "cell_type": "code",
   "execution_count": null,
   "id": "eb72b69b",
   "metadata": {},
   "outputs": [],
   "source": [
    "data_path = \"../local_tests_data/raw_articles_list\"\n",
    "\n",
    "all_articles = []\n",
    "\n",
    "for filename in os.listdir(data_path):\n",
    "\n",
    "    if not filename.endswith(\".json\"):\n",
    "        continue\n",
    "\n",
    "\n",
    "    source = filename.split(\".\")[0]\n",
    "\n",
    "    with open(os.path.join(data_path, filename), \"r\") as f:\n",
    "        data = json.load(f)\n",
    "\n",
    "    for article in data:\n",
    "        article[\"source\"] = source\n",
    "        all_articles.append(article)"
   ]
  },
  {
   "cell_type": "code",
   "execution_count": 30,
   "id": "8adf9b48",
   "metadata": {},
   "outputs": [
    {
     "name": "stdout",
     "output_type": "stream",
     "text": [
      "Creating 1 batch files\n"
     ]
    }
   ],
   "source": [
    "prompts_per_batch_job = 200\n",
    "n_articles_to_process = len(all_articles)\n",
    "n_batch_jobs = ceil(n_articles_to_process/prompts_per_batch_job)\n",
    "print(\"Creating {} batch files\".format(n_batch_jobs))"
   ]
  },
  {
   "cell_type": "code",
   "execution_count": 31,
   "id": "989b8e8d",
   "metadata": {},
   "outputs": [],
   "source": [
    "system_prompt = \"\"\"\n",
    "You are a smart content curator for a LinkedIn thought leader. Given a news article, decide if it is highly relevant based on the following criteria:\n",
    "    - It aligns with topics like: Artificial Intelligence, Leadership, Remote Work, Digital Transformation, Sustainability, Emerging Tech, Industry Trends, Organizational Culture, DEI, Future of Work, Cybersecurity, Productivity, Startups, Market Trends, or Personal Branding.\n",
    "    - It provides useful insight, a new perspective, or credible data.\n",
    "    - It is suitable for a professional audience.\n",
    "\n",
    "You must adhere to the provided criteria and schema.\n",
    "\"\"\""
   ]
  },
  {
   "cell_type": "code",
   "execution_count": null,
   "id": "4d894566",
   "metadata": {},
   "outputs": [],
   "source": [
    "def format_task_jsonl_line(task_id, deployment_name, user_input):\n",
    "    jsonl_line_template = {\n",
    "        \"custom_id\": task_id,\n",
    "        \"method\": \"POST\",\n",
    "        \"url\": \"/chat/completions\",\n",
    "        \"body\": {\n",
    "            \"model\": deployment_name,\n",
    "            \"messages\": [\n",
    "                {\n",
    "                    \"role\": \"system\",\n",
    "                    \"content\": system_prompt.replace(\"\\n\", \"\\\\n\")\n",
    "                },\n",
    "                {\n",
    "                    \"role\": \"user\",\n",
    "                    \"content\": user_input.replace(\"\\n\", \"\\\\n\")\n",
    "                }\n",
    "            ],\n",
    "            \"response_format\": {\n",
    "            \"type\": \"json_schema\",\n",
    "            \"json_schema\": {\n",
    "                \"name\": \"ArticleRelevanceCheck\",\n",
    "                \"strict\": True,\n",
    "                \"schema\": {\n",
    "                    \"type\": \"object\",\n",
    "                    \"properties\": {\n",
    "                        \"relevance\": {\n",
    "                            \"type\": \"integer\",\n",
    "                            \"description\": \"Relevance score for the article, between 0 and 2, where 0 means not relevant, 1 means somewhat relevant, and 2 means highly relevant.\",\n",
    "                            \"enum\": [0, 1, 2]\n",
    "                        },\n",
    "                        \"article_language\": {\n",
    "                            \"type\": \"string\",\n",
    "                        } \n",
    "                    },\n",
    "                    \"required\": [\n",
    "                        \"relevance\",\n",
    "                        \"article_language\"\n",
    "                    ],\n",
    "                    \"additionalProperties\": False\n",
    "                }\n",
    "            }\n",
    "        }\n",
    "\n",
    "        }\n",
    "    }\n",
    "    return jsonl_line_template"
   ]
  },
  {
   "cell_type": "code",
   "execution_count": 33,
   "id": "aafbcf4c",
   "metadata": {},
   "outputs": [],
   "source": [
    "def generate_jsonl_lines(chunk_id, chunk_articles):\n",
    "    for j,article_info in enumerate(chunk_articles):\n",
    "        article_id = article_info[\"article_id\"]\n",
    "        task_id = f\"relevance-check-v0*{article_id}\"\n",
    "        deployment_name = \"gpt-4o--batch-2\"\n",
    "        yield json.dumps(format_task_jsonl_line(task_id=task_id, deployment_name=deployment_name, user_input=json.dumps(article_info))) + \"\\n\"\n",
    "    "
   ]
  },
  {
   "cell_type": "code",
   "execution_count": 34,
   "id": "18ea39ec",
   "metadata": {},
   "outputs": [
    {
     "name": "stdout",
     "output_type": "stream",
     "text": [
      "0\n"
     ]
    }
   ],
   "source": [
    "for i in range(n_batch_jobs):\n",
    "    print(i)\n",
    "    chunk = all_articles[i*prompts_per_batch_job:min(n_articles_to_process, (i+1)*prompts_per_batch_job)]\n",
    "    batchfilename = f\"batch_file_relevance_check_{i}_BATCHFILE.jsonl\"\n",
    "    with open(batchfilename, \"w\") as f:\n",
    "        for line in generate_jsonl_lines(chunk_id=i, chunk_articles=chunk):\n",
    "            f.write(line)"
   ]
  },
  {
   "cell_type": "code",
   "execution_count": null,
   "id": "3a507bc8",
   "metadata": {},
   "outputs": [],
   "source": []
  }
 ],
 "metadata": {
  "kernelspec": {
   "display_name": "damm",
   "language": "python",
   "name": "python3"
  },
  "language_info": {
   "codemirror_mode": {
    "name": "ipython",
    "version": 3
   },
   "file_extension": ".py",
   "mimetype": "text/x-python",
   "name": "python",
   "nbconvert_exporter": "python",
   "pygments_lexer": "ipython3",
   "version": "3.12.3"
  }
 },
 "nbformat": 4,
 "nbformat_minor": 5
}
