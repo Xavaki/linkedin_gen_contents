{
 "cells": [
  {
   "cell_type": "code",
   "execution_count": 1,
   "id": "0288e759",
   "metadata": {},
   "outputs": [],
   "source": [
    "import pandas as pd\n",
    "import json\n",
    "import os"
   ]
  },
  {
   "cell_type": "code",
   "execution_count": 2,
   "id": "0de7a256",
   "metadata": {},
   "outputs": [],
   "source": [
    "data_path = \"../local_tests_data/raw_articles_list\"\n",
    "\n",
    "all_articles = {}\n",
    "\n",
    "for filename in os.listdir(data_path):\n",
    "\n",
    "    if not filename.endswith(\".json\"):\n",
    "        continue\n",
    "\n",
    "\n",
    "    with open(os.path.join(data_path, filename), \"r\") as f:\n",
    "        data = json.load(f)\n",
    "\n",
    "    for article in data:\n",
    "        article_id = article.get(\"article_id\")\n",
    "        all_articles[article_id] = article"
   ]
  },
  {
   "cell_type": "code",
   "execution_count": 3,
   "id": "0ce9a7dd",
   "metadata": {},
   "outputs": [],
   "source": [
    "output_filename = 'batch_file_relevance_check_0_OUTPUT.jsonl'"
   ]
  },
  {
   "cell_type": "code",
   "execution_count": null,
   "id": "f0d101ca",
   "metadata": {},
   "outputs": [],
   "source": [
    "with open(output_filename, \"r\") as file:\n",
    "    lines_raw = file.readlines()\n",
    "    for line in lines_raw:\n",
    "        output_dict = json.loads(line)\n",
    "        model = output_dict.get(\"response\").get(\"body\").get(\"model\")\n",
    "        line_id = output_dict.get(\"custom_id\")\n",
    "        content_json = output_dict.get(\"response\").get(\"body\").get(\"choices\")[0].get(\"message\").get(\"content\")\n",
    "        content = json.loads(content_json)\n",
    "        # relevance check version references check logic (e.g. prompt)\n",
    "        task_name, article_id = line_id.split(\"*\")\n",
    "        all_articles[article_id][\"relevance\"] = content.get(\"relevance\", \"N/A\")\n",
    "        all_articles[article_id][\"relevance_check_model\"] = model\n",
    "        all_articles[article_id][\"relevance_check_version\"] = task_name"
   ]
  },
  {
   "cell_type": "code",
   "execution_count": 5,
   "id": "f7a5508a",
   "metadata": {},
   "outputs": [],
   "source": [
    "pd_article_relevance = pd.DataFrame.from_dict(all_articles, orient='index').reset_index()"
   ]
  },
  {
   "cell_type": "code",
   "execution_count": 6,
   "id": "9c8d51e4",
   "metadata": {},
   "outputs": [
    {
     "data": {
      "text/html": [
       "<div>\n",
       "<style scoped>\n",
       "    .dataframe tbody tr th:only-of-type {\n",
       "        vertical-align: middle;\n",
       "    }\n",
       "\n",
       "    .dataframe tbody tr th {\n",
       "        vertical-align: top;\n",
       "    }\n",
       "\n",
       "    .dataframe thead th {\n",
       "        text-align: right;\n",
       "    }\n",
       "</style>\n",
       "<table border=\"1\" class=\"dataframe\">\n",
       "  <thead>\n",
       "    <tr style=\"text-align: right;\">\n",
       "      <th></th>\n",
       "      <th>index</th>\n",
       "      <th>title</th>\n",
       "      <th>url</th>\n",
       "      <th>keywords</th>\n",
       "      <th>author</th>\n",
       "      <th>article_id</th>\n",
       "      <th>source</th>\n",
       "      <th>relevance</th>\n",
       "      <th>relevance_check_model</th>\n",
       "      <th>relevance_check_version</th>\n",
       "    </tr>\n",
       "  </thead>\n",
       "  <tbody>\n",
       "    <tr>\n",
       "      <th>0</th>\n",
       "      <td>the_next_web-20250528111956213260</td>\n",
       "      <td>How to thrive with AI agents — tips from an HP...</td>\n",
       "      <td>https://thenextweb.com/news/tips-on-ai-agents</td>\n",
       "      <td>[AI, strategy, HP]</td>\n",
       "      <td>None</td>\n",
       "      <td>the_next_web-20250528111956213260</td>\n",
       "      <td>the_next_web</td>\n",
       "      <td>2</td>\n",
       "      <td>gpt-4o-2024-11-20</td>\n",
       "      <td>relevance-check-v0</td>\n",
       "    </tr>\n",
       "    <tr>\n",
       "      <th>1</th>\n",
       "      <td>the_next_web-20250528111956213288</td>\n",
       "      <td>Meta AI chief: ‘Inferiority complex’ is stunti...</td>\n",
       "      <td>https://thenextweb.com/news/european-tech-stru...</td>\n",
       "      <td>[Meta, AI, European tech]</td>\n",
       "      <td>None</td>\n",
       "      <td>the_next_web-20250528111956213288</td>\n",
       "      <td>the_next_web</td>\n",
       "      <td>2</td>\n",
       "      <td>gpt-4o-2024-11-20</td>\n",
       "      <td>relevance-check-v0</td>\n",
       "    </tr>\n",
       "    <tr>\n",
       "      <th>2</th>\n",
       "      <td>the_next_web-20250528111956213298</td>\n",
       "      <td>US shoplifting ‘epidemic’ sparks demand for Fr...</td>\n",
       "      <td>https://thenextweb.com/news/us-shoplifting-epi...</td>\n",
       "      <td>[shoplifting, AI cameras, France]</td>\n",
       "      <td>None</td>\n",
       "      <td>the_next_web-20250528111956213298</td>\n",
       "      <td>the_next_web</td>\n",
       "      <td>2</td>\n",
       "      <td>gpt-4o-2024-11-20</td>\n",
       "      <td>relevance-check-v0</td>\n",
       "    </tr>\n",
       "    <tr>\n",
       "      <th>3</th>\n",
       "      <td>the_next_web-20250528111956213306</td>\n",
       "      <td>TNW Backstage dives into the mind-bending worl...</td>\n",
       "      <td>https://thenextweb.com/news/tnw-backstage-brai...</td>\n",
       "      <td>[brain-computer interfaces, technology, innova...</td>\n",
       "      <td>None</td>\n",
       "      <td>the_next_web-20250528111956213306</td>\n",
       "      <td>the_next_web</td>\n",
       "      <td>2</td>\n",
       "      <td>gpt-4o-2024-11-20</td>\n",
       "      <td>relevance-check-v0</td>\n",
       "    </tr>\n",
       "    <tr>\n",
       "      <th>4</th>\n",
       "      <td>the_next_web-20250528111956213312</td>\n",
       "      <td>Startup uses ancient bacteria to turn Texas CO...</td>\n",
       "      <td>https://thenextweb.com/news/startup-uses-ancie...</td>\n",
       "      <td>[sustainability, CO2, green chemicals]</td>\n",
       "      <td>None</td>\n",
       "      <td>the_next_web-20250528111956213312</td>\n",
       "      <td>the_next_web</td>\n",
       "      <td>2</td>\n",
       "      <td>gpt-4o-2024-11-20</td>\n",
       "      <td>relevance-check-v0</td>\n",
       "    </tr>\n",
       "  </tbody>\n",
       "</table>\n",
       "</div>"
      ],
      "text/plain": [
       "                               index  \\\n",
       "0  the_next_web-20250528111956213260   \n",
       "1  the_next_web-20250528111956213288   \n",
       "2  the_next_web-20250528111956213298   \n",
       "3  the_next_web-20250528111956213306   \n",
       "4  the_next_web-20250528111956213312   \n",
       "\n",
       "                                               title  \\\n",
       "0  How to thrive with AI agents — tips from an HP...   \n",
       "1  Meta AI chief: ‘Inferiority complex’ is stunti...   \n",
       "2  US shoplifting ‘epidemic’ sparks demand for Fr...   \n",
       "3  TNW Backstage dives into the mind-bending worl...   \n",
       "4  Startup uses ancient bacteria to turn Texas CO...   \n",
       "\n",
       "                                                 url  \\\n",
       "0      https://thenextweb.com/news/tips-on-ai-agents   \n",
       "1  https://thenextweb.com/news/european-tech-stru...   \n",
       "2  https://thenextweb.com/news/us-shoplifting-epi...   \n",
       "3  https://thenextweb.com/news/tnw-backstage-brai...   \n",
       "4  https://thenextweb.com/news/startup-uses-ancie...   \n",
       "\n",
       "                                            keywords author  \\\n",
       "0                                 [AI, strategy, HP]   None   \n",
       "1                          [Meta, AI, European tech]   None   \n",
       "2                  [shoplifting, AI cameras, France]   None   \n",
       "3  [brain-computer interfaces, technology, innova...   None   \n",
       "4             [sustainability, CO2, green chemicals]   None   \n",
       "\n",
       "                          article_id        source  relevance  \\\n",
       "0  the_next_web-20250528111956213260  the_next_web          2   \n",
       "1  the_next_web-20250528111956213288  the_next_web          2   \n",
       "2  the_next_web-20250528111956213298  the_next_web          2   \n",
       "3  the_next_web-20250528111956213306  the_next_web          2   \n",
       "4  the_next_web-20250528111956213312  the_next_web          2   \n",
       "\n",
       "  relevance_check_model relevance_check_version  \n",
       "0     gpt-4o-2024-11-20      relevance-check-v0  \n",
       "1     gpt-4o-2024-11-20      relevance-check-v0  \n",
       "2     gpt-4o-2024-11-20      relevance-check-v0  \n",
       "3     gpt-4o-2024-11-20      relevance-check-v0  \n",
       "4     gpt-4o-2024-11-20      relevance-check-v0  "
      ]
     },
     "execution_count": 6,
     "metadata": {},
     "output_type": "execute_result"
    }
   ],
   "source": [
    "pd_article_relevance.head()"
   ]
  },
  {
   "cell_type": "code",
   "execution_count": 7,
   "id": "f2cdb5ba",
   "metadata": {},
   "outputs": [
    {
     "data": {
      "text/plain": [
       "relevance\n",
       "2    43\n",
       "1    18\n",
       "0     1\n",
       "Name: count, dtype: int64"
      ]
     },
     "execution_count": 7,
     "metadata": {},
     "output_type": "execute_result"
    }
   ],
   "source": [
    "pd_article_relevance['relevance'].value_counts()"
   ]
  },
  {
   "cell_type": "code",
   "execution_count": 8,
   "id": "530e0442",
   "metadata": {},
   "outputs": [],
   "source": [
    "with open(\"../local_tests_data/relevant_articles/relevant_articles.json\", \"w\") as f:\n",
    "    json.dump(pd_article_relevance[pd_article_relevance.relevance == 2].to_dict(orient='records'), f, indent=4, ensure_ascii=False)"
   ]
  },
  {
   "cell_type": "code",
   "execution_count": null,
   "id": "11bc82a7",
   "metadata": {},
   "outputs": [],
   "source": []
  },
  {
   "cell_type": "code",
   "execution_count": null,
   "id": "f50cc741",
   "metadata": {},
   "outputs": [],
   "source": []
  }
 ],
 "metadata": {
  "kernelspec": {
   "display_name": "damm",
   "language": "python",
   "name": "python3"
  },
  "language_info": {
   "codemirror_mode": {
    "name": "ipython",
    "version": 3
   },
   "file_extension": ".py",
   "mimetype": "text/x-python",
   "name": "python",
   "nbconvert_exporter": "python",
   "pygments_lexer": "ipython3",
   "version": "3.12.3"
  }
 },
 "nbformat": 4,
 "nbformat_minor": 5
}
