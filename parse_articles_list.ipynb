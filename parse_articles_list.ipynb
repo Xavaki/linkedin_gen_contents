{
 "cells": [
  {
   "cell_type": "code",
   "execution_count": 39,
   "id": "cb2782e0",
   "metadata": {},
   "outputs": [],
   "source": [
    "import requests\n",
    "import json \n",
    "from dotenv import load_dotenv\n",
    "import os\n",
    "from openai import AzureOpenAI\n",
    "from datetime import datetime\n",
    "from pydantic import BaseModel\n",
    "from typing import List, Optional"
   ]
  },
  {
   "cell_type": "code",
   "execution_count": 40,
   "id": "1e18a183",
   "metadata": {},
   "outputs": [
    {
     "data": {
      "text/plain": [
       "True"
      ]
     },
     "execution_count": 40,
     "metadata": {},
     "output_type": "execute_result"
    }
   ],
   "source": [
    "load_dotenv()"
   ]
  },
  {
   "cell_type": "code",
   "execution_count": 41,
   "id": "ac1b8fa3",
   "metadata": {},
   "outputs": [],
   "source": [
    "AZURE_OPENAI_API_KEY = os.getenv(\"AZURE_OPENAI_API_KEY\")\n",
    "AZURE_OPENAI_ENDPOINT = os.getenv(\"AZURE_OPENAI_ENDPOINT\")\n",
    "\n",
    "client = AzureOpenAI(\n",
    "    api_version=\"2024-12-01-preview\",\n",
    "    azure_endpoint=AZURE_OPENAI_ENDPOINT,\n",
    "    api_key=AZURE_OPENAI_API_KEY\n",
    ")"
   ]
  },
  {
   "cell_type": "code",
   "execution_count": 42,
   "id": "e1876697",
   "metadata": {},
   "outputs": [],
   "source": [
    "# sources chatgpt link\n",
    "# https://chatgpt.com/share/682f3278-f380-8011-8c1f-fefff4390074\n",
    "sources = [\n",
    "    {'source_name' : 'TechCrunch', 'url': 'https://techcrunch.com/latest/'},\n",
    "    {'source_name' : 'ITEspresso', 'url': 'https://www.itespresso.es/'},\n",
    "    {'source_name' : 'Business Insider', 'url': 'https://www.businessinsider.es/tecnologia'},\n",
    "    {'source_name' : 'CNET', 'url': 'https://www.cnet.com/ai-atlas/'},\n",
    "    {'source_name' : 'The Next Web', 'url': 'https://thenextweb.com/'}\n",
    "]"
   ]
  },
  {
   "cell_type": "code",
   "execution_count": 43,
   "id": "5d71598c",
   "metadata": {},
   "outputs": [],
   "source": [
    "class Article(BaseModel):\n",
    "    title: str\n",
    "    url: str\n",
    "    keywords: List[str]\n",
    "    author: Optional[List[str]]\n",
    "\n",
    "class ArticleList(BaseModel):\n",
    "    articles: List[Article]\n",
    "\n",
    "def get_source_articles(source_url : str) -> ArticleList:\n",
    "    \"\"\"\n",
    "    Get the articles from the source URL.\n",
    "    \"\"\"\n",
    "\n",
    "    source_url_jina = 'https://r.jina.ai/' + source_url\n",
    "    source_url_raw_content = requests.get(source_url_jina).text\n",
    "\n",
    "    messages = [\n",
    "            {\n",
    "                \"role\": \"system\", \n",
    "                \"content\": \"Extract an article list from the following page content. Do not make up any information that's not in the provided text. Current date is \" + datetime.now().strftime(\"%Y-%m-%d\") + \" If the provided content text contains no articles list (for instance due to a 'page not found' error), return an empty list.\"\n",
    "            },\n",
    "            {\n",
    "                \"role\": \"user\", \n",
    "                \"content\": source_url_raw_content\n",
    "            }\n",
    "            ]\n",
    "\n",
    "    model = \"gpt-4o-mini\"\n",
    "    response = client.beta.chat.completions.parse(\n",
    "        model=model, \n",
    "        messages=messages, \n",
    "        temperature=0.2,\n",
    "        response_format=ArticleList\n",
    "    )\n",
    "    response = response.choices[0].message.parsed\n",
    "\n",
    "    return response.articles"
   ]
  },
  {
   "cell_type": "code",
   "execution_count": null,
   "id": "5a8131d4",
   "metadata": {},
   "outputs": [
    {
     "name": "stdout",
     "output_type": "stream",
     "text": [
      "Getting articles from https://techcrunch.com/latest/\n",
      "Found 7 articles.\n",
      "Getting articles from https://www.itespresso.es/\n",
      "Found 21 articles.\n",
      "Getting articles from https://www.businessinsider.es/tecnologia\n",
      "Found 20 articles.\n",
      "Getting articles from https://www.cnet.com/ai-atlas/\n",
      "Found 0 articles.\n",
      "Getting articles from https://thenextweb.com/\n",
      "Found 14 articles.\n"
     ]
    }
   ],
   "source": [
    "for source in sources:\n",
    "    source_name = source['source_name']\n",
    "    source_url = source['url']\n",
    "    print(f\"Getting articles from {source_url}\")\n",
    "    articles = [a.model_dump() for a in get_source_articles(source_url)]\n",
    "    print(f\"Found {len(articles)} articles.\")\n",
    "    save_name = source_name.replace(\" \", \"_\").lower() + \".json\"\n",
    "    with open('local_tests_data/articles_list/' + save_name, 'w') as f:\n",
    "        json.dump(articles, f, indent=4)"
   ]
  },
  {
   "cell_type": "code",
   "execution_count": null,
   "id": "f481e780",
   "metadata": {},
   "outputs": [
    {
     "data": {
      "text/plain": [
       "'https://thenextweb.com/news/tips-on-ai-agents'"
      ]
     },
     "execution_count": 36,
     "metadata": {},
     "output_type": "execute_result"
    }
   ],
   "source": [
    "# response.articles[0].url\n",
    "\n",
    "# from newspaper import Article as NewspaperArticle\n",
    "\n",
    "# narticle = NewspaperArticle(response.articles[0].url)\n",
    "# narticle.download()\n",
    "# narticle.parse()\n",
    "# print(narticle.text)"
   ]
  },
  {
   "cell_type": "code",
   "execution_count": null,
   "id": "5c79ccba",
   "metadata": {},
   "outputs": [],
   "source": []
  }
 ],
 "metadata": {
  "kernelspec": {
   "display_name": "damm",
   "language": "python",
   "name": "python3"
  },
  "language_info": {
   "codemirror_mode": {
    "name": "ipython",
    "version": 3
   },
   "file_extension": ".py",
   "mimetype": "text/x-python",
   "name": "python",
   "nbconvert_exporter": "python",
   "pygments_lexer": "ipython3",
   "version": "3.12.3"
  }
 },
 "nbformat": 4,
 "nbformat_minor": 5
}
