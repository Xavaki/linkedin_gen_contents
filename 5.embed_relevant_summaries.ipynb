{
 "cells": [
  {
   "cell_type": "code",
   "execution_count": null,
   "id": "11912231",
   "metadata": {},
   "outputs": [],
   "source": [
    "import os\n",
    "from dotenv import load_dotenv\n",
    "from openai import AzureOpenAI\n",
    "import tiktoken\n",
    "import json\n",
    "import pandas as pd\n",
    "from dotenv import load_dotenv"
   ]
  },
  {
   "cell_type": "code",
   "execution_count": null,
   "id": "e43c2fcf",
   "metadata": {},
   "outputs": [],
   "source": [
    "load_dotenv('.env')\n",
    "AZURE_OPENAI_API_KEY=os.getenv('AZURE_OPENAI_API_KEY')\n",
    "AZURE_OPENAI_ENDPOINT=os.getenv('AZURE_OPENAI_ENDPOINT')\n",
    "client = AzureOpenAI(\n",
    "    api_version=\"2024-12-01-preview\",\n",
    "    azure_endpoint=AZURE_OPENAI_ENDPOINT,\n",
    "    api_key=AZURE_OPENAI_API_KEY\n",
    ")"
   ]
  },
  {
   "cell_type": "code",
   "execution_count": 9,
   "id": "edb79b28",
   "metadata": {},
   "outputs": [
    {
     "name": "stdout",
     "output_type": "stream",
     "text": [
      "Number of summaries to embed: 41\n"
     ]
    }
   ],
   "source": [
    "summaries_filenames = os.listdir('./local_tests_data/relevant_articles_summaries')\n",
    "n_summaries_to_embed = len(summaries_filenames)\n",
    "print(f\"Number of summaries to embed: {n_summaries_to_embed}\")"
   ]
  },
  {
   "cell_type": "code",
   "execution_count": 14,
   "id": "57632fdd",
   "metadata": {},
   "outputs": [],
   "source": [
    "encoding = tiktoken.encoding_for_model(\"text-embedding-3-small\")"
   ]
  },
  {
   "cell_type": "code",
   "execution_count": 15,
   "id": "b454c1f1",
   "metadata": {},
   "outputs": [],
   "source": [
    "chunked_filenames = [[]]\n",
    "\n",
    "running_token_count = 0\n",
    "\n",
    "for filename in summaries_filenames:\n",
    "    with open(f'./local_tests_data/relevant_articles_summaries/{filename}', 'r') as f:\n",
    "        content = json.load(f)\n",
    "        summary = content['content']\n",
    "\n",
    "        tokens = encoding.encode(summary)\n",
    "        token_count = len(tokens)\n",
    "\n",
    "        running_token_count += token_count\n",
    "        if running_token_count > 8000: # true limit is 8192, but we leave some space for safety\n",
    "            chunked_filenames.append([])\n",
    "            running_token_count = 0\n",
    "        \n",
    "        chunked_filenames[-1].append(filename)"
   ]
  },
  {
   "cell_type": "code",
   "execution_count": 24,
   "id": "ff97d7aa",
   "metadata": {},
   "outputs": [
    {
     "name": "stdout",
     "output_type": "stream",
     "text": [
      "embedding chunk 0 of 1 with 41 summaries\n"
     ]
    }
   ],
   "source": [
    "all_embeddings = []\n",
    "\n",
    "for i,chunk in enumerate(chunked_filenames):\n",
    "    print(f\"embedding chunk {i} of {len(chunked_filenames)} with {len(chunk)} summaries\")\n",
    "    chunk_article_ids = [filename.split('.')[0] for filename in chunk]\n",
    "    chunk_summaries = []\n",
    "    for filename in chunk:\n",
    "        with open(f'./local_tests_data/relevant_articles_summaries/{filename}', 'r') as f:\n",
    "            content = json.load(f)\n",
    "            summary = content['content']\n",
    "            chunk_summaries.append(summary)\n",
    "\n",
    "    response = client.embeddings.create(\n",
    "        input=chunk_summaries,\n",
    "        model=\"text-embedding-3-small\",\n",
    "    )\n",
    "\n",
    "    for article_id, item in zip(chunk_article_ids, response.data):\n",
    "        all_embeddings.append({\n",
    "            'article_id': article_id,\n",
    "            'summary_embedding': item.embedding\n",
    "        })"
   ]
  },
  {
   "cell_type": "code",
   "execution_count": 28,
   "id": "81c5b7b6",
   "metadata": {},
   "outputs": [
    {
     "data": {
      "text/html": [
       "<div>\n",
       "<style scoped>\n",
       "    .dataframe tbody tr th:only-of-type {\n",
       "        vertical-align: middle;\n",
       "    }\n",
       "\n",
       "    .dataframe tbody tr th {\n",
       "        vertical-align: top;\n",
       "    }\n",
       "\n",
       "    .dataframe thead th {\n",
       "        text-align: right;\n",
       "    }\n",
       "</style>\n",
       "<table border=\"1\" class=\"dataframe\">\n",
       "  <thead>\n",
       "    <tr style=\"text-align: right;\">\n",
       "      <th></th>\n",
       "      <th>article_id</th>\n",
       "      <th>summary_embedding</th>\n",
       "    </tr>\n",
       "  </thead>\n",
       "  <tbody>\n",
       "    <tr>\n",
       "      <th>0</th>\n",
       "      <td>business_insider-20250528111956214143</td>\n",
       "      <td>[0.026244841516017914, 0.02722984366118908, 0....</td>\n",
       "    </tr>\n",
       "    <tr>\n",
       "      <th>1</th>\n",
       "      <td>business_insider-20250528111956214189</td>\n",
       "      <td>[0.03143119066953659, -0.0455034039914608, 0.0...</td>\n",
       "    </tr>\n",
       "    <tr>\n",
       "      <th>2</th>\n",
       "      <td>business_insider-20250528111956214168</td>\n",
       "      <td>[0.0054952772334218025, -0.02758956141769886, ...</td>\n",
       "    </tr>\n",
       "    <tr>\n",
       "      <th>3</th>\n",
       "      <td>the_next_web-20250528111956213312</td>\n",
       "      <td>[0.044054314494132996, -0.026741232722997665, ...</td>\n",
       "    </tr>\n",
       "    <tr>\n",
       "      <th>4</th>\n",
       "      <td>business_insider-20250528111956214162</td>\n",
       "      <td>[0.002276916755363345, -0.060238227248191833, ...</td>\n",
       "    </tr>\n",
       "  </tbody>\n",
       "</table>\n",
       "</div>"
      ],
      "text/plain": [
       "                              article_id  \\\n",
       "0  business_insider-20250528111956214143   \n",
       "1  business_insider-20250528111956214189   \n",
       "2  business_insider-20250528111956214168   \n",
       "3      the_next_web-20250528111956213312   \n",
       "4  business_insider-20250528111956214162   \n",
       "\n",
       "                                   summary_embedding  \n",
       "0  [0.026244841516017914, 0.02722984366118908, 0....  \n",
       "1  [0.03143119066953659, -0.0455034039914608, 0.0...  \n",
       "2  [0.0054952772334218025, -0.02758956141769886, ...  \n",
       "3  [0.044054314494132996, -0.026741232722997665, ...  \n",
       "4  [0.002276916755363345, -0.060238227248191833, ...  "
      ]
     },
     "execution_count": 28,
     "metadata": {},
     "output_type": "execute_result"
    }
   ],
   "source": [
    "pd_embeddings = pd.DataFrame(all_embeddings) \n",
    "pd_embeddings.head()"
   ]
  },
  {
   "cell_type": "code",
   "execution_count": 27,
   "id": "6cd72c1b",
   "metadata": {},
   "outputs": [],
   "source": [
    "pd_embeddings.to_csv('./local_tests_data/relevant_articles_summaries_embeddings/relevant_articles_summaries_embeddings.csv', index=False)"
   ]
  },
  {
   "cell_type": "code",
   "execution_count": 31,
   "id": "768d1779",
   "metadata": {},
   "outputs": [
    {
     "data": {
      "text/plain": [
       "list"
      ]
     },
     "execution_count": 31,
     "metadata": {},
     "output_type": "execute_result"
    }
   ],
   "source": [
    "type(all_embeddings[0]['summary_embedding'])"
   ]
  },
  {
   "cell_type": "code",
   "execution_count": null,
   "id": "9215e5db",
   "metadata": {},
   "outputs": [],
   "source": []
  }
 ],
 "metadata": {
  "kernelspec": {
   "display_name": "damm",
   "language": "python",
   "name": "python3"
  },
  "language_info": {
   "codemirror_mode": {
    "name": "ipython",
    "version": 3
   },
   "file_extension": ".py",
   "mimetype": "text/x-python",
   "name": "python",
   "nbconvert_exporter": "python",
   "pygments_lexer": "ipython3",
   "version": "3.12.3"
  }
 },
 "nbformat": 4,
 "nbformat_minor": 5
}
