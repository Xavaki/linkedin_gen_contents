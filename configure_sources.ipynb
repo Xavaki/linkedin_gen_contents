{
 "cells": [
  {
   "cell_type": "code",
   "execution_count": 2,
   "id": "d50bff51",
   "metadata": {},
   "outputs": [],
   "source": [
    "from dotenv import load_dotenv\n",
    "import os \n",
    "import json\n",
    "from azure.storage.blob import BlobServiceClient"
   ]
  },
  {
   "cell_type": "code",
   "execution_count": 3,
   "id": "a88b9324",
   "metadata": {},
   "outputs": [
    {
     "data": {
      "text/plain": [
       "True"
      ]
     },
     "execution_count": 3,
     "metadata": {},
     "output_type": "execute_result"
    }
   ],
   "source": [
    "load_dotenv('/home/xavaki/DAMM/linkedin_gen_contents/.env')"
   ]
  },
  {
   "cell_type": "code",
   "execution_count": 9,
   "id": "9a3ca1ff",
   "metadata": {},
   "outputs": [],
   "source": [
    "# https://chatgpt.com/share/682f3278-f380-8011-8c1f-fefff4390074"
   ]
  },
  {
   "cell_type": "code",
   "execution_count": 5,
   "id": "2915fc9b",
   "metadata": {},
   "outputs": [],
   "source": [
    "blob_service_client = BlobServiceClient.from_connection_string(os.getenv('STORAGE_ACCOUNT_CONNECTION_STRING'))\n",
    "sources_blob_client = blob_service_client.get_blob_client(container=\"sources\", blob='sources.json')\n"
   ]
  },
  {
   "cell_type": "code",
   "execution_count": 7,
   "id": "7fe617d0",
   "metadata": {},
   "outputs": [],
   "source": [
    "sources = [\n",
    "    {\"source_name\" : \"TechCrunch\", \"url\": \"https://techcrunch.com/latest/\"},\n",
    "    {\"source_name\" : \"ITEspresso\", \"url\": \"https://www.itespresso.es/\"},\n",
    "    {\"source_name\" : \"Business Insider\", \"url\": \"https://www.businessinsider.es/tecnologia\"},\n",
    "    {\"source_name\" : \"CNET\", \"url\": \"https://www.cnet.com/ai-atlas/\"},\n",
    "    {\"source_name\" : \"The Next Web\", \"url\": \"https://thenextweb.com/\"},\n",
    "    {\"source_name\" : \"The Conversation\", \"url\": \"https://theconversation.com/es/ciencia\"},\n",
    "    {\"source_name\" : \"The Verge\", \"url\": \"https://www.theverge.com/tech\"},\n",
    "    {\"source_name\" : \"World Economic Forum\", \"url\": \"https://www.weforum.org/stories/\"},\n",
    "    {\"source_name\" : \"WIRED\", \"url\" : \"https://www.wired.com/category/science/\"},\n",
    "    {\"source_name\" : \"Gizmodo\", \"url\" : \"https://es.gizmodo.com/tecnologia\"},\n",
    "    {\"source_name\" : \"Retina\", \"url\" : \"https://retinatendencias.com/\"}   \n",
    "]"
   ]
  },
  {
   "cell_type": "code",
   "execution_count": 8,
   "id": "4b5f7708",
   "metadata": {},
   "outputs": [
    {
     "data": {
      "text/plain": [
       "{'etag': '\"0x8DDA352AF7C9426\"',\n",
       " 'last_modified': datetime.datetime(2025, 6, 4, 10, 29, 28, tzinfo=datetime.timezone.utc),\n",
       " 'content_md5': bytearray(b'P\\x7f\\xcax\\x1e\\x96Z\\x88\\xc0\\xbe+\\x91\\x97\\xe8\\x0f\\xc0'),\n",
       " 'client_request_id': 'cb35a20a-412e-11f0-a9a1-e40d36b83a0d',\n",
       " 'request_id': '4472587d-101e-00a4-523b-d5bb74000000',\n",
       " 'version': '2025-05-05',\n",
       " 'version_id': None,\n",
       " 'date': datetime.datetime(2025, 6, 4, 10, 29, 28, tzinfo=datetime.timezone.utc),\n",
       " 'request_server_encrypted': True,\n",
       " 'encryption_key_sha256': None,\n",
       " 'encryption_scope': None,\n",
       " 'structured_body': None}"
      ]
     },
     "execution_count": 8,
     "metadata": {},
     "output_type": "execute_result"
    }
   ],
   "source": [
    "sources_blob_client.upload_blob(json.dumps(sources, indent=4), overwrite=True)"
   ]
  },
  {
   "cell_type": "code",
   "execution_count": null,
   "id": "70d5512b",
   "metadata": {},
   "outputs": [],
   "source": []
  }
 ],
 "metadata": {
  "kernelspec": {
   "display_name": "damm",
   "language": "python",
   "name": "python3"
  },
  "language_info": {
   "codemirror_mode": {
    "name": "ipython",
    "version": 3
   },
   "file_extension": ".py",
   "mimetype": "text/x-python",
   "name": "python",
   "nbconvert_exporter": "python",
   "pygments_lexer": "ipython3",
   "version": "3.12.3"
  }
 },
 "nbformat": 4,
 "nbformat_minor": 5
}
