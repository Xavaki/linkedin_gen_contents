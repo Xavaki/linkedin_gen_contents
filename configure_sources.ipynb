{
 "cells": [
  {
   "cell_type": "code",
   "execution_count": 14,
   "id": "d50bff51",
   "metadata": {},
   "outputs": [],
   "source": [
    "from dotenv import load_dotenv\n",
    "import os \n",
    "import json\n",
    "from azure.storage.blob import BlobServiceClient"
   ]
  },
  {
   "cell_type": "code",
   "execution_count": 15,
   "id": "a88b9324",
   "metadata": {},
   "outputs": [
    {
     "data": {
      "text/plain": [
       "True"
      ]
     },
     "execution_count": 15,
     "metadata": {},
     "output_type": "execute_result"
    }
   ],
   "source": [
    "load_dotenv('/home/xavaki/DAMM/linkedin_gen_contents/.env')"
   ]
  },
  {
   "cell_type": "code",
   "execution_count": 16,
   "id": "9a3ca1ff",
   "metadata": {},
   "outputs": [],
   "source": [
    "# https://chatgpt.com/share/682f3278-f380-8011-8c1f-fefff4390074"
   ]
  },
  {
   "cell_type": "code",
   "execution_count": 17,
   "id": "e276c7de",
   "metadata": {},
   "outputs": [
    {
     "name": "stdout",
     "output_type": "stream",
     "text": [
      "Duplicate custom_id found: RUNID_12--source_parsing_v0--techcrunch.com\n",
      "Duplicate custom_id found: RUNID_12--source_parsing_v0--theconversation.com\n"
     ]
    }
   ],
   "source": [
    "with open(\"RUNID_12--source_parsing_v0_BATCHFILE_0.jsonl\", \"r\") as f:\n",
    "    sources = [json.loads(line) for line in f.readlines()]\n",
    "\n",
    "\n",
    "seen_custom_ids = set()\n",
    "for source in sources:\n",
    "    custom_id = source.get('custom_id')\n",
    "    if custom_id:\n",
    "        if custom_id in seen_custom_ids:\n",
    "            print(f\"Duplicate custom_id found: {custom_id}\")\n",
    "        else:\n",
    "            seen_custom_ids.add(custom_id)\n",
    "    else:\n",
    "        print(\"No custom_id found for source:\", source.get('url', 'Unknown URL'))"
   ]
  },
  {
   "cell_type": "code",
   "execution_count": 18,
   "id": "2915fc9b",
   "metadata": {},
   "outputs": [],
   "source": [
    "blob_service_client = BlobServiceClient.from_connection_string(os.getenv('STORAGE_ACCOUNT_CONNECTION_STRING'))\n",
    "sources_blob_client = blob_service_client.get_blob_client(container=\"sources\", blob='sources.json')\n"
   ]
  },
  {
   "cell_type": "code",
   "execution_count": 19,
   "id": "ac01289c",
   "metadata": {},
   "outputs": [],
   "source": [
    "with open(\"inspected_sources.txt\", \"r\") as file:\n",
    "    inspected_sources = file.read().splitlines()\n",
    "    sources = []\n",
    "    for source in inspected_sources:\n",
    "        if \"https://\" in source:\n",
    "            source_name = source.split(\"https://\")[1].split(\"/\")[0].strip().replace(\"www.\", \"\")\n",
    "            sources.append({\"source_name\": source_name, \"url\": source.strip()})"
   ]
  },
  {
   "cell_type": "code",
   "execution_count": 20,
   "id": "6ff12b0c",
   "metadata": {},
   "outputs": [],
   "source": [
    "seen_sources = set()\n",
    "for source in sources:\n",
    "    if source['source_name'] not in seen_sources:\n",
    "        seen_sources.add(source['source_name'])\n",
    "    else:\n",
    "        print(f\"Duplicate source found: {source['source_name']}\")"
   ]
  },
  {
   "cell_type": "code",
   "execution_count": 21,
   "id": "006e7d53",
   "metadata": {},
   "outputs": [
    {
     "data": {
      "text/plain": [
       "[{'source_name': 'forbes.com', 'url': 'https://www.forbes.com/'},\n",
       " {'source_name': 'forbes.es', 'url': 'https://forbes.es/'}]"
      ]
     },
     "execution_count": 21,
     "metadata": {},
     "output_type": "execute_result"
    }
   ],
   "source": [
    "[x for x in sources if 'forbes' in x['url']]"
   ]
  },
  {
   "cell_type": "code",
   "execution_count": 22,
   "id": "7fe617d0",
   "metadata": {},
   "outputs": [],
   "source": [
    "# sources = [\n",
    "#     {\"source_name\" : \"TechCrunch\", \"url\": \"https://techcrunch.com/latest/\"},\n",
    "#     {\"source_name\" : \"Business Insider\", \"url\": \"https://www.businessinsider.es/tecnologia\"},\n",
    "#     {\"source_name\" : \"CNET\", \"url\": \"https://www.cnet.com/ai-atlas/\"},\n",
    "#     {\"source_name\" : \"The Next Web\", \"url\": \"https://thenextweb.com/\"},\n",
    "#     {\"source_name\" : \"The Conversation\", \"url\": \"https://theconversation.com/es/ciencia\"},\n",
    "#     {\"source_name\" : \"The Verge\", \"url\": \"https://www.theverge.com/tech\"},\n",
    "#     {\"source_name\" : \"World Economic Forum\", \"url\": \"https://www.weforum.org/stories/\"},\n",
    "#     {\"source_name\" : \"WIRED\", \"url\" : \"https://www.wired.com/category/science/\"},\n",
    "#     {\"source_name\" : \"Gizmodo\", \"url\" : \"https://es.gizmodo.com/tecnologia\"},\n",
    "#     {\"source_name\" : \"Retina\", \"url\" : \"https://retinatendencias.com/\"}   \n",
    "# ]"
   ]
  },
  {
   "cell_type": "code",
   "execution_count": 23,
   "id": "4b5f7708",
   "metadata": {},
   "outputs": [
    {
     "data": {
      "text/plain": [
       "{'etag': '\"0x8DDBA414E57FC5E\"',\n",
       " 'last_modified': datetime.datetime(2025, 7, 3, 14, 53, tzinfo=datetime.timezone.utc),\n",
       " 'content_md5': bytearray(b'@\\x881\\xcdmK\\x9d\\xdcE\\xdf\\xcc\\x07+\\x81\\x85\\xad'),\n",
       " 'client_request_id': '6a052b26-581d-11f0-a736-e40d36b83a0d',\n",
       " 'request_id': '4c20e89e-e01e-0044-5c2a-ec38ed000000',\n",
       " 'version': '2025-05-05',\n",
       " 'version_id': None,\n",
       " 'date': datetime.datetime(2025, 7, 3, 14, 52, 59, tzinfo=datetime.timezone.utc),\n",
       " 'request_server_encrypted': True,\n",
       " 'encryption_key_sha256': None,\n",
       " 'encryption_scope': None,\n",
       " 'structured_body': None}"
      ]
     },
     "execution_count": 23,
     "metadata": {},
     "output_type": "execute_result"
    }
   ],
   "source": [
    "sources_blob_client.upload_blob(json.dumps(sources, indent=4), overwrite=True)"
   ]
  },
  {
   "cell_type": "code",
   "execution_count": null,
   "id": "70d5512b",
   "metadata": {},
   "outputs": [],
   "source": []
  }
 ],
 "metadata": {
  "kernelspec": {
   "display_name": "damm",
   "language": "python",
   "name": "python3"
  },
  "language_info": {
   "codemirror_mode": {
    "name": "ipython",
    "version": 3
   },
   "file_extension": ".py",
   "mimetype": "text/x-python",
   "name": "python",
   "nbconvert_exporter": "python",
   "pygments_lexer": "ipython3",
   "version": "3.12.3"
  }
 },
 "nbformat": 4,
 "nbformat_minor": 5
}
