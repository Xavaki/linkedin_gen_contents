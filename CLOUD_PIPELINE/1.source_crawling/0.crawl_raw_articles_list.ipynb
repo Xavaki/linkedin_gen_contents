{
 "cells": [
  {
   "cell_type": "code",
   "execution_count": 1,
   "id": "cb2782e0",
   "metadata": {},
   "outputs": [],
   "source": [
    "import requests\n",
    "import json \n",
    "import os\n",
    "from datetime import datetime\n",
    "\n",
    "from time import sleep\n",
    "from pydantic import BaseModel, ValidationError\n",
    "\n",
    "from dotenv import load_dotenv\n",
    "\n",
    "from azure.storage.blob import BlobServiceClient"
   ]
  },
  {
   "cell_type": "code",
   "execution_count": 2,
   "id": "642fa57f",
   "metadata": {},
   "outputs": [
    {
     "data": {
      "text/plain": [
       "True"
      ]
     },
     "execution_count": 2,
     "metadata": {},
     "output_type": "execute_result"
    }
   ],
   "source": [
    "load_dotenv('../.env')"
   ]
  },
  {
   "cell_type": "code",
   "execution_count": 3,
   "id": "768998a6",
   "metadata": {},
   "outputs": [
    {
     "name": "stdout",
     "output_type": "stream",
     "text": [
      "Run ID: RUNID_3 at 2025-06-03 11:49:44\n"
     ]
    }
   ],
   "source": [
    "def get_run_id():\n",
    "    return os.getenv('RUNID')   \n",
    "\n",
    "RUNID = get_run_id()\n",
    "\n",
    "\n",
    "RUN_TIME = datetime.strftime(datetime.now(), '%Y-%m-%d %H:%M:%S')\n",
    "\n",
    "print(f\"Run ID: {RUNID} at {RUN_TIME}\")\n",
    "\n",
    "\n",
    "blob_service_client = BlobServiceClient.from_connection_string(os.getenv('STORAGE_ACCOUNT_CONNECTION_STRING'))\n",
    "\n",
    "input_container_name = 'sources'\n",
    "output_container_name = 'source-raw-content'\n",
    "\n",
    "input_container = blob_service_client.get_container_client(input_container_name)\n",
    "assert input_container.exists(), f\"Container '{input_container_name}' does not exist.\"\n",
    "output_container = blob_service_client.get_container_client(output_container_name)\n",
    "assert output_container.exists(), f\"Container '{output_container_name}' does not exist.\"\n",
    "\n",
    "input_blob = input_container.get_blob_client(\"sources.json\")\n",
    "assert input_blob.exists(), f\"Blob 'sources_{RUNID}.json' does not exist in container '{input_container_name}'.\"\n",
    "\n",
    "\n",
    "output_blob = output_container.get_blob_client(f\"{RUNID}--source_raw_content.json\")"
   ]
  },
  {
   "cell_type": "code",
   "execution_count": 4,
   "id": "77b413e4",
   "metadata": {},
   "outputs": [],
   "source": [
    "# Define Pydantic models\n",
    "class Source(BaseModel):\n",
    "    url: str\n",
    "    source_name: str\n",
    "\n",
    "class SaveContent(BaseModel):\n",
    "    url: str\n",
    "    name: str\n",
    "    raw_content: str\n",
    "    crawl_time: str"
   ]
  },
  {
   "cell_type": "code",
   "execution_count": 5,
   "id": "30aae803",
   "metadata": {},
   "outputs": [],
   "source": [
    "def get_sources() -> list[Source]:\n",
    "    \"\"\"Fetches sources from the Azure Blob Storage.\"\"\"\n",
    "    sources = json.loads(input_blob.download_blob().readall().decode('utf-8'))\n",
    "\n",
    "    # Validate and process sources\n",
    "    validated_sources = []\n",
    "    for source in sources:\n",
    "        try:\n",
    "            validated_source = Source(**source)\n",
    "            validated_sources.append(validated_source)\n",
    "        except ValidationError as e:\n",
    "            print(f'Validation error for source: {source}')\n",
    "            print(e)\n",
    "    return validated_sources\n",
    "\n",
    "def save_source_raw_contents(save_contents: SaveContent) -> None:\n",
    "    \"\"\"Saves the raw content of a source to Azure Blob Storage.\"\"\"\n",
    "    output_blob.upload_blob(\n",
    "        json.dumps([x.model_dump() for x in save_contents], indent=4).encode('utf-8'),\n",
    "        overwrite=True\n",
    "    )"
   ]
  },
  {
   "cell_type": "code",
   "execution_count": 6,
   "id": "6fa69869",
   "metadata": {},
   "outputs": [
    {
     "name": "stdout",
     "output_type": "stream",
     "text": [
      "[Source(url='https://techcrunch.com/latest/', source_name='TechCrunch'), Source(url='https://www.itespresso.es/', source_name='ITEspresso'), Source(url='https://www.businessinsider.es/tecnologia', source_name='Business Insider'), Source(url='https://www.cnet.com/ai-atlas/', source_name='CNET'), Source(url='https://thenextweb.com/', source_name='The Next Web')]\n"
     ]
    }
   ],
   "source": [
    "sources = get_sources()\n",
    "print(sources)"
   ]
  },
  {
   "cell_type": "code",
   "execution_count": 7,
   "id": "46ac4a21",
   "metadata": {},
   "outputs": [],
   "source": [
    "def fetch_source_content(source : Source) -> str:\n",
    "    \"\"\"Fetches the raw content of a source URL.\"\"\"\n",
    "    source_url_jina = 'https://r.jina.ai/' + source.url\n",
    "    source_url_raw_content = requests.get(source_url_jina).text\n",
    "    return source_url_raw_content"
   ]
  },
  {
   "cell_type": "code",
   "execution_count": 8,
   "id": "977a34b5",
   "metadata": {},
   "outputs": [
    {
     "name": "stdout",
     "output_type": "stream",
     "text": [
      "TechCrunch\n",
      "ITEspresso\n",
      "Business Insider\n",
      "CNET\n",
      "The Next Web\n"
     ]
    }
   ],
   "source": [
    "# Use validated data to create save_content\n",
    "\n",
    "source_contents = []\n",
    "\n",
    "for source in sources:  \n",
    "    print(source.source_name)\n",
    "    source_url_raw_content = fetch_source_content(source)\n",
    "\n",
    "    save_content_data = {\n",
    "        'url': source.url,\n",
    "        'name': source.source_name.lower().replace(' ', '_'),\n",
    "        'raw_content': source_url_raw_content,\n",
    "        'crawl_time': RUN_TIME\n",
    "    }\n",
    "\n",
    "    try:\n",
    "        save_content = SaveContent(**save_content_data)\n",
    "        source_contents.append(save_content)\n",
    "    except ValidationError as e:\n",
    "        print(f'Validation error for save_content: {save_content_data}')\n",
    "        print(e)"
   ]
  },
  {
   "cell_type": "code",
   "execution_count": 9,
   "id": "d4ccdf23",
   "metadata": {},
   "outputs": [],
   "source": [
    "save_source_raw_contents(source_contents)"
   ]
  }
 ],
 "metadata": {
  "kernelspec": {
   "display_name": "damm",
   "language": "python",
   "name": "python3"
  },
  "language_info": {
   "codemirror_mode": {
    "name": "ipython",
    "version": 3
   },
   "file_extension": ".py",
   "mimetype": "text/x-python",
   "name": "python",
   "nbconvert_exporter": "python",
   "pygments_lexer": "ipython3",
   "version": "3.12.3"
  }
 },
 "nbformat": 4,
 "nbformat_minor": 5
}
