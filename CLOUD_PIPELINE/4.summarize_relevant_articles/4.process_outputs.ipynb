{
 "cells": [
  {
   "cell_type": "code",
   "execution_count": 5,
   "id": "0288e759",
   "metadata": {},
   "outputs": [],
   "source": [
    "import json\n",
    "import os\n",
    "from dotenv import load_dotenv\n",
    "from datetime import datetime\n",
    "\n",
    "from azure.storage.blob import BlobServiceClient"
   ]
  },
  {
   "cell_type": "code",
   "execution_count": 6,
   "id": "eb48754c",
   "metadata": {},
   "outputs": [
    {
     "data": {
      "text/plain": [
       "True"
      ]
     },
     "execution_count": 6,
     "metadata": {},
     "output_type": "execute_result"
    }
   ],
   "source": [
    "load_dotenv('../.env')"
   ]
  },
  {
   "cell_type": "code",
   "execution_count": 7,
   "id": "ae98ddd1",
   "metadata": {},
   "outputs": [
    {
     "name": "stdout",
     "output_type": "stream",
     "text": [
      "Run ID: RUNID_3 at 2025-06-03 15:04:29\n"
     ]
    }
   ],
   "source": [
    "TASK_NAME = \"article_summarization_v0\"\n",
    "\n",
    "def get_run_id():\n",
    "    return os.getenv('RUNID') \n",
    "\n",
    "RUNID = get_run_id()\n",
    "\n",
    "RUN_TIME = datetime.strftime(datetime.now(), '%Y-%m-%d %H:%M:%S')\n",
    "\n",
    "blob_service_client = BlobServiceClient.from_connection_string(os.getenv('STORAGE_ACCOUNT_CONNECTION_STRING'))\n",
    "\n",
    "input_container_name = 'azure-openai-batch-processing-files'\n",
    "output_container_name = 'relevant-articles-summaries'\n",
    "\n",
    "input_container = blob_service_client.get_container_client(input_container_name)\n",
    "assert input_container.exists(), f\"Input container '{input_container_name}' does not exist.\"\n",
    "output_container = blob_service_client.get_container_client(output_container_name)\n",
    "assert output_container.exists(), f\"Output container '{output_container_name}' does not exist.\"\n",
    "\n",
    "print(f\"Run ID: {RUNID} at {RUN_TIME}\")"
   ]
  },
  {
   "cell_type": "code",
   "execution_count": 8,
   "id": "0ce9a7dd",
   "metadata": {},
   "outputs": [
    {
     "name": "stdout",
     "output_type": "stream",
     "text": [
      "[{'model': 'gpt-4o-2024-11-20', 'summary': \"Major record labels Universal Music Group, Warner Music Group, and Sony Music Entertainment are in negotiations to license their works to AI startups Udio and Suno, aiming to establish a compensation framework for artists impacted by generative AI technologies. The proposed deals include equity stakes for the record labels and could help resolve ongoing copyright infringement lawsuits filed last year. Udio and Suno's platforms create audio recordings based on user-generated prompts, such as describing specific genres or themes. These discussions highlight the growing tension between creators and AI companies, as labels seek more control over intellectual property while startups push for innovation-friendly terms. For professionals, this reflects a broader challenge in balancing copyright protection with technological advancement in the AI-driven creative economy.\", 'article_id': 'techcrunch_20250603125707805935', 'run_id': 'RUNID_3', 'task_name': 'article_summarization_v0'}, {'model': 'gpt-4o-2024-11-20', 'summary': \"Scale AI, a data-labeling startup, has acquired the team behind Pesto AI, a company focused on helping businesses recruit remote developers. Pesto AI, founded in 2017, will be shutting down operations after previously raising over $8 million in funding. While Pesto had 71 employees according to its LinkedIn page, it remains unclear how many will transition to Scale AI. This move aligns with Scale AI's strategy to expand its capabilities in leveraging AI to create global opportunities, highlighted by Pesto co-founder Ayush Jaiswal taking on the role of head of growth at Scale. For professionals, this acquisition signals ongoing investment in integrating AI technologies with workforce development and remote collaboration.\", 'article_id': 'techcrunch_20250603125707826487', 'run_id': 'RUNID_3', 'task_name': 'article_summarization_v0'}, {'model': 'gpt-4o-2024-11-20', 'summary': 'TechCrunch Sessions: AI will take place on June 5 at UC Berkeley’s Zellerbach Hall, gathering leaders, innovators, and thinkers shaping the future of artificial intelligence. The event includes talks, networking opportunities, and a startup pitch competition evaluated by seasoned venture capitalists. Professionals attending will gain insights into AI advancements, ethical considerations, and real-world applications while expanding their connections in a rapidly evolving field. Discounted ticket options, including 2-for-1 deals, offer a cost-effective way to engage in this critical dialogue on AI innovation. This event is significant for business leaders and AI professionals seeking to stay ahead in a transformative industry.', 'article_id': 'techcrunch_20250603125707795688', 'run_id': 'RUNID_3', 'task_name': 'article_summarization_v0'}, {'model': 'gpt-4o-2024-11-20', 'summary': 'The European Commission is intensifying its efforts to regulate major tech companies and enhance online protection, particularly for minors. Building on the Digital Markets Act (DMA) and Digital Services Act (DSA), the EU plans to launch an age-verification app by July 2023 to safeguard vulnerable users without compromising personal privacy. This app will pave the way for the broader EU digital identity system expected in 2026. \\n\\nAlthough no mandatory age-verification requirements have been imposed, platforms face legal obligations against exposing minors to harmful content. The EU is urging social media giants like Meta and TikTok to proactively create safer, child-friendly environments, including private-by-default accounts and reducing addictive platform design. For business leaders, this underscores growing regulatory pressures on tech companies to prioritize user well-being and adapt designs for compliance.', 'article_id': 'business_insider_20250603125707970366', 'run_id': 'RUNID_3', 'task_name': 'article_summarization_v0'}, {'model': 'gpt-4o-2024-11-20', 'summary': 'Demis Hassabis, CEO of Google DeepMind, emphasizes that teenagers should begin learning artificial intelligence (AI) tools now to avoid falling behind in a rapidly evolving technological landscape. He likens AI generative tools to transformative technologies of previous generations, such as the internet for millennials and smartphones for Gen Z. Hassabis predicts significant disruptions to job markets over the next 5 to 10 years, with roles being reshaped and new, more valuable positions emerging.\\n\\nHe encourages young people to proactively engage with AI technologies, recommending they deeply familiarize themselves with the tools and cultivate \"learning to learn\" skills, alongside traditional STEM foundations like programming. Similarly, other AI leaders, including Mustafa Suleyman of Microsoft AI, stress the importance of exploring the strengths and weaknesses of these technologies. Major universities are now offering AI-focused programs to prepare students for the future.\\n\\nThis matters to professionals and business leaders as AI advancements signal fundamental shifts in skills demand and workplace dynamics, highlighting the critical need for adaptability, creativity, and resilience in future workforce development.', 'article_id': 'business_insider_20250603125707980679', 'run_id': 'RUNID_3', 'task_name': 'article_summarization_v0'}, {'model': 'gpt-4o-2024-11-20', 'summary': \"Fundación Hiberus has concluded the first edition of its educational initiative, Menudos Techies, aimed at introducing artificial intelligence to 5th and 6th grade students. The program engaged over 40 children through interactive sessions to teach key AI concepts, including chatbots, computer vision, machine learning, and responsible usage of technology. Developed in collaboration with ValPat, this initiative focuses on fostering creativity, collaboration, and critical thinking in young learners to spark interest in STEM fields.\\n\\nMenudos Techies represents a strategic effort by Fundación Hiberus to promote inclusive and impactful technological education, with plans to expand the program to more schools, age groups, and even special education students. This aligns with the organization's broader mission to use technology as a tool for equity and opportunity, preparing society for a digital future. Professionals and business leaders can draw inspiration from the program's emphasis on early education and innovation to cultivate tomorrow’s talent ecosystem.\", 'article_id': 'business_insider_20250603125707887932', 'run_id': 'RUNID_3', 'task_name': 'article_summarization_v0'}, {'model': 'gpt-4o-2024-11-20', 'summary': \"Samsung is reportedly nearing a significant partnership with AI search startup Perplexity, potentially involving both an investment and technology integration, according to Bloomberg sources. As a major investor in Perplexity's $500 million fundraising at a $14 billion valuation, Samsung is exploring pre-installing Perplexity's app and assistant on its devices, embedding its search capabilities within Samsung's browser, and enhancing its own Bixby assistant using Perplexity’s AI. \\n\\nThis move aligns with broader industry trends, as other companies like Apple and Motorola are also exploring partnerships with Perplexity to strengthen their AI offerings. For professionals, this signals growing demand for innovative AI integrations to enhance user experience and device functionality, underlining the competitive edge AI partnerships can bring to tech ecosystems. If finalized, this collaboration could position Samsung as a leader in embedding advanced AI into consumer devices.\", 'article_id': 'techcrunch_20250603125707816184', 'run_id': 'RUNID_3', 'task_name': 'article_summarization_v0'}, {'model': 'gpt-4o-2024-11-20', 'summary': \"Tesla is preparing to launch its robotaxi service in Austin, Texas this June, marking a significant step in its autonomous driving ambitions. Unlike competitors relying on costly hardware infrastructure, Tesla leverages AI and camera-based systems to enable self-driving capabilities, which could potentially make autonomy scalable across its vehicle fleet. The pilot launch is expected to start with a small number of vehicles, scaling up over time, and will feature a mix of Teslas owned by Tesla and private vehicle owners participating in the fleet. \\n\\nFor professionals, this signals the convergence of AI, mobility innovation, and business models akin to Airbnb and Uber, where owners can earn revenue by sharing their autonomous vehicles. The move highlights Tesla's competitive stance in a crowded industry that includes Alphabet's Waymo and Amazon's Zoox. Business leaders should monitor this development as it may disrupt transportation, logistics, and vehicle ownership norms, aligning with broader trends in automation and shared economy models.\", 'article_id': 'business_insider_20250603125707990916', 'run_id': 'RUNID_3', 'task_name': 'article_summarization_v0'}, {'model': 'gpt-4o-2024-11-20', 'summary': 'Keach Hagey\\'s biography \"The Optimist: Sam Altman, OpenAI, and the Race to Invent the Future\" explores the rise of Sam Altman, CEO of OpenAI, as a central figure in the ongoing AI revolution. The book delves into Altman’s career trajectory, the internal instability at OpenAI’s nonprofit-governed, for-profit structure, and the impact of Altman’s leadership style and fundraising abilities on the company’s future. Hagey sheds light on \"the Blip,\" Altman\\'s brief firing and reinstatement, arguing that OpenAI’s governance model raises investor concerns and may complicate ongoing financing efforts.\\n\\nThe book also examines Altman\\'s progressive political views, his strategic navigation of partnerships with the Trump administration, and his vision for government-backed AI development. Hagey highlights how Altman’s personal values, shaped by his upbringing, align with AI’s moral and societal challenges. Business leaders will find this biography significant as it addresses the critical intersection of leadership, organizational stability, tech innovation, and global-scale decision-making in shaping AI’s future trajectory.', 'article_id': 'techcrunch_20250603125707877718', 'run_id': 'RUNID_3', 'task_name': 'article_summarization_v0'}, {'model': 'gpt-4o-2024-11-20', 'summary': 'The article examines the growing trend of anthropomorphizing generative AI by assigning it human names and personas to build trust and market it as a replacement for workers rather than a tool for augmenting human capabilities. Many startups and companies, especially in enterprise sectors, are positioning AI as \"employees\" to appeal to hiring managers navigating economic uncertainty, often omitting the implications for displaced human workers. Consumer-facing platforms like Anthropic have adopted similar tactics by naming AI systems warmly, such as \"Claude,\" to create a sense of familiarity and reliability.\\n\\nThis shift in branding directly connects to concerns about how generative AI could displace jobs, with experts predicting massive impacts on entry-level white-collar roles in the near future. Such framing risks dehumanizing the workforce and obscuring the potential consequences of automation. Professionals and business leaders are urged to consider alternatives that highlight AI’s role as a tool to enhance productivity and creativity, rather than presenting it as a replacement for human collaboration. This approach could mitigate negative repercussions and align AI adoption with empowering employees rather than displacing them.', 'article_id': 'techcrunch_20250603125707836762', 'run_id': 'RUNID_3', 'task_name': 'article_summarization_v0'}, {'model': 'gpt-4o-2024-11-20', 'summary': \"A new report from McKinsey and Boardwave highlights Europe's untapped potential to lead in software innovation, contingent on overcoming structural barriers to scaling startups into profitable businesses. While the continent has over 280 software companies generating more than €100 million in annual recurring revenue (ARR), European firms take longer to reach this milestone and lag behind their US counterparts in producing billion-euro success stories. Key challenges include fragmented markets, slower late-stage funding, and conservative corporate norms.\\n\\nDespite these hurdles, the report identifies emerging opportunities—such as AI, geopolitical shifts, and maturing capital infrastructure—that could enable Europe to create global software leaders. To capitalize on these prospects, the report outlines five interventions, including expanding late-stage funding, incentivizing cross-border growth for startups, and strengthening public-private partnerships. Additionally, the EU’s new Startup and Scaleup Strategy introduces reforms like a unified “28th regime” to simplify operations across member states.\\n\\nFor business leaders, this represents a critical moment to accelerate innovation and growth, leveraging enhanced funding models, borderless collaboration, and government support to compete globally in the software space. Success will depend on bold and swift action to unify Europe’s fragmented tech ecosystem.\", 'article_id': 'the_next_web_20250603125707691945', 'run_id': 'RUNID_3', 'task_name': 'article_summarization_v0'}, {'model': 'gpt-4o-2024-11-20', 'summary': 'Elad Gil, a prominent venture capitalist, is leveraging AI not only to invest in cutting-edge startups but also to transform mature, traditional businesses through a novel roll-up strategy. His approach involves acquiring people-intensive companies, such as law firms, and using generative AI to improve margins and scale operations by automating repetitive tasks like coding, sales outreach, and back-office processes. By increasing profitability and cash flow, these AI-enabled businesses can acquire further companies more effectively, creating a unique competitive advantage.\\n\\nGil has already backed companies like Harvey, Abridge, and Sierra AI, which focus on legal, healthcare, and customer service AI applications. He notes that while the market for AI is rapidly solidifying, identifying clear winners in specific sectors such as legal and healthcare is becoming possible. For professionals, this illustrates how AI can fundamentally reshape industries, providing significant opportunities for efficiency, scalability, and market leadership.\\n\\nThis AI-driven roll-up model represents a shift from traditional technology-enabled consolidation efforts, offering a tangible way to transform cost structures and business models. With increasing attention on such strategies, leaders should closely monitor how AI can redefine operations in their industries.', 'article_id': 'techcrunch_20250603125707867424', 'run_id': 'RUNID_3', 'task_name': 'article_summarization_v0'}, {'model': 'gpt-4o-2024-11-20', 'summary': 'JPMorgan Chase is leveraging artificial intelligence (AI) to transform workflows and enhance efficiency across its business units. CFO Jeremy Barnum highlighted AI-driven advancements during the 2025 Investor Day, emphasizing tools like \"vibe coding,\" fraud detection systems, and generative AI platforms accessible to over 200,000 employees. These technologies have reduced service costs by 30%, improved fraud prevention, personalized customer experiences, and significantly boosted productivity in wealth management, with some AI tools multiplying advisory efficiency 3.4 times.\\n\\nKey AI applications include tools like Smart Monitor, which reduces research time for portfolio managers by 83%, Connect Coach offering real-time recommendations for wealth advisors, and predictive models optimizing risk-based decision-making in investment banking. Over 175 AI use cases have been deployed in areas such as client onboarding and payment processing, with measurable impacts like a 40% cost reduction in verification processes and streamlined payment transaction handling.\\n\\nFor business leaders and professionals, this AI-driven transformation highlights the growing importance of integrating advanced technologies to enhance efficiency, reduce costs, and stay competitive in fast-evolving industries. JPMorgan\\'s $18 billion technology investment signals the strategic value AI offers in reshaping how businesses operate while preparing for future scalability.', 'article_id': 'business_insider_20250603125707898172', 'run_id': 'RUNID_3', 'task_name': 'article_summarization_v0'}, {'model': 'gpt-4o-2024-11-20', 'summary': 'Axle Health is leveraging artificial intelligence to address the complexities of delivering hospital-level healthcare at home, such as scheduling, route optimization, and patient engagement. Founded by Adam Stansell and Connor Hailey, former Uber executives, the company transitioned in 2023 from being a direct healthcare provider to focusing on empowering other home-care providers with its patented technology. The startup has raised $10 million in Series A funding and reports significant revenue growth, highlighting the increasing demand for home healthcare due to aging populations and clinical staff shortages.\\n\\nAxle Health’s AI-driven software manages logistics in real-time based on clinical suitability, patient preferences, medical credentialing, and cost factors. This approach is designed to help healthcare providers streamline operations while ensuring high-quality patient care. With plans to expand its integrations with electronic health record systems and add AI-powered patient interaction features, Axle aims to play a pivotal role in the rapidly growing home healthcare ecosystem.\\n\\nFor professionals in healthcare and technology, this demonstrates how AI can disrupt traditional operations, creating efficiencies while addressing real-world challenges. Axle underscores the importance of scalable tech solutions to meet evolving consumer expectations, making its model relevant to business leaders focused on innovation and digital transformation.', 'article_id': 'business_insider_20250603125707918855', 'run_id': 'RUNID_3', 'task_name': 'article_summarization_v0'}]\n"
     ]
    }
   ],
   "source": [
    "def read_outputs():\n",
    "    outputs = []\n",
    "    for blob_info in input_container.list_blobs(name_starts_with=f\"{RUNID}--{TASK_NAME}_OUTPUT\"):\n",
    "        blob_client = input_container.get_blob_client(blob_info.name)\n",
    "        lines_raw = blob_client.download_blob().readall().decode('utf-8').splitlines()\n",
    "        for line in lines_raw:\n",
    "            output_dict = json.loads(line)\n",
    "            model = output_dict.get(\"response\").get(\"body\").get(\"model\")\n",
    "            line_id = output_dict.get(\"custom_id\")\n",
    "            _, _, article_id = line_id.split(\"--\")\n",
    "            summary = output_dict.get(\"response\").get(\"body\").get(\"choices\")[0].get(\"message\").get(\"content\")\n",
    "            outputs.append({\n",
    "                \"model\": model,\n",
    "                \"summary\": summary,\n",
    "                \"article_id\": article_id,\n",
    "                \"run_id\": RUNID,\n",
    "                \"task_name\": TASK_NAME,\n",
    "            })\n",
    "    return outputs\n",
    "\n",
    "outputs = read_outputs()\n",
    "print(outputs)"
   ]
  },
  {
   "cell_type": "code",
   "execution_count": 9,
   "id": "c145bbee",
   "metadata": {},
   "outputs": [
    {
     "name": "stdout",
     "output_type": "stream",
     "text": [
      "Relevant articles list saved to blob storage as RUNID_3--relevant_articles_summaries.json\n"
     ]
    }
   ],
   "source": [
    "def save_outputs():\n",
    "    output_blob_name = f\"{RUNID}--relevant_articles_summaries.json\"\n",
    "    output_blob_client = output_container.get_blob_client(output_blob_name)\n",
    "    output_blob_client.upload_blob(json.dumps(outputs, indent=4), overwrite=True)\n",
    "    print(f\"Relevant articles list saved to blob storage as {output_blob_name}\")\n",
    "\n",
    "save_outputs()\n"
   ]
  },
  {
   "cell_type": "code",
   "execution_count": null,
   "id": "f50cc741",
   "metadata": {},
   "outputs": [],
   "source": []
  }
 ],
 "metadata": {
  "kernelspec": {
   "display_name": "damm",
   "language": "python",
   "name": "python3"
  },
  "language_info": {
   "codemirror_mode": {
    "name": "ipython",
    "version": 3
   },
   "file_extension": ".py",
   "mimetype": "text/x-python",
   "name": "python",
   "nbconvert_exporter": "python",
   "pygments_lexer": "ipython3",
   "version": "3.12.3"
  }
 },
 "nbformat": 4,
 "nbformat_minor": 5
}
