{
 "cells": [
  {
   "cell_type": "code",
   "execution_count": 1,
   "id": "038518b3",
   "metadata": {},
   "outputs": [],
   "source": [
    "import os\n",
    "from dotenv import load_dotenv\n",
    "from openai import AzureOpenAI\n",
    "from dotenv import load_dotenv\n",
    "from datetime import datetime\n",
    "from azure.storage.blob import BlobServiceClient"
   ]
  },
  {
   "cell_type": "code",
   "execution_count": 2,
   "id": "a042ee23",
   "metadata": {},
   "outputs": [
    {
     "data": {
      "text/plain": [
       "True"
      ]
     },
     "execution_count": 2,
     "metadata": {},
     "output_type": "execute_result"
    }
   ],
   "source": [
    "load_dotenv('../.env')"
   ]
  },
  {
   "cell_type": "code",
   "execution_count": null,
   "id": "81185d16",
   "metadata": {},
   "outputs": [
    {
     "name": "stdout",
     "output_type": "stream",
     "text": [
      "Run ID: RUNID_3 at 2025-06-03 14:54:05\n"
     ]
    }
   ],
   "source": [
    "TASK_NAME = \"article_summarization_v0\"\n",
    "\n",
    "def get_run_id():\n",
    "    return os.getenv('RUNID')\n",
    "\n",
    "RUNID = get_run_id()\n",
    "\n",
    "RUN_TIME = datetime.strftime(datetime.now(), '%Y-%m-%d %H:%M:%S')\n",
    "\n",
    "blob_service_client = BlobServiceClient.from_connection_string(os.getenv('STORAGE_ACCOUNT_CONNECTION_STRING'))\n",
    "\n",
    "input_container_name = output_container_name = 'azure-openai-batch-processing-files'\n",
    "\n",
    "input_container = blob_service_client.get_container_client(input_container_name)\n",
    "assert input_container.exists(), f\"Input container '{input_container_name}' does not exist.\"\n",
    "\n",
    "output_container = blob_service_client.get_container_client(output_container_name)\n",
    "\n",
    "print(f\"Run ID: {RUNID} at {RUN_TIME}\")"
   ]
  },
  {
   "cell_type": "code",
   "execution_count": 4,
   "id": "c43101d9",
   "metadata": {},
   "outputs": [],
   "source": [
    "AZURE_OPENAI_API_KEY=os.getenv('AZURE_OPENAI_API_KEY')\n",
    "AZURE_OPENAI_ENDPOINT=os.getenv('AZURE_OPENAI_ENDPOINT')\n",
    "client = AzureOpenAI(\n",
    "    api_version=\"2024-12-01-preview\",\n",
    "    azure_endpoint=AZURE_OPENAI_ENDPOINT,\n",
    "    api_key=AZURE_OPENAI_API_KEY\n",
    ")"
   ]
  },
  {
   "cell_type": "code",
   "execution_count": 5,
   "id": "b94ecedd",
   "metadata": {},
   "outputs": [],
   "source": [
    "for b in input_container.list_blobs(name_starts_with=f\"{RUNID}--{TASK_NAME}_BATCHFILE\"):\n",
    "    blob_name = b.name"
   ]
  },
  {
   "cell_type": "code",
   "execution_count": 6,
   "id": "5efdb722",
   "metadata": {},
   "outputs": [],
   "source": [
    "def get_batchfiles():\n",
    "    batchfiles = []\n",
    "    for blob_info in input_container.list_blobs(name_starts_with=f\"{RUNID}--{TASK_NAME}_BATCHFILE\"):\n",
    "        name = blob_info.name\n",
    "        b = {\n",
    "            'path': name,\n",
    "            'id' : name.split('.')[0].split('_')[-1],\n",
    "        }\n",
    "        batchfiles.append(b)\n",
    "    return sorted(batchfiles)\n",
    "\n",
    "batchfiles = get_batchfiles()"
   ]
  },
  {
   "cell_type": "code",
   "execution_count": 7,
   "id": "983a9955",
   "metadata": {},
   "outputs": [],
   "source": [
    "def save_batchid(i, batch_id):\n",
    "    batchid_filename = f\"{RUNID}--{TASK_NAME}_BATCHID_{i}.txt\"\n",
    "    batchid_blob = output_container.get_blob_client(batchid_filename)\n",
    "    batchid_blob.upload_blob(batch_id, overwrite=True)\n",
    "    print(f\"Saved batch ID {batch_id} to {batchid_filename}\")"
   ]
  },
  {
   "cell_type": "code",
   "execution_count": 8,
   "id": "00e1f9d5",
   "metadata": {},
   "outputs": [
    {
     "name": "stdout",
     "output_type": "stream",
     "text": [
      "Submitting RUNID_3--article_summarization_v0_BATCHFILE_0.jsonl\n",
      "{\n",
      "  \"id\": \"file-b84e9980bf51460685f663d99d4df4bc\",\n",
      "  \"bytes\": 85661,\n",
      "  \"created_at\": 1748955248,\n",
      "  \"filename\": \"RUNID_3--article_summarization_v0_BATCHFILE_0.jsonl\",\n",
      "  \"object\": \"file\",\n",
      "  \"purpose\": \"batch\",\n",
      "  \"status\": \"processed\",\n",
      "  \"expires_at\": null,\n",
      "  \"status_details\": null\n",
      "}\n",
      "{\n",
      "  \"id\": \"batch_286a863c-163d-475e-9c0d-28a31b3f6045\",\n",
      "  \"completion_window\": \"24h\",\n",
      "  \"created_at\": 1748955251,\n",
      "  \"endpoint\": \"/chat/completions\",\n",
      "  \"input_file_id\": \"file-b84e9980bf51460685f663d99d4df4bc\",\n",
      "  \"object\": \"batch\",\n",
      "  \"status\": \"validating\",\n",
      "  \"cancelled_at\": null,\n",
      "  \"cancelling_at\": null,\n",
      "  \"completed_at\": null,\n",
      "  \"error_file_id\": \"\",\n",
      "  \"errors\": null,\n",
      "  \"expired_at\": null,\n",
      "  \"expires_at\": 1749041648,\n",
      "  \"failed_at\": null,\n",
      "  \"finalizing_at\": null,\n",
      "  \"in_progress_at\": null,\n",
      "  \"metadata\": null,\n",
      "  \"output_file_id\": \"\",\n",
      "  \"request_counts\": {\n",
      "    \"completed\": 0,\n",
      "    \"failed\": 0,\n",
      "    \"total\": 0\n",
      "  }\n",
      "}\n",
      "Saved batch ID batch_286a863c-163d-475e-9c0d-28a31b3f6045 to RUNID_3--article_summarization_v0_BATCHID_0.txt\n",
      "Batch job submitted successfully.\n",
      "  \n"
     ]
    }
   ],
   "source": [
    "\n",
    "for bathcfile in batchfiles:\n",
    "\n",
    "  i = bathcfile['id']\n",
    "  path = bathcfile['path']\n",
    "\n",
    "  print(\"Submitting {}\".format(path))\n",
    "\n",
    "  batchfile_blob = input_container.get_blob_client(path)\n",
    "  temp_local_name = path\n",
    "  with open(temp_local_name, \"wb\") as file:\n",
    "    file.write(batchfile_blob.download_blob().readall())\n",
    "\n",
    "  file = client.files.create(\n",
    "    file=open(path, \"rb\"),\n",
    "    purpose=\"batch\"\n",
    "  )\n",
    "\n",
    "  os.remove(temp_local_name)\n",
    "\n",
    "  print(file.model_dump_json(indent=2))\n",
    "  file_id = file.id\n",
    "\n",
    "  # Submit a batch job with the file\n",
    "  batch_response = client.batches.create(\n",
    "      input_file_id=file_id,\n",
    "      endpoint=\"/chat/completions\",\n",
    "      completion_window=\"24h\",\n",
    "  )\n",
    "\n",
    "  # Save batch ID for later use\n",
    "  batch_id = batch_response.id\n",
    "\n",
    "  print(batch_response.model_dump_json(indent=2)) \n",
    "\n",
    "  save_batchid(i, batch_id)\n",
    "  print(\"Batch job submitted successfully.\")\n",
    "  print(\"  \")"
   ]
  },
  {
   "cell_type": "code",
   "execution_count": null,
   "id": "32668c97",
   "metadata": {},
   "outputs": [],
   "source": []
  }
 ],
 "metadata": {
  "kernelspec": {
   "display_name": "damm",
   "language": "python",
   "name": "python3"
  },
  "language_info": {
   "codemirror_mode": {
    "name": "ipython",
    "version": 3
   },
   "file_extension": ".py",
   "mimetype": "text/x-python",
   "name": "python",
   "nbconvert_exporter": "python",
   "pygments_lexer": "ipython3",
   "version": "3.12.3"
  }
 },
 "nbformat": 4,
 "nbformat_minor": 5
}
