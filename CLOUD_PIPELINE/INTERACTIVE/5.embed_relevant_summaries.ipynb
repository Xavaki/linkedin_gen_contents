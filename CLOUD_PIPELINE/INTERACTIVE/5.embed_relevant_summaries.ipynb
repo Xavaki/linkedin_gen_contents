{
 "cells": [
  {
   "cell_type": "code",
   "execution_count": 1,
   "id": "11912231",
   "metadata": {},
   "outputs": [],
   "source": [
    "import tiktoken\n",
    "import json\n",
    "import pandas as pd\n",
    "\n",
    "import os\n",
    "from openai import AzureOpenAI\n",
    "from dotenv import load_dotenv\n",
    "from datetime import datetime\n",
    "\n",
    "from azure.storage.blob import BlobServiceClient"
   ]
  },
  {
   "cell_type": "code",
   "execution_count": 3,
   "id": "7d3d1222",
   "metadata": {},
   "outputs": [
    {
     "data": {
      "text/plain": [
       "True"
      ]
     },
     "execution_count": 3,
     "metadata": {},
     "output_type": "execute_result"
    }
   ],
   "source": [
    "load_dotenv('./.env')"
   ]
  },
  {
   "cell_type": "code",
   "execution_count": 5,
   "id": "d01a9293",
   "metadata": {},
   "outputs": [
    {
     "name": "stdout",
     "output_type": "stream",
     "text": [
      "Run ID: RUNID_3 at 2025-06-03 15:07:31\n"
     ]
    }
   ],
   "source": [
    "\n",
    "def get_run_id():\n",
    "    return os.getenv('RUNID') \n",
    "\n",
    "RUNID = get_run_id()\n",
    "\n",
    "RUN_TIME = datetime.strftime(datetime.now(), '%Y-%m-%d %H:%M:%S')\n",
    "\n",
    "blob_service_client = BlobServiceClient.from_connection_string(os.getenv('STORAGE_ACCOUNT_CONNECTION_STRING'))\n",
    "\n",
    "input_container_name = 'relevant-articles-summaries'\n",
    "output_container_name = 'relevant-articles-summaries-embeddings'\n",
    "\n",
    "input_container = blob_service_client.get_container_client(input_container_name)\n",
    "assert input_container.exists(), f\"Input container '{input_container_name}' does not exist.\"\n",
    "output_container = blob_service_client.get_container_client(output_container_name)\n",
    "assert output_container.exists(), f\"Output container '{output_container_name}' does not exist.\"\n",
    "\n",
    "input_blob = input_container.get_blob_client(f'{RUNID}--relevant_articles_summaries.json')\n",
    "assert input_blob.exists(), f\"Input blob '{RUNID}--relevant_articles_summaries.json' does not exist.\"\n",
    "\n",
    "print(f\"Run ID: {RUNID} at {RUN_TIME}\")"
   ]
  },
  {
   "cell_type": "code",
   "execution_count": 6,
   "id": "e43c2fcf",
   "metadata": {},
   "outputs": [],
   "source": [
    "AZURE_OPENAI_API_KEY=os.getenv('AZURE_OPENAI_API_KEY')\n",
    "AZURE_OPENAI_ENDPOINT=os.getenv('AZURE_OPENAI_ENDPOINT')\n",
    "client = AzureOpenAI(\n",
    "    api_version=\"2024-12-01-preview\",\n",
    "    azure_endpoint=AZURE_OPENAI_ENDPOINT,\n",
    "    api_key=AZURE_OPENAI_API_KEY\n",
    ")"
   ]
  },
  {
   "cell_type": "code",
   "execution_count": 7,
   "id": "f5da845c",
   "metadata": {},
   "outputs": [],
   "source": [
    "def get_summaries_to_embed():\n",
    "    summaries = json.loads(input_blob.download_blob().readall())\n",
    "    return summaries\n"
   ]
  },
  {
   "cell_type": "code",
   "execution_count": 8,
   "id": "d8d3e912",
   "metadata": {},
   "outputs": [],
   "source": [
    "summaries = get_summaries_to_embed()"
   ]
  },
  {
   "cell_type": "code",
   "execution_count": 9,
   "id": "edb79b28",
   "metadata": {},
   "outputs": [
    {
     "name": "stdout",
     "output_type": "stream",
     "text": [
      "Number of summaries to embed: 14\n"
     ]
    }
   ],
   "source": [
    "n_summaries_to_embed = len(summaries)\n",
    "print(f\"Number of summaries to embed: {n_summaries_to_embed}\")"
   ]
  },
  {
   "cell_type": "code",
   "execution_count": 10,
   "id": "57632fdd",
   "metadata": {},
   "outputs": [],
   "source": [
    "encoding = tiktoken.encoding_for_model(\"text-embedding-3-small\")"
   ]
  },
  {
   "cell_type": "code",
   "execution_count": 11,
   "id": "35f05866",
   "metadata": {},
   "outputs": [
    {
     "data": {
      "text/plain": [
       "{'model': 'gpt-4o-2024-11-20',\n",
       " 'summary': \"Major record labels Universal Music Group, Warner Music Group, and Sony Music Entertainment are in negotiations to license their works to AI startups Udio and Suno, aiming to establish a compensation framework for artists impacted by generative AI technologies. The proposed deals include equity stakes for the record labels and could help resolve ongoing copyright infringement lawsuits filed last year. Udio and Suno's platforms create audio recordings based on user-generated prompts, such as describing specific genres or themes. These discussions highlight the growing tension between creators and AI companies, as labels seek more control over intellectual property while startups push for innovation-friendly terms. For professionals, this reflects a broader challenge in balancing copyright protection with technological advancement in the AI-driven creative economy.\",\n",
       " 'article_id': 'techcrunch_20250603125707805935',\n",
       " 'run_id': 'RUNID_3',\n",
       " 'task_name': 'article_summarization_v0'}"
      ]
     },
     "execution_count": 11,
     "metadata": {},
     "output_type": "execute_result"
    }
   ],
   "source": [
    "summaries[0]"
   ]
  },
  {
   "cell_type": "code",
   "execution_count": 12,
   "id": "b454c1f1",
   "metadata": {},
   "outputs": [],
   "source": [
    "chunked_summaries = [[]]\n",
    "\n",
    "running_token_count = 0\n",
    "\n",
    "for summary_obj in summaries:\n",
    "\n",
    "    article_id = summary_obj['article_id']\n",
    "    summary = summary_obj['summary']\n",
    " \n",
    "    tokens = encoding.encode(summary)\n",
    "    token_count = len(tokens)\n",
    "\n",
    "    running_token_count += token_count\n",
    "    if running_token_count > 8000: # true limit is 8192, but we leave some space for safety\n",
    "        chunked_summaries.append([])\n",
    "        running_token_count = 0\n",
    "    \n",
    "    chunked_summaries[-1].append({\"summary\" : summary, \"article_id\": article_id, \"token_count\": token_count})"
   ]
  },
  {
   "cell_type": "code",
   "execution_count": null,
   "id": "ff97d7aa",
   "metadata": {},
   "outputs": [
    {
     "name": "stdout",
     "output_type": "stream",
     "text": [
      "embedding chunk 0 of 1 with 14 summaries\n"
     ]
    }
   ],
   "source": [
    "all_embeddings = []\n",
    "\n",
    "for i,chunk in enumerate(chunked_summaries):\n",
    "    print(f\"embedding chunk {i+1} of {len(chunked_summaries)} with {len(chunk)} summaries\")\n",
    "    chunk_article_ids = [s.get(\"article_id\") for s in chunk]\n",
    "\n",
    "    embedding_model = \"text-embedding-3-small\"\n",
    "    response = client.embeddings.create(\n",
    "        input=[s.get(\"summary\") for s in chunk],\n",
    "        model=embedding_model,\n",
    "    )\n",
    "\n",
    "    for article_id, item in zip(chunk_article_ids, response.data):\n",
    "        all_embeddings.append({\n",
    "            'article_id': article_id,\n",
    "            'summary_embedding': item.embedding,\n",
    "            'embedding_model': embedding_model,\n",
    "        })"
   ]
  },
  {
   "cell_type": "code",
   "execution_count": 14,
   "id": "81c5b7b6",
   "metadata": {},
   "outputs": [
    {
     "data": {
      "text/html": [
       "<div>\n",
       "<style scoped>\n",
       "    .dataframe tbody tr th:only-of-type {\n",
       "        vertical-align: middle;\n",
       "    }\n",
       "\n",
       "    .dataframe tbody tr th {\n",
       "        vertical-align: top;\n",
       "    }\n",
       "\n",
       "    .dataframe thead th {\n",
       "        text-align: right;\n",
       "    }\n",
       "</style>\n",
       "<table border=\"1\" class=\"dataframe\">\n",
       "  <thead>\n",
       "    <tr style=\"text-align: right;\">\n",
       "      <th></th>\n",
       "      <th>article_id</th>\n",
       "      <th>summary_embedding</th>\n",
       "      <th>embedding_model</th>\n",
       "    </tr>\n",
       "  </thead>\n",
       "  <tbody>\n",
       "    <tr>\n",
       "      <th>0</th>\n",
       "      <td>techcrunch_20250603125707805935</td>\n",
       "      <td>[-0.008962688967585564, -0.0076769813895225525...</td>\n",
       "      <td>text-embedding-3-small</td>\n",
       "    </tr>\n",
       "    <tr>\n",
       "      <th>1</th>\n",
       "      <td>techcrunch_20250603125707826487</td>\n",
       "      <td>[-0.021791493520140648, -0.006861391477286816,...</td>\n",
       "      <td>text-embedding-3-small</td>\n",
       "    </tr>\n",
       "    <tr>\n",
       "      <th>2</th>\n",
       "      <td>techcrunch_20250603125707795688</td>\n",
       "      <td>[-0.008868522010743618, 0.003896420355886221, ...</td>\n",
       "      <td>text-embedding-3-small</td>\n",
       "    </tr>\n",
       "    <tr>\n",
       "      <th>3</th>\n",
       "      <td>business_insider_20250603125707970366</td>\n",
       "      <td>[0.0115751838311553, 0.0357532799243927, 0.020...</td>\n",
       "      <td>text-embedding-3-small</td>\n",
       "    </tr>\n",
       "    <tr>\n",
       "      <th>4</th>\n",
       "      <td>business_insider_20250603125707980679</td>\n",
       "      <td>[0.011105263605713844, 0.015476743690669537, 0...</td>\n",
       "      <td>text-embedding-3-small</td>\n",
       "    </tr>\n",
       "  </tbody>\n",
       "</table>\n",
       "</div>"
      ],
      "text/plain": [
       "                              article_id  \\\n",
       "0        techcrunch_20250603125707805935   \n",
       "1        techcrunch_20250603125707826487   \n",
       "2        techcrunch_20250603125707795688   \n",
       "3  business_insider_20250603125707970366   \n",
       "4  business_insider_20250603125707980679   \n",
       "\n",
       "                                   summary_embedding         embedding_model  \n",
       "0  [-0.008962688967585564, -0.0076769813895225525...  text-embedding-3-small  \n",
       "1  [-0.021791493520140648, -0.006861391477286816,...  text-embedding-3-small  \n",
       "2  [-0.008868522010743618, 0.003896420355886221, ...  text-embedding-3-small  \n",
       "3  [0.0115751838311553, 0.0357532799243927, 0.020...  text-embedding-3-small  \n",
       "4  [0.011105263605713844, 0.015476743690669537, 0...  text-embedding-3-small  "
      ]
     },
     "execution_count": 14,
     "metadata": {},
     "output_type": "execute_result"
    }
   ],
   "source": [
    "pd_embeddings = pd.DataFrame(all_embeddings) \n",
    "pd_embeddings.head()"
   ]
  },
  {
   "cell_type": "code",
   "execution_count": 15,
   "id": "471e9279",
   "metadata": {},
   "outputs": [],
   "source": [
    "def save_embeddings():\n",
    "    output_blob_name = f\"{RUNID}--relevant_articles_summaries_embeddings.json\"\n",
    "    output_blob_client = output_container.get_blob_client(output_blob_name)\n",
    "    output_blob_client.upload_blob(json.dumps(all_embeddings, indent=4), overwrite=True)\n",
    "    print(f\"Relevant articles content saved to blob storage as {output_blob_name}\")"
   ]
  },
  {
   "cell_type": "code",
   "execution_count": 16,
   "id": "6cd72c1b",
   "metadata": {},
   "outputs": [
    {
     "name": "stdout",
     "output_type": "stream",
     "text": [
      "Relevant articles content saved to blob storage as RUNID_3--relevant_articles_summaries_embeddings.json\n"
     ]
    }
   ],
   "source": [
    "save_embeddings()"
   ]
  },
  {
   "cell_type": "code",
   "execution_count": null,
   "id": "9215e5db",
   "metadata": {},
   "outputs": [],
   "source": []
  }
 ],
 "metadata": {
  "kernelspec": {
   "display_name": "damm",
   "language": "python",
   "name": "python3"
  },
  "language_info": {
   "codemirror_mode": {
    "name": "ipython",
    "version": 3
   },
   "file_extension": ".py",
   "mimetype": "text/x-python",
   "name": "python",
   "nbconvert_exporter": "python",
   "pygments_lexer": "ipython3",
   "version": "3.12.3"
  }
 },
 "nbformat": 4,
 "nbformat_minor": 5
}
