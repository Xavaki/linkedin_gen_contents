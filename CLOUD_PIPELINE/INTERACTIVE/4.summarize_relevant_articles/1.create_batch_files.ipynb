{
 "cells": [
  {
   "cell_type": "code",
   "execution_count": 6,
   "id": "239f6634",
   "metadata": {},
   "outputs": [],
   "source": [
    "import json\n",
    "from math import ceil\n",
    "from datetime import datetime\n",
    "import os\n",
    "\n",
    "from dotenv import load_dotenv\n",
    "\n",
    "from azure.storage.blob import BlobServiceClient"
   ]
  },
  {
   "cell_type": "code",
   "execution_count": 7,
   "id": "d371ac68",
   "metadata": {},
   "outputs": [
    {
     "data": {
      "text/plain": [
       "True"
      ]
     },
     "execution_count": 7,
     "metadata": {},
     "output_type": "execute_result"
    }
   ],
   "source": [
    "load_dotenv('../.env')"
   ]
  },
  {
   "cell_type": "code",
   "execution_count": 8,
   "id": "b97ce38a",
   "metadata": {},
   "outputs": [
    {
     "name": "stdout",
     "output_type": "stream",
     "text": [
      "Run ID: RUNID_3 at 2025-06-03 14:52:42\n"
     ]
    }
   ],
   "source": [
    "TASK_NAME = \"article_summarization_v0\"\n",
    "DEPLOYMENT_NAME = \"gpt-4o--batch-2\"\n",
    "\n",
    "def get_run_id():\n",
    "    return os.getenv('RUNID')\n",
    "\n",
    "RUNID = get_run_id()\n",
    "\n",
    "RUN_TIME = datetime.strftime(datetime.now(), '%Y-%m-%d %H:%M:%S')\n",
    "\n",
    "blob_service_client = BlobServiceClient.from_connection_string(os.getenv('STORAGE_ACCOUNT_CONNECTION_STRING'))\n",
    "\n",
    "input_container_name = 'relevant-articles-content'\n",
    "output_container_name = 'azure-openai-batch-processing-files'\n",
    "\n",
    "input_container = blob_service_client.get_container_client(input_container_name)\n",
    "assert input_container.exists(), f\"Input container '{input_container_name}' does not exist.\"\n",
    "output_container = blob_service_client.get_container_client(output_container_name)\n",
    "assert output_container.exists(), f\"Output container '{output_container_name}' does not exist.\"\n",
    "\n",
    "input_blob = input_container.get_blob_client(f'{RUNID}--relevant_articles_content.json')\n",
    "assert input_blob.exists(), f\"Input blob '{RUNID}--relevant_articles_content.json' does not exist.\"\n",
    "\n",
    "\n",
    "print(f\"Run ID: {RUNID} at {RUN_TIME}\")"
   ]
  },
  {
   "cell_type": "code",
   "execution_count": 9,
   "id": "eb72b69b",
   "metadata": {},
   "outputs": [
    {
     "name": "stdout",
     "output_type": "stream",
     "text": [
      "Number of articles to process: 14\n",
      "{'article_id': 'techcrunch_20250603125707867424', 'content': 'Elad Gil started betting on AI before most of the world took notice. By the time investors began grasping the implications of ChatGPT, Gil had already written seed checks to startups like Perplexity, Character.AI, and Harvey. Now, as the early winners of the AI wave become clearer, the renowned “solo” VC is increasingly focused on a fresh opportunity: using AI to reinvent traditional businesses and scale them through roll-ups.\\n\\nThe idea is to identify opportunities to buy mature, people-intensive outfits like law firms and other professional services firms, help them scale through AI, then use the improved margins to acquire other such enterprises and repeat the process. He has been at it for three years.\\n\\n“It just seems so obvious,” said Gil over a Zoom call earlier this week. “This type of generative AI is very good at understanding language, manipulating language, manipulating text, producing text. And that’s audio, that’s video, that includes coding, sales outreach, and different back-office processes.”\\n\\nIf you can “effectively transform some of those repetitive tasks into software,” he said, “you can increase the margins dramatically and create very different types of businesses.” The math is particularly compelling if one owns the business outright, he added.\\n\\n“If you own the asset, you can [transform it] much more rapidly than if you’re just selling software as a vendor,” Gil said. “And because you take the gross margin of a company from, say, 10% to 40%, that’s a huge lift. Suddenly you can buy other companies at a higher price than anyone else because you have that increased cash flow per business; you have enormous leverage on the business on a relative basis, so you can do roll-ups in ways that others can’t.”\\n\\nSo far, Gil has backed two companies pursuing this strategy. According to The Information, one is a one-year-old company called Enam Co., focused on worker productivity, which has been valued at more than $300 million by its backers, including Andreessen Horowitz and OpenAI’s Startup Fund.\\n\\nThough Gil says he can’t discuss specifics of the private deals, he suggests the approach represents something new. “There used to be these technology-enabled roll-ups 10 years ago, and most of them kind of ended up being not really that much of a user of technology,” he says. “It was kind of like a thin veneer painted on to increase the valuation of the company. I think in the case of AI, you can actually radically change the cost structure of these things.”\\n\\nTechcrunch event Save now through June 4 for TechCrunch Sessions: AI Save $300 on your ticket to TC Sessions: AI—and get 50% off a second. Hear from leaders at OpenAI, Anthropic, Khosla Ventures, and more during a full day of expert insights, hands-on workshops, and high-impact networking. These low-rate deals disappear when the doors open on June 5. Exhibit at TechCrunch Sessions: AI Secure your spot at TC Sessions: AI and show 1,200+ decision-makers what you’ve built — without the big spend. Available through May 9 or while tables last. Berkeley, CA | REGISTER NOW\\n\\nWhether the plan proves as lucrative as some of his other bets remains to be seen. Gil has famously backed a host of big brands that have produced riches for their backers, including Airbnb and Coinbase, both of which are now publicly traded, and privately held Stripe, whose valuation has bounced around but reportedly settled in the range of $91.5 billion earlier this year, when its earlier backers bought up more of its shares.\\n\\nPart of the challenge with roll-ups is finding the right team composition — ideally including a strong technologist along with someone who is “very strong in PE” — and “those things don’t go hand-in-hand,” Gil noted. He said he’s met “maybe two dozen of these teams” so far and mostly looked past them, not because they “weren’t amazing” but because “they still need to sort some things out.”\\n\\nAnother more remote challenge? Copycats. Gil, who has deep relationships with firms across Silicon Valley, may well find himself competing with these frequent collaborators as a growing number of them, like Khosla Ventures, consider whether to pursue AI roll-ups themselves.\\n\\nOne senses that, either way, Gil is not in it for the money at this point, if he ever was. He says his ability to spot trends earlier than most comes instead from the heart. “I love technology, and I love progress, and I love just engaging — both with people who are working on important, interesting things, but also the technology itself.”\\n\\nWhen GPT-3 launched, for example, Gil was already experimenting with its predecessor, he said. “When GPT-3 came out, it was such a big leap from GPT-2 that you could just extrapolate out the technology curve. You’re like, ‘Oh my gosh, if this keeps going and scaling’ — all the scaling laws were kind of evident — ‘then this is going to be transformative.’”\\n\\nThat hands-on approach continues today with the small team Gil has assembled, including “people with very deep engineering backgrounds” who “periodically play around with all the AI front-end companies. One person on my team just writes a bunch of scripts and we run them, and we look at performance, and we look at tooling, and it’s super hands-on.”\\n\\nIt’s because of that constant tinkering that, after years of uncertainty in the AI market, Gil sees clear winners emerging. “I used to say, even six months ago, that the more I know about AI, the less I know, because the markets were so dynamic; the technologies were so dynamic,” he said. “And I feel like in the last couple months — maybe the last two quarters — a subset of markets have really crystallized.”\\n\\nIn legal, “we kind of know who the one or two main winners are probably going to be. That’s true in healthcare. That’s true in customer success and support,” said Gil, who clearly thinks these include his own portfolio companies, which he cited in our conversation.\\n\\nAmong these bets is Harvey, which develops large language models for law firms and in-house legal teams and is reportedly in talks to raise new funding at a $5 billion valuation; Abridge, a healthcare AI company that aims to improve doctors’ clinical documentation workflows (and whose $250 million Series D round was co-led by Gil back in February); and Sierra AI, co-founded by famed operator Bret Taylor, which helps companies implement AI agents for customer service. (The company was valued in the billions of dollars right out of the gate.)\\n\\nStill, Gil is careful not to declare the game over. “I don’t mean to paint the picture that the game is over or that things are done. I think it’s more that there were two dozen companies that all seemed kind of interesting, and maybe now there’s three or four of them [per vertical]. The map of the likely winners is solidified.”\\n\\nIn the meantime, it’s clear in conversation that this moment represents more than just another investment cycle to him. “I just think it’s a really fun period of time, because so much change is happening, and so there’s just a ton to do,” he said.\\n\\nBeing at the intersection of two transformations — not just betting on the future of AI but on the future of how AI will reshape everything else — is quite simply “exciting,” he added.\\n\\nWe’ll have more from our conversation with Gil — which also touched on guardrails, gatekeeping, and how companies can most adeptly integrate the technologies that will make or break their business — in the newest episode of the StrictlyVC Download podcast, which comes out on Tuesday.', 'title': 'Early AI investor Elad Gil finds his next big bet: AI-powered rollups', 'publish_date': '2025-06-01'}\n"
     ]
    }
   ],
   "source": [
    "def get_relevant_articles_content():\n",
    "    relevant_articles_content = json.loads(input_blob.download_blob().readall().decode('utf-8'))\n",
    "    return relevant_articles_content\n",
    "\n",
    "relevant_articles_content = get_relevant_articles_content()\n",
    "n_to_process = len(relevant_articles_content)\n",
    "print(f\"Number of articles to process: {n_to_process}\")\n",
    "print(relevant_articles_content[0])\n"
   ]
  },
  {
   "cell_type": "code",
   "execution_count": 10,
   "id": "8adf9b48",
   "metadata": {},
   "outputs": [
    {
     "name": "stdout",
     "output_type": "stream",
     "text": [
      "Creating 1 batch files\n"
     ]
    }
   ],
   "source": [
    "prompts_per_batch_job = 200\n",
    "n_batch_jobs = ceil(n_to_process/prompts_per_batch_job)\n",
    "print(\"Creating {} batch files\".format(n_batch_jobs))"
   ]
  },
  {
   "cell_type": "code",
   "execution_count": 11,
   "id": "989b8e8d",
   "metadata": {},
   "outputs": [],
   "source": [
    "system_prompt = \"\"\"\n",
    "You are a professional content assistant summarizing articles for a LinkedIn thought leader. Your task is to summarize the article in 3 to 8 sentences.\n",
    "\n",
    "Focus on:\n",
    "- The main idea or thesis\n",
    "- The most important insight or data\n",
    "- Why it matters to professionals or business leaders\n",
    "\n",
    "Use clear, concise, and neutral professional English. Avoid fluff, opinion, or casual tone.\n",
    "\n",
    "**Important:** The summary must be written in English ONLY — even if the source article is written in another language. Do not translate the article; just summarize its core ideas in English.\n",
    "\"\"\""
   ]
  },
  {
   "cell_type": "code",
   "execution_count": 12,
   "id": "4d894566",
   "metadata": {},
   "outputs": [],
   "source": [
    "def format_task_jsonl_line(task_id, deployment_name, user_input):\n",
    "    jsonl_line_template = {\n",
    "        \"custom_id\": task_id,\n",
    "        \"method\": \"POST\",\n",
    "        \"url\": \"/chat/completions\",\n",
    "        \"body\": {\n",
    "            \"model\": deployment_name,\n",
    "            \"messages\": [\n",
    "                {\n",
    "                    \"role\": \"system\",\n",
    "                    \"content\": system_prompt\n",
    "                },\n",
    "                {\n",
    "                    \"role\": \"user\",\n",
    "                    \"content\": user_input\n",
    "                }\n",
    "            ]\n",
    "        }\n",
    "    }\n",
    "    return jsonl_line_template"
   ]
  },
  {
   "cell_type": "code",
   "execution_count": 13,
   "id": "aafbcf4c",
   "metadata": {},
   "outputs": [],
   "source": [
    "def generate_jsonl_lines(chunk_id, chunk_items):\n",
    "    for j,relevant_article in enumerate(chunk_items):\n",
    "        article_id = relevant_article[\"article_id\"]\n",
    "        article_content = relevant_article[\"content\"]\n",
    "        task_id = f\"{RUNID}--{TASK_NAME}--{article_id}\"\n",
    "        deployment_name = DEPLOYMENT_NAME\n",
    "        yield json.dumps(format_task_jsonl_line(task_id=task_id, deployment_name=deployment_name, user_input=article_content)) + \"\\n\"\n",
    "    "
   ]
  },
  {
   "cell_type": "code",
   "execution_count": 14,
   "id": "18ea39ec",
   "metadata": {},
   "outputs": [
    {
     "name": "stdout",
     "output_type": "stream",
     "text": [
      "0\n"
     ]
    },
    {
     "name": "stdout",
     "output_type": "stream",
     "text": [
      "Batch file RUNID_3--article_summarization_v0_BATCHFILE_0.jsonl created with 14 tasks.\n"
     ]
    }
   ],
   "source": [
    "for i in range(n_batch_jobs):\n",
    "    print(i)\n",
    "    chunk = relevant_articles_content[i*prompts_per_batch_job:min(n_to_process, (i+1)*prompts_per_batch_job)]\n",
    "    batchfilename = f\"{RUNID}--{TASK_NAME}_BATCHFILE_{i}.jsonl\"\n",
    "\n",
    "    batchfile_blob  = output_container.get_blob_client(batchfilename)\n",
    "    batchfile_blob.upload_blob(generate_jsonl_lines(chunk_id=i, chunk_items=chunk), overwrite=True, encoding='utf-8')\n",
    "    print(f\"Batch file {batchfilename} created with {len(chunk)} tasks.\")"
   ]
  },
  {
   "cell_type": "code",
   "execution_count": null,
   "id": "3a507bc8",
   "metadata": {},
   "outputs": [],
   "source": []
  }
 ],
 "metadata": {
  "kernelspec": {
   "display_name": "damm",
   "language": "python",
   "name": "python3"
  },
  "language_info": {
   "codemirror_mode": {
    "name": "ipython",
    "version": 3
   },
   "file_extension": ".py",
   "mimetype": "text/x-python",
   "name": "python",
   "nbconvert_exporter": "python",
   "pygments_lexer": "ipython3",
   "version": "3.12.3"
  }
 },
 "nbformat": 4,
 "nbformat_minor": 5
}
