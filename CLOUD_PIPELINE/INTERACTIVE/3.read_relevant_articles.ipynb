{
 "cells": [
  {
   "cell_type": "code",
   "execution_count": 11,
   "id": "92c90057",
   "metadata": {},
   "outputs": [],
   "source": [
    "import os\n",
    "import json\n",
    "from newspaper import Article\n",
    "from time import sleep\n",
    "from datetime import datetime\n",
    "from azure.storage.blob import BlobServiceClient\n",
    "from dotenv import load_dotenv"
   ]
  },
  {
   "cell_type": "code",
   "execution_count": 12,
   "id": "4cfa257e",
   "metadata": {},
   "outputs": [
    {
     "data": {
      "text/plain": [
       "True"
      ]
     },
     "execution_count": 12,
     "metadata": {},
     "output_type": "execute_result"
    }
   ],
   "source": [
    "load_dotenv('.env')"
   ]
  },
  {
   "cell_type": "code",
   "execution_count": 13,
   "id": "f12e2d86",
   "metadata": {},
   "outputs": [
    {
     "name": "stdout",
     "output_type": "stream",
     "text": [
      "Run ID: RUNID_3 at 2025-06-03 14:47:43\n"
     ]
    }
   ],
   "source": [
    "def get_run_id():\n",
    "    return os.getenv('RUNID') \n",
    "\n",
    "RUNID = get_run_id()\n",
    "\n",
    "RUN_TIME = datetime.strftime(datetime.now(), '%Y-%m-%d %H:%M:%S')\n",
    "\n",
    "blob_service_client = BlobServiceClient.from_connection_string(os.getenv('STORAGE_ACCOUNT_CONNECTION_STRING'))\n",
    "\n",
    "input_container_name = 'relevant-articles-list'\n",
    "output_container_name = 'relevant-articles-content'\n",
    "\n",
    "input_container = blob_service_client.get_container_client(input_container_name)\n",
    "assert input_container.exists(), f\"Input container '{input_container_name}' does not exist.\"\n",
    "output_container = blob_service_client.get_container_client(output_container_name)\n",
    "assert output_container.exists(), f\"Output container '{output_container_name}' does not exist.\"\n",
    "\n",
    "input_blob = input_container.get_blob_client(f'{RUNID}--relevant_articles_list.json')\n",
    "assert input_blob.exists(), f\"Input blob '{RUNID}--relevant_articles_list.json' does not exist.\"\n",
    "\n",
    "print(f\"Run ID: {RUNID} at {RUN_TIME}\")"
   ]
  },
  {
   "cell_type": "code",
   "execution_count": 14,
   "id": "dccbd906",
   "metadata": {},
   "outputs": [],
   "source": [
    "def read_relevant_articles_list():\n",
    "    relevant_articles_list = json.loads(input_blob.download_blob().readall().decode('utf-8'))\n",
    "    return relevant_articles_list"
   ]
  },
  {
   "cell_type": "code",
   "execution_count": 15,
   "id": "d92708c5",
   "metadata": {},
   "outputs": [
    {
     "name": "stdout",
     "output_type": "stream",
     "text": [
      "[{'model': 'gpt-4o-2024-11-20', 'run_id': 'RUNID_3', 'task_name': 'relevance_check_v0', 'article_id': 'techcrunch_20250603125707867424', 'relevance': 2, 'article_language': 'en', 'source_name': 'techcrunch', 'article_title': 'Early AI investor Elad Gil finds his next big bet: AI-powered rollups', 'article_url': 'https://techcrunch.com/2025/06/01/early-ai-investor-elad-gil-finds-his-next-big-bet-ai-powered-rollups/', 'article_keywords': ['AI', 'Investment', 'Technology'], 'crawled_at': '2025-06-03 12:57:07'}, {'model': 'gpt-4o-2024-11-20', 'run_id': 'RUNID_3', 'task_name': 'relevance_check_v0', 'article_id': 'business_insider_20250603125707980679', 'relevance': 2, 'article_language': 'es', 'source_name': 'business_insider', 'article_title': \"Los adolescentes deberían entrenarse para ser 'ninjas' de la IA, según el CEO de Google DeepMind\", 'article_url': 'https://www.businessinsider.es/tecnologia/adolescentes-deberian-entrenarse-ser-ninjas-ia-ceo-google-deepmind-1463336', 'article_keywords': ['Inteligencia artificial', 'Educación'], 'crawled_at': '2025-06-03 12:57:07'}, {'model': 'gpt-4o-2024-11-20', 'run_id': 'RUNID_3', 'task_name': 'relevance_check_v0', 'article_id': 'business_insider_20250603125707990916', 'relevance': 2, 'article_language': 'es', 'source_name': 'business_insider', 'article_title': 'El lanzamiento del robotaxi de Tesla está a la vuelta de la esquina: esto es lo que sabemos', 'article_url': 'https://www.businessinsider.es/tecnologia/lanzamiento-robotaxi-tesla-vuelta-esquina-sabemos-1464123', 'article_keywords': ['Tesla', 'Automóviles autónomos'], 'crawled_at': '2025-06-03 12:57:07'}, {'model': 'gpt-4o-2024-11-20', 'run_id': 'RUNID_3', 'task_name': 'relevance_check_v0', 'article_id': 'techcrunch_20250603125707805935', 'relevance': 2, 'article_language': 'en', 'source_name': 'techcrunch', 'article_title': 'Major record labels are reportedly in licensing talks with AI firms Udio and Suno', 'article_url': 'https://techcrunch.com/2025/06/02/major-record-labels-are-reportedly-in-licensing-talks-with-ai-firms-udio-and-suno/', 'article_keywords': ['AI', 'Music', 'Technology'], 'crawled_at': '2025-06-03 12:57:07'}, {'model': 'gpt-4o-2024-11-20', 'run_id': 'RUNID_3', 'task_name': 'relevance_check_v0', 'article_id': 'techcrunch_20250603125707795688', 'relevance': 2, 'article_language': 'en', 'source_name': 'techcrunch', 'article_title': '3 days until the doors open at TechCrunch Sessions: AI at UC Berkeley', 'article_url': 'https://techcrunch.com/2025/06/02/3-days-until-the-doors-open-at-techcrunch-sessions-ai-in-berkeley/', 'article_keywords': ['TechCrunch', 'AI', 'Berkeley', 'Events'], 'crawled_at': '2025-06-03 12:57:07'}, {'model': 'gpt-4o-2024-11-20', 'run_id': 'RUNID_3', 'task_name': 'relevance_check_v0', 'article_id': 'techcrunch_20250603125707836762', 'relevance': 2, 'article_language': 'en', 'source_name': 'techcrunch', 'article_title': 'For the love of God, stop calling your AI a co-worker', 'article_url': 'https://techcrunch.com/2025/06/01/for-the-love-of-god-stop-calling-your-ai-a-co-worker/', 'article_keywords': ['AI', 'Opinion', 'Workplace'], 'crawled_at': '2025-06-03 12:57:07'}, {'model': 'gpt-4o-2024-11-20', 'run_id': 'RUNID_3', 'task_name': 'relevance_check_v0', 'article_id': 'business_insider_20250603125707887932', 'relevance': 2, 'article_language': 'es', 'source_name': 'business_insider', 'article_title': 'Éxito del proyecto piloto ‘Menudos Techies’ para llevar la inteligencia artificial a los escolares', 'article_url': 'https://www.businessinsider.es/tecnologia/exito-proyecto-piloto-menudos-techies-llevar-inteligencia-artificial-escolares-1464701', 'article_keywords': ['Inteligencia artificial', 'Educación'], 'crawled_at': '2025-06-03 12:57:07'}, {'model': 'gpt-4o-2024-11-20', 'run_id': 'RUNID_3', 'task_name': 'relevance_check_v0', 'article_id': 'business_insider_20250603125707970366', 'relevance': 2, 'article_language': 'es', 'source_name': 'business_insider', 'article_title': 'Bruselas lanza en julio una app para verificar la edad de los menores que usan plataformas digitales', 'article_url': 'https://www.businessinsider.es/tecnologia/bruselas-lanza-julio-app-verificar-edad-menores-usan-plataformas-digitales-1464266', 'article_keywords': ['Europa', 'Tecnología juvenil'], 'crawled_at': '2025-06-03 12:57:07'}, {'model': 'gpt-4o-2024-11-20', 'run_id': 'RUNID_3', 'task_name': 'relevance_check_v0', 'article_id': 'business_insider_20250603125707898172', 'relevance': 2, 'article_language': 'es', 'source_name': 'business_insider', 'article_title': 'Así está transformando la inteligencia artificial el banco más grande de Estados Unidos', 'article_url': 'https://www.businessinsider.es/tecnologia/transformando-inteligencia-artificial-banco-grande-estados-unidos-1463681', 'article_keywords': ['Inteligencia artificial', 'Finanzas'], 'crawled_at': '2025-06-03 12:57:07'}, {'model': 'gpt-4o-2024-11-20', 'run_id': 'RUNID_3', 'task_name': 'relevance_check_v0', 'article_id': 'techcrunch_20250603125707816184', 'relevance': 2, 'article_language': 'en', 'source_name': 'techcrunch', 'article_title': 'Samsung may incorporate Perplexity’s AI tech in its phones', 'article_url': 'https://techcrunch.com/2025/06/02/samsung-may-incorporate-perplexitys-ai-tech-in-its-phones/', 'article_keywords': ['Samsung', 'AI', 'Technology'], 'crawled_at': '2025-06-03 12:57:07'}, {'model': 'gpt-4o-2024-11-20', 'run_id': 'RUNID_3', 'task_name': 'relevance_check_v0', 'article_id': 'techcrunch_20250603125707826487', 'relevance': 2, 'article_language': 'en', 'source_name': 'techcrunch', 'article_title': 'Scale AI hires team behind remote developer recruiting platform Pesto AI', 'article_url': 'https://techcrunch.com/2025/06/02/scale-ai-hires-team-behind-remote-developer-recruiting-platform-pesto-ai/', 'article_keywords': ['Startups', 'AI', 'Recruiting'], 'crawled_at': '2025-06-03 12:57:07'}, {'model': 'gpt-4o-2024-11-20', 'run_id': 'RUNID_3', 'task_name': 'relevance_check_v0', 'article_id': 'the_next_web_20250603125707691945', 'relevance': 2, 'article_language': 'English', 'source_name': 'the_next_web', 'article_title': 'European software sector at critical ‘inflection point,’ warns McKinsey', 'article_url': 'https://thenextweb.com/news/european-software-sector-critical-inflection-point-mckinsey', 'article_keywords': ['software', 'Europe', 'McKinsey'], 'crawled_at': '2025-06-03 12:57:07'}, {'model': 'gpt-4o-2024-11-20', 'run_id': 'RUNID_3', 'task_name': 'relevance_check_v0', 'article_id': 'business_insider_20250603125707918855', 'relevance': 2, 'article_language': 'es', 'source_name': 'business_insider', 'article_title': 'Esta es la presentación que ha usado un exdirectivo de Uber para levantar casi 9 millones para su startup de IA y atención domiciliaria', 'article_url': 'https://www.businessinsider.es/tecnologia/presentacion-ha-usado-exdirectivo-uber-levantar-casi-9-millones-startup-ia-atencion-domiciliaria-1462830', 'article_keywords': ['Inteligencia artificial', 'Salud'], 'crawled_at': '2025-06-03 12:57:07'}, {'model': 'gpt-4o-2024-11-20', 'run_id': 'RUNID_3', 'task_name': 'relevance_check_v0', 'article_id': 'techcrunch_20250603125707877718', 'relevance': 2, 'article_language': 'en', 'source_name': 'techcrunch', 'article_title': 'Sam Altman biographer Keach Hagey explains why the OpenAI CEO was ‘born for this moment’', 'article_url': 'https://techcrunch.com/2025/06/01/sam-altman-biographer-keach-hagey-explains-why-the-openai-ceo-was-born-for-this-moment/', 'article_keywords': ['Sam Altman', 'AI', 'Biography'], 'crawled_at': '2025-06-03 12:57:07'}, {'model': 'gpt-4o-2024-11-20', 'run_id': 'RUNID_3', 'task_name': 'relevance_check_v0', 'article_id': 'business_insider_20250603125708001240', 'relevance': 2, 'article_language': 'es', 'source_name': 'business_insider', 'article_title': 'OpenAI lanzó ChatGPT y duplicó su tamaño: el resultado fue puro caos', 'article_url': 'https://www.businessinsider.es/tecnologia/openai-lanzo-chatgpt-duplico-tamano-resultado-fue-puro-caos-1462530', 'article_keywords': ['OpenAI', 'Inteligencia artificial'], 'crawled_at': '2025-06-03 12:57:07'}]\n"
     ]
    }
   ],
   "source": [
    "relevant_articles_list = read_relevant_articles_list()\n",
    "print(relevant_articles_list)"
   ]
  },
  {
   "cell_type": "code",
   "execution_count": 16,
   "id": "46023aff",
   "metadata": {},
   "outputs": [
    {
     "name": "stdout",
     "output_type": "stream",
     "text": [
      "Processing https://techcrunch.com/2025/06/01/early-ai-investor-elad-gil-finds-his-next-big-bet-ai-powered-rollups/\n",
      "Processing https://www.businessinsider.es/tecnologia/adolescentes-deberian-entrenarse-ser-ninjas-ia-ceo-google-deepmind-1463336\n",
      "Processing https://www.businessinsider.es/tecnologia/lanzamiento-robotaxi-tesla-vuelta-esquina-sabemos-1464123\n",
      "Processing https://techcrunch.com/2025/06/02/major-record-labels-are-reportedly-in-licensing-talks-with-ai-firms-udio-and-suno/\n",
      "Processing https://techcrunch.com/2025/06/02/3-days-until-the-doors-open-at-techcrunch-sessions-ai-in-berkeley/\n",
      "Processing https://techcrunch.com/2025/06/01/for-the-love-of-god-stop-calling-your-ai-a-co-worker/\n",
      "Processing https://www.businessinsider.es/tecnologia/exito-proyecto-piloto-menudos-techies-llevar-inteligencia-artificial-escolares-1464701\n",
      "Processing https://www.businessinsider.es/tecnologia/bruselas-lanza-julio-app-verificar-edad-menores-usan-plataformas-digitales-1464266\n",
      "Processing https://www.businessinsider.es/tecnologia/transformando-inteligencia-artificial-banco-grande-estados-unidos-1463681\n",
      "Processing https://techcrunch.com/2025/06/02/samsung-may-incorporate-perplexitys-ai-tech-in-its-phones/\n",
      "Processing https://techcrunch.com/2025/06/02/scale-ai-hires-team-behind-remote-developer-recruiting-platform-pesto-ai/\n",
      "Processing https://thenextweb.com/news/european-software-sector-critical-inflection-point-mckinsey\n",
      "Processing https://www.businessinsider.es/tecnologia/presentacion-ha-usado-exdirectivo-uber-levantar-casi-9-millones-startup-ia-atencion-domiciliaria-1462830\n",
      "Processing https://techcrunch.com/2025/06/01/sam-altman-biographer-keach-hagey-explains-why-the-openai-ceo-was-born-for-this-moment/\n",
      "Processing https://www.businessinsider.es/tecnologia/openai-lanzo-chatgpt-duplico-tamano-resultado-fue-puro-caos-1462530\n",
      "Skipping https://www.businessinsider.es/tecnologia/openai-lanzo-chatgpt-duplico-tamano-resultado-fue-puro-caos-1462530 due to empty content\n"
     ]
    }
   ],
   "source": [
    "\n",
    "articles_content = []\n",
    "\n",
    "for relevant_article in relevant_articles_list:\n",
    "    url = relevant_article[\"article_url\"]\n",
    "    article_id = relevant_article[\"article_id\"]\n",
    "    # keywords = relevant_article[\"keywords\"]\n",
    "    title = relevant_article[\"article_title\"]\n",
    "    print(f\"Processing {url}\")\n",
    "    sleep(1)  # Sleep to avoid overwhelming the server\n",
    "    article = Article(url)\n",
    "    article.download()\n",
    "    article.parse()\n",
    "    content = article.text\n",
    "    publish_date = datetime.strftime(article.publish_date, \"%Y-%m-%d\") if article.publish_date else None\n",
    "    if not content:\n",
    "        print(f\"Skipping {url} due to empty content\")\n",
    "        continue\n",
    "\n",
    "    articles_content.append({'article_id' : article_id, 'content' : content, 'title': title, 'publish_date': publish_date})\n"
   ]
  },
  {
   "cell_type": "code",
   "execution_count": 17,
   "id": "f3abf6d2",
   "metadata": {},
   "outputs": [],
   "source": [
    "def save_articles_content():\n",
    "    output_blob_name = f\"{RUNID}--relevant_articles_content.json\"\n",
    "    output_blob_client = output_container.get_blob_client(output_blob_name)\n",
    "    output_blob_client.upload_blob(json.dumps(articles_content, indent=4), overwrite=True)\n",
    "    print(f\"Relevant articles content saved to blob storage as {output_blob_name}\")"
   ]
  },
  {
   "cell_type": "code",
   "execution_count": 18,
   "id": "051fba6a",
   "metadata": {},
   "outputs": [
    {
     "name": "stdout",
     "output_type": "stream",
     "text": [
      "Relevant articles content saved to blob storage as RUNID_3--relevant_articles_content.json\n"
     ]
    }
   ],
   "source": [
    "save_articles_content()"
   ]
  },
  {
   "cell_type": "code",
   "execution_count": null,
   "id": "a8fca4d4",
   "metadata": {},
   "outputs": [],
   "source": []
  }
 ],
 "metadata": {
  "kernelspec": {
   "display_name": "damm",
   "language": "python",
   "name": "python3"
  },
  "language_info": {
   "codemirror_mode": {
    "name": "ipython",
    "version": 3
   },
   "file_extension": ".py",
   "mimetype": "text/x-python",
   "name": "python",
   "nbconvert_exporter": "python",
   "pygments_lexer": "ipython3",
   "version": "3.12.3"
  }
 },
 "nbformat": 4,
 "nbformat_minor": 5
}
