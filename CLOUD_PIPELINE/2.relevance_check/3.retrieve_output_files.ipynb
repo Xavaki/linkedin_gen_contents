{
 "cells": [
  {
   "cell_type": "code",
   "execution_count": 25,
   "id": "89e236fe",
   "metadata": {},
   "outputs": [],
   "source": [
    "from openai import AzureOpenAI\n",
    "from dotenv import load_dotenv\n",
    "from datetime import datetime\n",
    "import os\n",
    "from azure.storage.blob import BlobServiceClient"
   ]
  },
  {
   "cell_type": "code",
   "execution_count": 26,
   "id": "ca2621c3",
   "metadata": {},
   "outputs": [
    {
     "data": {
      "text/plain": [
       "True"
      ]
     },
     "execution_count": 26,
     "metadata": {},
     "output_type": "execute_result"
    }
   ],
   "source": [
    "load_dotenv('../.env')"
   ]
  },
  {
   "cell_type": "code",
   "execution_count": 27,
   "id": "c5be6630",
   "metadata": {},
   "outputs": [
    {
     "name": "stdout",
     "output_type": "stream",
     "text": [
      "Run ID: RUNID_3 at 2025-06-03 14:37:32\n"
     ]
    }
   ],
   "source": [
    "TASK_NAME = \"relevance_check_v0\"\n",
    "\n",
    "def get_run_id():\n",
    "    return os.getenv('RUNID')\n",
    "\n",
    "RUNID = get_run_id()\n",
    "\n",
    "\n",
    "RUN_TIME = datetime.strftime(datetime.now(), '%Y-%m-%d %H:%M:%S')\n",
    "\n",
    "\n",
    "blob_service_client = BlobServiceClient.from_connection_string(os.getenv('STORAGE_ACCOUNT_CONNECTION_STRING'))\n",
    "\n",
    "input_container_name = output_container_name = error_container_name = 'azure-openai-batch-processing-files'\n",
    "\n",
    "input_container = blob_service_client.get_container_client(input_container_name)\n",
    "assert input_container.exists(), f\"Input container '{input_container_name}' does not exist.\"\n",
    "\n",
    "output_container = blob_service_client.get_container_client(output_container_name)\n",
    "error_container = blob_service_client.get_container_client(error_container_name)\n",
    "\n",
    "\n",
    "print(f\"Run ID: {RUNID} at {RUN_TIME}\")"
   ]
  },
  {
   "cell_type": "code",
   "execution_count": 28,
   "id": "8867b638",
   "metadata": {},
   "outputs": [],
   "source": [
    "AZURE_OPENAI_API_KEY=os.getenv('AZURE_OPENAI_API_KEY')\n",
    "AZURE_OPENAI_ENDPOINT=os.getenv('AZURE_OPENAI_ENDPOINT')\n",
    "client = AzureOpenAI(\n",
    "    api_version=\"2024-12-01-preview\",\n",
    "    azure_endpoint=AZURE_OPENAI_ENDPOINT,\n",
    "    api_key=AZURE_OPENAI_API_KEY\n",
    ")"
   ]
  },
  {
   "cell_type": "markdown",
   "id": "07de3431",
   "metadata": {},
   "source": [
    "Download output files"
   ]
  },
  {
   "cell_type": "code",
   "execution_count": 29,
   "id": "cef78760",
   "metadata": {},
   "outputs": [],
   "source": [
    "def get_batchids():\n",
    "    batchids = []\n",
    "    for blob_info in input_container.list_blobs(name_starts_with=f\"{RUNID}--{TASK_NAME}_BATCHID\"):\n",
    "        blob_name = blob_info.name\n",
    "        id = blob_name.split('.')[0].split('_')[-1]\n",
    "        batchid_blob = input_container.get_blob_client(blob_name)\n",
    "        batchid = batchid_blob.download_blob().readall()\n",
    "        batchids.append((batchid.decode('utf-8'), id))\n",
    "\n",
    "    return batchids\n",
    "\n",
    "batchids = get_batchids()"
   ]
  },
  {
   "cell_type": "code",
   "execution_count": 30,
   "id": "de8217f1",
   "metadata": {},
   "outputs": [
    {
     "name": "stdout",
     "output_type": "stream",
     "text": [
      "[('batch_e1dc3d42-ee67-4199-a617-cc0104428ab3', '0')]\n"
     ]
    }
   ],
   "source": [
    "print(batchids)"
   ]
  },
  {
   "cell_type": "code",
   "execution_count": 31,
   "id": "3b208e3b",
   "metadata": {},
   "outputs": [],
   "source": [
    "def save_output_file(i, output):\n",
    "    output_filename = f\"{RUNID}--{TASK_NAME}_OUTPUT_{i}.jsonl\"\n",
    "    output_blob = output_container.get_blob_client(output_filename)\n",
    "    output_blob.upload_blob(output, overwrite=True)\n",
    "    print(f\"Output saved to {output_filename}\")\n",
    "\n",
    "def save_error_file(i, error):\n",
    "    error_filename = f\"{RUNID}--{TASK_NAME}_ERROR_{i}.jsonl\"\n",
    "    error_blob = error_container.get_blob_client(error_filename)\n",
    "    error_blob.upload_blob(error, overwrite=True)\n",
    "    print(f\"Error saved to {error_filename}\")"
   ]
  },
  {
   "cell_type": "code",
   "execution_count": 32,
   "id": "b8a9caa3",
   "metadata": {},
   "outputs": [
    {
     "name": "stdout",
     "output_type": "stream",
     "text": [
      "Output saved to RUNID_3--relevance_check_v0_OUTPUT_0.jsonl\n"
     ]
    }
   ],
   "source": [
    "for batch_id, i in batchids:\n",
    "\n",
    "    batch_obj = client.batches.retrieve(batch_id)\n",
    "    batch_status = batch_obj.status\n",
    "\n",
    "    if batch_status != \"completed\":\n",
    "        print(f\"Batch {batch_id} is not completed. Status: {batch_status}\")\n",
    "        continue\n",
    "\n",
    "    output_file_id = batch_obj.output_file_id\n",
    "    if output_file_id:\n",
    "        output = client.files.content(output_file_id).text.strip()\n",
    "        if output:\n",
    "            save_output_file(i, output)\n",
    "\n",
    "    error_file_id = batch_obj.error_file_id\n",
    "    if error_file_id:\n",
    "        error_content = client.files.content(error_file_id).text.strip()\n",
    "        if error_content:\n",
    "            save_error_file(i, error_content)\n"
   ]
  },
  {
   "cell_type": "code",
   "execution_count": null,
   "id": "c18abda7",
   "metadata": {},
   "outputs": [],
   "source": []
  }
 ],
 "metadata": {
  "kernelspec": {
   "display_name": "damm",
   "language": "python",
   "name": "python3"
  },
  "language_info": {
   "codemirror_mode": {
    "name": "ipython",
    "version": 3
   },
   "file_extension": ".py",
   "mimetype": "text/x-python",
   "name": "python",
   "nbconvert_exporter": "python",
   "pygments_lexer": "ipython3",
   "version": "3.12.3"
  }
 },
 "nbformat": 4,
 "nbformat_minor": 5
}
