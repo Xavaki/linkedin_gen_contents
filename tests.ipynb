{
 "cells": [
  {
   "cell_type": "code",
   "execution_count": 26,
   "id": "80a5371f",
   "metadata": {},
   "outputs": [],
   "source": [
    "from azure.storage.blob import BlobServiceClient\n",
    "from dotenv import load_dotenv\n",
    "import os\n",
    "import json"
   ]
  },
  {
   "cell_type": "code",
   "execution_count": 4,
   "id": "14931dd1",
   "metadata": {},
   "outputs": [
    {
     "data": {
      "text/plain": [
       "True"
      ]
     },
     "execution_count": 4,
     "metadata": {},
     "output_type": "execute_result"
    }
   ],
   "source": [
    "load_dotenv('./CLOUD_PIPELINE/.env')"
   ]
  },
  {
   "cell_type": "code",
   "execution_count": 5,
   "id": "2c203184",
   "metadata": {},
   "outputs": [],
   "source": [
    "connection_string = os.getenv('STORAGE_ACCOUNT_CONNECTION_STRING')\n",
    "blob_service_client = BlobServiceClient.from_connection_string(connection_string)"
   ]
  },
  {
   "cell_type": "code",
   "execution_count": null,
   "id": "240df267",
   "metadata": {},
   "outputs": [
    {
     "name": "stdout",
     "output_type": "stream",
     "text": [
      "the_next_web.json\n",
      "techcrunch.json\n",
      "business_insider.json\n",
      "cnet.json\n",
      "itespresso.json\n",
      "the_next_web.json\n",
      "techcrunch.json\n",
      "business_insider.json\n",
      "cnet.json\n",
      "itespresso.json\n"
     ]
    }
   ],
   "source": [
    "# for x in os.listdir('LOCAL_PIPELINE/local_tests_data/'):\n",
    "#     if x == 'azure_openai_batch_processing_files':\n",
    "#         continue\n",
    "\n",
    "#     if x == 'sources':\n",
    "#         continue\n",
    "    \n",
    "#     if x == 'past_posts':\n",
    "#         continue\n",
    "\n",
    "#     if x != 'source_raw_content':\n",
    "#         continue\n",
    "\n",
    "#     container_name = x.replace(\"_\", \"-\")\n",
    "#     container = blob_service_client.get_container_client(container_name)\n",
    "#     assert container.exists(), f\"Container {container_name} does not exist.\"\n",
    "\n",
    "#     for xx in os.listdir(f'LOCAL_PIPELINE/local_tests_data/{x}'):\n",
    "        \n",
    "#         runid  = xx\n",
    "\n",
    "#         runid_data = []\n",
    "\n",
    "#         for xxx in os.listdir(f'LOCAL_PIPELINE/local_tests_data/{x}/{xx}'):\n",
    "#             print(xxx)\n",
    "\n",
    "#             with open(f'LOCAL_PIPELINE/local_tests_data/{x}/{xx}/{xxx}', 'r') as file:\n",
    "#                 data = json.load(file)\n",
    "#                 runid_data.append(data)\n",
    "\n",
    "#         upload_blob_name = f\"{runid}--{x}.json\"\n",
    "#         blob_client = container.get_blob_client(upload_blob_name)\n",
    "#         blob_client.upload_blob(json.dumps(runid_data, indent=4), overwrite=True)"
   ]
  },
  {
   "cell_type": "code",
   "execution_count": null,
   "id": "dff220d1",
   "metadata": {},
   "outputs": [],
   "source": []
  }
 ],
 "metadata": {
  "kernelspec": {
   "display_name": "damm",
   "language": "python",
   "name": "python3"
  },
  "language_info": {
   "codemirror_mode": {
    "name": "ipython",
    "version": 3
   },
   "file_extension": ".py",
   "mimetype": "text/x-python",
   "name": "python",
   "nbconvert_exporter": "python",
   "pygments_lexer": "ipython3",
   "version": "3.12.3"
  }
 },
 "nbformat": 4,
 "nbformat_minor": 5
}
